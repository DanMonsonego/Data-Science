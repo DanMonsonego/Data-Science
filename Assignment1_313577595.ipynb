{
  "nbformat": 4,
  "nbformat_minor": 0,
  "metadata": {
    "colab": {
      "provenance": [],
      "include_colab_link": true
    },
    "kernelspec": {
      "name": "python3",
      "display_name": "Python 3"
    },
    "language_info": {
      "name": "python"
    }
  },
  "cells": [
    {
      "cell_type": "markdown",
      "metadata": {
        "id": "view-in-github",
        "colab_type": "text"
      },
      "source": [
        "<a href=\"https://colab.research.google.com/github/DanMonsonego/Data-Science/blob/Lab1/Assignment1_313577595.ipynb\" target=\"_parent\"><img src=\"https://colab.research.google.com/assets/colab-badge.svg\" alt=\"Open In Colab\"/></a>"
      ]
    },
    {
      "cell_type": "markdown",
      "source": [
        "## Setting Kaggle's Datasets API\n",
        "\n",
        "This is our first notebook. So first, let's get a Kaggle API key, and create  easy access to download Kaggle's datasets.\n",
        "More details on Kaggle's API can be found in the following [link](https://github.com/Kaggle/kaggle-api#api-credentials). Moreover, a quick explanation on how to get an API key and use it can be found in the following [link](https://gist.github.com/jayspeidell/d10b84b8d3da52df723beacc5b15cb27)"
      ],
      "metadata": {
        "id": "Peq_3c2_G1Ug"
      }
    },
    {
      "cell_type": "code",
      "source": [
        "import json\n",
        "import os\n",
        "\n",
        "# Installing the Kaggle package\n",
        "!pip install kaggle\n",
        "\n",
        "#upload your json api key file \"kaggle.json\" ( Upload from local , i using google drive )\n",
        "# from google.colab import files\n",
        "# uploaded = files.upload()\n",
        "\n",
        "# Connect the drive to our notebook\n",
        "from google.colab import drive\n",
        "drive.mount('/content/drive')"
      ],
      "metadata": {
        "colab": {
          "base_uri": "https://localhost:8080/"
        },
        "id": "OKcKVPrSGceK",
        "outputId": "cd72ab33-c938-418e-9c65-b0b662d51bc2"
      },
      "execution_count": null,
      "outputs": [
        {
          "output_type": "stream",
          "name": "stdout",
          "text": [
            "Requirement already satisfied: kaggle in /usr/local/lib/python3.10/dist-packages (1.5.16)\n",
            "Requirement already satisfied: six>=1.10 in /usr/local/lib/python3.10/dist-packages (from kaggle) (1.16.0)\n",
            "Requirement already satisfied: certifi in /usr/local/lib/python3.10/dist-packages (from kaggle) (2023.11.17)\n",
            "Requirement already satisfied: python-dateutil in /usr/local/lib/python3.10/dist-packages (from kaggle) (2.8.2)\n",
            "Requirement already satisfied: requests in /usr/local/lib/python3.10/dist-packages (from kaggle) (2.31.0)\n",
            "Requirement already satisfied: tqdm in /usr/local/lib/python3.10/dist-packages (from kaggle) (4.66.1)\n",
            "Requirement already satisfied: python-slugify in /usr/local/lib/python3.10/dist-packages (from kaggle) (8.0.2)\n",
            "Requirement already satisfied: urllib3 in /usr/local/lib/python3.10/dist-packages (from kaggle) (2.0.7)\n",
            "Requirement already satisfied: bleach in /usr/local/lib/python3.10/dist-packages (from kaggle) (6.1.0)\n",
            "Requirement already satisfied: webencodings in /usr/local/lib/python3.10/dist-packages (from bleach->kaggle) (0.5.1)\n",
            "Requirement already satisfied: text-unidecode>=1.3 in /usr/local/lib/python3.10/dist-packages (from python-slugify->kaggle) (1.3)\n",
            "Requirement already satisfied: charset-normalizer<4,>=2 in /usr/local/lib/python3.10/dist-packages (from requests->kaggle) (3.3.2)\n",
            "Requirement already satisfied: idna<4,>=2.5 in /usr/local/lib/python3.10/dist-packages (from requests->kaggle) (3.6)\n",
            "Drive already mounted at /content/drive; to attempt to forcibly remount, call drive.mount(\"/content/drive\", force_remount=True).\n"
          ]
        }
      ]
    },
    {
      "cell_type": "code",
      "source": [
        "# Move the kaggle.json file to the appropriate directory\n",
        "!cp /content/drive/MyDrive/Colab_Notebooks/kaggle.json ~/.kaggle/\n",
        "!chmod 600 /content/drive/MyDrive/Colab_Notebooks/kaggle.json\n",
        "\n",
        "# if i dont want to use google drive we use it like this :\n",
        "\n",
        "#------- !mv kaggle.json ~/.kaggle/\n",
        "#-------  !chmod 600 ~/.kaggle/kaggle.json"
      ],
      "metadata": {
        "id": "av1n2M2Bk9wG"
      },
      "execution_count": null,
      "outputs": []
    },
    {
      "cell_type": "code",
      "source": [
        "# Download the dataset using Kaggle API\n",
        "!kaggle datasets download kaggle/us-baby-names -f database.sqlite -p /content/\n",
        "# Unzip the dataset\n",
        "!unzip /content/database.sqlite.zip -d /content/us-baby-names\n"
      ],
      "metadata": {
        "id": "DkYLEObNfm0q",
        "outputId": "21a43df4-a287-424a-b168-54c477ed4648",
        "colab": {
          "base_uri": "https://localhost:8080/"
        }
      },
      "execution_count": null,
      "outputs": [
        {
          "output_type": "stream",
          "name": "stdout",
          "text": [
            "Downloading database.sqlite.zip to /content\n",
            " 97% 127M/131M [00:01<00:00, 144MB/s]\n",
            "100% 131M/131M [00:01<00:00, 109MB/s]\n",
            "Archive:  /content/database.sqlite.zip\n",
            "  inflating: /content/us-baby-names/database.sqlite  \n"
          ]
        }
      ]
    },
    {
      "cell_type": "markdown",
      "source": [
        "## 1. Working with SQLite"
      ],
      "metadata": {
        "id": "2bXwixqSNVix"
      }
    },
    {
      "cell_type": "markdown",
      "source": [
        "First, let's convert the excel file into SQLite database format using Pandas (we are going to talk a lot about Pandas in future lectures):"
      ],
      "metadata": {
        "id": "KWN2qBgjNZ69"
      }
    },
    {
      "cell_type": "code",
      "source": [
        "# Import necessary libraries\n",
        "import sqlite3\n",
        "\n",
        "\n",
        "# Connect to the SQLite database\n",
        "database_path = '/content/us-baby-names/database.sqlite'\n",
        "conn = sqlite3.connect(database_path)"
      ],
      "metadata": {
        "id": "TX6dRj7lfqkz"
      },
      "execution_count": null,
      "outputs": []
    },
    {
      "cell_type": "code",
      "source": [
        "import pandas as pd\n",
        "# Perform SQL queries\n",
        "query = \"SELECT * FROM NationalNames LIMIT 10;\"\n",
        "df = pd.read_sql_query(query, conn)\n",
        "df.head()"
      ],
      "metadata": {
        "id": "3PnQFYDshVMM",
        "outputId": "16849523-3996-44df-f050-e8a64e77fdab",
        "colab": {
          "base_uri": "https://localhost:8080/",
          "height": 206
        }
      },
      "execution_count": null,
      "outputs": [
        {
          "output_type": "execute_result",
          "data": {
            "text/plain": [
              "   Id       Name  Year Gender  Count\n",
              "0   1       Mary  1880      F   7065\n",
              "1   2       Anna  1880      F   2604\n",
              "2   3       Emma  1880      F   2003\n",
              "3   4  Elizabeth  1880      F   1939\n",
              "4   5     Minnie  1880      F   1746"
            ],
            "text/html": [
              "\n",
              "  <div id=\"df-e27c5ee2-c89b-4866-a2ec-fe21f5ac89a8\" class=\"colab-df-container\">\n",
              "    <div>\n",
              "<style scoped>\n",
              "    .dataframe tbody tr th:only-of-type {\n",
              "        vertical-align: middle;\n",
              "    }\n",
              "\n",
              "    .dataframe tbody tr th {\n",
              "        vertical-align: top;\n",
              "    }\n",
              "\n",
              "    .dataframe thead th {\n",
              "        text-align: right;\n",
              "    }\n",
              "</style>\n",
              "<table border=\"1\" class=\"dataframe\">\n",
              "  <thead>\n",
              "    <tr style=\"text-align: right;\">\n",
              "      <th></th>\n",
              "      <th>Id</th>\n",
              "      <th>Name</th>\n",
              "      <th>Year</th>\n",
              "      <th>Gender</th>\n",
              "      <th>Count</th>\n",
              "    </tr>\n",
              "  </thead>\n",
              "  <tbody>\n",
              "    <tr>\n",
              "      <th>0</th>\n",
              "      <td>1</td>\n",
              "      <td>Mary</td>\n",
              "      <td>1880</td>\n",
              "      <td>F</td>\n",
              "      <td>7065</td>\n",
              "    </tr>\n",
              "    <tr>\n",
              "      <th>1</th>\n",
              "      <td>2</td>\n",
              "      <td>Anna</td>\n",
              "      <td>1880</td>\n",
              "      <td>F</td>\n",
              "      <td>2604</td>\n",
              "    </tr>\n",
              "    <tr>\n",
              "      <th>2</th>\n",
              "      <td>3</td>\n",
              "      <td>Emma</td>\n",
              "      <td>1880</td>\n",
              "      <td>F</td>\n",
              "      <td>2003</td>\n",
              "    </tr>\n",
              "    <tr>\n",
              "      <th>3</th>\n",
              "      <td>4</td>\n",
              "      <td>Elizabeth</td>\n",
              "      <td>1880</td>\n",
              "      <td>F</td>\n",
              "      <td>1939</td>\n",
              "    </tr>\n",
              "    <tr>\n",
              "      <th>4</th>\n",
              "      <td>5</td>\n",
              "      <td>Minnie</td>\n",
              "      <td>1880</td>\n",
              "      <td>F</td>\n",
              "      <td>1746</td>\n",
              "    </tr>\n",
              "  </tbody>\n",
              "</table>\n",
              "</div>\n",
              "    <div class=\"colab-df-buttons\">\n",
              "\n",
              "  <div class=\"colab-df-container\">\n",
              "    <button class=\"colab-df-convert\" onclick=\"convertToInteractive('df-e27c5ee2-c89b-4866-a2ec-fe21f5ac89a8')\"\n",
              "            title=\"Convert this dataframe to an interactive table.\"\n",
              "            style=\"display:none;\">\n",
              "\n",
              "  <svg xmlns=\"http://www.w3.org/2000/svg\" height=\"24px\" viewBox=\"0 -960 960 960\">\n",
              "    <path d=\"M120-120v-720h720v720H120Zm60-500h600v-160H180v160Zm220 220h160v-160H400v160Zm0 220h160v-160H400v160ZM180-400h160v-160H180v160Zm440 0h160v-160H620v160ZM180-180h160v-160H180v160Zm440 0h160v-160H620v160Z\"/>\n",
              "  </svg>\n",
              "    </button>\n",
              "\n",
              "  <style>\n",
              "    .colab-df-container {\n",
              "      display:flex;\n",
              "      gap: 12px;\n",
              "    }\n",
              "\n",
              "    .colab-df-convert {\n",
              "      background-color: #E8F0FE;\n",
              "      border: none;\n",
              "      border-radius: 50%;\n",
              "      cursor: pointer;\n",
              "      display: none;\n",
              "      fill: #1967D2;\n",
              "      height: 32px;\n",
              "      padding: 0 0 0 0;\n",
              "      width: 32px;\n",
              "    }\n",
              "\n",
              "    .colab-df-convert:hover {\n",
              "      background-color: #E2EBFA;\n",
              "      box-shadow: 0px 1px 2px rgba(60, 64, 67, 0.3), 0px 1px 3px 1px rgba(60, 64, 67, 0.15);\n",
              "      fill: #174EA6;\n",
              "    }\n",
              "\n",
              "    .colab-df-buttons div {\n",
              "      margin-bottom: 4px;\n",
              "    }\n",
              "\n",
              "    [theme=dark] .colab-df-convert {\n",
              "      background-color: #3B4455;\n",
              "      fill: #D2E3FC;\n",
              "    }\n",
              "\n",
              "    [theme=dark] .colab-df-convert:hover {\n",
              "      background-color: #434B5C;\n",
              "      box-shadow: 0px 1px 3px 1px rgba(0, 0, 0, 0.15);\n",
              "      filter: drop-shadow(0px 1px 2px rgba(0, 0, 0, 0.3));\n",
              "      fill: #FFFFFF;\n",
              "    }\n",
              "  </style>\n",
              "\n",
              "    <script>\n",
              "      const buttonEl =\n",
              "        document.querySelector('#df-e27c5ee2-c89b-4866-a2ec-fe21f5ac89a8 button.colab-df-convert');\n",
              "      buttonEl.style.display =\n",
              "        google.colab.kernel.accessAllowed ? 'block' : 'none';\n",
              "\n",
              "      async function convertToInteractive(key) {\n",
              "        const element = document.querySelector('#df-e27c5ee2-c89b-4866-a2ec-fe21f5ac89a8');\n",
              "        const dataTable =\n",
              "          await google.colab.kernel.invokeFunction('convertToInteractive',\n",
              "                                                    [key], {});\n",
              "        if (!dataTable) return;\n",
              "\n",
              "        const docLinkHtml = 'Like what you see? Visit the ' +\n",
              "          '<a target=\"_blank\" href=https://colab.research.google.com/notebooks/data_table.ipynb>data table notebook</a>'\n",
              "          + ' to learn more about interactive tables.';\n",
              "        element.innerHTML = '';\n",
              "        dataTable['output_type'] = 'display_data';\n",
              "        await google.colab.output.renderOutput(dataTable, element);\n",
              "        const docLink = document.createElement('div');\n",
              "        docLink.innerHTML = docLinkHtml;\n",
              "        element.appendChild(docLink);\n",
              "      }\n",
              "    </script>\n",
              "  </div>\n",
              "\n",
              "\n",
              "<div id=\"df-b7794fd0-afa8-456c-8316-f6f9449263b3\">\n",
              "  <button class=\"colab-df-quickchart\" onclick=\"quickchart('df-b7794fd0-afa8-456c-8316-f6f9449263b3')\"\n",
              "            title=\"Suggest charts\"\n",
              "            style=\"display:none;\">\n",
              "\n",
              "<svg xmlns=\"http://www.w3.org/2000/svg\" height=\"24px\"viewBox=\"0 0 24 24\"\n",
              "     width=\"24px\">\n",
              "    <g>\n",
              "        <path d=\"M19 3H5c-1.1 0-2 .9-2 2v14c0 1.1.9 2 2 2h14c1.1 0 2-.9 2-2V5c0-1.1-.9-2-2-2zM9 17H7v-7h2v7zm4 0h-2V7h2v10zm4 0h-2v-4h2v4z\"/>\n",
              "    </g>\n",
              "</svg>\n",
              "  </button>\n",
              "\n",
              "<style>\n",
              "  .colab-df-quickchart {\n",
              "      --bg-color: #E8F0FE;\n",
              "      --fill-color: #1967D2;\n",
              "      --hover-bg-color: #E2EBFA;\n",
              "      --hover-fill-color: #174EA6;\n",
              "      --disabled-fill-color: #AAA;\n",
              "      --disabled-bg-color: #DDD;\n",
              "  }\n",
              "\n",
              "  [theme=dark] .colab-df-quickchart {\n",
              "      --bg-color: #3B4455;\n",
              "      --fill-color: #D2E3FC;\n",
              "      --hover-bg-color: #434B5C;\n",
              "      --hover-fill-color: #FFFFFF;\n",
              "      --disabled-bg-color: #3B4455;\n",
              "      --disabled-fill-color: #666;\n",
              "  }\n",
              "\n",
              "  .colab-df-quickchart {\n",
              "    background-color: var(--bg-color);\n",
              "    border: none;\n",
              "    border-radius: 50%;\n",
              "    cursor: pointer;\n",
              "    display: none;\n",
              "    fill: var(--fill-color);\n",
              "    height: 32px;\n",
              "    padding: 0;\n",
              "    width: 32px;\n",
              "  }\n",
              "\n",
              "  .colab-df-quickchart:hover {\n",
              "    background-color: var(--hover-bg-color);\n",
              "    box-shadow: 0 1px 2px rgba(60, 64, 67, 0.3), 0 1px 3px 1px rgba(60, 64, 67, 0.15);\n",
              "    fill: var(--button-hover-fill-color);\n",
              "  }\n",
              "\n",
              "  .colab-df-quickchart-complete:disabled,\n",
              "  .colab-df-quickchart-complete:disabled:hover {\n",
              "    background-color: var(--disabled-bg-color);\n",
              "    fill: var(--disabled-fill-color);\n",
              "    box-shadow: none;\n",
              "  }\n",
              "\n",
              "  .colab-df-spinner {\n",
              "    border: 2px solid var(--fill-color);\n",
              "    border-color: transparent;\n",
              "    border-bottom-color: var(--fill-color);\n",
              "    animation:\n",
              "      spin 1s steps(1) infinite;\n",
              "  }\n",
              "\n",
              "  @keyframes spin {\n",
              "    0% {\n",
              "      border-color: transparent;\n",
              "      border-bottom-color: var(--fill-color);\n",
              "      border-left-color: var(--fill-color);\n",
              "    }\n",
              "    20% {\n",
              "      border-color: transparent;\n",
              "      border-left-color: var(--fill-color);\n",
              "      border-top-color: var(--fill-color);\n",
              "    }\n",
              "    30% {\n",
              "      border-color: transparent;\n",
              "      border-left-color: var(--fill-color);\n",
              "      border-top-color: var(--fill-color);\n",
              "      border-right-color: var(--fill-color);\n",
              "    }\n",
              "    40% {\n",
              "      border-color: transparent;\n",
              "      border-right-color: var(--fill-color);\n",
              "      border-top-color: var(--fill-color);\n",
              "    }\n",
              "    60% {\n",
              "      border-color: transparent;\n",
              "      border-right-color: var(--fill-color);\n",
              "    }\n",
              "    80% {\n",
              "      border-color: transparent;\n",
              "      border-right-color: var(--fill-color);\n",
              "      border-bottom-color: var(--fill-color);\n",
              "    }\n",
              "    90% {\n",
              "      border-color: transparent;\n",
              "      border-bottom-color: var(--fill-color);\n",
              "    }\n",
              "  }\n",
              "</style>\n",
              "\n",
              "  <script>\n",
              "    async function quickchart(key) {\n",
              "      const quickchartButtonEl =\n",
              "        document.querySelector('#' + key + ' button');\n",
              "      quickchartButtonEl.disabled = true;  // To prevent multiple clicks.\n",
              "      quickchartButtonEl.classList.add('colab-df-spinner');\n",
              "      try {\n",
              "        const charts = await google.colab.kernel.invokeFunction(\n",
              "            'suggestCharts', [key], {});\n",
              "      } catch (error) {\n",
              "        console.error('Error during call to suggestCharts:', error);\n",
              "      }\n",
              "      quickchartButtonEl.classList.remove('colab-df-spinner');\n",
              "      quickchartButtonEl.classList.add('colab-df-quickchart-complete');\n",
              "    }\n",
              "    (() => {\n",
              "      let quickchartButtonEl =\n",
              "        document.querySelector('#df-b7794fd0-afa8-456c-8316-f6f9449263b3 button');\n",
              "      quickchartButtonEl.style.display =\n",
              "        google.colab.kernel.accessAllowed ? 'block' : 'none';\n",
              "    })();\n",
              "  </script>\n",
              "</div>\n",
              "    </div>\n",
              "  </div>\n"
            ]
          },
          "metadata": {},
          "execution_count": 5
        }
      ]
    },
    {
      "cell_type": "markdown",
      "source": [
        "### [SQL Baby Names](https://www.kaggle.com/datasets/kaggle/us-baby-names?select=NationalNames.csv)"
      ],
      "metadata": {
        "id": "1rsXJETxDxUp"
      }
    },
    {
      "cell_type": "markdown",
      "source": [
        "Let's check if we can use Kaggle API and download the [US Baby Names  dataset](https://www.kaggle.com/kaggle/us-baby-names)"
      ],
      "metadata": {
        "id": "KPAaod0wR-ey"
      }
    },
    {
      "cell_type": "code",
      "source": [
        "# to use the magic line %%sql\n",
        "!pip install ipython-sql\n",
        "#Load the extenstion\n",
        "%load_ext sql\n",
        "#connect the sqlite database\n",
        "%sql sqlite:////content/us-baby-names/database.sqlite"
      ],
      "metadata": {
        "id": "myIT_H-4hZgU"
      },
      "execution_count": null,
      "outputs": []
    },
    {
      "cell_type": "markdown",
      "source": [
        "**Q1.1:** Present the Top 10 records from NationalNames table."
      ],
      "metadata": {
        "id": "xK5gF44i4Xxm"
      }
    },
    {
      "cell_type": "code",
      "source": [
        "%%sql\n",
        "select *\n",
        "from NationalNames\n",
        "Limit 10"
      ],
      "metadata": {
        "colab": {
          "base_uri": "https://localhost:8080/",
          "height": 289
        },
        "id": "DVgKc6llDwKf",
        "outputId": "76268b5f-aa04-4451-e83a-b6b8c326e7d3"
      },
      "execution_count": null,
      "outputs": [
        {
          "output_type": "stream",
          "name": "stdout",
          "text": [
            " * sqlite:////content/us-baby-names/database.sqlite\n",
            "Done.\n"
          ]
        },
        {
          "output_type": "execute_result",
          "data": {
            "text/plain": [
              "[(1, 'Mary', 1880, 'F', 7065),\n",
              " (2, 'Anna', 1880, 'F', 2604),\n",
              " (3, 'Emma', 1880, 'F', 2003),\n",
              " (4, 'Elizabeth', 1880, 'F', 1939),\n",
              " (5, 'Minnie', 1880, 'F', 1746),\n",
              " (6, 'Margaret', 1880, 'F', 1578),\n",
              " (7, 'Ida', 1880, 'F', 1472),\n",
              " (8, 'Alice', 1880, 'F', 1414),\n",
              " (9, 'Bertha', 1880, 'F', 1320),\n",
              " (10, 'Sarah', 1880, 'F', 1288)]"
            ],
            "text/html": [
              "<table>\n",
              "    <thead>\n",
              "        <tr>\n",
              "            <th>Id</th>\n",
              "            <th>Name</th>\n",
              "            <th>Year</th>\n",
              "            <th>Gender</th>\n",
              "            <th>Count</th>\n",
              "        </tr>\n",
              "    </thead>\n",
              "    <tbody>\n",
              "        <tr>\n",
              "            <td>1</td>\n",
              "            <td>Mary</td>\n",
              "            <td>1880</td>\n",
              "            <td>F</td>\n",
              "            <td>7065</td>\n",
              "        </tr>\n",
              "        <tr>\n",
              "            <td>2</td>\n",
              "            <td>Anna</td>\n",
              "            <td>1880</td>\n",
              "            <td>F</td>\n",
              "            <td>2604</td>\n",
              "        </tr>\n",
              "        <tr>\n",
              "            <td>3</td>\n",
              "            <td>Emma</td>\n",
              "            <td>1880</td>\n",
              "            <td>F</td>\n",
              "            <td>2003</td>\n",
              "        </tr>\n",
              "        <tr>\n",
              "            <td>4</td>\n",
              "            <td>Elizabeth</td>\n",
              "            <td>1880</td>\n",
              "            <td>F</td>\n",
              "            <td>1939</td>\n",
              "        </tr>\n",
              "        <tr>\n",
              "            <td>5</td>\n",
              "            <td>Minnie</td>\n",
              "            <td>1880</td>\n",
              "            <td>F</td>\n",
              "            <td>1746</td>\n",
              "        </tr>\n",
              "        <tr>\n",
              "            <td>6</td>\n",
              "            <td>Margaret</td>\n",
              "            <td>1880</td>\n",
              "            <td>F</td>\n",
              "            <td>1578</td>\n",
              "        </tr>\n",
              "        <tr>\n",
              "            <td>7</td>\n",
              "            <td>Ida</td>\n",
              "            <td>1880</td>\n",
              "            <td>F</td>\n",
              "            <td>1472</td>\n",
              "        </tr>\n",
              "        <tr>\n",
              "            <td>8</td>\n",
              "            <td>Alice</td>\n",
              "            <td>1880</td>\n",
              "            <td>F</td>\n",
              "            <td>1414</td>\n",
              "        </tr>\n",
              "        <tr>\n",
              "            <td>9</td>\n",
              "            <td>Bertha</td>\n",
              "            <td>1880</td>\n",
              "            <td>F</td>\n",
              "            <td>1320</td>\n",
              "        </tr>\n",
              "        <tr>\n",
              "            <td>10</td>\n",
              "            <td>Sarah</td>\n",
              "            <td>1880</td>\n",
              "            <td>F</td>\n",
              "            <td>1288</td>\n",
              "        </tr>\n",
              "    </tbody>\n",
              "</table>"
            ]
          },
          "metadata": {},
          "execution_count": 7
        }
      ]
    },
    {
      "cell_type": "markdown",
      "source": [
        "**Q1.2**: How many males' names were born in 2000?"
      ],
      "metadata": {
        "id": "peLjC_noixUM"
      }
    },
    {
      "cell_type": "code",
      "source": [
        "%%sql\n",
        "select *\n",
        "from NationalNames\n",
        "where Gender = 'M' and Year = '2000'\n",
        "limit 10\n"
      ],
      "metadata": {
        "id": "qApPcgG-G9AZ",
        "outputId": "7b0ec8f8-e68b-4f95-8915-f5e04bc73a71",
        "colab": {
          "base_uri": "https://localhost:8080/",
          "height": 289
        }
      },
      "execution_count": null,
      "outputs": [
        {
          "output_type": "stream",
          "name": "stdout",
          "text": [
            " * sqlite:////content/us-baby-names/database.sqlite\n",
            "Done.\n"
          ]
        },
        {
          "output_type": "execute_result",
          "data": {
            "text/plain": [
              "[(1350191, 'Jacob', 2000, 'M', 34465),\n",
              " (1350192, 'Michael', 2000, 'M', 32025),\n",
              " (1350193, 'Matthew', 2000, 'M', 28569),\n",
              " (1350194, 'Joshua', 2000, 'M', 27531),\n",
              " (1350195, 'Christopher', 2000, 'M', 24928),\n",
              " (1350196, 'Nicholas', 2000, 'M', 24650),\n",
              " (1350197, 'Andrew', 2000, 'M', 23632),\n",
              " (1350198, 'Joseph', 2000, 'M', 22818),\n",
              " (1350199, 'Daniel', 2000, 'M', 22307),\n",
              " (1350200, 'Tyler', 2000, 'M', 21500)]"
            ],
            "text/html": [
              "<table>\n",
              "    <thead>\n",
              "        <tr>\n",
              "            <th>Id</th>\n",
              "            <th>Name</th>\n",
              "            <th>Year</th>\n",
              "            <th>Gender</th>\n",
              "            <th>Count</th>\n",
              "        </tr>\n",
              "    </thead>\n",
              "    <tbody>\n",
              "        <tr>\n",
              "            <td>1350191</td>\n",
              "            <td>Jacob</td>\n",
              "            <td>2000</td>\n",
              "            <td>M</td>\n",
              "            <td>34465</td>\n",
              "        </tr>\n",
              "        <tr>\n",
              "            <td>1350192</td>\n",
              "            <td>Michael</td>\n",
              "            <td>2000</td>\n",
              "            <td>M</td>\n",
              "            <td>32025</td>\n",
              "        </tr>\n",
              "        <tr>\n",
              "            <td>1350193</td>\n",
              "            <td>Matthew</td>\n",
              "            <td>2000</td>\n",
              "            <td>M</td>\n",
              "            <td>28569</td>\n",
              "        </tr>\n",
              "        <tr>\n",
              "            <td>1350194</td>\n",
              "            <td>Joshua</td>\n",
              "            <td>2000</td>\n",
              "            <td>M</td>\n",
              "            <td>27531</td>\n",
              "        </tr>\n",
              "        <tr>\n",
              "            <td>1350195</td>\n",
              "            <td>Christopher</td>\n",
              "            <td>2000</td>\n",
              "            <td>M</td>\n",
              "            <td>24928</td>\n",
              "        </tr>\n",
              "        <tr>\n",
              "            <td>1350196</td>\n",
              "            <td>Nicholas</td>\n",
              "            <td>2000</td>\n",
              "            <td>M</td>\n",
              "            <td>24650</td>\n",
              "        </tr>\n",
              "        <tr>\n",
              "            <td>1350197</td>\n",
              "            <td>Andrew</td>\n",
              "            <td>2000</td>\n",
              "            <td>M</td>\n",
              "            <td>23632</td>\n",
              "        </tr>\n",
              "        <tr>\n",
              "            <td>1350198</td>\n",
              "            <td>Joseph</td>\n",
              "            <td>2000</td>\n",
              "            <td>M</td>\n",
              "            <td>22818</td>\n",
              "        </tr>\n",
              "        <tr>\n",
              "            <td>1350199</td>\n",
              "            <td>Daniel</td>\n",
              "            <td>2000</td>\n",
              "            <td>M</td>\n",
              "            <td>22307</td>\n",
              "        </tr>\n",
              "        <tr>\n",
              "            <td>1350200</td>\n",
              "            <td>Tyler</td>\n",
              "            <td>2000</td>\n",
              "            <td>M</td>\n",
              "            <td>21500</td>\n",
              "        </tr>\n",
              "    </tbody>\n",
              "</table>"
            ]
          },
          "metadata": {},
          "execution_count": 8
        }
      ]
    },
    {
      "cell_type": "markdown",
      "source": [
        "**Q1.3**: How many rows in the dataset?\n"
      ],
      "metadata": {
        "id": "qC4IBzsbK0LM"
      }
    },
    {
      "cell_type": "code",
      "source": [
        "%%sql\n",
        "select COUNT(*)\n",
        "from NationalNames"
      ],
      "metadata": {
        "id": "PeyYy4iHG_Es",
        "outputId": "59ffa545-a637-4abb-c120-a464237ce070",
        "colab": {
          "base_uri": "https://localhost:8080/",
          "height": 96
        }
      },
      "execution_count": null,
      "outputs": [
        {
          "output_type": "stream",
          "name": "stdout",
          "text": [
            " * sqlite:////content/us-baby-names/database.sqlite\n",
            "Done.\n"
          ]
        },
        {
          "output_type": "execute_result",
          "data": {
            "text/plain": [
              "[(1825433,)]"
            ],
            "text/html": [
              "<table>\n",
              "    <thead>\n",
              "        <tr>\n",
              "            <th>COUNT(*)</th>\n",
              "        </tr>\n",
              "    </thead>\n",
              "    <tbody>\n",
              "        <tr>\n",
              "            <td>1825433</td>\n",
              "        </tr>\n",
              "    </tbody>\n",
              "</table>"
            ]
          },
          "metadata": {},
          "execution_count": 9
        }
      ]
    },
    {
      "cell_type": "markdown",
      "source": [
        "**Q1.4:** How many distinct names in the dataset?\n"
      ],
      "metadata": {
        "id": "WMNgEomRK5MB"
      }
    },
    {
      "cell_type": "code",
      "source": [
        "%%sql\n",
        "select COUNT(DISTINCT Name)\n",
        "from NationalNames\n"
      ],
      "metadata": {
        "id": "Z7Y3geqZHBLk",
        "outputId": "d76daf93-0208-4878-eab2-e0b9f19a821e",
        "colab": {
          "base_uri": "https://localhost:8080/",
          "height": 96
        }
      },
      "execution_count": null,
      "outputs": [
        {
          "output_type": "stream",
          "name": "stdout",
          "text": [
            " * sqlite:////content/us-baby-names/database.sqlite\n",
            "Done.\n"
          ]
        },
        {
          "output_type": "execute_result",
          "data": {
            "text/plain": [
              "[(93889,)]"
            ],
            "text/html": [
              "<table>\n",
              "    <thead>\n",
              "        <tr>\n",
              "            <th>COUNT(DISTINCT Name)</th>\n",
              "        </tr>\n",
              "    </thead>\n",
              "    <tbody>\n",
              "        <tr>\n",
              "            <td>93889</td>\n",
              "        </tr>\n",
              "    </tbody>\n",
              "</table>"
            ]
          },
          "metadata": {},
          "execution_count": 10
        }
      ]
    },
    {
      "cell_type": "markdown",
      "source": [
        "**Q1.5:** What is the most common name? (male/female)"
      ],
      "metadata": {
        "id": "mid9PPL0LrHR"
      }
    },
    {
      "cell_type": "code",
      "source": [
        "%%sql\n",
        "-- Count the occurrences of each name by gender,\n",
        "-- order by count in descending order, and limit to 1 to get the most common name\n",
        "SELECT Name, Gender, COUNT(*) as Count\n",
        "FROM NationalNames\n",
        "GROUP BY Name, Gender\n",
        "ORDER BY Count DESC\n",
        "LIMIT 1;\n"
      ],
      "metadata": {
        "id": "ivBm8BEvHDO_",
        "outputId": "45881053-7675-473e-fa11-b0466f8845aa",
        "colab": {
          "base_uri": "https://localhost:8080/",
          "height": 96
        }
      },
      "execution_count": null,
      "outputs": [
        {
          "output_type": "stream",
          "name": "stdout",
          "text": [
            " * sqlite:////content/us-baby-names/database.sqlite\n",
            "Done.\n"
          ]
        },
        {
          "output_type": "execute_result",
          "data": {
            "text/plain": [
              "[('Aaron', 'M', 135)]"
            ],
            "text/html": [
              "<table>\n",
              "    <thead>\n",
              "        <tr>\n",
              "            <th>Name</th>\n",
              "            <th>Gender</th>\n",
              "            <th>Count</th>\n",
              "        </tr>\n",
              "    </thead>\n",
              "    <tbody>\n",
              "        <tr>\n",
              "            <td>Aaron</td>\n",
              "            <td>M</td>\n",
              "            <td>135</td>\n",
              "        </tr>\n",
              "    </tbody>\n",
              "</table>"
            ]
          },
          "metadata": {},
          "execution_count": 11
        }
      ]
    },
    {
      "cell_type": "markdown",
      "source": [
        "**Q1.6:** What is the number of most common name for males? Find the number."
      ],
      "metadata": {
        "id": "I7ys9bi5JDLa"
      }
    },
    {
      "cell_type": "code",
      "source": [
        "%%sql\n",
        "-- Count the occurrences of each name for males,\n",
        "-- order by count in descending order,\n",
        "--  and limit to 1 to get the most common name for males\n",
        "SELECT Name, COUNT(*) as Count\n",
        "FROM NationalNames\n",
        "WHERE Gender = 'M'\n",
        "GROUP BY Name\n",
        "ORDER BY Count DESC\n",
        "LIMIT 1;\n"
      ],
      "metadata": {
        "id": "2drvTNJ3HFOr",
        "outputId": "f5daa22c-35bf-4244-9df8-345cbb1d1fd3",
        "colab": {
          "base_uri": "https://localhost:8080/",
          "height": 96
        }
      },
      "execution_count": null,
      "outputs": [
        {
          "output_type": "stream",
          "name": "stdout",
          "text": [
            " * sqlite:////content/us-baby-names/database.sqlite\n",
            "Done.\n"
          ]
        },
        {
          "output_type": "execute_result",
          "data": {
            "text/plain": [
              "[('Aaron', 135)]"
            ],
            "text/html": [
              "<table>\n",
              "    <thead>\n",
              "        <tr>\n",
              "            <th>Name</th>\n",
              "            <th>Count</th>\n",
              "        </tr>\n",
              "    </thead>\n",
              "    <tbody>\n",
              "        <tr>\n",
              "            <td>Aaron</td>\n",
              "            <td>135</td>\n",
              "        </tr>\n",
              "    </tbody>\n",
              "</table>"
            ]
          },
          "metadata": {},
          "execution_count": 12
        }
      ]
    },
    {
      "cell_type": "markdown",
      "source": [
        "**Q1.7:** Use the number you find to find the name."
      ],
      "metadata": {
        "id": "o9WBZgtCJkMy"
      }
    },
    {
      "cell_type": "code",
      "source": [
        "%%sql\n",
        "-- Find the name associated with the most common count for males\n",
        "SELECT Name\n",
        "FROM NationalNames\n",
        "WHERE Gender = 'M'\n",
        "GROUP BY Name\n",
        "ORDER BY COUNT(*) DESC\n",
        "LIMIT 1;\n"
      ],
      "metadata": {
        "id": "coOVhoQAHG97",
        "outputId": "1c8dc480-745c-4262-924c-77f46ea3cada",
        "colab": {
          "base_uri": "https://localhost:8080/",
          "height": 96
        }
      },
      "execution_count": null,
      "outputs": [
        {
          "output_type": "stream",
          "name": "stdout",
          "text": [
            " * sqlite:////content/us-baby-names/database.sqlite\n",
            "Done.\n"
          ]
        },
        {
          "output_type": "execute_result",
          "data": {
            "text/plain": [
              "[('Aaron',)]"
            ],
            "text/html": [
              "<table>\n",
              "    <thead>\n",
              "        <tr>\n",
              "            <th>Name</th>\n",
              "        </tr>\n",
              "    </thead>\n",
              "    <tbody>\n",
              "        <tr>\n",
              "            <td>Aaron</td>\n",
              "        </tr>\n",
              "    </tbody>\n",
              "</table>"
            ]
          },
          "metadata": {},
          "execution_count": 13
        }
      ]
    },
    {
      "cell_type": "markdown",
      "source": [
        "**Q1.8:** What is the number of most common name for females? Find the number and name"
      ],
      "metadata": {
        "id": "2zUVqNIsJtWX"
      }
    },
    {
      "cell_type": "code",
      "source": [
        "%%sql\n",
        "select Name, COUNT(*) as count\n",
        "from NationalNames\n",
        "where Gender = 'F'\n"
      ],
      "metadata": {
        "id": "GjBy7XQrHI3u",
        "outputId": "da40eab6-5e84-4243-9cf1-991b30666605",
        "colab": {
          "base_uri": "https://localhost:8080/",
          "height": 96
        }
      },
      "execution_count": null,
      "outputs": [
        {
          "output_type": "stream",
          "name": "stdout",
          "text": [
            " * sqlite:////content/us-baby-names/database.sqlite\n",
            "Done.\n"
          ]
        },
        {
          "output_type": "execute_result",
          "data": {
            "text/plain": [
              "[('Mary', 1081683)]"
            ],
            "text/html": [
              "<table>\n",
              "    <thead>\n",
              "        <tr>\n",
              "            <th>Name</th>\n",
              "            <th>count</th>\n",
              "        </tr>\n",
              "    </thead>\n",
              "    <tbody>\n",
              "        <tr>\n",
              "            <td>Mary</td>\n",
              "            <td>1081683</td>\n",
              "        </tr>\n",
              "    </tbody>\n",
              "</table>"
            ]
          },
          "metadata": {},
          "execution_count": 14
        }
      ]
    },
    {
      "cell_type": "markdown",
      "source": [
        "**Q1.9:** How many names start with ‘B’? How common is the name\n",
        "  Beyonce?"
      ],
      "metadata": {
        "id": "fZl_OZ9ZVCxw"
      }
    },
    {
      "cell_type": "code",
      "source": [
        "%%sql\n",
        "-- Count the occurrences of names starting with 'B' and specifically for the name 'Beyonce'\n",
        "SELECT COUNT(*)\n",
        "FROM NationalNames\n",
        "WHERE Name LIKE 'B%';\n",
        "\n",
        "-- Count the occurrences of the name 'Beyonce'\n",
        "SELECT Name, COUNT(*) as Count\n",
        "FROM NationalNames\n",
        "WHERE Name = 'Beyonce'\n",
        "GROUP BY Name;\n"
      ],
      "metadata": {
        "id": "j9IPsOM5HK_3",
        "outputId": "cc380a86-cc0f-432d-c703-c24538980b43",
        "colab": {
          "base_uri": "https://localhost:8080/",
          "height": 114
        }
      },
      "execution_count": null,
      "outputs": [
        {
          "output_type": "stream",
          "name": "stdout",
          "text": [
            " * sqlite:////content/us-baby-names/database.sqlite\n",
            "Done.\n",
            "Done.\n"
          ]
        },
        {
          "output_type": "execute_result",
          "data": {
            "text/plain": [
              "[('Beyonce', 17)]"
            ],
            "text/html": [
              "<table>\n",
              "    <thead>\n",
              "        <tr>\n",
              "            <th>Name</th>\n",
              "            <th>Count</th>\n",
              "        </tr>\n",
              "    </thead>\n",
              "    <tbody>\n",
              "        <tr>\n",
              "            <td>Beyonce</td>\n",
              "            <td>17</td>\n",
              "        </tr>\n",
              "    </tbody>\n",
              "</table>"
            ]
          },
          "metadata": {},
          "execution_count": 15
        }
      ]
    },
    {
      "cell_type": "markdown",
      "source": [
        "**Q1.10:** How many names start with B?"
      ],
      "metadata": {
        "id": "FQ0gVxTDKU2L"
      }
    },
    {
      "cell_type": "code",
      "source": [
        "%%sql\n",
        "-- Count the occurrences of names starting with 'B'\n",
        "SELECT COUNT(*)\n",
        "FROM NationalNames\n",
        "WHERE Name LIKE 'B%';\n"
      ],
      "metadata": {
        "id": "PbJjMDqB1BVX",
        "outputId": "a4b905b8-97e0-4443-8a74-a9c7c6e21c54",
        "colab": {
          "base_uri": "https://localhost:8080/",
          "height": 96
        }
      },
      "execution_count": null,
      "outputs": [
        {
          "output_type": "stream",
          "name": "stdout",
          "text": [
            " * sqlite:////content/us-baby-names/database.sqlite\n",
            "Done.\n"
          ]
        },
        {
          "output_type": "execute_result",
          "data": {
            "text/plain": [
              "[(74278,)]"
            ],
            "text/html": [
              "<table>\n",
              "    <thead>\n",
              "        <tr>\n",
              "            <th>COUNT(*)</th>\n",
              "        </tr>\n",
              "    </thead>\n",
              "    <tbody>\n",
              "        <tr>\n",
              "            <td>74278</td>\n",
              "        </tr>\n",
              "    </tbody>\n",
              "</table>"
            ]
          },
          "metadata": {},
          "execution_count": 16
        }
      ]
    },
    {
      "cell_type": "markdown",
      "source": [
        "e**Q1.11:** Retrieve the babies named Beyonce."
      ],
      "metadata": {
        "id": "JE8STvG9Knwg"
      }
    },
    {
      "cell_type": "code",
      "source": [
        "%%sql\n",
        "-- Retrieve all records where the name is 'Beyonce'\n",
        "SELECT *\n",
        "FROM NationalNames\n",
        "WHERE Name = 'Beyonce';"
      ],
      "metadata": {
        "id": "TuunFmgnHP7z",
        "outputId": "ddb319f6-8f21-49b5-f21b-5be58ec4d962",
        "colab": {
          "base_uri": "https://localhost:8080/",
          "height": 438
        }
      },
      "execution_count": null,
      "outputs": [
        {
          "output_type": "stream",
          "name": "stdout",
          "text": [
            " * sqlite:////content/us-baby-names/database.sqlite\n",
            "Done.\n"
          ]
        },
        {
          "output_type": "execute_result",
          "data": {
            "text/plain": [
              "[(1281705, 'Beyonce', 1998, 'F', 18),\n",
              " (1306211, 'Beyonce', 1999, 'F', 67),\n",
              " (1333592, 'Beyonce', 2000, 'F', 197),\n",
              " (1363001, 'Beyonce', 2001, 'F', 353),\n",
              " (1393843, 'Beyonce', 2002, 'F', 153),\n",
              " (1424195, 'Beyonce', 2003, 'F', 206),\n",
              " (1455538, 'Beyonce', 2004, 'F', 175),\n",
              " (1488168, 'Beyonce', 2005, 'F', 106),\n",
              " (1520767, 'Beyonce', 2006, 'F', 106),\n",
              " (1554247, 'Beyonce', 2007, 'F', 185),\n",
              " (1589854, 'Beyonce', 2008, 'F', 105),\n",
              " (1625334, 'Beyonce', 2009, 'F', 79),\n",
              " (1660800, 'Beyonce', 2010, 'F', 51),\n",
              " (1695473, 'Beyonce', 2011, 'F', 39),\n",
              " (1729626, 'Beyonce', 2012, 'F', 36),\n",
              " (1764080, 'Beyonce', 2013, 'F', 28),\n",
              " (1798173, 'Beyonce', 2014, 'F', 22)]"
            ],
            "text/html": [
              "<table>\n",
              "    <thead>\n",
              "        <tr>\n",
              "            <th>Id</th>\n",
              "            <th>Name</th>\n",
              "            <th>Year</th>\n",
              "            <th>Gender</th>\n",
              "            <th>Count</th>\n",
              "        </tr>\n",
              "    </thead>\n",
              "    <tbody>\n",
              "        <tr>\n",
              "            <td>1281705</td>\n",
              "            <td>Beyonce</td>\n",
              "            <td>1998</td>\n",
              "            <td>F</td>\n",
              "            <td>18</td>\n",
              "        </tr>\n",
              "        <tr>\n",
              "            <td>1306211</td>\n",
              "            <td>Beyonce</td>\n",
              "            <td>1999</td>\n",
              "            <td>F</td>\n",
              "            <td>67</td>\n",
              "        </tr>\n",
              "        <tr>\n",
              "            <td>1333592</td>\n",
              "            <td>Beyonce</td>\n",
              "            <td>2000</td>\n",
              "            <td>F</td>\n",
              "            <td>197</td>\n",
              "        </tr>\n",
              "        <tr>\n",
              "            <td>1363001</td>\n",
              "            <td>Beyonce</td>\n",
              "            <td>2001</td>\n",
              "            <td>F</td>\n",
              "            <td>353</td>\n",
              "        </tr>\n",
              "        <tr>\n",
              "            <td>1393843</td>\n",
              "            <td>Beyonce</td>\n",
              "            <td>2002</td>\n",
              "            <td>F</td>\n",
              "            <td>153</td>\n",
              "        </tr>\n",
              "        <tr>\n",
              "            <td>1424195</td>\n",
              "            <td>Beyonce</td>\n",
              "            <td>2003</td>\n",
              "            <td>F</td>\n",
              "            <td>206</td>\n",
              "        </tr>\n",
              "        <tr>\n",
              "            <td>1455538</td>\n",
              "            <td>Beyonce</td>\n",
              "            <td>2004</td>\n",
              "            <td>F</td>\n",
              "            <td>175</td>\n",
              "        </tr>\n",
              "        <tr>\n",
              "            <td>1488168</td>\n",
              "            <td>Beyonce</td>\n",
              "            <td>2005</td>\n",
              "            <td>F</td>\n",
              "            <td>106</td>\n",
              "        </tr>\n",
              "        <tr>\n",
              "            <td>1520767</td>\n",
              "            <td>Beyonce</td>\n",
              "            <td>2006</td>\n",
              "            <td>F</td>\n",
              "            <td>106</td>\n",
              "        </tr>\n",
              "        <tr>\n",
              "            <td>1554247</td>\n",
              "            <td>Beyonce</td>\n",
              "            <td>2007</td>\n",
              "            <td>F</td>\n",
              "            <td>185</td>\n",
              "        </tr>\n",
              "        <tr>\n",
              "            <td>1589854</td>\n",
              "            <td>Beyonce</td>\n",
              "            <td>2008</td>\n",
              "            <td>F</td>\n",
              "            <td>105</td>\n",
              "        </tr>\n",
              "        <tr>\n",
              "            <td>1625334</td>\n",
              "            <td>Beyonce</td>\n",
              "            <td>2009</td>\n",
              "            <td>F</td>\n",
              "            <td>79</td>\n",
              "        </tr>\n",
              "        <tr>\n",
              "            <td>1660800</td>\n",
              "            <td>Beyonce</td>\n",
              "            <td>2010</td>\n",
              "            <td>F</td>\n",
              "            <td>51</td>\n",
              "        </tr>\n",
              "        <tr>\n",
              "            <td>1695473</td>\n",
              "            <td>Beyonce</td>\n",
              "            <td>2011</td>\n",
              "            <td>F</td>\n",
              "            <td>39</td>\n",
              "        </tr>\n",
              "        <tr>\n",
              "            <td>1729626</td>\n",
              "            <td>Beyonce</td>\n",
              "            <td>2012</td>\n",
              "            <td>F</td>\n",
              "            <td>36</td>\n",
              "        </tr>\n",
              "        <tr>\n",
              "            <td>1764080</td>\n",
              "            <td>Beyonce</td>\n",
              "            <td>2013</td>\n",
              "            <td>F</td>\n",
              "            <td>28</td>\n",
              "        </tr>\n",
              "        <tr>\n",
              "            <td>1798173</td>\n",
              "            <td>Beyonce</td>\n",
              "            <td>2014</td>\n",
              "            <td>F</td>\n",
              "            <td>22</td>\n",
              "        </tr>\n",
              "    </tbody>\n",
              "</table>"
            ]
          },
          "metadata": {},
          "execution_count": 17
        }
      ]
    },
    {
      "cell_type": "markdown",
      "source": [
        "**Q1.12:** Retrieve the variations of the babies named Beyonce using the string: 'bey%ce%'"
      ],
      "metadata": {
        "id": "-XoVmi0HK744"
      }
    },
    {
      "cell_type": "code",
      "source": [
        "%%sql\n",
        "-- Retrieve all records where the name starts with 'bey' and ends with 'ce' with any characters in between\n",
        "SELECT *\n",
        "FROM NationalNames\n",
        "WHERE Name LIKE 'bey%ce%';\n"
      ],
      "metadata": {
        "id": "EFow6QvzHR3U",
        "outputId": "a13f7d1d-609f-4626-abea-86d230487324",
        "colab": {
          "base_uri": "https://localhost:8080/",
          "height": 566
        }
      },
      "execution_count": null,
      "outputs": [
        {
          "output_type": "stream",
          "name": "stdout",
          "text": [
            " * sqlite:////content/us-baby-names/database.sqlite\n",
            "Done.\n"
          ]
        },
        {
          "output_type": "execute_result",
          "data": {
            "text/plain": [
              "[(1281705, 'Beyonce', 1998, 'F', 18),\n",
              " (1306211, 'Beyonce', 1999, 'F', 67),\n",
              " (1333592, 'Beyonce', 2000, 'F', 197),\n",
              " (1337875, 'Beyounce', 2000, 'F', 21),\n",
              " (1347905, 'Beyoncee', 2000, 'F', 5),\n",
              " (1363001, 'Beyonce', 2001, 'F', 353),\n",
              " (1369305, 'Beyounce', 2001, 'F', 15),\n",
              " (1393843, 'Beyonce', 2002, 'F', 153),\n",
              " (1402140, 'Beyounce', 2002, 'F', 10),\n",
              " (1424195, 'Beyonce', 2003, 'F', 206),\n",
              " (1434585, 'Beyounce', 2003, 'F', 8),\n",
              " (1455538, 'Beyonce', 2004, 'F', 175),\n",
              " (1467245, 'Beyounce', 2004, 'F', 7),\n",
              " (1488168, 'Beyonce', 2005, 'F', 106),\n",
              " (1520767, 'Beyonce', 2006, 'F', 106),\n",
              " (1554247, 'Beyonce', 2007, 'F', 185),\n",
              " (1589854, 'Beyonce', 2008, 'F', 105),\n",
              " (1625334, 'Beyonce', 2009, 'F', 79),\n",
              " (1660800, 'Beyonce', 2010, 'F', 51),\n",
              " (1695473, 'Beyonce', 2011, 'F', 39),\n",
              " (1729626, 'Beyonce', 2012, 'F', 36),\n",
              " (1764080, 'Beyonce', 2013, 'F', 28),\n",
              " (1798173, 'Beyonce', 2014, 'F', 22)]"
            ],
            "text/html": [
              "<table>\n",
              "    <thead>\n",
              "        <tr>\n",
              "            <th>Id</th>\n",
              "            <th>Name</th>\n",
              "            <th>Year</th>\n",
              "            <th>Gender</th>\n",
              "            <th>Count</th>\n",
              "        </tr>\n",
              "    </thead>\n",
              "    <tbody>\n",
              "        <tr>\n",
              "            <td>1281705</td>\n",
              "            <td>Beyonce</td>\n",
              "            <td>1998</td>\n",
              "            <td>F</td>\n",
              "            <td>18</td>\n",
              "        </tr>\n",
              "        <tr>\n",
              "            <td>1306211</td>\n",
              "            <td>Beyonce</td>\n",
              "            <td>1999</td>\n",
              "            <td>F</td>\n",
              "            <td>67</td>\n",
              "        </tr>\n",
              "        <tr>\n",
              "            <td>1333592</td>\n",
              "            <td>Beyonce</td>\n",
              "            <td>2000</td>\n",
              "            <td>F</td>\n",
              "            <td>197</td>\n",
              "        </tr>\n",
              "        <tr>\n",
              "            <td>1337875</td>\n",
              "            <td>Beyounce</td>\n",
              "            <td>2000</td>\n",
              "            <td>F</td>\n",
              "            <td>21</td>\n",
              "        </tr>\n",
              "        <tr>\n",
              "            <td>1347905</td>\n",
              "            <td>Beyoncee</td>\n",
              "            <td>2000</td>\n",
              "            <td>F</td>\n",
              "            <td>5</td>\n",
              "        </tr>\n",
              "        <tr>\n",
              "            <td>1363001</td>\n",
              "            <td>Beyonce</td>\n",
              "            <td>2001</td>\n",
              "            <td>F</td>\n",
              "            <td>353</td>\n",
              "        </tr>\n",
              "        <tr>\n",
              "            <td>1369305</td>\n",
              "            <td>Beyounce</td>\n",
              "            <td>2001</td>\n",
              "            <td>F</td>\n",
              "            <td>15</td>\n",
              "        </tr>\n",
              "        <tr>\n",
              "            <td>1393843</td>\n",
              "            <td>Beyonce</td>\n",
              "            <td>2002</td>\n",
              "            <td>F</td>\n",
              "            <td>153</td>\n",
              "        </tr>\n",
              "        <tr>\n",
              "            <td>1402140</td>\n",
              "            <td>Beyounce</td>\n",
              "            <td>2002</td>\n",
              "            <td>F</td>\n",
              "            <td>10</td>\n",
              "        </tr>\n",
              "        <tr>\n",
              "            <td>1424195</td>\n",
              "            <td>Beyonce</td>\n",
              "            <td>2003</td>\n",
              "            <td>F</td>\n",
              "            <td>206</td>\n",
              "        </tr>\n",
              "        <tr>\n",
              "            <td>1434585</td>\n",
              "            <td>Beyounce</td>\n",
              "            <td>2003</td>\n",
              "            <td>F</td>\n",
              "            <td>8</td>\n",
              "        </tr>\n",
              "        <tr>\n",
              "            <td>1455538</td>\n",
              "            <td>Beyonce</td>\n",
              "            <td>2004</td>\n",
              "            <td>F</td>\n",
              "            <td>175</td>\n",
              "        </tr>\n",
              "        <tr>\n",
              "            <td>1467245</td>\n",
              "            <td>Beyounce</td>\n",
              "            <td>2004</td>\n",
              "            <td>F</td>\n",
              "            <td>7</td>\n",
              "        </tr>\n",
              "        <tr>\n",
              "            <td>1488168</td>\n",
              "            <td>Beyonce</td>\n",
              "            <td>2005</td>\n",
              "            <td>F</td>\n",
              "            <td>106</td>\n",
              "        </tr>\n",
              "        <tr>\n",
              "            <td>1520767</td>\n",
              "            <td>Beyonce</td>\n",
              "            <td>2006</td>\n",
              "            <td>F</td>\n",
              "            <td>106</td>\n",
              "        </tr>\n",
              "        <tr>\n",
              "            <td>1554247</td>\n",
              "            <td>Beyonce</td>\n",
              "            <td>2007</td>\n",
              "            <td>F</td>\n",
              "            <td>185</td>\n",
              "        </tr>\n",
              "        <tr>\n",
              "            <td>1589854</td>\n",
              "            <td>Beyonce</td>\n",
              "            <td>2008</td>\n",
              "            <td>F</td>\n",
              "            <td>105</td>\n",
              "        </tr>\n",
              "        <tr>\n",
              "            <td>1625334</td>\n",
              "            <td>Beyonce</td>\n",
              "            <td>2009</td>\n",
              "            <td>F</td>\n",
              "            <td>79</td>\n",
              "        </tr>\n",
              "        <tr>\n",
              "            <td>1660800</td>\n",
              "            <td>Beyonce</td>\n",
              "            <td>2010</td>\n",
              "            <td>F</td>\n",
              "            <td>51</td>\n",
              "        </tr>\n",
              "        <tr>\n",
              "            <td>1695473</td>\n",
              "            <td>Beyonce</td>\n",
              "            <td>2011</td>\n",
              "            <td>F</td>\n",
              "            <td>39</td>\n",
              "        </tr>\n",
              "        <tr>\n",
              "            <td>1729626</td>\n",
              "            <td>Beyonce</td>\n",
              "            <td>2012</td>\n",
              "            <td>F</td>\n",
              "            <td>36</td>\n",
              "        </tr>\n",
              "        <tr>\n",
              "            <td>1764080</td>\n",
              "            <td>Beyonce</td>\n",
              "            <td>2013</td>\n",
              "            <td>F</td>\n",
              "            <td>28</td>\n",
              "        </tr>\n",
              "        <tr>\n",
              "            <td>1798173</td>\n",
              "            <td>Beyonce</td>\n",
              "            <td>2014</td>\n",
              "            <td>F</td>\n",
              "            <td>22</td>\n",
              "        </tr>\n",
              "    </tbody>\n",
              "</table>"
            ]
          },
          "metadata": {},
          "execution_count": 18
        }
      ]
    },
    {
      "cell_type": "markdown",
      "source": [
        "**Q1.13:** What is the rarest name for female babies, and starts with z, and   \n",
        "  were born in 2001?\n"
      ],
      "metadata": {
        "id": "ERp7Meb6WG8S"
      }
    },
    {
      "cell_type": "code",
      "source": [
        "%%sql\n",
        "-- Find the rarest name for female babies starting with 'Z' and born in 2001\n",
        "SELECT Name, COUNT(*) as Count\n",
        "FROM NationalNames\n",
        "WHERE Gender = 'F' AND Name LIKE 'Z%' AND Year = 2001\n",
        "GROUP BY Name\n",
        "ORDER BY Count ASC\n",
        "LIMIT 1;\n"
      ],
      "metadata": {
        "id": "i0dg6yNbHUzu",
        "outputId": "634c0aec-2cbb-42fe-b4ec-364dcf5369a9",
        "colab": {
          "base_uri": "https://localhost:8080/",
          "height": 96
        }
      },
      "execution_count": null,
      "outputs": [
        {
          "output_type": "stream",
          "name": "stdout",
          "text": [
            " * sqlite:////content/us-baby-names/database.sqlite\n",
            "Done.\n"
          ]
        },
        {
          "output_type": "execute_result",
          "data": {
            "text/plain": [
              "[('Zaakirah', 1)]"
            ],
            "text/html": [
              "<table>\n",
              "    <thead>\n",
              "        <tr>\n",
              "            <th>Name</th>\n",
              "            <th>Count</th>\n",
              "        </tr>\n",
              "    </thead>\n",
              "    <tbody>\n",
              "        <tr>\n",
              "            <td>Zaakirah</td>\n",
              "            <td>1</td>\n",
              "        </tr>\n",
              "    </tbody>\n",
              "</table>"
            ]
          },
          "metadata": {},
          "execution_count": 19
        }
      ]
    },
    {
      "cell_type": "markdown",
      "source": [
        "**Q1.14:** Retrieve the minimal number for female babies, and starts with z, and were born in 2001?"
      ],
      "metadata": {
        "id": "GY0XCow4L3Eo"
      }
    },
    {
      "cell_type": "code",
      "source": [
        "%%sql\n",
        "-- Retrieve the minimal count for female babies starting with 'Z' and born in 2001\n",
        "SELECT MIN(Count) as MinCount\n",
        "FROM (\n",
        "    SELECT COUNT(*) as Count\n",
        "    FROM NationalNames\n",
        "    WHERE Gender = 'F' AND Name LIKE 'Z%' AND Year = 2001\n",
        "    GROUP BY Name\n",
        ") AS Counts;\n"
      ],
      "metadata": {
        "id": "FPHjBcqbHYHF",
        "outputId": "29e22b8a-c255-4530-fcb0-79c93100ba32",
        "colab": {
          "base_uri": "https://localhost:8080/",
          "height": 96
        }
      },
      "execution_count": null,
      "outputs": [
        {
          "output_type": "stream",
          "name": "stdout",
          "text": [
            " * sqlite:////content/us-baby-names/database.sqlite\n",
            "Done.\n"
          ]
        },
        {
          "output_type": "execute_result",
          "data": {
            "text/plain": [
              "[(1,)]"
            ],
            "text/html": [
              "<table>\n",
              "    <thead>\n",
              "        <tr>\n",
              "            <th>MinCount</th>\n",
              "        </tr>\n",
              "    </thead>\n",
              "    <tbody>\n",
              "        <tr>\n",
              "            <td>1</td>\n",
              "        </tr>\n",
              "    </tbody>\n",
              "</table>"
            ]
          },
          "metadata": {},
          "execution_count": 20
        }
      ]
    },
    {
      "cell_type": "markdown",
      "source": [
        "### 2. Code Example"
      ],
      "metadata": {
        "id": "5sFZKm6ukT2I"
      }
    },
    {
      "cell_type": "markdown",
      "source": [
        "In the first part, we downloaded an SQLite database into Colab. Let's connect to the dataset using the [sqlite3 package](https://docs.python.org/2/library/sqlite3.html): First, let's import the required packages, and answer several questions about the data."
      ],
      "metadata": {
        "id": "ASVHAcVzkOwm"
      }
    },
    {
      "cell_type": "code",
      "source": [
        "import sqlite3\n",
        "from pathlib import Path\n",
        "import matplotlib\n",
        "import matplotlib.pyplot as plt\n",
        "import os\n",
        "%matplotlib inline\n",
        "\n",
        "print(database_path)"
      ],
      "metadata": {
        "id": "EEzu_DskkM8S",
        "outputId": "7a9c6fdb-3891-494a-8e90-74049e9fbf60",
        "colab": {
          "base_uri": "https://localhost:8080/"
        }
      },
      "execution_count": null,
      "outputs": [
        {
          "output_type": "stream",
          "name": "stdout",
          "text": [
            "/content/us-baby-names/database.sqlite\n"
          ]
        }
      ]
    },
    {
      "cell_type": "markdown",
      "source": [
        "**Question 1: How many names in the dataset?**\n",
        "\n",
        "To answer this question using Python code, we need to run a query on the database. This can be done by doing following actions:\n",
        "\n",
        "1.   We connect to the database, which is a local file, using the *connect* function.\n",
        "2.   We create a *cursor object*.\n",
        "3.   We call the *execute function* to run a query\n",
        "4.   We fetch the results using the *fetchone* function\n"
      ],
      "metadata": {
        "id": "TPw7sAilkk9C"
      }
    },
    {
      "cell_type": "code",
      "source": [
        "conn = sqlite3.connect(database_path) # connecting to the database\n",
        "c = conn.cursor() # creating a cursor object\n",
        "print(\"The number of national names in the dataset: %s\" % c.execute(\"SELECT count(*) FROM NationalNames\" ).fetchone()) # execute a query & fetch the results\n",
        "print(\"The number of state names in the dataset: %s\" % c.execute(\"SELECT count(*) FROM StateNames\" ).fetchone())\n",
        "c.close() # close the cursor"
      ],
      "metadata": {
        "colab": {
          "base_uri": "https://localhost:8080/"
        },
        "id": "LJm6kY4OkkYV",
        "outputId": "6c1b3328-4412-4b9e-cc32-e5966b5be105"
      },
      "execution_count": null,
      "outputs": [
        {
          "output_type": "stream",
          "name": "stdout",
          "text": [
            "The number of national names in the dataset: 1825433\n",
            "The number of state names in the dataset: 5647426\n"
          ]
        }
      ]
    },
    {
      "cell_type": "markdown",
      "source": [
        "**Question 2.1: What are the most common/rare names?**\n",
        "To answer this question, we need to count the number of times each name appeared in the dataset. This can be done by using the following steps: First, we will use the [Group By](https://www.w3schools.com/sql/sql_groupby.asp) statement, and SQL [Sum function](https://www.w3schools.com/sql/sql_count_avg_sum.asp). Second, we will use the [Order By](https://www.w3schools.com/sql/sql_orderby.asp) keyword to order the results. Lastly, we iterate through the retrieved results using a for loop:"
      ],
      "metadata": {
        "id": "YYmlIbyak54z"
      }
    },
    {
      "cell_type": "code",
      "source": [
        "conn = sqlite3.connect(database_path)\n",
        "c = conn.cursor()\n",
        "\n",
        "# Query the most common names\n",
        "result_common = c.execute(\"SELECT Name, SUM(Count) as TotalCount FROM NationalNames GROUP BY Name ORDER BY TotalCount DESC LIMIT 10\").fetchall()\n",
        "print(\"Most common names:\", result_common)\n",
        "\n",
        "# Query the rarest names\n",
        "result_rare = c.execute(\"SELECT Name, SUM(Count) as TotalCount FROM NationalNames GROUP BY Name HAVING TotalCount = 5\").fetchall()\n",
        "print(\"Rarest names:\", result_rare)\n",
        "\n",
        "c.close()\n"
      ],
      "metadata": {
        "id": "Mufxe16qH6z0",
        "outputId": "5a6c93ad-ee7c-41e2-b24b-3d96b56397b1",
        "colab": {
          "base_uri": "https://localhost:8080/"
        }
      },
      "execution_count": null,
      "outputs": [
        {
          "output_type": "stream",
          "name": "stdout",
          "text": [
            "Most common names: [('James', 5129096), ('John', 5106590), ('Robert', 4816785), ('Michael', 4330805), ('Mary', 4130441), ('William', 4071368), ('David', 3590557), ('Joseph', 2580687), ('Richard', 2564867), ('Charles', 2376700)]\n",
            "Rarest names: [('Aabid', 5), ('Aadhyan', 5), ('Aadian', 5), ('Aadrian', 5), ('Aadrit', 5), ('Aafreen', 5), ('Aagot', 5), ('Aahron', 5), ('Aaiyana', 5), ('Aaja', 5), ('Aakanksha', 5), ('Aakira', 5), ('Aakiyah', 5), ('Aaleeya', 5), ('Aalias', 5), ('Aalicia', 5), ('Aaliyaa', 5), ('Aallyah', 5), ('Aalon', 5), ('Aalyia', 5), ('Aalyvia', 5), ('Aamar', 5), ('Aamaya', 5), ('Aanand', 5), ('Aanijah', 5), ('Aapri', 5), ('Aaraon', 5), ('Aaratrika', 5), ('Aari', 5), ('Aarie', 5), ('Aariyan', 5), ('Aariyona', 5), ('Aariyonna', 5), ('Aaroh', 5), ('Aarona', 5), ('Aaronae', 5), ('Aaronda', 5), ('Aaronjacob', 5), ('Aaronjosh', 5), ('Aaronlee', 5), ('Aarren', 5), ('Aarshiya', 5), ('Aarvin', 5), ('Aaryona', 5), ('Aaser', 5), ('Aashana', 5), ('Aashini', 5), ('Aashman', 5), ('Aashray', 5), ('Aathan', 5), ('Aavyan', 5), ('Aayam', 5), ('Aayra', 5), ('Aayusha', 5), ('Aazan', 5), ('Abbaas', 5), ('Abdalrhman', 5), ('Abdelhadi', 5), ('Abderrahman', 5), ('Abdihamid', 5), ('Abdikhaliq', 5), ('Abdinajib', 5), ('Abdisalam', 5), ('Abdiwali', 5), ('Abdourahman', 5), ('Abduel', 5), ('Abdulaye', 5), ('Abdulazeem', 5), ('Abdulbari', 5), ('Abdulhalim', 5), ('Abdulhameed', 5), ('Abduljaleel', 5), ('Abduljalil', 5), ('Abdull', 5), ('Abdulmalek', 5), ('Abdulnasir', 5), ('Abdulsamad', 5), ('Abdulwadud', 5), ('Abdurrahmaan', 5), ('Abeal', 5), ('Abegale', 5), ('Aber', 5), ('Abhinay', 5), ('Abhinaya', 5), ('Abianna', 5), ('Abilio', 5), ('Abilyn', 5), ('Abinadab', 5), ('Abraar', 5), ('Abranda', 5), ('Abreya', 5), ('Abriam', 5), ('Abriele', 5), ('Abrihet', 5), ('Accie', 5), ('Accursio', 5), ('Acein', 5), ('Achan', 5), ('Achanti', 5), ('Achilleus', 5), ('Aciano', 5), ('Acob', 5), ('Adacia', 5), ('Adae', 5), ('Adairis', 5), ('Adala', 5), ('Adalade', 5), ('Adale', 5), ('Adalhi', 5), ('Adalisse', 5), ('Adaliyah', 5), ('Adamma', 5), ('Adannaya', 5), ('Adari', 5), ('Adavia', 5), ('Adbeel', 5), ('Addah', 5), ('Addalina', 5), ('Addelyne', 5), ('Addicus', 5), ('Addiemae', 5), ('Addieson', 5), ('Addiline', 5), ('Addington', 5), ('Addiston', 5), ('Addix', 5), ('Addle', 5), ('Addlee', 5), ('Addonis', 5), ('Addriana', 5), ('Addsion', 5), ('Addylan', 5), ('Adeanna', 5), ('Adedotun', 5), ('Adeem', 5), ('Adeen', 5), ('Adekemi', 5), ('Adelah', 5), ('Adelaid', 5), ('Adelane', 5), ('Adelean', 5), ('Adeleke', 5), ('Adelice', 5), ('Adellia', 5), ('Adelore', 5), ('Adelya', 5), ('Adelys', 5), ('Adera', 5), ('Adero', 5), ('Adesha', 5), ('Adesina', 5), ('Adetola', 5), ('Adeva', 5), ('Adheesh', 5), ('Adikus', 5), ('Adiley', 5), ('Adirah', 5), ('Adji', 5), ('Adjua', 5), ('Adlan', 5), ('Adlar', 5), ('Adlea', 5), ('Adlina', 5), ('Adn', 5), ('Adnel', 5), ('Adnrea', 5), ('Adolpha', 5), ('Adoncia', 5), ('Adones', 5), ('Adoniz', 5), ('Adorae', 5), ('Adorn', 5), ('Adreauna', 5), ('Adrell', 5), ('Adreyona', 5), ('Adriam', 5), ('Adriennie', 5), ('Adrieonna', 5), ('Adrihana', 5), ('Adris', 5), ('Adriunna', 5), ('Adry', 5), ('Adryanah', 5), ('Adryann', 5), ('Adryauna', 5), ('Adryonna', 5), ('Adulfo', 5), ('Adwaith', 5), ('Adwitiya', 5), ('Adylenne', 5), ('Adylina', 5), ('Adylinn', 5), ('Adym', 5), ('Adysun', 5), ('Aelisa', 5), ('Aelish', 5), ('Aeri', 5), ('Aerian', 5), ('Aericka', 5), ('Aeryona', 5), ('Aetna', 5), ('Aevry', 5), ('Affaan', 5), ('Affinity', 5), ('Afonso', 5), ('Africia', 5), ('Agel', 5), ('Agent', 5), ('Aggeliki', 5), ('Agneda', 5), ('Agnesa', 5), ('Agneta', 5), ('Aharshi', 5), ('Ahaziah', 5), ('Aheli', 5), ('Ahir', 5), ('Ahjahnae', 5), ('Ahkil', 5), ('Ahlai', 5), ('Ahlanie', 5), ('Ahleeyah', 5), ('Ahlona', 5), ('Ahlyana', 5), ('Ahlyvia', 5), ('Ahmarria', 5), ('Ahmonie', 5), ('Ahnah', 5), ('Ahnaleigh', 5), ('Ahnari', 5), ('Ahnyia', 5), ('Ahona', 5), ('Ahreanna', 5), ('Ahshanti', 5), ('Ahsoka', 5), ('Ahtyana', 5), ('Ahvianna', 5), ('Ahyonna', 5), ('Ahzhane', 5), ('Aian', 5), ('Aicen', 5), ('Aidanjohn', 5), ('Aidar', 5), ('Aidenjoseph', 5), ('Aidenmatthew', 5), ('Aidenmichael', 5), ('Aidet', 5), ('Aidien', 5), ('Aidrianna', 5), ('Aidyen', 5), ('Aiedan', 5), ('Aieshia', 5), ('Aiham', 5), ('Aijahlon', 5), ('Aijha', 5), ('Aileigh', 5), ('Aileny', 5), ('Ailiana', 5), ('Aillene', 5), ('Aimani', 5), ('Aini', 5), ('Ainsworth', 5), ('Aiona', 5), ('Airan', 5), ('Aire', 5), ('Aireka', 5), ('Airian', 5), ('Airiona', 5), ('Airius', 5), ('Airlene', 5), ('Airron', 5), ('Airyona', 5), ('Airys', 5), ('Aishatu', 5), ('Aishe', 5), ('Aishlin', 5), ('Aishlyn', 5), ('Aisja', 5), ('Aisleigh', 5), ('Aisya', 5), ('Aivley', 5), ('Aivry', 5), ('Aizeah', 5), ('Aizel', 5), ('Aizleigh', 5), ('Ajacia', 5), ('Ajahnay', 5), ('Ajayah', 5), ('Ajaye', 5), ('Ajhane', 5), ('Ajhani', 5), ('Ajiya', 5), ('Ajsha', 5), ('Ajua', 5), ('Akachi', 5), ('Akadian', 5), ('Akaja', 5), ('Akam', 5), ('Akaycia', 5), ('Akayden', 5), ('Akaysia', 5), ('Akeam', 5), ('Akeiya', 5), ('Akem', 5), ('Aken', 5), ('Akendra', 5), ('Akeriah', 5), ('Aketzalli', 5), ('Akeyra', 5), ('Akhi', 5), ('Akhiya', 5), ('Akilesh', 5), ('Akilia', 5), ('Akiylah', 5), ('Akiyra', 5), ('Akos', 5), ('Akosha', 5), ('Akosita', 5), ('Akoya', 5), ('Akria', 5), ('Aksa', 5), ('Akshan', 5), ('Alaana', 5), ('Alacyia', 5), ('Aladrian', 5), ('Alae', 5), ('Alafia', 5), ('Alah', 5), ('Alaida', 5), ('Alaiha', 5), ('Alaizha', 5), ('Alajhia', 5), ('Alalah', 5), ('Alama', 5), ('Alander', 5), ('Alanoud', 5), ('Alaunah', 5), ('Alaxis', 5), ('Alaynia', 5), ('Alazhia', 5), ('Albano', 5), ('Albee', 5), ('Albertico', 5), ('Albertjames', 5), ('Albieris', 5), ('Albria', 5), ('Alcibiades', 5), ('Alcina', 5), ('Alcine', 5), ('Alco', 5), ('Alcy', 5), ('Aldah', 5), ('Aldayr', 5), ('Aldemar', 5), ('Aldonna', 5), ('Aldoris', 5), ('Aldrik', 5), ('Aldrina', 5), ('Aleandra', 5), ('Aleatra', 5), ('Aleca', 5), ('Alecander', 5), ('Aleceia', 5), ('Alecsis', 5), ('Alecxia', 5), ('Aledra', 5), ('Aleeana', 5), ('Aleecya', 5), ('Aleeka', 5), ('Alegacy', 5), ('Alei', 5), ('Aleighana', 5), ('Aleighanna', 5), ('Aleiha', 5), ('Aleily', 5), ('Alejadro', 5), ('Alekay', 5), ('Alekos', 5), ('Aleksah', 5), ('Aleksandre', 5), ('Aleksandrs', 5), ('Alekzandra', 5), ('Alela', 5), ('Aleona', 5), ('Aleq', 5), ('Alerah', 5), ('Alero', 5), ('Alessand', 5), ('Alexand', 5), ('Alexandira', 5), ('Alexandreia', 5), ('Alexann', 5), ('Alexanra', 5), ('Alexaray', 5), ('Alexavia', 5), ('Alexeus', 5), ('Alexian', 5), ('Alexisjade', 5), ('Alexisnicole', 5), ('Alexous', 5), ('Alexson', 5), ('Alexsondra', 5), ('Alexusia', 5), ('Alexxes', 5), ('Alexyanna', 5), ('Alexzandyr', 5), ('Alexzis', 5), ('Alezandria', 5), ('Alfanette', 5), ('Alfanso', 5), ('Alferetta', 5), ('Alfreada', 5), ('Algean', 5), ('Algerine', 5), ('Algertha', 5), ('Alhakim', 5), ('Alham', 5), ('Alianne', 5), ('Aliannie', 5), ('Aliauna', 5), ('Aliaz', 5), ('Aliccia', 5), ('Aliceteen', 5), ('Alidiya', 5), ('Alieda', 5), ('Alieen', 5), ('Alienna', 5), ('Alieshia', 5), ('Aliette', 5), ('Aliisa', 5), ('Alikhan', 5), ('Aliliana', 5), ('Alinea', 5), ('Alirah', 5), ('Alish', 5), ('Alishaba', 5), ('Alisiah', 5), ('Aliska', 5), ('Alissondra', 5), ('Alista', 5), ('Alisun', 5), ('Alitia', 5), ('Aliveya', 5), ('Alixe', 5), ('Alixia', 5), ('Aliyia', 5), ('Aliysha', 5), ('Alizai', 5), ('Alizet', 5), ('Aliziah', 5), ('Aljay', 5), ('Aljoharah', 5), ('Allam', 5), ('Allanie', 5), ('Allasia', 5), ('Allateef', 5), ('Allaynah', 5), ('Alleigha', 5), ('Alleine', 5), ('Alleisha', 5), ('Allenah', 5), ('Allenna', 5), ('Allese', 5), ('Allesia', 5), ('Allessa', 5), ('Allexandria', 5), ('Allimae', 5), ('Allinah', 5), ('Alliona', 5), ('Allionna', 5), ('Allisin', 5), ('Allita', 5), ('Alliyiah', 5), ('Allizae', 5), ('Allize', 5), ('Allonah', 5), ('Allonzo', 5), ('Allson', 5), ('Allya', 5), ('Allyonna', 5), ('Allysse', 5), ('Allyza', 5), ('Almar', 5), ('Almarene', 5), ('Almaz', 5), ('Almera', 5), ('Almeria', 5), ('Almetra', 5), ('Almetter', 5), ('Almida', 5), ('Almondo', 5), ('Almonza', 5), ('Almore', 5), ('Almous', 5), ('Alnesha', 5), ('Alnetia', 5), ('Aloa', 5), ('Aloah', 5), ('Alohna', 5), ('Aloisius', 5), ('Aloyse', 5), ('Alpesh', 5), ('Alphea', 5), ('Alphine', 5), ('Alphon', 5), ('Alphones', 5), ('Alphy', 5), ('Alquin', 5), ('Alrahman', 5), ('Alray', 5), ('Alrita', 5), ('Alsexander', 5), ('Alshon', 5), ('Altarik', 5), ('Alterik', 5), ('Altermease', 5), ('Althelia', 5), ('Althera', 5), ('Altonya', 5), ('Altoria', 5), ('Altrice', 5), ('Altrina', 5), ('Alvernia', 5), ('Alvert', 5), ('Alvery', 5), ('Alves', 5), ('Alvieri', 5), ('Alvilde', 5), ('Alvonia', 5), ('Alvontae', 5), ('Alwayne', 5), ('Alwillie', 5), ('Alxavier', 5), ('Alycee', 5), ('Alyceia', 5), ('Alyessa', 5), ('Alyias', 5), ('Alyicia', 5), ('Alympia', 5), ('Alymuhammad', 5), ('Alynia', 5), ('Alyre', 5), ('Alyssarae', 5), ('Alyssarose', 5), ('Alysun', 5), ('Alywin', 5), ('Alyxus', 5), ('Alzata', 5), ('Amaari', 5), ('Amagine', 5), ('Amaijah', 5), ('Amais', 5), ('Amalyah', 5), ('Amalyn', 5), ('Amandaleigh', 5), ('Amania', 5), ('Amanita', 5), ('Amanjit', 5), ('Amanjot', 5), ('Amarantha', 5), ('Amareah', 5), ('Amareona', 5), ('Amareyon', 5), ('Amarhi', 5), ('Amariae', 5), ('Amariani', 5), ('Amariauna', 5), ('Amarina', 5), ('Amaron', 5), ('Amarpreet', 5), ('Amaryana', 5), ('Amaylee', 5), ('Ambee', 5), ('Amberrae', 5), ('Ambir', 5), ('Ambreanna', 5), ('Ameelia', 5), ('Ameeya', 5), ('Ameika', 5), ('Ameil', 5), ('Ameire', 5), ('Ameiya', 5), ('Amelah', 5), ('Ameleah', 5), ('Amelee', 5), ('Amenata', 5), ('Ameriana', 5), ('Amerissa', 5), ('Amerius', 5), ('Amerson', 5), ('Ameryst', 5), ('Amhad', 5), ('Amiaha', 5), ('Amicia', 5), ('Amiia', 5), ('Amiin', 5), ('Amile', 5), ('Amilie', 5), ('Amilliona', 5), ('Amilliyon', 5), ('Aminna', 5), ('Amino', 5), ('Amirbek', 5), ('Amirea', 5), ('Amirh', 5), ('Amirie', 5), ('Amiryah', 5), ('Amis', 5), ('Amisaday', 5), ('Amista', 5), ('Amistad', 5), ('Amolika', 5), ('Amone', 5), ('Amonii', 5), ('Amont', 5), ('Amonta', 5), ('Amorae', 5), ('Amoret', 5), ('Amorra', 5), ('Ample', 5), ('Amrah', 5), ('Amrith', 5), ('Amruth', 5), ('Amsey', 5), ('Amukta', 5), ('Amuri', 5), ('Amvi', 5), ('Amyrikal', 5), ('Amythyst', 5), ('Amyya', 5), ('Amzee', 5), ('Amzi', 5), ('Anabele', 5), ('Anabelli', 5), ('Anaberta', 5), ('Anacelis', 5), ('Anacely', 5), ('Anacia', 5), ('Anaeja', 5), ('Anaelise', 5), ('Anagh', 5), ('Anaisia', 5), ('Anakah', 5), ('Analexis', 5), ('Analidia', 5), ('Analiesa', 5), ('Analiha', 5), ('Analily', 5), ('Analydia', 5), ('Analyss', 5), ('Analyssia', 5), ('Anamar', 5), ('Anamary', 5), ('Anamia', 5), ('Anamile', 5), ('Anandita', 5), ('Ananyaa', 5), ('Anariya', 5), ('Anashe', 5), ('Anastajia', 5), ('Anatol', 5), ('Anavay', 5), ('Anavela', 5), ('Anaviah', 5), ('Anayelis', 5), ('Anayis', 5), ('Anberlynn', 5), ('Ancika', 5), ('Andaiye', 5), ('Andalucia', 5), ('Andea', 5), ('Anderea', 5), ('Andice', 5), ('Andis', 5), ('Andols', 5), ('Andonia', 5), ('Andrade', 5), ('Andreca', 5), ('Andrek', 5), ('Andrenae', 5), ('Andress', 5), ('Andricka', 5), ('Andrienna', 5), ('Andrietta', 5), ('Andrine', 5), ('Androniki', 5), ('Androw', 5), ('Aneeya', 5), ('Aneicia', 5), ('Aneiyah', 5), ('Anello', 5), ('Aneria', 5), ('Aneyda', 5), ('Aneysa', 5), ('Aneysha', 5), ('Anferne', 5), ('Anferney', 5), ('Angeal', 5), ('Angelah', 5), ('Angelamaria', 5), ('Angeleca', 5), ('Angelick', 5), ('Angelike', 5), ('Angeliqu', 5), ('Angelite', 5), ('Angelith', 5), ('Angeliya', 5), ('Angelleigh', 5), ('Angellyna', 5), ('Angelou', 5), ('Angeluis', 5), ('Angenie', 5), ('Angharad', 5), ('Angil', 5), ('Angilina', 5), ('Anglee', 5), ('Anglene', 5), ('Angler', 5), ('Anhtuan', 5), ('Aniaha', 5), ('Anietra', 5), ('Aniha', 5), ('Anij', 5), ('Anijae', 5), ('Anijia', 5), ('Anikia', 5), ('Anilyn', 5), ('Anime', 5), ('Anirud', 5), ('Anisette', 5), ('Anisley', 5), ('Anisse', 5), ('Anitrea', 5), ('Anivia', 5), ('Aniyaha', 5), ('Aniye', 5), ('Aniysa', 5), ('Anjalika', 5), ('Anjaliyah', 5), ('Anjanett', 5), ('Anjelyka', 5), ('Anjelyn', 5), ('Anjennette', 5), ('Anjola', 5), ('Anjolena', 5), ('Anjolique', 5), ('Anjrue', 5), ('Anke', 5), ('Ankoor', 5), ('Anley', 5), ('Anlin', 5), ('Anly', 5), ('Annabellah', 5), ('Annabellelee', 5), ('Annagene', 5), ('Annahbella', 5), ('Annaira', 5), ('Annaise', 5), ('Annajoy', 5), ('Annakathryn', 5), ('Annakiya', 5), ('Annaleisa', 5), ('Annalice', 5), ('Annaliisa', 5), ('Annaliya', 5), ('Annaluisa', 5), ('Annalyne', 5), ('Annalyss', 5), ('Annalyssia', 5), ('Annanya', 5), ('Annaruth', 5), ('Annasha', 5), ('Annastassia', 5), ('Annea', 5), ('Annease', 5), ('Annelyn', 5), ('Annelys', 5), ('Annemargaret', 5), ('Annemary', 5), ('Annese', 5), ('Anneshia', 5), ('Annetha', 5), ('Annibale', 5), ('Annielou', 5), ('Annies', 5), ('Anniqua', 5), ('Annjane', 5), ('Annjelica', 5), ('Annmari', 5), ('Annmaria', 5), ('Annon', 5), ('Annslie', 5), ('Annunciata', 5), ('Annunzio', 5), ('Anoki', 5), ('Anon', 5), ('Anooj', 5), ('Anousone', 5), ('Anova', 5), ('Anquavious', 5), ('Anquetta', 5), ('Anquinetta', 5), ('Anre', 5), ('Anri', 5), ('Ansal', 5), ('Ansara', 5), ('Anselmi', 5), ('Anshveer', 5), ('Ansli', 5), ('Ansony', 5), ('Ansu', 5), ('Antajuan', 5), ('Antanea', 5), ('Antaysia', 5), ('Antea', 5), ('Anteo', 5), ('Antesha', 5), ('Anthani', 5), ('Antheny', 5), ('Anthoine', 5), ('Anthory', 5), ('Antianna', 5), ('Antinisha', 5), ('Antoinese', 5), ('Antoinesha', 5), ('Antojuan', 5), ('Antolina', 5), ('Antona', 5), ('Antonese', 5), ('Antoneyo', 5), ('Antonial', 5), ('Antonica', 5), ('Antoniyo', 5), ('Antonnia', 5), ('Antonny', 5), ('Antorria', 5), ('Antowain', 5), ('Antowne', 5), ('Antravion', 5), ('Antre', 5), ('Antrea', 5), ('Antrez', 5), ('Antrione', 5), ('Antroy', 5), ('Anttwan', 5), ('Antuwan', 5), ('Antwanett', 5), ('Antwin', 5), ('Antwonn', 5), ('Antyone', 5), ('Anudeep', 5), ('Anupriya', 5), ('Anusri', 5), ('Anwaar', 5), ('Anwan', 5), ('Anwon', 5), ('Anyila', 5), ('Anyjha', 5), ('Anyree', 5), ('Anyriah', 5), ('Anze', 5), ('Anzlie', 5), ('Aonna', 5), ('Aous', 5), ('Apasra', 5), ('Aphton', 5), ('Apostolis', 5), ('Aprecious', 5), ('Apriel', 5), ('Apriljoy', 5), ('Aqilah', 5), ('Aquaisha', 5), ('Aquala', 5), ('Aquanis', 5), ('Aquasha', 5), ('Aquavia', 5), ('Aquavion', 5), ('Aqueela', 5), ('Aquera', 5), ('Aquiel', 5), ('Aquileo', 5), ('Aquilina', 5), ('Aquinas', 5), ('Ar', 5), ('Aracel', 5), ('Aracelio', 5), ('Araceliz', 5), ('Aracellie', 5), ('Araelynn', 5), ('Arahbella', 5), ('Arahi', 5), ('Aralis', 5), ('Aramie', 5), ('Aramys', 5), ('Arayeli', 5), ('Araz', 5), ('Arazeli', 5), ('Arbelia', 5), ('Arbrianna', 5), ('Arcadian', 5), ('Arcadius', 5), ('Archa', 5), ('Arco', 5), ('Ardia', 5), ('Ardilia', 5), ('Ardonia', 5), ('Ardwin', 5), ('Ardy', 5), ('Arean', 5), ('Areecia', 5), ('Areigha', 5), ('Areionna', 5), ('Argatha', 5), ('Argent', 5), ('Argentine', 5), ('Argiro', 5), ('Argonne', 5), ('Argyro', 5), ('Ariaan', 5), ('Ariadnne', 5), ('Ariajade', 5), ('Ariale', 5), ('Arialle', 5), ('Ariamarie', 5), ('Arianamarie', 5), ('Arielyn', 5), ('Arienette', 5), ('Arieus', 5), ('Ariiana', 5), ('Arijit', 5), ('Arikah', 5), ('Arillia', 5), ('Arim', 5), ('Arimentha', 5), ('Arinola', 5), ('Arisleidy', 5), ('Arismel', 5), ('Arismendy', 5), ('Aristedes', 5), ('Aritra', 5), ('Ariunna', 5), ('Ariyauna', 5), ('Ariyha', 5), ('Arizonia', 5), ('Arjae', 5), ('Arjean', 5), ('Arjeta', 5), ('Arkadian', 5), ('Arkadiusz', 5), ('Arkeba', 5), ('Arkee', 5), ('Arkita', 5), ('Arkley', 5), ('Arko', 5), ('Arlane', 5), ('Arlea', 5), ('Arleaner', 5), ('Arlease', 5), ('Arleine', 5), ('Arleon', 5), ('Arlete', 5), ('Arlex', 5), ('Arliana', 5), ('Arlowene', 5), ('Arlynes', 5), ('Armaad', 5), ('Armana', 5), ('Armann', 5), ('Armetrice', 5), ('Armintha', 5), ('Armittie', 5), ('Armonnie', 5), ('Armonta', 5), ('Arnae', 5), ('Arnardo', 5), ('Arnedra', 5), ('Arneice', 5), ('Arner', 5), ('Arnesto', 5), ('Arnica', 5), ('Arniece', 5), ('Arniesha', 5), ('Arnise', 5), ('Arnitha', 5), ('Arnob', 5), ('Arnolfo', 5), ('Arnon', 5), ('Arny', 5), ('Arold', 5), ('Arpa', 5), ('Arpie', 5), ('Arquan', 5), ('Arquimedes', 5), ('Arrabelle', 5), ('Arriane', 5), ('Arriannah', 5), ('Arrik', 5), ('Arrius', 5), ('Arrya', 5), ('Arryon', 5), ('Arseno', 5), ('Arshag', 5), ('Arshanti', 5), ('Arshon', 5), ('Arshveer', 5), ('Artadius', 5), ('Artella', 5), ('Artemia', 5), ('Artemiy', 5), ('Artemy', 5), ('Artena', 5), ('Artensia', 5), ('Arter', 5), ('Arthalia', 5), ('Arthas', 5), ('Arthetta', 5), ('Arthus', 5), ('Artra', 5), ('Artresha', 5), ('Arundhati', 5), ('Arvard', 5), ('Arvelle', 5), ('Arvene', 5), ('Arvia', 5), ('Arvillia', 5), ('Arvion', 5), ('Arvydas', 5), ('Aryela', 5), ('Aryo', 5), ('Arysta', 5), ('Aryton', 5), ('Arzilla', 5), ('Arzona', 5), ('Arzoo', 5), ('Asacia', 5), ('Asada', 5), ('Asaiya', 5), ('Asala', 5), ('Asaria', 5), ('Asasha', 5), ('Asaya', 5), ('Aschton', 5), ('Asdrubal', 5), ('Aseante', 5), ('Aseda', 5), ('Asela', 5), ('Aselin', 5), ('Asenith', 5), ('Asension', 5), ('Asfia', 5), ('Ashadieeyah', 5), ('Ashalina', 5), ('Ashane', 5), ('Ashanee', 5), ('Ashantey', 5), ('Ashantiana', 5), ('Asharri', 5), ('Ashaud', 5), ('Ashaunie', 5), ('Ashaunta', 5), ('Ashauntae', 5), ('Ashawni', 5), ('Ashburn', 5), ('Ashee', 5), ('Ashgan', 5), ('Ashianna', 5), ('Ashilee', 5), ('Ashini', 5), ('Ashlae', 5), ('Ashleeann', 5), ('Ashlely', 5), ('Ashleykate', 5), ('Ashleyrae', 5), ('Ashliy', 5), ('Ashney', 5), ('Ashoka', 5), ('Ashor', 5), ('Ashriya', 5), ('Ashuna', 5), ('Ashura', 5), ('Ashvi', 5), ('Ashyiah', 5), ('Ashyria', 5), ('Asianah', 5), ('Asianay', 5), ('Asiane', 5), ('Asiaonna', 5), ('Asis', 5), ('Aslam', 5), ('Asrar', 5), ('Assandra', 5), ('Assma', 5), ('Astley', 5), ('Asul', 5), ('Asuna', 5), ('Aswath', 5), ('Aswell', 5), ('Asyana', 5), ('Aszure', 5), ('Atal', 5), ('Atalanta', 5), ('Ataly', 5), ('Atem', 5), ('Aten', 5), ('Atena', 5), ('Ater', 5), ('Atesha', 5), ('Athala', 5), ('Atheer', 5), ('Athenamarie', 5), ('Athenna', 5), ('Athie', 5), ('Athlee', 5), ('Athlyn', 5), ('Athylene', 5), ('Atie', 5), ('Atifa', 5), ('Atilio', 5), ('Atinuke', 5), ('Atline', 5), ('Atoli', 5), ('Atong', 5), ('Atravion', 5), ('Atreau', 5), ('Atreo', 5), ('Atreu', 5), ('Atrice', 5), ('Atricia', 5), ('Atward', 5), ('Aubreah', 5), ('Aubreauna', 5), ('Aubreella', 5), ('Aubrelle', 5), ('Aubreona', 5), ('Aubreyelle', 5), ('Aubreyrose', 5), ('Aubrilyn', 5), ('Aubriyana', 5), ('Aubryella', 5), ('Aubryelle', 5), ('Aude', 5), ('Audelio', 5), ('Audella', 5), ('Audin', 5), ('Audranna', 5), ('Audreona', 5), ('Audreyna', 5), ('Audreyonna', 5), ('Audreyrose', 5), ('Audriaunna', 5), ('Audrieana', 5), ('Audrii', 5), ('Audrone', 5), ('Augustis', 5), ('Augustyn', 5), ('Aujanai', 5), ('Aukeem', 5), ('Aula', 5), ('Aulda', 5), ('Aumi', 5), ('Aumya', 5), ('Aunaleigh', 5), ('Aundreia', 5), ('Auni', 5), ('Aunjel', 5), ('Aunnika', 5), ('Auraya', 5), ('Auree', 5), ('Aureo', 5), ('Auretta', 5), ('Aurey', 5), ('Aurik', 5), ('Auril', 5), ('Aurin', 5), ('Auriona', 5), ('Auroralynn', 5), ('Aurra', 5), ('Ausia', 5), ('Ausie', 5), ('Autavia', 5), ('Autis', 5), ('Autra', 5), ('Auttum', 5), ('Auttumn', 5), ('Av', 5), ('Avaan', 5), ('Avae', 5), ('Avahlyn', 5), ('Avala', 5), ('Avali', 5), ('Avalia', 5), ('Avaliese', 5), ('Avamay', 5), ('Avamonroe', 5), ('Avanah', 5), ('Avangaline', 5), ('Avangelene', 5), ('Avanthi', 5), ('Avayiah', 5), ('Aveana', 5), ('Aveda', 5), ('Aveigha', 5), ('Avelie', 5), ('Avelinn', 5), ('Avelle', 5), ('Avellina', 5), ('Avemaria', 5), ('Avenn', 5), ('Averick', 5), ('Averiee', 5), ('Averymarie', 5), ('Averyn', 5), ('Aviara', 5), ('Avichai', 5), ('Avighna', 5), ('Avione', 5), ('Avir', 5), ('Aviral', 5), ('Aviram', 5), ('Avishek', 5), ('Avivah', 5), ('Aviyonna', 5), ('Avola', 5), ('Avonel', 5), ('Avor', 5), ('Avraj', 5), ('Avreet', 5), ('Avreigh', 5), ('Avriella', 5), ('Avrik', 5), ('Avrill', 5), ('Avrilynn', 5), ('Avrion', 5), ('Avshalom', 5), ('Awbrey', 5), ('Awn', 5), ('Awna', 5), ('Axcell', 5), ('Axeton', 5), ('Axiry', 5), ('Axwell', 5), ('Ayaina', 5), ('Ayaniah', 5), ('Ayanne', 5), ('Ayante', 5), ('Aydali', 5), ('Aydelis', 5), ('Aydenne', 5), ('Aydrie', 5), ('Aydrik', 5), ('Ayea', 5), ('Ayeasha', 5), ('Ayedan', 5), ('Ayin', 5), ('Aylamae', 5), ('Aylanna', 5), ('Ayleena', 5), ('Aylenne', 5), ('Aylianna', 5), ('Aylon', 5), ('Aymie', 5), ('Ayoki', 5), ('Ayondela', 5), ('Ayoola', 5), ('Ayres', 5), ('Ayriah', 5), ('Ayrial', 5), ('Ayric', 5), ('Ayrihanna', 5), ('Aysenur', 5), ('Ayslyn', 5), ('Aysu', 5), ('Ayunna', 5), ('Ayvani', 5), ('Ayviana', 5), ('Ayzlin', 5), ('Ayzlyn', 5), ('Azah', 5), ('Azaireyah', 5), ('Azalaya', 5), ('Azaleigh', 5), ('Azaleigha', 5), ('Azanae', 5), ('Azante', 5), ('Azarae', 5), ('Azarael', 5), ('Azaraya', 5), ('Azareah', 5), ('Azareeyah', 5), ('Azareth', 5), ('Azaryia', 5), ('Azayleah', 5), ('Azeeza', 5), ('Azelya', 5), ('Azema', 5), ('Azena', 5), ('Azer', 5), ('Azerion', 5), ('Azfar', 5), ('Azhan', 5), ('Azhanae', 5), ('Azianna', 5), ('Azilynn', 5), ('Aziria', 5), ('Azjon', 5), ('Azlynne', 5), ('Azmeer', 5), ('Azmina', 5), ('Azrien', 5), ('Azryel', 5), ('Azsa', 5), ('Azsha', 5), ('Azteca', 5), ('Azurae', 5), ('Azurah', 5), ('Azurie', 5), ('Azury', 5), ('Azuzena', 5), ('Baasil', 5), ('Babbett', 5), ('Bacarri', 5), ('Baeden', 5), ('Baela', 5), ('Baelor', 5), ('Baheerah', 5), ('Baiba', 5), ('Bailiegh', 5), ('Baille', 5), ('Bailye', 5), ('Baja', 5), ('Bakir', 5), ('Bakr', 5), ('Balaji', 5), ('Baldassare', 5), ('Ballarie', 5), ('Balon', 5), ('Balynda', 5), ('Bamby', 5), ('Banan', 5), ('Bang', 5), ('Bangaly', 5), ('Banisha', 5), ('Bansri', 5), ('Banyon', 5), ('Barakah', 5), ('Barakat', 5), ('Barbaraa', 5), ('Barbaraanne', 5), ('Barbare', 5), ('Barbora', 5), ('Bareerah', 5), ('Barek', 5), ('Baren', 5), ('Barisha', 5), ('Barksdale', 5), ('Barnwell', 5), ('Barny', 5), ('Barrion', 5), ('Barris', 5), ('Barsha', 5), ('Bartel', 5), ('Bartha', 5), ('Bartie', 5), ('Bartly', 5), ('Bartu', 5), ('Barty', 5), ('Baryn', 5), ('Bas', 5), ('Bascomb', 5), ('Bash', 5), ('Bashiri', 5), ('Basilios', 5), ('Basimah', 5), ('Batel', 5), ('Batrina', 5), ('Batula', 5), ('Bavan', 5), ('Bayete', 5), ('Baylaa', 5), ('Bayleen', 5), ('Bayliegh', 5), ('Bayshawn', 5), ('Be', 5), ('Beach', 5), ('Beah', 5), ('Beaman', 5), ('Bean', 5), ('Beandon', 5), ('Beaney', 5), ('Beaonca', 5), ('Beatha', 5), ('Beather', 5), ('Beathrice', 5), ('Beatrica', 5), ('Beattie', 5), ('Beautrice', 5), ('Beckah', 5), ('Bedar', 5), ('Bedell', 5), ('Beenish', 5), ('Begum', 5), ('Bek', 5), ('Bekett', 5), ('Belany', 5), ('Believe', 5), ('Beliz', 5), ('Bellamay', 5), ('Bellani', 5), ('Bellicia', 5), ('Bellinda', 5), ('Belua', 5), ('Belverly', 5), ('Bemjamin', 5), ('Benancia', 5), ('Benardo', 5), ('Benda', 5), ('Benedek', 5), ('Benedicte', 5), ('Benessa', 5), ('Bengiman', 5), ('Benilda', 5), ('Benjaminjoseph', 5), ('Benjammin', 5), ('Benje', 5), ('Benjeman', 5), ('Benjermen', 5), ('Benjiam', 5), ('Benley', 5), ('Benne', 5), ('Benner', 5), ('Bennington', 5), ('Bentz', 5), ('Benvinda', 5), ('Benzel', 5), ('Berchman', 5), ('Berdeen', 5), ('Berek', 5), ('Berend', 5), ('Berenger', 5), ('Beresford', 5), ('Bergetta', 5), ('Bergin', 5), ('Beric', 5), ('Beril', 5), ('Berinda', 5), ('Berita', 5), ('Berj', 5), ('Berlina', 5), ('Bernalee', 5), ('Bernasia', 5), ('Bernda', 5), ('Bernesha', 5), ('Bernessa', 5), ('Bernet', 5), ('Bernia', 5), ('Berniya', 5), ('Berrie', 5), ('Berteal', 5), ('Bertella', 5), ('Bertelle', 5), ('Berthalee', 5), ('Berthina', 5), ('Bertile', 5), ('Berwick', 5), ('Besiana', 5), ('Bethanye', 5), ('Bethellen', 5), ('Bethie', 5), ('Bethsheba', 5), ('Bethzabeth', 5), ('Bethzaira', 5), ('Betim', 5), ('Betsabet', 5), ('Betsayda', 5), ('Betsye', 5), ('Bett', 5), ('Bettee', 5), ('Bettine', 5), ('Bettymarie', 5), ('Bettzy', 5), ('Bevereley', 5), ('Beverlin', 5), ('Bexleigh', 5), ('Beyah', 5), ('Beyoncee', 5), ('Beyunka', 5), ('Bezaleel', 5), ('Bhargava', 5), ('Bhoomika', 5), ('Bhrianna', 5), ('Bia', 5), ('Biafra', 5), ('Bianet', 5), ('Biankah', 5), ('Biaunca', 5), ('Bibek', 5), ('Bidal', 5), ('Biel', 5), ('Biftu', 5), ('Bikram', 5), ('Bilguun', 5), ('Biljana', 5), ('Billion', 5), ('Billison', 5), ('Bilon', 5), ('Bilqis', 5), ('Bimbo', 5), ('Binaca', 5), ('Binca', 5), ('Binita', 5), ('Binky', 5), ('Bionda', 5), ('Birche', 5), ('Birdye', 5), ('Birgitte', 5), ('Birk', 5), ('Birklee', 5), ('Birthel', 5), ('Birty', 5), ('Biruta', 5), ('Birydiana', 5), ('Bisola', 5), ('Bithiah', 5), ('Biyanca', 5), ('Biyanka', 5), ('Bla', 5), ('Blackie', 5), ('Blaken', 5), ('Blaklie', 5), ('Blakney', 5), ('Blancaestela', 5), ('Blancha', 5), ('Blass', 5), ('Blayd', 5), ('Blaz', 5), ('Blaza', 5), ('Bleidy', 5), ('Blendia', 5), ('Blerim', 5), ('Blerina', 5), ('Blessn', 5), ('Blon', 5), ('Bloomie', 5), ('Blynda', 5), ('Bobbilee', 5), ('Bobbilynn', 5), ('Bobo', 5), ('Bodan', 5), ('Bodhan', 5), ('Boede', 5), ('Bohannon', 5), ('Bohen', 5), ('Boisey', 5), ('Bolanle', 5), ('Bolivia', 5), ('Bolling', 5), ('Bomer', 5), ('Bonalyn', 5), ('Boncile', 5), ('Boney', 5), ('Bonique', 5), ('Bonitta', 5), ('Bonnibel', 5), ('Bonzie', 5), ('Boon', 5), ('Borgny', 5), ('Born', 5), ('Bosede', 5), ('Boswell', 5), ('Boun', 5), ('Bouvier', 5), ('Bowdie', 5), ('Bower', 5), ('Boyed', 5), ('Boz', 5), ('Bracelyn', 5), ('Bracelynn', 5), ('Bradbury', 5), ('Braderick', 5), ('Bradfield', 5), ('Bradli', 5), ('Bradney', 5), ('Bradson', 5), ('Braegan', 5), ('Braelinn', 5), ('Braesen', 5), ('Braeya', 5), ('Brage', 5), ('Brahian', 5), ('Braiya', 5), ('Brandais', 5), ('Brandea', 5), ('Brandelynn', 5), ('Brandenn', 5), ('Brander', 5), ('Brandessa', 5), ('Brandiann', 5), ('Brandisha', 5), ('Brandonkyle', 5), ('Brandonray', 5), ('Brandyann', 5), ('Branen', 5), ('Brannick', 5), ('Bransford', 5), ('Brashad', 5), ('Braston', 5), ('Bravon', 5), ('Bravyn', 5), ('Braxx', 5), ('Brayle', 5), ('Braylend', 5), ('Braynt', 5), ('Brayshaun', 5), ('Brayston', 5), ('Brayzen', 5), ('Breara', 5), ('Breayna', 5), ('Brec', 5), ('Brecia', 5), ('Brecon', 5), ('Bredyn', 5), ('Breeannah', 5), ('Breeaunna', 5), ('Breegan', 5), ('Breen', 5), ('Breesa', 5), ('Breese', 5), ('Breeyah', 5), ('Breeyanna', 5), ('Breh', 5), ('Brehea', 5), ('Breidy', 5), ('Breidyn', 5), ('Breigha', 5), ('Breighden', 5), ('Breilynn', 5), ('Brejon', 5), ('Brekia', 5), ('Brekka', 5), ('Brekkyn', 5), ('Brekon', 5), ('Brelen', 5), ('Brenai', 5), ('Brenard', 5), ('Brenaya', 5), ('Brence', 5), ('Brendaa', 5), ('Brendasia', 5), ('Brener', 5), ('Breneshia', 5), ('Brenicia', 5), ('Brenika', 5), ('Brennda', 5), ('Brentten', 5), ('Brentwood', 5), ('Breondra', 5), ('Brescia', 5), ('Breshai', 5), ('Breshayla', 5), ('Breshuna', 5), ('Bretha', 5), ('Brettlee', 5), ('Brettnie', 5), ('Breyanah', 5), ('Breyell', 5), ('Breyn', 5), ('Breze', 5), ('Brezzy', 5), ('Brhett', 5), ('Brianalee', 5), ('Brianamarie', 5), ('Briananthony', 5), ('Briandra', 5), ('Brianie', 5), ('Brianka', 5), ('Briannalee', 5), ('Brianney', 5), ('Briayan', 5), ('Briazia', 5), ('Briceston', 5), ('Bricola', 5), ('Bridan', 5), ('Bridyn', 5), ('Brieah', 5), ('Brieon', 5), ('Brierre', 5), ('Brieya', 5), ('Brighley', 5), ('Brij', 5), ('Brijet', 5), ('Brilei', 5), ('Brilen', 5), ('Brilynne', 5), ('Brinder', 5), ('Brindin', 5), ('Briney', 5), ('Brink', 5), ('Brinlea', 5), ('Brinnly', 5), ('Brintney', 5), ('Brionica', 5), ('Brisaida', 5), ('Brishana', 5), ('Brishaun', 5), ('Brishauna', 5), ('Brishon', 5), ('Brisny', 5), ('Brisseida', 5), ('Brister', 5), ('Britanna', 5), ('Britnae', 5), ('Britnai', 5), ('Brittaini', 5), ('Brittanii', 5), ('Brittanymarie', 5), ('Brittary', 5), ('Brittiana', 5), ('Brittna', 5), ('Brittnii', 5), ('Brizeth', 5), ('Brizzia', 5), ('Brodney', 5), ('Brogyn', 5), ('Brohdy', 5), ('Bronagh', 5), ('Bronce', 5), ('Bronica', 5), ('Brookeann', 5), ('Brooklenn', 5), ('Brooklon', 5), ('Brooklynrose', 5), ('Brooksey', 5), ('Brookyln', 5), ('Browder', 5), ('Browdy', 5), ('Brucelee', 5), ('Brunna', 5), ('Bruster', 5), ('Bryand', 5), ('Bryasha', 5), ('Brycenn', 5), ('Brycn', 5), ('Brycyn', 5), ('Brydie', 5), ('Bryell', 5), ('Bryenna', 5), ('Bryia', 5), ('Bryiana', 5), ('Bryice', 5), ('Bryleah', 5), ('Bryndis', 5), ('Bryniah', 5), ('Brynnlea', 5), ('Brynsley', 5), ('Bryshaun', 5), ('Bryssia', 5), ('Btittany', 5), ('Bubbles', 5), ('Buckey', 5), ('Buenaventura', 5), ('Bugra', 5), ('Bundy', 5), ('Bural', 5), ('Burchel', 5), ('Burdelle', 5), ('Burdena', 5), ('Burdene', 5), ('Burdie', 5), ('Burdine', 5), ('Burgandie', 5), ('Burie', 5), ('Burleen', 5), ('Burmah', 5), ('Burneta', 5), ('Burrus', 5), ('Buruk', 5), ('Buss', 5), ('Bwana', 5), ('Caaden', 5), ('Cabral', 5), ('Cabren', 5), ('Cada', 5), ('Cadeisha', 5), ('Cadet', 5), ('Cadisha', 5), ('Caelob', 5), ('Caffey', 5), ('Cahari', 5), ('Cahlin', 5), ('Cahya', 5), ('Caida', 5), ('Caidee', 5), ('Caidy', 5), ('Cailtin', 5), ('Cailum', 5), ('Caimon', 5), ('Cairah', 5), ('Cairl', 5), ('Cairn', 5), ('Caitelyn', 5), ('Caitilyn', 5), ('Caitryn', 5), ('Caityln', 5), ('Caitylyn', 5), ('Calanda', 5), ('Calani', 5), ('Calantha', 5), ('Calanthe', 5), ('Calasia', 5), ('Caleal', 5), ('Caleiah', 5), ('Caletha', 5), ('Calice', 5), ('Caliee', 5), ('Caliese', 5), ('Calis', 5), ('Calisto', 5), ('Calita', 5), ('Calixtro', 5), ('Callah', 5), ('Callalily', 5), ('Callasandra', 5), ('Calliemae', 5), ('Callissa', 5), ('Callister', 5), ('Calman', 5), ('Calonia', 5), ('Calvan', 5), ('Calvester', 5), ('Calyce', 5), ('Calynne', 5), ('Cama', 5), ('Camacho', 5), ('Camaira', 5), ('Camariah', 5), ('Camarii', 5), ('Camario', 5), ('Camarri', 5), ('Camaury', 5), ('Cambel', 5), ('Cambi', 5), ('Camea', 5), ('Cameika', 5), ('Cameil', 5), ('Camelo', 5), ('Camely', 5), ('Cameon', 5), ('Camerson', 5), ('Camiesha', 5), ('Camillemarie', 5), ('Camillie', 5), ('Camillya', 5), ('Camishia', 5), ('Camm', 5), ('Campion', 5), ('Campton', 5), ('Camrion', 5), ('Camryne', 5), ('Camyrah', 5), ('Camyri', 5), ('Camyria', 5), ('Canace', 5), ('Candan', 5), ('Candiece', 5), ('Candius', 5), ('Candys', 5), ('Canen', 5), ('Canessa', 5), ('Cansu', 5), ('Cante', 5), ('Canyen', 5), ('Canyla', 5), ('Capp', 5), ('Caprece', 5), ('Capus', 5), ('Carcyn', 5), ('Cardiss', 5), ('Care', 5), ('Carelle', 5), ('Carelyn', 5), ('Caresha', 5), ('Caribbean', 5), ('Carielle', 5), ('Carig', 5), ('Cario', 5), ('Cariss', 5), ('Carista', 5), ('Carlana', 5), ('Carlanthony', 5), ('Carlens', 5), ('Carlese', 5), ('Carlhenry', 5), ('Carlishia', 5), ('Carlissia', 5), ('Carlitha', 5), ('Carlitta', 5), ('Carlleen', 5), ('Carlosadrian', 5), ('Carlosjavier', 5), ('Carlosjr', 5), ('Carlston', 5), ('Carlvin', 5), ('Carlysha', 5), ('Carlyssia', 5), ('Carmalena', 5), ('Carmaline', 5), ('Carmecia', 5), ('Carmelito', 5), ('Carmene', 5), ('Carmesia', 5), ('Carmila', 5), ('Carna', 5), ('Carnes', 5), ('Caroldean', 5), ('Caroldine', 5), ('Carolita', 5), ('Carollou', 5), ('Caroyn', 5), ('Carragan', 5), ('Carranza', 5), ('Carrena', 5), ('Carriebell', 5), ('Carrion', 5), ('Carrold', 5), ('Carterjames', 5), ('Cartisha', 5), ('Cartrina', 5), ('Caruso', 5), ('Carven', 5), ('Carveth', 5), ('Carya', 5), ('Casandr', 5), ('Casaya', 5), ('Casch', 5), ('Casea', 5), ('Caseylynn', 5), ('Cashana', 5), ('Cashmiere', 5), ('Cashtin', 5), ('Casimere', 5), ('Casina', 5), ('Casiyah', 5), ('Casmera', 5), ('Casmin', 5), ('Casonja', 5), ('Cassarah', 5), ('Cassina', 5), ('Casslyn', 5), ('Cassonia', 5), ('Castoria', 5), ('Castyn', 5), ('Cataleena', 5), ('Catalin', 5), ('Cataliya', 5), ('Catelynne', 5), ('Cathalia', 5), ('Cathlean', 5), ('Cathlina', 5), ('Cathylee', 5), ('Catilaya', 5), ('Catileya', 5), ('Catrease', 5), ('Catressa', 5), ('Catria', 5), ('Catrinna', 5), ('Cattalaya', 5), ('Cavari', 5), ('Cavett', 5), ('Cayleeann', 5), ('Cayler', 5), ('Cayra', 5), ('Caysey', 5), ('Cayslee', 5), ('Caytie', 5), ('Caytlen', 5), ('Cchristopher', 5), ('Cealie', 5), ('Ceandre', 5), ('Ceason', 5), ('Cebria', 5), ('Cecel', 5), ('Cederia', 5), ('Ceianna', 5), ('Ceila', 5), ('Ceinna', 5), ('Ceion', 5), ('Ceionna', 5), ('Celebrity', 5), ('Celenne', 5), ('Celess', 5), ('Celesse', 5), ('Celestie', 5), ('Celetha', 5), ('Celinez', 5), ('Celinna', 5), ('Celisha', 5), ('Cellus', 5), ('Celsi', 5), ('Cely', 5), ('Cemre', 5), ('Cemya', 5), ('Cendi', 5), ('Cengiz', 5), ('Cennedy', 5), ('Central', 5), ('Centwane', 5), ('Cerdic', 5), ('Cerisa', 5), ('Cerjio', 5), ('Cerri', 5), ('Cerrisa', 5), ('Cesidio', 5), ('Cesiley', 5), ('Cesira', 5), ('Cevanna', 5), ('Ceyana', 5), ('Ceyara', 5), ('Ceylan', 5), ('Ceyonce', 5), ('Chaaya', 5), ('Chabria', 5), ('Chada', 5), ('Chadlee', 5), ('Chadman', 5), ('Chadyeane', 5), ('Chaeden', 5), ('Chailynn', 5), ('Chain', 5), ('Chaislyn', 5), ('Chaisson', 5), ('Chaiya', 5), ('Chakela', 5), ('Chakelia', 5), ('Chakevia', 5), ('Chakeya', 5), ('Chalan', 5), ('Chalis', 5), ('Chalissa', 5), ('Chalisse', 5), ('Challise', 5), ('Chaly', 5), ('Chalynn', 5), ('Chamarion', 5), ('Chamarra', 5), ('Chamaya', 5), ('Chamelle', 5), ('Chamise', 5), ('Chamroeun', 5), ('Chandace', 5), ('Chandale', 5), ('Chande', 5), ('Chandee', 5), ('Chandris', 5), ('Chanelly', 5), ('Chanet', 5), ('Chanlee', 5), ('Channce', 5), ('Chanoa', 5), ('Chansler', 5), ('Chant', 5), ('Chantai', 5), ('Chantail', 5), ('Chantez', 5), ('Chanthy', 5), ('Chantiel', 5), ('Chantile', 5), ('Chantily', 5), ('Chantis', 5), ('Chantler', 5), ('Chanton', 5), ('Chantoria', 5), ('Chantrea', 5), ('Chanyce', 5), ('Chapelle', 5), ('Chaquanna', 5), ('Chaquilla', 5), ('Charaine', 5), ('Charanda', 5), ('Chard', 5), ('Chardarius', 5), ('Chardey', 5), ('Chare', 5), ('Charen', 5), ('Charetta', 5), ('Charette', 5), ('Charhonda', 5), ('Chariel', 5), ('Charies', 5), ('Chariese', 5), ('Charisha', 5), ('Charitha', 5), ('Charkita', 5), ('Charlae', 5), ('Charlain', 5), ('Charlay', 5), ('Charlcy', 5), ('Charleah', 5), ('Charlesedward', 5), ('Charlesjoseph', 5), ('Charlesten', 5), ('Charliemae', 5), ('Charlierae', 5), ('Charlisia', 5), ('Charlla', 5), ('Charloette', 5), ('Charlona', 5), ('Charlotterose', 5), ('Charlottle', 5), ('Charlsa', 5), ('Charlyee', 5), ('Charlynda', 5), ('Charlz', 5), ('Charmella', 5), ('Charmia', 5), ('Charmisa', 5), ('Charnaye', 5), ('Charnece', 5), ('Charneka', 5), ('Charneshia', 5), ('Charnesia', 5), ('Charolene', 5), ('Charolyn', 5), ('Charona', 5), ('Charotte', 5), ('Charry', 5), ('Charta', 5), ('Chartez', 5), ('Charvey', 5), ('Charvik', 5), ('Charvon', 5), ('Charylene', 5), ('Chasetin', 5), ('Chasia', 5), ('Chassi', 5), ('Chassica', 5), ('Chassidi', 5), ('Chassitty', 5), ('Chastan', 5), ('Chasteen', 5), ('Chastie', 5), ('Chastyn', 5), ('Chaswick', 5), ('Chat', 5), ('Chatal', 5), ('Chataqua', 5), ('Chatina', 5), ('Chatrice', 5), ('Chaunci', 5), ('Chauntrice', 5), ('Chaurice', 5), ('Chavah', 5), ('Chavas', 5), ('Chave', 5), ('Chavonte', 5), ('Chawna', 5), ('Chayane', 5), ('Chaydon', 5), ('Chaynee', 5), ('Chayzen', 5), ('Chazden', 5), ('Chazten', 5), ('Cheenue', 5), ('Cheerful', 5), ('Cheire', 5), ('Chejuana', 5), ('Chellsee', 5), ('Chelon', 5), ('Chelonda', 5), ('Chelsealynn', 5), ('Chelsen', 5), ('Chelyn', 5), ('Chemane', 5), ('Chenele', 5), ('Chennell', 5), ('Chenxi', 5), ('Chequetta', 5), ('Cheretta', 5), ('Cheriah', 5), ('Cheriann', 5), ('Cheridyn', 5), ('Cherill', 5), ('Cherles', 5), ('Cherlonda', 5), ('Cherrilynn', 5), ('Cherrisse', 5), ('Cherronda', 5), ('Cherryann', 5), ('Cheryla', 5), ('Cheryllynne', 5), ('Chesica', 5), ('Chethan', 5), ('Chew', 5), ('Cheyeene', 5), ('Cheylin', 5), ('Cheylyn', 5), ('Chezaray', 5), ('Chian', 5), ('Chiani', 5), ('Chiarra', 5), ('Chibuzor', 5), ('Chicora', 5), ('Chidalu', 5), ('Chidumebi', 5), ('Chiedu', 5), ('Chiemi', 5), ('Chien', 5), ('Chikamara', 5), ('Chilyn', 5), ('Chimaobim', 5), ('Chineme', 5), ('Chinesta', 5), ('Chinester', 5), ('Chineta', 5), ('Chineye', 5), ('Chinitta', 5), ('Chinomso', 5), ('Chintan', 5), ('Chiquia', 5), ('Chiquitha', 5), ('Chirelle', 5), ('Chiriga', 5), ('Chirles', 5), ('Chirley', 5), ('Chisara', 5), ('Chistie', 5), ('Chisty', 5), ('Chitina', 5), ('Chiyoka', 5), ('Chizitere', 5), ('Chizu', 5), ('Cholena', 5), ('Chontelle', 5), ('Chquita', 5), ('Chrisalynn', 5), ('Chrisanthe', 5), ('Chrisanthi', 5), ('Chrisaun', 5), ('Chrisel', 5), ('Chrishad', 5), ('Chrishaud', 5), ('Chrishaunda', 5), ('Chrishea', 5), ('Chrishiya', 5), ('Chrishna', 5), ('Chrishona', 5), ('Chrishya', 5), ('Chrisinda', 5), ('Chrisitne', 5), ('Chrisiyah', 5), ('Chrisly', 5), ('Christale', 5), ('Christasha', 5), ('Christer', 5), ('Christiam', 5), ('Christianalexan', 5), ('Christianjoshua', 5), ('Christianson', 5), ('Christielee', 5), ('Christineanne', 5), ('Christing', 5), ('Christopherdavi', 5), ('Christopherjr', 5), ('Christopherpaul', 5), ('Christylee', 5), ('Chrysoula', 5), ('Chrystalyn', 5), ('Chrysteen', 5), ('Chrystyan', 5), ('Chubasco', 5), ('Chubbie', 5), ('Chuefeng', 5), ('Chukwudubem', 5), ('Chuma', 5), ('Chuna', 5), ('Chunta', 5), ('Church', 5), ('Churchel', 5), ('Chyene', 5), ('Chyenna', 5), ('Chylynn', 5), ('Chynthia', 5), ('Ciah', 5), ('Cianah', 5), ('Cianie', 5), ('Ciboney', 5), ('Cidni', 5), ('Cidnie', 5), ('Cieana', 5), ('Ciley', 5), ('Cilton', 5), ('Cimara', 5), ('Cin', 5), ('Cind', 5), ('Cindell', 5), ('Cindya', 5), ('Cintra', 5), ('Ciprianna', 5), ('Ciree', 5), ('Cirino', 5), ('Cirra', 5), ('Cisely', 5), ('Cissie', 5), ('Citally', 5), ('Citialli', 5), ('Citori', 5), ('Civona', 5), ('Ciyah', 5), ('Ciyana', 5), ('Clabern', 5), ('Clae', 5), ('Clairann', 5), ('Clairece', 5), ('Clairemarie', 5), ('Clancie', 5), ('Clarah', 5), ('Claranell', 5), ('Clardy', 5), ('Clareese', 5), ('Clarencia', 5), ('Clarendon', 5), ('Claritha', 5), ('Claritsa', 5), ('Clarixa', 5), ('Clarys', 5), ('Claudea', 5), ('Claudya', 5), ('Clausell', 5), ('Claven', 5), ('Clavon', 5), ('Clawson', 5), ('Claymon', 5), ('Clayne', 5), ('Cleaburn', 5), ('Cleah', 5), ('Cleal', 5), ('Cleara', 5), ('Cleat', 5), ('Cleetus', 5), ('Clegg', 5), ('Clemet', 5), ('Clemintine', 5), ('Clen', 5), ('Cleofus', 5), ('Cleoma', 5), ('Cleonia', 5), ('Cleonte', 5), ('Cleopatria', 5), ('Cleothis', 5), ('Clero', 5), ('Cleste', 5), ('Cletys', 5), ('Clevia', 5), ('Clidie', 5), ('Clidy', 5), ('Cliftina', 5), ('Clinetta', 5), ('Clodean', 5), ('Cloetta', 5), ('Cloi', 5), ('Cloree', 5), ('Clorence', 5), ('Clorise', 5), ('Clotell', 5), ('Clotie', 5), ('Clotis', 5), ('Clouis', 5), ('Clu', 5), ('Cludia', 5), ('Clura', 5), ('Clydel', 5), ('Clynt', 5), ('Clytia', 5), ('Cmone', 5), ('Coalson', 5), ('Cobb', 5), ('Cobbie', 5), ('Codera', 5), ('Coderro', 5), ('Coella', 5), ('Cohutta', 5), ('Colanda', 5), ('Coldin', 5), ('Coledon', 5), ('Coleeta', 5), ('Coleon', 5), ('Coleone', 5), ('Colesha', 5), ('Colicia', 5), ('Colisa', 5), ('Collenn', 5), ('Collynn', 5), ('Colmon', 5), ('Colquitt', 5), ('Columbo', 5), ('Comesha', 5), ('Commer', 5), ('Common', 5), ('Conant', 5), ('Concheta', 5), ('Condace', 5), ('Conde', 5), ('Condie', 5), ('Condol', 5), ('Condoleezza', 5), ('Condredge', 5), ('Condy', 5), ('Conelia', 5), ('Conferina', 5), ('Congress', 5), ('Connal', 5), ('Connan', 5), ('Conney', 5), ('Connice', 5), ('Connis', 5), ('Connstance', 5), ('Conola', 5), ('Conred', 5), ('Constande', 5), ('Constandina', 5), ('Constandinos', 5), ('Constence', 5), ('Constina', 5), ('Content', 5), ('Continia', 5), ('Contrena', 5), ('Conzuelo', 5), ('Coraine', 5), ('Coralai', 5), ('Coralito', 5), ('Coralynne', 5), ('Coralys', 5), ('Corbi', 5), ('Corbon', 5), ('Cordaris', 5), ('Corddaryl', 5), ('Cordea', 5), ('Cordeja', 5), ('Corderall', 5), ('Corderial', 5), ('Corderick', 5), ('Corderious', 5), ('Cordes', 5), ('Cordeshia', 5), ('Coreene', 5), ('Corelle', 5), ('Corentin', 5), ('Coreyonna', 5), ('Coriah', 5), ('Corienne', 5), ('Corii', 5), ('Corman', 5), ('Cornealius', 5), ('Correan', 5), ('Corree', 5), ('Correena', 5), ('Corrice', 5), ('Corsandra', 5), ('Cortavia', 5), ('Cortell', 5), ('Corutney', 5), ('Corvina', 5), ('Corwynn', 5), ('Coryann', 5), ('Cosie', 5), ('Cotha', 5), ('Cotis', 5), ('Coulette', 5), ('Coulten', 5), ('Count', 5), ('Couri', 5), ('Courtnye', 5), ('Covie', 5), ('Covy', 5), ('Cowana', 5), ('Cozmo', 5), ('Crag', 5), ('Cragi', 5), ('Cramon', 5), ('Crane', 5), ('Crate', 5), ('Creedan', 5), ('Creel', 5), ('Creigh', 5), ('Creo', 5), ('Creolia', 5), ('Cresie', 5), ('Crettie', 5), ('Crisann', 5), ('Crisinda', 5), ('Crissangel', 5), ('Crisslyn', 5), ('Crisstopher', 5), ('Cristaly', 5), ('Cristalyn', 5), ('Cristeen', 5), ('Cristia', 5), ('Cristoffer', 5), ('Cristyle', 5), ('Cristyna', 5), ('Criztian', 5), ('Crmen', 5), ('Cromer', 5), ('Crossley', 5), ('Crosslyn', 5), ('Crstal', 5), ('Crystabel', 5), ('Crystalgayle', 5), ('Crystell', 5), ('Crystofer', 5), ('Crystyle', 5), ('Csilla', 5), ('Cuahtemoc', 5), ('Cubert', 5), ('Cubia', 5), ('Culleen', 5), ('Cullus', 5), ('Curl', 5), ('Currin', 5), ('Curron', 5), ('Curstyn', 5), ('Curteria', 5), ('Curtesha', 5), ('Curtney', 5), ('Cya', 5), ('Cyanthia', 5), ('Cydny', 5), ('Cyerah', 5), ('Cylvia', 5), ('Cymbre', 5), ('Cynii', 5), ('Cynthiaa', 5), ('Cynthiaann', 5), ('Cyntrell', 5), ('Cyrelle', 5), ('Cyriel', 5), ('Cyrita', 5), ('Cytlalli', 5), ('Cytnhia', 5), ('Daandre', 5), ('Dabin', 5), ('Dabrielle', 5), ('Dacee', 5), ('Dacio', 5), ('Dadne', 5), ('Dadra', 5), ('Dadrianna', 5), ('Daebreona', 5), ('Daeisha', 5), ('Daejaun', 5), ('Daejion', 5), ('Daekwan', 5), ('Daenna', 5), ('Daesy', 5), ('Dafni', 5), ('Dagger', 5), ('Dahianna', 5), ('Dahlin', 5), ('Dahlon', 5), ('Dahquan', 5), ('Daian', 5), ('Daianera', 5), ('Daiceon', 5), ('Daidra', 5), ('Daidre', 5), ('Daigon', 5), ('Daiguan', 5), ('Daijanay', 5), ('Daijaun', 5), ('Daijiah', 5), ('Daijohn', 5), ('Daijour', 5), ('Daikwon', 5), ('Daimond', 5), ('Dainan', 5), ('Dainna', 5), ('Dairel', 5), ('Dairen', 5), ('Daishae', 5), ('Daisymarie', 5), ('Daivid', 5), ('Daivyon', 5), ('Dajahn', 5), ('Dajahnay', 5), ('Dajavette', 5), ('Dajhia', 5), ('Dajoure', 5), ('Dajshia', 5), ('Dajuon', 5), ('Dajza', 5), ('Dakarion', 5), ('Dake', 5), ('Dakobe', 5), ('Dakotajames', 5), ('Daktari', 5), ('Dakuan', 5), ('Dakyah', 5), ('Dakyrah', 5), ('Dalai', 5), ('Dalainey', 5), ('Dalane', 5), ('Dalanee', 5), ('Dalany', 5), ('Dalasha', 5), ('Dalayjah', 5), ('Dalaylah', 5), ('Dalayshia', 5), ('Daleila', 5), ('Dalesa', 5), ('Daleshia', 5), ('Dalesia', 5), ('Dalevon', 5), ('Dalexia', 5), ('Daleysi', 5), ('Dalianna', 5), ('Dalibor', 5), ('Dalil', 5), ('Dalisia', 5), ('Daliyla', 5), ('Dallene', 5), ('Dallton', 5), ('Dalonna', 5), ('Dalonzo', 5), ('Daloris', 5), ('Dalshawn', 5), ('Dalva', 5), ('Damaiah', 5), ('Damaire', 5), ('Damal', 5), ('Damarae', 5), ('Damareion', 5), ('Damariye', 5), ('Damarlo', 5), ('Damarquez', 5), ('Damarrea', 5), ('Damarte', 5), ('Damase', 5), ('Dameika', 5), ('Damekia', 5), ('Damell', 5), ('Damera', 5), ('Dameta', 5), ('Dametre', 5), ('Dametrice', 5), ('Dametrious', 5), ('Damiam', 5), ('Damiani', 5), ('Damielle', 5), ('Damiene', 5), ('Damilare', 5), ('Damina', 5), ('Damionna', 5), ('Damirah', 5), ('Damishia', 5), ('Damiun', 5), ('Damonni', 5), ('Damonnie', 5), ('Damori', 5), ('Damus', 5), ('Damyrion', 5), ('Damyron', 5), ('Danaia', 5), ('Danaira', 5), ('Danaiyah', 5), ('Danald', 5), ('Danariah', 5), ('Danautica', 5), ('Danayia', 5), ('Danayjah', 5), ('Danazha', 5), ('Dancia', 5), ('Dandrell', 5), ('Dandrick', 5), ('Daneca', 5), ('Daneila', 5), ('Danera', 5), ('Danery', 5), ('Daneyah', 5), ('Daneysha', 5), ('Dangkhoa', 5), ('Daniana', 5), ('Daniaya', 5), ('Danield', 5), ('Danielee', 5), ('Danielia', 5), ('Danielson', 5), ('Daniette', 5), ('Danilla', 5), ('Danion', 5), ('Daniza', 5), ('Danja', 5), ('Danka', 5), ('Danl', 5), ('Dannalyn', 5), ('Dannay', 5), ('Dannea', 5), ('Dannee', 5), ('Dannen', 5), ('Dannicka', 5), ('Dannilyn', 5), ('Dannylynn', 5), ('Dantee', 5), ('Dantel', 5), ('Danterrius', 5), ('Dantley', 5), ('Danual', 5), ('Danyae', 5), ('Danyea', 5), ('Danykah', 5), ('Danyll', 5), ('Danziel', 5), ('Daquanda', 5), ('Daquavius', 5), ('Daquel', 5), ('Daquian', 5), ('Daquinn', 5), ('Daqwane', 5), ('Darbee', 5), ('Darco', 5), ('Darea', 5), ('Dareece', 5), ('Dareese', 5), ('Dareian', 5), ('Dareona', 5), ('Darese', 5), ('Daretha', 5), ('Darhl', 5), ('Dariean', 5), ('Dariely', 5), ('Darionne', 5), ('Darique', 5), ('Darisley', 5), ('Dariyelle', 5), ('Darlaine', 5), ('Darleena', 5), ('Darleni', 5), ('Darlenis', 5), ('Darleta', 5), ('Darleth', 5), ('Darlie', 5), ('Darlien', 5), ('Darlita', 5), ('Darlow', 5), ('Darlyene', 5), ('Darlynda', 5), ('Darlynne', 5), ('Darmarcus', 5), ('Darnaja', 5), ('Darnee', 5), ('Darnese', 5), ('Darney', 5), ('Darnley', 5), ('Darone', 5), ('Daronta', 5), ('Darquisha', 5), ('Darries', 5), ('Darrione', 5), ('Darro', 5), ('Darshea', 5), ('Darshelle', 5), ('Darshi', 5), ('Darson', 5), ('Dartez', 5), ('Dartisha', 5), ('Darvens', 5), ('Darwing', 5), ('Darwood', 5), ('Darwuin', 5), ('Daryann', 5), ('Darynne', 5), ('Darzell', 5), ('Dasai', 5), ('Dasanii', 5), ('Dascha', 5), ('Dashaan', 5), ('Dashall', 5), ('Dashari', 5), ('Dasharia', 5), ('Dasheika', 5), ('Dashiah', 5), ('Dashima', 5), ('Dashna', 5), ('Dashonte', 5), ('Dashown', 5), ('Dashyra', 5), ('Dasjia', 5), ('Dastyn', 5), ('Datari', 5), ('Datavian', 5), ('Datavius', 5), ('Datia', 5), ('Datid', 5), ('Datreon', 5), ('Datrice', 5), ('Daughn', 5), ('Daundra', 5), ('Daunta', 5), ('Dauntay', 5), ('Dauri', 5), ('Dav', 5), ('Davada', 5), ('Davahn', 5), ('Davaney', 5), ('Davani', 5), ('Davantay', 5), ('Davares', 5), ('Davarous', 5), ('Davarrio', 5), ('Davarus', 5), ('Davasha', 5), ('Davaunte', 5), ('Davens', 5), ('Daveonna', 5), ('Daviaun', 5), ('Davidallen', 5), ('Davidjeremiah', 5), ('Davidjoseph', 5), ('Davidpaul', 5), ('Davindra', 5), ('Daviyana', 5), ('Davlyn', 5), ('Davod', 5), ('Davontea', 5), ('Davuan', 5), ('Davyeon', 5), ('Dawann', 5), ('Dawm', 5), ('Dawndee', 5), ('Dawndi', 5), ('Dawndria', 5), ('Dawneisha', 5), ('Dawnett', 5), ('Dawnica', 5), ('Dawnta', 5), ('Daxyn', 5), ('Dayamir', 5), ('Dayamit', 5), ('Dayanie', 5), ('Dayesha', 5), ('Daygoro', 5), ('Dayiana', 5), ('Dayion', 5), ('Dayland', 5), ('Daylanie', 5), ('Dayline', 5), ('Dayo', 5), ('Dayonte', 5), ('Dayqwan', 5), ('Dayri', 5), ('Daysan', 5), ('Dayshana', 5), ('Dayshanay', 5), ('Dayva', 5), ('Dayvanee', 5), ('Dayveion', 5), ('Dayvonna', 5), ('Dayvonne', 5), ('Dazavion', 5), ('Dazhan', 5), ('Dazmond', 5), ('Dcarlo', 5), ('Deajon', 5), ('Deal', 5), ('Deaneen', 5), ('Deanesha', 5), ('Deanjelo', 5), ('Deannea', 5), ('Deannette', 5), ('Deantony', 5), ('Deantwon', 5), ('Deareon', 5), ('Deariah', 5), ('Dearious', 5), ('Dearmond', 5), ('Deasja', 5), ('Deatta', 5), ('Deautre', 5), ('Deavante', 5), ('Deavyn', 5), ('Debarh', 5), ('Debbee', 5), ('Debbey', 5), ('Debor', 5), ('Deboraah', 5), ('Deboral', 5), ('Debralyn', 5), ('Debraoh', 5), ('Debrea', 5), ('Debrha', 5), ('Debrisha', 5), ('Debroa', 5), ('Debrra', 5), ('Decara', 5), ('Decca', 5), ('Dechanel', 5), ('Dechaun', 5), ('Decody', 5), ('Decole', 5), ('Deda', 5), ('Dedrah', 5), ('Dedrek', 5), ('Dedriana', 5), ('Deeandre', 5), ('Deeda', 5), ('Deeken', 5), ('Deekshitha', 5), ('Deelilah', 5), ('Deella', 5), ('Deelynn', 5), ('Deepesh', 5), ('Deeqa', 5), ('Deera', 5), ('Deeva', 5), ('Degen', 5), ('Deiah', 5), ('Deiara', 5), ('Deiby', 5), ('Deidri', 5), ('Deilani', 5), ('Deimy', 5), ('Dein', 5), ('Deirore', 5), ('Deisree', 5), ('Deiveon', 5), ('Dejaa', 5), ('Dejahnique', 5), ('Dejanaye', 5), ('Dejaneira', 5), ('Dejania', 5), ('Dejavion', 5), ('Dejhana', 5), ('Dejhanae', 5), ('Dejontae', 5), ('Dejun', 5), ('Dekanye', 5), ('Dekendra', 5), ('Deking', 5), ('Dekita', 5), ('Dekorion', 5), ('Dekoven', 5), ('Delainah', 5), ('Delandre', 5), ('Delanea', 5), ('Delanei', 5), ('Delanne', 5), ('Delanta', 5), ('Delantae', 5), ('Delanya', 5), ('Delasha', 5), ('Delaun', 5), ('Delauren', 5), ('Delavan', 5), ('Delavina', 5), ('Delaya', 5), ('Delaysha', 5), ('Delba', 5), ('Delborah', 5), ('Delbreco', 5), ('Delcan', 5), ('Deldon', 5), ('Delea', 5), ('Deleatrice', 5), ('Delenia', 5), ('Delenna', 5), ('Deleno', 5), ('Delephine', 5), ('Deletta', 5), ('Delexis', 5), ('Delianna', 5), ('Deliany', 5), ('Delianys', 5), ('Delilahrose', 5), ('Delissia', 5), ('Dellan', 5), ('Dellana', 5), ('Dellanie', 5), ('Delmonta', 5), ('Delmor', 5), ('Deloice', 5), ('Delondo', 5), ('Deloni', 5), ('Delonia', 5), ('Delorce', 5), ('Delouris', 5), ('Delsean', 5), ('Delsen', 5), ('Delsha', 5), ('Deltrick', 5), ('Delwayne', 5), ('Dely', 5), ('Delya', 5), ('Delysa', 5), ('Demandre', 5), ('Demanuel', 5), ('Demarean', 5), ('Demariana', 5), ('Demariea', 5), ('Demariona', 5), ('Demarkio', 5), ('Demaro', 5), ('Demarque', 5), ('Demarreon', 5), ('Demartez', 5), ('Demas', 5), ('Demaurea', 5), ('Demaurio', 5), ('Demeatra', 5), ('Demeatrius', 5), ('Demedrick', 5), ('Demeree', 5), ('Demeris', 5), ('Demerrick', 5), ('Demeter', 5), ('Demetia', 5), ('Demetras', 5), ('Demetrial', 5), ('Demetrianna', 5), ('Demetrices', 5), ('Demetricia', 5), ('Demetrish', 5), ('Demicah', 5), ('Demid', 5), ('Demier', 5), ('Deming', 5), ('Demiracle', 5), ('Demitrio', 5), ('Demmie', 5), ('Demonde', 5), ('Demonei', 5), ('Demontreal', 5), ('Demoris', 5), ('Demos', 5), ('Demus', 5), ('Denaiya', 5), ('Denalia', 5), ('Denarrius', 5), ('Denautica', 5), ('Deneco', 5), ('Deneem', 5), ('Deneesha', 5), ('Deneishia', 5), ('Denena', 5), ('Denes', 5), ('Denetia', 5), ('Denetris', 5), ('Deneva', 5), ('Denicka', 5), ('Deniecia', 5), ('Deniella', 5), ('Denilzon', 5), ('Denin', 5), ('Denitta', 5), ('Denmark', 5), ('Dennae', 5), ('Denne', 5), ('Dennese', 5), ('Dennishia', 5), ('Denoris', 5), ('Denyah', 5), ('Denzyl', 5), ('Deonda', 5), ('Deonie', 5), ('Deonnie', 5), ('Deontia', 5), ('Deovian', 5), ('Deqa', 5), ('Dequanda', 5), ('Dequantez', 5), ('Dequasha', 5), ('Dequaveon', 5), ('Dequay', 5), ('Dequilla', 5), ('Dequone', 5), ('Deralyn', 5), ('Derean', 5), ('Dereginald', 5), ('Deremy', 5), ('Derique', 5), ('Derlis', 5), ('Dermarr', 5), ('Dero', 5), ('Deroderick', 5), ('Deroe', 5), ('Deronna', 5), ('Derquan', 5), ('Derriah', 5), ('Derrice', 5), ('Derrione', 5), ('Derryon', 5), ('Deryon', 5), ('Desales', 5), ('Desandra', 5), ('Desara', 5), ('Desari', 5), ('Deseria', 5), ('Deshaila', 5), ('Deshanon', 5), ('Deshaunte', 5), ('Deshawndre', 5), ('Deshaya', 5), ('Desheena', 5), ('Deshion', 5), ('Deshonia', 5), ('Deshuna', 5), ('Desinae', 5), ('Desitny', 5), ('Desjon', 5), ('Despena', 5), ('Desriee', 5), ('Destainy', 5), ('Destiany', 5), ('Destinique', 5), ('Destinnie', 5), ('Destinyann', 5), ('Desuan', 5), ('Deterrio', 5), ('Detisha', 5), ('Detrez', 5), ('Detri', 5), ('Detrica', 5), ('Dettrick', 5), ('Deundria', 5), ('Devanae', 5), ('Devance', 5), ('Devanhi', 5), ('Devannie', 5), ('Devanti', 5), ('Devaugh', 5), ('Devayah', 5), ('Devel', 5), ('Deveni', 5), ('Deverie', 5), ('Deverly', 5), ('Deveshi', 5), ('Deveta', 5), ('Devinlee', 5), ('Deviontae', 5), ('Devito', 5), ('Deviyon', 5), ('Devn', 5), ('Devonae', 5), ('Devoni', 5), ('Devonnte', 5), ('Devontavius', 5), ('Devontra', 5), ('Devontrae', 5), ('Devontrey', 5), ('Devunte', 5), ('Devven', 5), ('Dewetta', 5), ('Dewi', 5), ('Dewit', 5), ('Dewyne', 5), ('Dextyn', 5), ('Deyannah', 5), ('Deyante', 5), ('Deymi', 5), ('Deymian', 5), ('Deyonne', 5), ('Deyvin', 5), ('Dezani', 5), ('Dezavion', 5), ('Dezden', 5), ('Dezere', 5), ('Dezhan', 5), ('Dezhaun', 5), ('Dezmand', 5), ('Deztany', 5), ('Deztiney', 5), ('Dezzarae', 5), ('Dhakirah', 5), ('Dhamani', 5), ('Dhananjay', 5), ('Dhanna', 5), ('Dharshini', 5), ('Dhati', 5), ('Dheera', 5), ('Dhiago', 5), ('Diablo', 5), ('Diamoni', 5), ('Diamonta', 5), ('Dianalee', 5), ('Dianalys', 5), ('Dianamarie', 5), ('Dianeli', 5), ('Dianet', 5), ('Dianita', 5), ('Dianni', 5), ('Dianthia', 5), ('Diaquan', 5), ('Diaundra', 5), ('Dicki', 5), ('Didra', 5), ('Dieatra', 5), ('Dienne', 5), ('Dieudonne', 5), ('Dilann', 5), ('Dilany', 5), ('Dilek', 5), ('Dill', 5), ('Dillonger', 5), ('Dilver', 5), ('Dilworth', 5), ('Dimarion', 5), ('Dimia', 5), ('Diminic', 5), ('Dindi', 5), ('Dinean', 5), ('Dinise', 5), ('Dinnah', 5), ('Dinneen', 5), ('Dinos', 5), ('Diny', 5), ('Dionah', 5), ('Dionn', 5), ('Dionnah', 5), ('Diontaye', 5), ('Diontray', 5), ('Dioseline', 5), ('Dipak', 5), ('Diquon', 5), ('Diran', 5), ('Dishaun', 5), ('Disheka', 5), ('Distin', 5), ('Divan', 5), ('Diven', 5), ('Diviana', 5), ('Divid', 5), ('Divij', 5), ('Divin', 5), ('Divontae', 5), ('Divyam', 5), ('Dixy', 5), ('Diyanna', 5), ('Diyon', 5), ('Diyonna', 5), ('Djamila', 5), ('Djanae', 5), ('Djavon', 5), ('Djene', 5), ('Dkaiden', 5), ('Dkota', 5), ('Dlana', 5), ('Dlayna', 5), ('Dlinda', 5), ('Dmar', 5), ('Dmareon', 5), ('Dmarian', 5), ('Dmarko', 5), ('Dmarquis', 5), ('Dmaurion', 5), ('Dmir', 5), ('Dmiracle', 5), ('Dmitris', 5), ('Dneisha', 5), ('Dnesha', 5), ('Dniah', 5), ('Dnielle', 5), ('Dnyia', 5), ('Do', 5), ('Dobby', 5), ('Dokken', 5), ('Dolene', 5), ('Dolleen', 5), ('Dolley', 5), ('Dolli', 5), ('Doloria', 5), ('Dolorosa', 5), ('Dolorous', 5), ('Dolphis', 5), ('Dolres', 5), ('Domari', 5), ('Domian', 5), ('Domica', 5), ('Dominant', 5), ('Dominee', 5), ('Dominicka', 5), ('Dominio', 5), ('Dominoe', 5), ('Dommonique', 5), ('Domoni', 5), ('Domonque', 5), ('Domunique', 5), ('Domynick', 5), ('Donagene', 5), ('Donail', 5), ('Donajean', 5), ('Donall', 5), ('Donalynn', 5), ('Donamarie', 5), ('Donashia', 5), ('Dondie', 5), ('Dondrey', 5), ('Doneld', 5), ('Donelia', 5), ('Doniell', 5), ('Donivee', 5), ('Donjanae', 5), ('Donlad', 5), ('Donminique', 5), ('Donnas', 5), ('Donner', 5), ('Donneta', 5), ('Donnye', 5), ('Donoban', 5), ('Donquavious', 5), ('Dontajah', 5), ('Dontarrius', 5), ('Dontavias', 5), ('Dontaysha', 5), ('Dontevion', 5), ('Dontrea', 5), ('Donyai', 5), ('Dooley', 5), ('Dorae', 5), ('Doraline', 5), ('Doraliz', 5), ('Doranda', 5), ('Dorane', 5), ('Doray', 5), ('Dorel', 5), ('Dorica', 5), ('Dorielle', 5), ('Doriene', 5), ('Dorilla', 5), ('Dorithy', 5), ('Dorlean', 5), ('Dorlee', 5), ('Dormalee', 5), ('Doro', 5), ('Dorothene', 5), ('Dorpha', 5), ('Dorra', 5), ('Dorrel', 5), ('Dorretta', 5), ('Dorron', 5), ('Dorsha', 5), ('Dorsi', 5), ('Dorth', 5), ('Douaa', 5), ('Dougal', 5), ('Douglus', 5), ('Dowe', 5), ('Dowl', 5), ('Dozie', 5), ('Dquarious', 5), ('Dquavion', 5), ('Dragen', 5), ('Draike', 5), ('Drapper', 5), ('Draquan', 5), ('Dravid', 5), ('Dravion', 5), ('Draylee', 5), ('Dreauna', 5), ('Dreighton', 5), ('Dreion', 5), ('Drelen', 5), ('Dremon', 5), ('Dremond', 5), ('Dreniyah', 5), ('Drennen', 5), ('Drennon', 5), ('Dresdyn', 5), ('Dresha', 5), ('Dretha', 5), ('Drevian', 5), ('Dreylin', 5), ('Dreyten', 5), ('Dreyven', 5), ('Dreyvin', 5), ('Driscilla', 5), ('Driscoll', 5), ('Dritan', 5), ('Driyah', 5), ('Druce', 5), ('Druey', 5), ('Drusie', 5), ('Dshae', 5), ('Dshayla', 5), ('Dshun', 5), ('Dublyn', 5), ('Ducati', 5), ('Duice', 5), ('Duie', 5), ('Dujon', 5), ('Dukens', 5), ('Dulan', 5), ('Dulio', 5), ('Dulton', 5), ('Dumaka', 5), ('Dundre', 5), ('Duniya', 5), ('Dunk', 5), ('Dunn', 5), ('Dunstan', 5), ('Duntae', 5), ('Durango', 5), ('Durbin', 5), ('Durie', 5), ('Duriyah', 5), ('Durland', 5), ('Durlene', 5), ('Durva', 5), ('Durville', 5), ('Dushane', 5), ('Dusharme', 5), ('Dusin', 5), ('Duskin', 5), ('Dustinjames', 5), ('Dustion', 5), ('Dut', 5), ('Duveen', 5), ('Dwaina', 5), ('Dwania', 5), ('Dwen', 5), ('Dwyer', 5), ('Dwyn', 5), ('Dyanira', 5), ('Dyisha', 5), ('Dykeria', 5), ('Dylane', 5), ('Dylanjacob', 5), ('Dylanthomas', 5), ('Dylenn', 5), ('Dyllian', 5), ('Dynalee', 5), ('Dynasha', 5), ('Dynesti', 5), ('Dynita', 5), ('Dyondre', 5), ('Dyontae', 5), ('Dysan', 5), ('Dysean', 5), ('Dystini', 5), ('Dyuti', 5), ('Dyvion', 5), ('Dyvonne', 5), ('Dzejla', 5), ('Dzeneta', 5), ('Dzenita', 5), ('Dziah', 5), ('Dzya', 5), ('Eadyn', 5), ('Eaen', 5), ('Ealon', 5), ('Eardie', 5), ('Earin', 5), ('Earldene', 5), ('Earleene', 5), ('Earlesha', 5), ('Earlisa', 5), ('Earman', 5), ('Earmel', 5), ('Earn', 5), ('Earnestean', 5), ('Earsell', 5), ('Earsley', 5), ('Earthel', 5), ('Earthy', 5), ('Earven', 5), ('Earvie', 5), ('Eary', 5), ('Eashaan', 5), ('Eb', 5), ('Ebaad', 5), ('Ebaristo', 5), ('Ebbe', 5), ('Ebben', 5), ('Ebbin', 5), ('Ebe', 5), ('Ebna', 5), ('Ebrahima', 5), ('Ebward', 5), ('Ecequiel', 5), ('Echol', 5), ('Edalia', 5), ('Edawrd', 5), ('Eddica', 5), ('Eddyson', 5), ('Eddythe', 5), ('Edenrose', 5), ('Ederick', 5), ('Edgareduardo', 5), ('Edgbert', 5), ('Edica', 5), ('Edice', 5), ('Edier', 5), ('Edika', 5), ('Edir', 5), ('Edisha', 5), ('Edlynn', 5), ('Edmay', 5), ('Edmere', 5), ('Edmona', 5), ('Edmondo', 5), ('Edmont', 5), ('Edmound', 5), ('Edney', 5), ('Edony', 5), ('Edroy', 5), ('Edsson', 5), ('Eduan', 5), ('Eduvigen', 5), ('Eduvijes', 5), ('Edvard', 5), ('Edwa', 5), ('Edwardd', 5), ('Edweina', 5), ('Edwell', 5), ('Edwind', 5), ('Edwon', 5), ('Edwood', 5), ('Edyce', 5), ('Edzon', 5), ('Eelijah', 5), ('Eeliyah', 5), ('Effren', 5), ('Efrian', 5), ('Efthymia', 5), ('Egina', 5), ('Ehlijah', 5), ('Ehud', 5), ('Ehvan', 5), ('Eidel', 5), ('Eijah', 5), ('Eilijah', 5), ('Eilise', 5), ('Eillie', 5), ('Eilon', 5), ('Eimear', 5), ('Eimly', 5), ('Einard', 5), ('Einav', 5), ('Einstein', 5), ('Eireen', 5), ('Eirian', 5), ('Eisenhower', 5), ('Eithne', 5), ('Eiva', 5), ('Eiven', 5), ('Eiyanna', 5), ('Ekambir', 5), ('Ekamjit', 5), ('Eko', 5), ('Ekow', 5), ('Elaheh', 5), ('Elahna', 5), ('Elaida', 5), ('Elaiya', 5), ('Elander', 5), ('Elanny', 5), ('Elanur', 5), ('Elayiah', 5), ('Elayla', 5), ('Elazia', 5), ('Elbis', 5), ('Elbonie', 5), ('Elcid', 5), ('Elcy', 5), ('Eldad', 5), ('Eldamae', 5), ('Elderine', 5), ('Eldion', 5), ('Eldrich', 5), ('Ele', 5), ('Eleanar', 5), ('Eleane', 5), ('Eleasa', 5), ('Eleasah', 5), ('Eleck', 5), ('Elecktra', 5), ('Eleecia', 5), ('Eleigh', 5), ('Eleigha', 5), ('Eles', 5), ('Elexes', 5), ('Elexi', 5), ('Eleya', 5), ('Eleyana', 5), ('Elfago', 5), ('Elfred', 5), ('Elgina', 5), ('Elhana', 5), ('Elianagrace', 5), ('Eliandra', 5), ('Eliara', 5), ('Eliase', 5), ('Eliasib', 5), ('Eliborio', 5), ('Eliciana', 5), ('Elidet', 5), ('Elieana', 5), ('Eliger', 5), ('Elijahray', 5), ('Elijawon', 5), ('Elijay', 5), ('Elijhah', 5), ('Elikai', 5), ('Elikem', 5), ('Elinar', 5), ('Eliose', 5), ('Elioth', 5), ('Elisabeta', 5), ('Elisabethe', 5), ('Elisbeth', 5), ('Elisei', 5), ('Elisianna', 5), ('Elisjah', 5), ('Elissar', 5), ('Elissha', 5), ('Elisya', 5), ('Elithia', 5), ('Eliverto', 5), ('Elixander', 5), ('Elixis', 5), ('Eliyahna', 5), ('Elizaberh', 5), ('Elizabetha', 5), ('Elizabethgrace', 5), ('Elizabith', 5), ('Elizajane', 5), ('Elizander', 5), ('Elkins', 5), ('Elladean', 5), ('Ellajo', 5), ('Ellamaria', 5), ('Ellanah', 5), ('Ellarine', 5), ('Ellasandra', 5), ('Ellasia', 5), ('Ellasophia', 5), ('Ellawease', 5), ('Ellayah', 5), ('Elleanora', 5), ('Ellease', 5), ('Ellece', 5), ('Elleny', 5), ('Elleora', 5), ('Elles', 5), ('Ellesha', 5), ('Ellette', 5), ('Elliena', 5), ('Elliora', 5), ('Elliyanna', 5), ('Elloween', 5), ('Ellycia', 5), ('Ellymae', 5), ('Ellynn', 5), ('Ellyot', 5), ('Ellyza', 5), ('Elmae', 5), ('Elmen', 5), ('Elnara', 5), ('Elneda', 5), ('Elno', 5), ('Eloida', 5), ('Elosie', 5), ('Elowese', 5), ('Elphie', 5), ('Elreta', 5), ('Elroi', 5), ('Elron', 5), ('Elsabeth', 5), ('Elua', 5), ('Elviria', 5), ('Elyahna', 5), ('Elyda', 5), ('Elyijah', 5), ('Elynna', 5), ('Elysian', 5), ('Elyus', 5), ('Elyze', 5), ('Elzenia', 5), ('Elzira', 5), ('Emagin', 5), ('Emaje', 5), ('Emalei', 5), ('Emalena', 5), ('Emaliya', 5), ('Emane', 5), ('Emareon', 5), ('Emarii', 5), ('Emayah', 5), ('Emeilia', 5), ('Emelye', 5), ('Emem', 5), ('Emeralda', 5), ('Emeria', 5), ('Emerich', 5), ('Emeris', 5), ('Emeryk', 5), ('Emier', 5), ('Emiliann', 5), ('Emiliee', 5), ('Emille', 5), ('Emilyjane', 5), ('Emilymae', 5), ('Emilyna', 5), ('Emirra', 5), ('Emiry', 5), ('Emitte', 5), ('Emmabella', 5), ('Emmabeth', 5), ('Emmadell', 5), ('Emmanel', 5), ('Emmaneul', 5), ('Emmanul', 5), ('Emmasue', 5), ('Emmelee', 5), ('Emmelene', 5), ('Emmeric', 5), ('Emmey', 5), ('Emmiliano', 5), ('Emmilie', 5), ('Emmilou', 5), ('Emmon', 5), ('Emmorie', 5), ('Emmye', 5), ('Emogine', 5), ('Emolene', 5), ('Emora', 5), ('Emperess', 5), ('Emroy', 5), ('Emryck', 5), ('Emyri', 5), ('Emyrie', 5), ('Emytt', 5), ('Emzley', 5), ('Enaja', 5), ('Enari', 5), ('Enaysia', 5), ('Endra', 5), ('Endrew', 5), ('Endyah', 5), ('Endyia', 5), ('Ener', 5), ('Enesa', 5), ('Enesha', 5), ('Enette', 5), ('Engelberto', 5), ('Enika', 5), ('Enissa', 5), ('Eniylah', 5), ('Ennette', 5), ('Enoe', 5), ('Enrick', 5), ('Enriquetta', 5), ('Enrriqueta', 5), ('Ensign', 5), ('Ensleigh', 5), ('Enyssa', 5), ('Enzie', 5), ('Eolia', 5), ('Eph', 5), ('Ephron', 5), ('Epolito', 5), ('Equasha', 5), ('Equasia', 5), ('Eraine', 5), ('Eralia', 5), ('Erblin', 5), ('Erdell', 5), ('Ereca', 5), ('Ereline', 5), ('Erenst', 5), ('Eresmia', 5), ('Erhan', 5), ('Eriani', 5), ('Eriann', 5), ('Eriannah', 5), ('Ericamarie', 5), ('Ericanicole', 5), ('Ericanthony', 5), ('Ericdaniel', 5), ('Ericjames', 5), ('Erickia', 5), ('Eridani', 5), ('Erien', 5), ('Erieonna', 5), ('Erihanna', 5), ('Erim', 5), ('Erinisha', 5), ('Erionne', 5), ('Erison', 5), ('Eritrea', 5), ('Erivan', 5), ('Erkan', 5), ('Erlan', 5), ('Erlys', 5), ('Ermalea', 5), ('Ermenia', 5), ('Ermia', 5), ('Ermma', 5), ('Ermond', 5), ('Ernal', 5), ('Ernestor', 5), ('Erniest', 5), ('Erno', 5), ('Erris', 5), ('Errold', 5), ('Ertie', 5), ('Ervena', 5), ('Ervy', 5), ('Erwan', 5), ('Esaie', 5), ('Esain', 5), ('Esat', 5), ('Eschelle', 5), ('Esekiel', 5), ('Esenia', 5), ('Esey', 5), ('Eshawna', 5), ('Eshell', 5), ('Eshter', 5), ('Eslem', 5), ('Esmeraida', 5), ('Esohe', 5), ('Essined', 5), ('Essix', 5), ('Essye', 5), ('Estaleen', 5), ('Estarlin', 5), ('Estavon', 5), ('Estefanya', 5), ('Esteline', 5), ('Estellise', 5), ('Esteysi', 5), ('Estis', 5), ('Estivalis', 5), ('Estrada', 5), ('Esven', 5), ('Eszter', 5), ('Eta', 5), ('Etalo', 5), ('Etash', 5), ('Etelka', 5), ('Eternal', 5), ('Ethaen', 5), ('Ethaneal', 5), ('Ethanjay', 5), ('Etheldra', 5), ('Etheldreda', 5), ('Ethellee', 5), ('Ethelmay', 5), ('Ethil', 5), ('Ethny', 5), ('Ethredge', 5), ('Ethynn', 5), ('Etinosa', 5), ('Etnie', 5), ('Etonya', 5), ('Etsub', 5), ('Etsuo', 5), ('Ettalyn', 5), ('Euba', 5), ('Eudella', 5), ('Eudena', 5), ('Eudice', 5), ('Eudy', 5), ('Eufaula', 5), ('Eufrasia', 5), ('Euginia', 5), ('Eugne', 5), ('Eugonda', 5), ('Euguene', 5), ('Eulema', 5), ('Eulina', 5), ('Eulinda', 5), ('Eunji', 5), ('Euphemie', 5), ('Euradell', 5), ('Eurania', 5), ('Eurasia', 5), ('Euree', 5), ('Eureeka', 5), ('Eurel', 5), ('Euricka', 5), ('Euriel', 5), ('Eustis', 5), ('Evada', 5), ('Evaeh', 5), ('Evaine', 5), ('Evajo', 5), ('Evalean', 5), ('Evalen', 5), ('Evalia', 5), ('Evalisa', 5), ('Evangalene', 5), ('Evangelena', 5), ('Evangelita', 5), ('Evangely', 5), ('Evanjames', 5), ('Evannah', 5), ('Evanni', 5), ('Evanyelin', 5), ('Evar', 5), ('Evdoxia', 5), ('Eveana', 5), ('Evelee', 5), ('Evelinn', 5), ('Evelyon', 5), ('Evennie', 5), ('Evera', 5), ('Everee', 5), ('Everlei', 5), ('Everlener', 5), ('Everrette', 5), ('Eversyn', 5), ('Eveyln', 5), ('Evila', 5), ('Evilin', 5), ('Evilo', 5), ('Evilynn', 5), ('Evionna', 5), ('Evleyn', 5), ('Evonn', 5), ('Evontae', 5), ('Evorn', 5), ('Evra', 5), ('Evran', 5), ('Evyan', 5), ('Evyana', 5), ('Evylene', 5), ('Ewalt', 5), ('Ewanda', 5), ('Exar', 5), ('Exel', 5), ('Exzander', 5), ('Eydi', 5), ('Eygpt', 5), ('Eyra', 5), ('Eyram', 5), ('Eythen', 5), ('Eyvan', 5), ('Eyvin', 5), ('Ezabel', 5), ('Ezael', 5), ('Ezayah', 5), ('Ezekeal', 5), ('Ezekyel', 5), ('Ezequil', 5), ('Ezera', 5), ('Eziquel', 5), ('Eziquiel', 5), ('Eziquio', 5), ('Eziya', 5), ('Eziyah', 5), ('Ezlynn', 5), ('Ezquiel', 5), ('Fabiene', 5), ('Fabriana', 5), ('Fada', 5), ('Fadeelah', 5), ('Fahm', 5), ('Fairyn', 5), ('Faizal', 5), ('Faleisha', 5), ('Fallie', 5), ('Falynne', 5), ('Faneisha', 5), ('Fanna', 5), ('Fannette', 5), ('Fanon', 5), ('Fantaisa', 5), ('Fantaysia', 5), ('Fardosa', 5), ('Farica', 5), ('Farice', 5), ('Fariz', 5), ('Farrow', 5), ('Farrukh', 5), ('Farshid', 5), ('Faryl', 5), ('Farynn', 5), ('Farzin', 5), ('Fatai', 5), ('Fateemah', 5), ('Fathma', 5), ('Fatimat', 5), ('Fatmire', 5), ('Fattima', 5), ('Fatumo', 5), ('Faune', 5), ('Fauniel', 5), ('Fawkes', 5), ('Fawnna', 5), ('Fawzan', 5), ('Fayaz', 5), ('Faydean', 5), ('Fayerene', 5), ('Fayleen', 5), ('Febie', 5), ('Feda', 5), ('Fedel', 5), ('Fedelia', 5), ('Felecie', 5), ('Feleisha', 5), ('Felinda', 5), ('Felipita', 5), ('Felissia', 5), ('Felizardo', 5), ('Fellicia', 5), ('Fellipe', 5), ('Felty', 5), ('Felyx', 5), ('Femke', 5), ('Fenley', 5), ('Fennell', 5), ('Feodor', 5), ('Feodora', 5), ('Ferdinan', 5), ('Ferdynand', 5), ('Ferid', 5), ('Feride', 5), ('Fermen', 5), ('Fernandeo', 5), ('Fernley', 5), ('Ferra', 5), ('Ferrante', 5), ('Ferras', 5), ('Ferren', 5), ('Ferril', 5), ('Fess', 5), ('Fester', 5), ('Fetina', 5), ('Feyisayo', 5), ('Feysal', 5), ('Fhernando', 5), ('Fibbie', 5), ('Fidella', 5), ('Fiifi', 5), ('Fili', 5), ('Filicity', 5), ('Filipa', 5), ('Filisha', 5), ('Filiz', 5), ('Filomina', 5), ('Finbarr', 5), ('Finessa', 5), ('Finlea', 5), ('Finnlay', 5), ('Fiorenza', 5), ('Firdous', 5), ('Firyal', 5), ('Fjolla', 5), ('Flame', 5), ('Flarrie', 5), ('Flava', 5), ('Flechia', 5), ('Flemmie', 5), ('Flerida', 5), ('Flicia', 5), ('Flip', 5), ('Flodie', 5), ('Floie', 5), ('Floraida', 5), ('Flordemaria', 5), ('Floribel', 5), ('Floriberto', 5), ('Florio', 5), ('Florisa', 5), ('Florisel', 5), ('Florrine', 5), ('Flosie', 5), ('Floya', 5), ('Floydell', 5), ('Foister', 5), ('Folia', 5), ('Folke', 5), ('Foluke', 5), ('Fontane', 5), ('Fontilla', 5), ('Fonza', 5), ('Foram', 5), ('Forbus', 5), ('Forde', 5), ('Fordie', 5), ('Forestt', 5), ('Fort', 5), ('Fortunate', 5), ('Forum', 5), ('Fostina', 5), ('Fouzia', 5), ('Foxy', 5), ('Foyster', 5), ('Fozie', 5), ('Fraces', 5), ('Fracine', 5), ('Frager', 5), ('Fraidel', 5), ('Frampton', 5), ('Francel', 5), ('Franciscojr', 5), ('Franciscus', 5), ('Franciszka', 5), ('Franclin', 5), ('Francsico', 5), ('Franda', 5), ('Franes', 5), ('Franis', 5), ('Frankline', 5), ('Frankly', 5), ('Franne', 5), ('Frantisek', 5), ('Franyelis', 5), ('Fredeline', 5), ('Fredith', 5), ('Fredlyn', 5), ('Fredo', 5), ('Freelin', 5), ('Freelon', 5), ('Freland', 5), ('Frezell', 5), ('Friel', 5), ('Frika', 5), ('Frimmy', 5), ('Frita', 5), ('Fritha', 5), ('Frizell', 5), ('Froney', 5), ('Frontis', 5), ('Frost', 5), ('Frozine', 5), ('Frumencio', 5), ('Furaha', 5), ('Fury', 5), ('Fuzail', 5), ('Fynnleigh', 5), ('Gaber', 5), ('Gaberille', 5), ('Gabie', 5), ('Gabirelle', 5), ('Gabrail', 5), ('Gabreella', 5), ('Gabreial', 5), ('Gabria', 5), ('Gabriala', 5), ('Gabrielah', 5), ('Gabrielangelo', 5), ('Gabrieljohn', 5), ('Gabriellamarie', 5), ('Gabrionna', 5), ('Gabryell', 5), ('Gabrylle', 5), ('Gadeer', 5), ('Gaela', 5), ('Gahan', 5), ('Gailanne', 5), ('Gaileen', 5), ('Gailynn', 5), ('Galathia', 5), ('Galatia', 5), ('Galicia', 5), ('Gallagher', 5), ('Gallie', 5), ('Galloway', 5), ('Galon', 5), ('Galvester', 5), ('Galveston', 5), ('Gamila', 5), ('Gamir', 5), ('Gamya', 5), ('Ganae', 5), ('Gandalf', 5), ('Gandolfo', 5), ('Gani', 5), ('Gannicus', 5), ('Gantt', 5), ('Gaolee', 5), ('Gaoussou', 5), ('Gaquan', 5), ('Garak', 5), ('Garden', 5), ('Gardina', 5), ('Garine', 5), ('Garitt', 5), ('Garius', 5), ('Garlond', 5), ('Garnel', 5), ('Garrad', 5), ('Garrard', 5), ('Garratt', 5), ('Garrek', 5), ('Garri', 5), ('Garryn', 5), ('Garyl', 5), ('Garytt', 5), ('Gasia', 5), ('Gatlen', 5), ('Gattis', 5), ('Gaurika', 5), ('Gavian', 5), ('Gavien', 5), ('Gavy', 5), ('Gavyne', 5), ('Gawaine', 5), ('Gaynard', 5), ('Gaynol', 5), ('Gayola', 5), ('Gayton', 5), ('Gecenia', 5), ('Geddes', 5), ('Gehad', 5), ('Gehard', 5), ('Geidi', 5), ('Gelen', 5), ('Gelia', 5), ('Geline', 5), ('Gella', 5), ('Gemar', 5), ('Gemelli', 5), ('Genavecia', 5), ('Gencie', 5), ('Geneil', 5), ('Geneine', 5), ('Geneivieve', 5), ('Genele', 5), ('Genelia', 5), ('Genendy', 5), ('Genessi', 5), ('Genievieve', 5), ('Geniffer', 5), ('Genissa', 5), ('Genki', 5), ('Genner', 5), ('Gennessy', 5), ('Genoria', 5), ('Genovieve', 5), ('Gensie', 5), ('Genva', 5), ('Genvieve', 5), ('Geogia', 5), ('Geona', 5), ('Geonte', 5), ('Georden', 5), ('Geore', 5), ('Georgella', 5), ('Georgenna', 5), ('Georgiamae', 5), ('Georgiane', 5), ('Georgiena', 5), ('Geovan', 5), ('Geovonie', 5), ('Geraldinne', 5), ('Gerall', 5), ('Gerame', 5), ('Gerardina', 5), ('Gerardojr', 5), ('Gereld', 5), ('Gereline', 5), ('Geremie', 5), ('Geriel', 5), ('Gerin', 5), ('Gerita', 5), ('Gerldean', 5), ('Gerlisa', 5), ('Germari', 5), ('Germarion', 5), ('Germayne', 5), ('Germell', 5), ('Germey', 5), ('Germya', 5), ('Gernie', 5), ('Gerniya', 5), ('Gero', 5), ('Gerogia', 5), ('Geroline', 5), ('Gerolyn', 5), ('Geronima', 5), ('Gerret', 5), ('Gesel', 5), ('Geshia', 5), ('Gesica', 5), ('Gesina', 5), ('Gessell', 5), ('Gesualdo', 5), ('Geter', 5), ('Getrudes', 5), ('Getsemany', 5), ('Gettys', 5), ('Gevalia', 5), ('Gewel', 5), ('Ghais', 5), ('Ghanem', 5), ('Ghavin', 5), ('Ghenet', 5), ('Gi', 5), ('Giacinto', 5), ('Giacomina', 5), ('Giahan', 5), ('Gianessa', 5), ('Giannarose', 5), ('Giany', 5), ('Giavonnie', 5), ('Gibert', 5), ('Giget', 5), ('Gigette', 5), ('Gile', 5), ('Gillan', 5), ('Gillard', 5), ('Gillen', 5), ('Gillespie', 5), ('Ginae', 5), ('Gineva', 5), ('Ging', 5), ('Ginney', 5), ('Gioanna', 5), ('Giobani', 5), ('Giobany', 5), ('Giovannii', 5), ('Giovonie', 5), ('Gipson', 5), ('Girther', 5), ('Gisely', 5), ('Gittle', 5), ('Givonna', 5), ('Giyana', 5), ('Gladus', 5), ('Glafira', 5), ('Glasper', 5), ('Gleeta', 5), ('Glendalee', 5), ('Glennard', 5), ('Glenndora', 5), ('Glenne', 5), ('Glennia', 5), ('Glennora', 5), ('Glenston', 5), ('Gleny', 5), ('Gloretha', 5), ('Glorius', 5), ('Glyda', 5), ('Glyde', 5), ('Glyna', 5), ('Glyndora', 5), ('Glynice', 5), ('Godiva', 5), ('Goldi', 5), ('Goldina', 5), ('Goldmon', 5), ('Gomez', 5), ('Gonzella', 5), ('Gopika', 5), ('Gorete', 5), ('Gorham', 5), ('Gorizia', 5), ('Gorkem', 5), ('Goshen', 5), ('Gospel', 5), ('Gottfred', 5), ('Gottlob', 5), ('Gouri', 5), ('Govanna', 5), ('Gracean', 5), ('Graceelizabeth', 5), ('Gracelan', 5), ('Gracelynd', 5), ('Gracian', 5), ('Gracilynn', 5), ('Graddy', 5), ('Gradys', 5), ('Graecen', 5), ('Graedy', 5), ('Graeham', 5), ('Graer', 5), ('Graicen', 5), ('Graicyn', 5), ('Grantlee', 5), ('Graple', 5), ('Grasha', 5), ('Graven', 5), ('Graylynn', 5), ('Graysie', 5), ('Graziana', 5), ('Graziano', 5), ('Greagory', 5), ('Grechen', 5), ('Greda', 5), ('Greenville', 5), ('Gregorg', 5), ('Gregorios', 5), ('Gregrory', 5), ('Gregson', 5), ('Greidi', 5), ('Gretal', 5), ('Greyce', 5), ('Greylynn', 5), ('Grieg', 5), ('Griffinn', 5), ('Grifin', 5), ('Grigory', 5), ('Grinda', 5), ('Griscelda', 5), ('Gristian', 5), ('Groves', 5), ('Grundy', 5), ('Gryffon', 5), ('Guadulupe', 5), ('Guardian', 5), ('Guarionex', 5), ('Guendalina', 5), ('Guendolyn', 5), ('Guenter', 5), ('Guerina', 5), ('Guess', 5), ('Guilmar', 5), ('Guin', 5), ('Guinda', 5), ('Guinette', 5), ('Guisel', 5), ('Guisell', 5), ('Guisselle', 5), ('Guistino', 5), ('Gul', 5), ('Gullermo', 5), ('Gunvor', 5), ('Gurjeet', 5), ('Gurkamal', 5), ('Gurlie', 5), ('Gurnaaz', 5), ('Gurpal', 5), ('Gurseerat', 5), ('Gurtrue', 5), ('Guru', 5), ('Gurveen', 5), ('Gustauo', 5), ('Gustena', 5), ('Guston', 5), ('Guyann', 5), ('Guyanne', 5), ('Guydra', 5), ('Guymon', 5), ('Gwain', 5), ('Gwan', 5), ('Gwenaelle', 5), ('Gwendelynn', 5), ('Gwender', 5), ('Gwendia', 5), ('Gweneva', 5), ('Gwennan', 5), ('Gwennetta', 5), ('Gwenyvere', 5), ('Gwilym', 5), ('Gwindolyn', 5), ('Gwladys', 5), ('Gwydion', 5), ('Gwynavere', 5), ('Gwyndolin', 5), ('Gwyne', 5), ('Gwynetta', 5), ('Gwytha', 5), ('Gy', 5), ('Gyanni', 5), ('Gyle', 5), ('Gyna', 5), ('Gynesis', 5), ('Gyra', 5), ('Gzim', 5), ('Haadiyah', 5), ('Haala', 5), ('Haania', 5), ('Haasan', 5), ('Habibatou', 5), ('Habil', 5), ('Had', 5), ('Hada', 5), ('Hadan', 5), ('Haddasah', 5), ('Hadeer', 5), ('Hadiah', 5), ('Hadilyn', 5), ('Hadji', 5), ('Hadleyann', 5), ('Haedon', 5), ('Haein', 5), ('Hael', 5), ('Haevynn', 5), ('Hafso', 5), ('Hageo', 5), ('Haggai', 5), ('Haggard', 5), ('Hagood', 5), ('Haileah', 5), ('Haileen', 5), ('Haileyjo', 5), ('Hailiey', 5), ('Haisten', 5), ('Haiylee', 5), ('Hajara', 5), ('Hajin', 5), ('Hajirah', 5), ('Halane', 5), ('Halcy', 5), ('Haldrin', 5), ('Haleia', 5), ('Haleyjo', 5), ('Halleh', 5), ('Halleli', 5), ('Hallema', 5), ('Halstead', 5), ('Halye', 5), ('Halyna', 5), ('Hamaad', 5), ('Hamidah', 5), ('Hanai', 5), ('Hanalee', 5), ('Hanane', 5), ('Hanlee', 5), ('Hannabella', 5), ('Hannahelizabeth', 5), ('Hannahlynn', 5), ('Hannahrae', 5), ('Hannalise', 5), ('Hannha', 5), ('Hanniah', 5), ('Hanns', 5), ('Hansley', 5), ('Hantz', 5), ('Haochen', 5), ('Haoyang', 5), ('Haralabos', 5), ('Hardison', 5), ('Harford', 5), ('Hargie', 5), ('Harilaos', 5), ('Haripriya', 5), ('Harita', 5), ('Harjaap', 5), ('Harjap', 5), ('Harliee', 5), ('Harline', 5), ('Harlod', 5), ('Haroutun', 5), ('Haroutyun', 5), ('Harpar', 5), ('Harpyr', 5), ('Harril', 5), ('Harrilyn', 5), ('Harrisson', 5), ('Harron', 5), ('Harshi', 5), ('Harshveer', 5), ('Harsimar', 5), ('Harsimrat', 5), ('Hartie', 5), ('Hartli', 5), ('Hartzel', 5), ('Harver', 5), ('Harvester', 5), ('Hasanah', 5), ('Hasanat', 5), ('Haseebullah', 5), ('Haseem', 5), ('Hashley', 5), ('Hasiel', 5), ('Hasin', 5), ('Hasir', 5), ('Hasitha', 5), ('Haskie', 5), ('Haskle', 5), ('Hassiel', 5), ('Hassiem', 5), ('Hastiin', 5), ('Hatziry', 5), ('Havery', 5), ('Hawah', 5), ('Hawanatu', 5), ('Haxton', 5), ('Hayaa', 5), ('Hayam', 5), ('Haygan', 5), ('Haylah', 5), ('Hayliee', 5), ('Haymon', 5), ('Hayoon', 5), ('Hayson', 5), ('Hayword', 5), ('Hayz', 5), ('Hayzlie', 5), ('Hazelann', 5), ('Hazele', 5), ('Hazelmarie', 5), ('Haziq', 5), ('Hazir', 5), ('Hazy', 5), ('Hazyn', 5), ('Hazzie', 5), ('Healey', 5), ('Heard', 5), ('Heartley', 5), ('Heatherlynn', 5), ('Heathyr', 5), ('Heavenor', 5), ('Heberth', 5), ('Hec', 5), ('Hedie', 5), ('Hedieh', 5), ('Hedit', 5), ('Heeba', 5), ('Heet', 5), ('Heidiann', 5), ('Heidimarie', 5), ('Heili', 5), ('Helal', 5), ('Helam', 5), ('Heleina', 5), ('Helissa', 5), ('Helius', 5), ('Heller', 5), ('Helly', 5), ('Helmie', 5), ('Heloisa', 5), ('Hemza', 5), ('Hendley', 5), ('Hennesie', 5), ('Hennry', 5), ('Henon', 5), ('Henrey', 5), ('Henryka', 5), ('Herbey', 5), ('Hercilia', 5), ('Heriberta', 5), ('Herick', 5), ('Herika', 5), ('Herlaine', 5), ('Hermance', 5), ('Hermania', 5), ('Hermas', 5), ('Hermilinda', 5), ('Hermino', 5), ('Hermit', 5), ('Hermond', 5), ('Herney', 5), ('Herrel', 5), ('Hertis', 5), ('Hery', 5), ('Heylen', 5), ('Heylie', 5), ('Hibbard', 5), ('Hickory', 5), ('Higinia', 5), ('Hildah', 5), ('Hildebrando', 5), ('Hildra', 5), ('Hilia', 5), ('Hilry', 5), ('Hilyard', 5), ('Himari', 5), ('Hinal', 5), ('Hing', 5), ('Hinson', 5), ('Hirah', 5), ('Hirma', 5), ('Hisa', 5), ('Hisela', 5), ('Hishaam', 5), ('Hitha', 5), ('Hla', 5), ('Hobbie', 5), ('Hoffman', 5), ('Hoku', 5), ('Holder', 5), ('Holdin', 5), ('Hollylynn', 5), ('Hollymarie', 5), ('Holmer', 5), ('Holsten', 5), ('Hongan', 5), ('Hongyu', 5), ('Honorae', 5), ('Hooker', 5), ('Hopi', 5), ('Hopson', 5), ('Horeb', 5), ('Horold', 5), ('Horus', 5), ('Hoscar', 5), ('Hoston', 5), ('Houstin', 5), ('Hovey', 5), ('Hoyd', 5), ('Hozel', 5), ('Hridya', 5), ('Hripsime', 5), ('Hritika', 5), ('Hriyaan', 5), ('Hu', 5), ('Huascar', 5), ('Hub', 5), ('Hubart', 5), ('Hubbie', 5), ('Hubertine', 5), ('Hubie', 5), ('Huburt', 5), ('Hudayfa', 5), ('Hudes', 5), ('Hudeyfa', 5), ('Hudhayfah', 5), ('Hudsynn', 5), ('Hudy', 5), ('Hufsa', 5), ('Hughe', 5), ('Hughlene', 5), ('Hulali', 5), ('Huldia', 5), ('Hurdis', 5), ('Hurel', 5), ('Husai', 5), ('Hutchins', 5), ('Huxlee', 5), ('Hydiyah', 5), ('Hykeim', 5), ('Hyle', 5), ('Hylie', 5), ('Hylton', 5), ('Hyon', 5), ('Hyson', 5), ('Hytham', 5), ('Hyung', 5), ('Iah', 5), ('Ianah', 5), ('Iassac', 5), ('Iba', 5), ('Ibiza', 5), ('Ibon', 5), ('Ibraaheem', 5), ('Ibraheim', 5), ('Ibtihaj', 5), ('Ibtihal', 5), ('Iceland', 5), ('Icelene', 5), ('Icely', 5), ('Icesys', 5), ('Ichigo', 5), ('Icia', 5), ('Idalou', 5), ('Idalynn', 5), ('Idanell', 5), ('Idas', 5), ('Idasia', 5), ('Idaya', 5), ('Ideal', 5), ('Idean', 5), ('Idelfonso', 5), ('Idelisa', 5), ('Idellia', 5), ('Idoma', 5), ('Idrena', 5), ('Iean', 5), ('Iesa', 5), ('Iestyn', 5), ('Ieuan', 5), ('Ieysha', 5), ('Iftu', 5), ('Iggy', 5), ('Ignacita', 5), ('Ihuoma', 5), ('Ii', 5), ('Iishia', 5), ('Iiyana', 5), ('Ijana', 5), ('Ikeam', 5), ('Ikeda', 5), ('Ikee', 5), ('Ikem', 5), ('Ikponmwosa', 5), ('Ikra', 5), ('Ilanny', 5), ('Ilcia', 5), ('Ilenna', 5), ('Ilet', 5), ('Iletta', 5), ('Ilhana', 5), ('Ilianie', 5), ('Ilianne', 5), ('Ilianny', 5), ('Ilihia', 5), ('Ilirian', 5), ('Ilirida', 5), ('Ilithia', 5), ('Iliyaas', 5), ('Illah', 5), ('Illia', 5), ('Illidan', 5), ('Illissa', 5), ('Illyas', 5), ('Illythia', 5), ('Ilmi', 5), ('Ilomae', 5), ('Ilori', 5), ('Ilsi', 5), ('Ilythia', 5), ('Ilyza', 5), ('Imajen', 5), ('Imal', 5), ('Imalai', 5), ('Imamu', 5), ('Imauri', 5), ('Imia', 5), ('Imira', 5), ('Imisioluwa', 5), ('Immogene', 5), ('Imogin', 5), ('Imron', 5), ('Imyah', 5), ('Inaayah', 5), ('Inarah', 5), ('Inass', 5), ('Inayat', 5), ('Inchara', 5), ('Indasha', 5), ('Independence', 5), ('Indhira', 5), ('Indian', 5), ('Ineda', 5), ('Inelda', 5), ('Inelle', 5), ('Inesa', 5), ('Inett', 5), ('Iney', 5), ('Infantfemale', 5), ('Infboy', 5), ('Inikki', 5), ('Innie', 5), ('Inya', 5), ('Iolia', 5), ('Iory', 5), ('Iovanna', 5), ('Ipolito', 5), ('Ipsa', 5), ('Iqlas', 5), ('Irael', 5), ('Iralene', 5), ('Iralynn', 5), ('Irandy', 5), ('Irani', 5), ('Ireal', 5), ('Irfaan', 5), ('Iriee', 5), ('Irit', 5), ('Iriyana', 5), ('Irline', 5), ('Irmina', 5), ('Irmuun', 5), ('Irshad', 5), ('Iryss', 5), ('Isaabella', 5), ('Isabeli', 5), ('Isabellasophia', 5), ('Isabellemarie', 5), ('Isabeth', 5), ('Isabeya', 5), ('Isable', 5), ('Isahbella', 5), ('Isahiah', 5), ('Isaiahmichael', 5), ('Isaian', 5), ('Isairis', 5), ('Isajah', 5), ('Isalei', 5), ('Isalena', 5), ('Isaque', 5), ('Isara', 5), ('Isarael', 5), ('Isayana', 5), ('Isebell', 5), ('Iselin', 5), ('Iseral', 5), ('Ises', 5), ('Ish', 5), ('Ishaun', 5), ('Ishbel', 5), ('Ishmam', 5), ('Ishmeet', 5), ('Ishta', 5), ('Ishwaq', 5), ('Iskandar', 5), ('Islarose', 5), ('Ismaaeel', 5), ('Ismaela', 5), ('Ismah', 5), ('Ismat', 5), ('Isoken', 5), ('Israe', 5), ('Isriel', 5), ('Issay', 5), ('Issela', 5), ('Issiaka', 5), ('Itan', 5), ('Itasca', 5), ('Ithalia', 5), ('Ithel', 5), ('Itia', 5), ('Itohan', 5), ('Itsamari', 5), ('Itsue', 5), ('Itzabelle', 5), ('Itzany', 5), ('Itzary', 5), ('Itzely', 5), ('Ivanah', 5), ('Ivandejesus', 5), ('Ivani', 5), ('Ivano', 5), ('Ivany', 5), ('Ivary', 5), ('Ivell', 5), ('Ivetta', 5), ('Ivian', 5), ('Iviannah', 5), ('Ivison', 5), ('Ivoryana', 5), ('Ivra', 5), ('Ivyanne', 5), ('Ivye', 5), ('Ivyl', 5), ('Ivymarie', 5), ('Iwan', 5), ('Ixsel', 5), ('Iyaunna', 5), ('Iycess', 5), ('Iyeisha', 5), ('Iylan', 5), ('Iyoni', 5), ('Iyshia', 5), ('Iysiss', 5), ('Izah', 5), ('Izalea', 5), ('Izamara', 5), ('Izara', 5), ('Izayuh', 5), ('Izeal', 5), ('Izriel', 5), ('Izyah', 5), ('Izzik', 5), ('Izzybella', 5), ('Jaabir', 5), ('Jaad', 5), ('Jaada', 5), ('Jaade', 5), ('Jaavon', 5), ('Jab', 5), ('Jabarrie', 5), ('Jabbaar', 5), ('Jabora', 5), ('Jabrae', 5), ('Jabrandon', 5), ('Jabrayden', 5), ('Jabrel', 5), ('Jabreya', 5), ('Jabus', 5), ('Jacaranda', 5), ('Jacarla', 5), ('Jacarr', 5), ('Jacarria', 5), ('Jacarter', 5), ('Jacaryous', 5), ('Jacauri', 5), ('Jacaury', 5), ('Jacavion', 5), ('Jacbo', 5), ('Jaceline', 5), ('Jacely', 5), ('Jacenia', 5), ('Jaciah', 5), ('Jacilynn', 5), ('Jacine', 5), ('Jacione', 5), ('Jaciya', 5), ('Jaciyon', 5), ('Jackalin', 5), ('Jacke', 5), ('Jacklen', 5), ('Jackueline', 5), ('Jacobdaniel', 5), ('Jacobjames', 5), ('Jacobmatthew', 5), ('Jacobryan', 5), ('Jacobthomas', 5), ('Jacodi', 5), ('Jacore', 5), ('Jacoree', 5), ('Jacorrion', 5), ('Jacoub', 5), ('Jacqelyn', 5), ('Jacqual', 5), ('Jacqualyne', 5), ('Jacquane', 5), ('Jacquanna', 5), ('Jacquari', 5), ('Jacquece', 5), ('Jacqueling', 5), ('Jacqueze', 5), ('Jacquil', 5), ('Jaculine', 5), ('Jacynth', 5), ('Jacynthia', 5), ('Jadaiah', 5), ('Jadaija', 5), ('Jadali', 5), ('Jadarrien', 5), ('Jadarrious', 5), ('Jaddan', 5), ('Jaddiel', 5), ('Jadereon', 5), ('Jaderious', 5), ('Jadesha', 5), ('Jadeth', 5), ('Jadha', 5), ('Jadhiel', 5), ('Jadiamond', 5), ('Jadiana', 5), ('Jadielys', 5), ('Jadlynn', 5), ('Jadonte', 5), ('Jadynce', 5), ('Jadziah', 5), ('Jaeceion', 5), ('Jaecia', 5), ('Jaedalyn', 5), ('Jaede', 5), ('Jaelanie', 5), ('Jaelea', 5), ('Jaelei', 5), ('Jaeliah', 5), ('Jaelithe', 5), ('Jaell', 5), ('Jaes', 5), ('Jaevaughn', 5), ('Jaevier', 5), ('Jaewoo', 5), ('Jaeyon', 5), ('Jafer', 5), ('Jaggyr', 5), ('Jahairy', 5), ('Jahala', 5), ('Jahare', 5), ('Jaharee', 5), ('Jahaud', 5), ('Jahdari', 5), ('Jahdir', 5), ('Jaheen', 5), ('Jahidi', 5), ('Jahime', 5), ('Jahin', 5), ('Jahkir', 5), ('Jahleal', 5), ('Jahliah', 5), ('Jahlique', 5), ('Jahlynn', 5), ('Jahmall', 5), ('Jahmaree', 5), ('Jahmela', 5), ('Jahmelia', 5), ('Jahmira', 5), ('Jahmyia', 5), ('Jahneil', 5), ('Jahque', 5), ('Jahray', 5), ('Jahria', 5), ('Jahriel', 5), ('Jahseem', 5), ('Jahseer', 5), ('Jahseim', 5), ('Jahvonte', 5), ('Jahwan', 5), ('Jahyda', 5), ('Jahyr', 5), ('Jahzair', 5), ('Jahzari', 5), ('Jahzlynn', 5), ('Jahzon', 5), ('Jaicen', 5), ('Jaidel', 5), ('Jaidi', 5), ('Jaidn', 5), ('Jaiheem', 5), ('Jaikub', 5), ('Jailei', 5), ('Jaimal', 5), ('Jaiman', 5), ('Jaimari', 5), ('Jainah', 5), ('Jainee', 5), ('Jainie', 5), ('Jainiyah', 5), ('Jainy', 5), ('Jaiquez', 5), ('Jaisley', 5), ('Jaithen', 5), ('Jaiton', 5), ('Jaival', 5), ('Jajuane', 5), ('Jakada', 5), ('Jakalah', 5), ('Jakalynn', 5), ('Jakameron', 5), ('Jakarious', 5), ('Jakaris', 5), ('Jakashia', 5), ('Jakayle', 5), ('Jakeal', 5), ('Jakeara', 5), ('Jakeitha', 5), ('Jakelia', 5), ('Jakelle', 5), ('Jakelynn', 5), ('Jakerion', 5), ('Jakeriya', 5), ('Jaketa', 5), ('Jakevis', 5), ('Jakey', 5), ('Jakhira', 5), ('Jakhye', 5), ('Jakhyia', 5), ('Jakiel', 5), ('Jakirrah', 5), ('Jakirria', 5), ('Jakius', 5), ('Jakiylah', 5), ('Jakkob', 5), ('Jakkson', 5), ('Jakodi', 5), ('Jakolbe', 5), ('Jakolbi', 5), ('Jaks', 5), ('Jakwaun', 5), ('Jakyan', 5), ('Jakylia', 5), ('Jakyre', 5), ('Jakyrion', 5), ('Jalaa', 5), ('Jalanna', 5), ('Jalayha', 5), ('Jalaylah', 5), ('Jaleela', 5), ('Jalem', 5), ('Jaleny', 5), ('Jalesse', 5), ('Jalexie', 5), ('Jalica', 5), ('Jalieah', 5), ('Jalonni', 5), ('Jalpa', 5), ('Jalyce', 5), ('Jalyia', 5), ('Jamaad', 5), ('Jamaah', 5), ('Jamahd', 5), ('Jamaile', 5), ('Jamalachi', 5), ('Jamantha', 5), ('Jamariun', 5), ('Jamaro', 5), ('Jamarris', 5), ('Jamarvion', 5), ('Jamasia', 5), ('Jamayca', 5), ('Jamecca', 5), ('Jamece', 5), ('Jameece', 5), ('Jameen', 5), ('Jamelvin', 5), ('Jamena', 5), ('Jamene', 5), ('Jamerial', 5), ('Jameris', 5), ('Jamerra', 5), ('Jamesdaniel', 5), ('Jamesson', 5), ('Jameta', 5), ('Jametrice', 5), ('Jamhal', 5), ('Jamial', 5), ('Jamielle', 5), ('Jamii', 5), ('Jamikka', 5), ('Jamilka', 5), ('Jamirya', 5), ('Jamod', 5), ('Jamontez', 5), ('Jamson', 5), ('Jamykal', 5), ('Jamyle', 5), ('Jamylex', 5), ('Janael', 5), ('Janaesha', 5), ('Janahi', 5), ('Janaina', 5), ('Janaka', 5), ('Janalis', 5), ('Janalise', 5), ('Janalle', 5), ('Janalyse', 5), ('Janaris', 5), ('Janathean', 5), ('Jandery', 5), ('Janeel', 5), ('Janeicia', 5), ('Janeida', 5), ('Janeidy', 5), ('Janeisa', 5), ('Janeise', 5), ('Janekia', 5), ('Janela', 5), ('Janelyz', 5), ('Janerica', 5), ('Janetha', 5), ('Janetra', 5), ('Janetzi', 5), ('Jangelo', 5), ('Janic', 5), ('Janick', 5), ('Janiely', 5), ('Janiia', 5), ('Janikqua', 5), ('Janisia', 5), ('Janitha', 5), ('Janivea', 5), ('Janiyaa', 5), ('Janiyyah', 5), ('Janiza', 5), ('Janko', 5), ('Jannea', 5), ('Janneli', 5), ('Jannesa', 5), ('Janniah', 5), ('Jannita', 5), ('Janniyah', 5), ('Jantel', 5), ('Jantsen', 5), ('Janusz', 5), ('Janyha', 5), ('Janyhia', 5), ('Janyriah', 5), ('Janys', 5), ('Janyse', 5), ('Janyus', 5), ('Jaosn', 5), ('Japhy', 5), ('Japnoor', 5), ('Japree', 5), ('Japria', 5), ('Japrice', 5), ('Jaquantae', 5), ('Jaquavien', 5), ('Jaquaylin', 5), ('Jaquaze', 5), ('Jaquelene', 5), ('Jaquest', 5), ('Jaquilyn', 5), ('Jaquinta', 5), ('Jaqulynn', 5), ('Jaquory', 5), ('Jarade', 5), ('Jarai', 5), ('Jarail', 5), ('Jarald', 5), ('Jarayah', 5), ('Jardan', 5), ('Jareny', 5), ('Jaresha', 5), ('Jaretsi', 5), ('Jarexi', 5), ('Jarhia', 5), ('Jaricka', 5), ('Jarico', 5), ('Jarimiah', 5), ('Jarique', 5), ('Jarison', 5), ('Jarit', 5), ('Jaritzi', 5), ('Jarline', 5), ('Jarmaris', 5), ('Jarmen', 5), ('Jaro', 5), ('Jaronte', 5), ('Jarran', 5), ('Jarrek', 5), ('Jarriah', 5), ('Jarrian', 5), ('Jarriet', 5), ('Jarrison', 5), ('Jarritt', 5), ('Jarrott', 5), ('Jarryl', 5), ('Jartavis', 5), ('Jarus', 5), ('Jarvais', 5), ('Jaryel', 5), ('Jasana', 5), ('Jasee', 5), ('Jaseem', 5), ('Jaseer', 5), ('Jaseir', 5), ('Jasera', 5), ('Jasere', 5), ('Jashanpreet', 5), ('Jashea', 5), ('Jashod', 5), ('Jashone', 5), ('Jashyia', 5), ('Jasiana', 5), ('Jasianna', 5), ('Jasibe', 5), ('Jasik', 5), ('Jasine', 5), ('Jaslean', 5), ('Jaslena', 5), ('Jaslinn', 5), ('Jasmijn', 5), ('Jasmil', 5), ('Jasmire', 5), ('Jasona', 5), ('Jasonanthony', 5), ('Jasonjr', 5), ('Jasonpaul', 5), ('Jasontyler', 5), ('Jaspyr', 5), ('Jassan', 5), ('Jasselle', 5), ('Jassem', 5), ('Jassie', 5), ('Jasslynn', 5), ('Jasuan', 5), ('Jaswinder', 5), ('Jasy', 5), ('Jasye', 5), ('Jaszlyn', 5), ('Jata', 5), ('Jataiya', 5), ('Jatari', 5), ('Jataurus', 5), ('Jatavien', 5), ('Jaterica', 5), ('Jaterious', 5), ('Jaterius', 5), ('Jatisha', 5), ('Jatonya', 5), ('Jatyler', 5), ('Jaudiel', 5), ('Jauier', 5), ('Jauneta', 5), ('Jaunna', 5), ('Jaunte', 5), ('Javanta', 5), ('Javantay', 5), ('Javareon', 5), ('Javarrie', 5), ('Javawn', 5), ('Jave', 5), ('Javea', 5), ('Javeed', 5), ('Javelyn', 5), ('Javene', 5), ('Javeya', 5), ('Javiair', 5), ('Javierjr', 5), ('Javina', 5), ('Javionte', 5), ('Javonia', 5), ('Javontaye', 5), ('Javonti', 5), ('Javor', 5), ('Jawane', 5), ('Jawarren', 5), ('Jawaski', 5), ('Jawdat', 5), ('Jawonna', 5), ('Jawvan', 5), ('Jaxel', 5), ('Jaxlyn', 5), ('Jaxonjames', 5), ('Jaxper', 5), ('Jaxxin', 5), ('Jaxxyn', 5), ('Jaxzyn', 5), ('Jayahna', 5), ('Jayanne', 5), ('Jayar', 5), ('Jayaun', 5), ('Jayben', 5), ('Jaybin', 5), ('Jaybree', 5), ('Jaycon', 5), ('Jaydann', 5), ('Jaydehn', 5), ('Jaydenalexander', 5), ('Jaydenjames', 5), ('Jaydenmatthew', 5), ('Jaydenmichael', 5), ('Jayeda', 5), ('Jayelin', 5), ('Jayetta', 5), ('Jayhden', 5), ('Jayiden', 5), ('Jaykin', 5), ('Jaykon', 5), ('Jaykwan', 5), ('Jaylaan', 5), ('Jaylece', 5), ('Jaylian', 5), ('Jaylianiz', 5), ('Jaylicia', 5), ('Jaylisse', 5), ('Jayliz', 5), ('Jayloni', 5), ('Jaylonn', 5), ('Jayly', 5), ('Jaymion', 5), ('Jaymis', 5), ('Jaymiya', 5), ('Jaymya', 5), ('Jaynalis', 5), ('Jayquin', 5), ('Jayrin', 5), ('Jaysan', 5), ('Jayvaun', 5), ('Jayveer', 5), ('Jayvein', 5), ('Jayviona', 5), ('Jayvonna', 5), ('Jayza', 5), ('Jayziel', 5), ('Jayzier', 5), ('Jazai', 5), ('Jazaih', 5), ('Jazaiya', 5), ('Jazalin', 5), ('Jazaniah', 5), ('Jazarian', 5), ('Jazavian', 5), ('Jazayvion', 5), ('Jazeera', 5), ('Jazella', 5), ('Jazette', 5), ('Jazharia', 5), ('Jazin', 5), ('Jazlena', 5), ('Jazmany', 5), ('Jazmein', 5), ('Jazmenn', 5), ('Jazmone', 5), ('Jazzae', 5), ('Jazzanae', 5), ('Jazzarae', 5), ('Jazzariah', 5), ('Jazzia', 5), ('Jazzmaine', 5), ('Jazzmarie', 5), ('Jazzmene', 5), ('Jazzminn', 5), ('Jazzmond', 5), ('Jcorey', 5), ('Jdah', 5), ('Jdan', 5), ('Jdon', 5), ('Jdynn', 5), ('Jeaden', 5), ('Jeadon', 5), ('Jeanbaptiste', 5), ('Jeanettie', 5), ('Jeanitta', 5), ('Jeaniyah', 5), ('Jeanjacques', 5), ('Jeanluca', 5), ('Jeanmarco', 5), ('Jeannea', 5), ('Jeannell', 5), ('Jeannice', 5), ('Jeannicole', 5), ('Jebreel', 5), ('Jedah', 5), ('Jeddie', 5), ('Jeden', 5), ('Jeenifer', 5), ('Jeesica', 5), ('Jeeva', 5), ('Jeeyoung', 5), ('Jefforey', 5), ('Jeffrery', 5), ('Jeffreyjames', 5), ('Jeffro', 5), ('Jefrin', 5), ('Jeg', 5), ('Jehlani', 5), ('Jehovany', 5), ('Jehremy', 5), ('Jehron', 5), ('Jeidan', 5), ('Jeidyn', 5), ('Jeiner', 5), ('Jeira', 5), ('Jeiri', 5), ('Jekeria', 5), ('Jekhari', 5), ('Jekori', 5), ('Jelaina', 5), ('Jelanie', 5), ('Jelany', 5), ('Jelaya', 5), ('Jelayne', 5), ('Jelise', 5), ('Jemauri', 5), ('Jemaya', 5), ('Jemekia', 5), ('Jemelia', 5), ('Jemely', 5), ('Jemerrio', 5), ('Jemes', 5), ('Jemier', 5), ('Jemon', 5), ('Jemond', 5), ('Jenaia', 5), ('Jenaiah', 5), ('Jenanne', 5), ('Jenave', 5), ('Jenci', 5), ('Jencyn', 5), ('Jendry', 5), ('Jeneba', 5), ('Jenedy', 5), ('Jeneine', 5), ('Jenele', 5), ('Jenelee', 5), ('Jenera', 5), ('Jenesi', 5), ('Jeness', 5), ('Jenesse', 5), ('Jenessia', 5), ('Jenesy', 5), ('Jenettie', 5), ('Jenevive', 5), ('Jenibelle', 5), ('Jenis', 5), ('Jenish', 5), ('Jenitha', 5), ('Jenive', 5), ('Jeniveve', 5), ('Jenkarlo', 5), ('Jennabel', 5), ('Jennabella', 5), ('Jennaliz', 5), ('Jennalyse', 5), ('Jennavee', 5), ('Jennavi', 5), ('Jennevie', 5), ('Jennevy', 5), ('Jennieke', 5), ('Jenniper', 5), ('Jennya', 5), ('Jenola', 5), ('Jenssy', 5), ('Jenyiah', 5), ('Jenyka', 5), ('Jenyssa', 5), ('Jeon', 5), ('Jeong', 5), ('Jeorgina', 5), ('Jeovan', 5), ('Jerail', 5), ('Jeramiyah', 5), ('Jerane', 5), ('Jereal', 5), ('Jereimah', 5), ('Jeremah', 5), ('Jeremery', 5), ('Jeremiahs', 5), ('Jeremyh', 5), ('Jeresa', 5), ('Jerey', 5), ('Jericia', 5), ('Jeries', 5), ('Jerilene', 5), ('Jerimee', 5), ('Jerimiha', 5), ('Jeriod', 5), ('Jerious', 5), ('Jerkayla', 5), ('Jerkiya', 5), ('Jermanee', 5), ('Jermaul', 5), ('Jermira', 5), ('Jerneshia', 5), ('Jernice', 5), ('Jernika', 5), ('Jeroma', 5), ('Jerrae', 5), ('Jerralee', 5), ('Jerremiah', 5), ('Jerrianna', 5), ('Jerrime', 5), ('Jerrina', 5), ('Jerriona', 5), ('Jerrious', 5), ('Jerrlyn', 5), ('Jerrylene', 5), ('Jertavious', 5), ('Jervaughn', 5), ('Jeryiah', 5), ('Jeryka', 5), ('Jesaias', 5), ('Jesalee', 5), ('Jesara', 5), ('Jescenia', 5), ('Jescie', 5), ('Jeshwa', 5), ('Jesicah', 5), ('Jeslee', 5), ('Jessamarie', 5), ('Jessca', 5), ('Jesseica', 5), ('Jessianna', 5), ('Jessican', 5), ('Jessicanicole', 5), ('Jessiejames', 5), ('Jessimar', 5), ('Jessiqua', 5), ('Jesslene', 5), ('Jessten', 5), ('Jesstine', 5), ('Jesteen', 5), ('Jestene', 5), ('Jestyn', 5), ('Jesualdo', 5), ('Jesuan', 5), ('Jesucita', 5), ('Jesusdaniel', 5), ('Jete', 5), ('Jethero', 5), ('Jetlyn', 5), ('Jetmir', 5), ('Jetoi', 5), ('Jettsen', 5), ('Jevette', 5), ('Jevita', 5), ('Jevonda', 5), ('Jevontay', 5), ('Jeweldene', 5), ('Jeweleah', 5), ('Jewellee', 5), ('Jewellene', 5), ('Jewely', 5), ('Jewelyn', 5), ('Jewlz', 5), ('Jeyceon', 5), ('Jeylanie', 5), ('Jezebell', 5), ('Jezeniah', 5), ('Jezlin', 5), ('Jezzelle', 5), ('Jhaeda', 5), ('Jhaki', 5), ('Jhalia', 5), ('Jhamel', 5), ('Jhamere', 5), ('Jhamilet', 5), ('Jhanai', 5), ('Jhanel', 5), ('Jhanet', 5), ('Jhaniah', 5), ('Jhasir', 5), ('Jhavier', 5), ('Jhena', 5), ('Jhenifer', 5), ('Jhiya', 5), ('Jhobany', 5), ('Jhonae', 5), ('Jhoniel', 5), ('Jhonna', 5), ('Jhori', 5), ('Jhoselyne', 5), ('Jhosselyn', 5), ('Jhovan', 5), ('Jiacheng', 5), ('Jiahna', 5), ('Jialin', 5), ('Jianne', 5), ('Jianny', 5), ('Jiar', 5), ('Jiara', 5), ('Jiavanna', 5), ('Jibria', 5), ('Jicela', 5), ('Jiesha', 5), ('Jiggs', 5), ('Jigme', 5), ('Jihae', 5), ('Jihyun', 5), ('Jikayla', 5), ('Jileen', 5), ('Jillanna', 5), ('Jilliene', 5), ('Jillissa', 5), ('Jilma', 5), ('Jilyan', 5), ('Jimalee', 5), ('Jimetta', 5), ('Jimey', 5), ('Jimiah', 5), ('Jimica', 5), ('Jimique', 5), ('Jimiyah', 5), ('Jimmeka', 5), ('Jimmica', 5), ('Jinah', 5), ('Jinaya', 5), ('Jinayah', 5), ('Jinessa', 5), ('Jinette', 5), ('Jinhee', 5), ('Jiniyah', 5), ('Jinjer', 5), ('Jinni', 5), ('Jioni', 5), ('Jiovannie', 5), ('Jiquez', 5), ('Jira', 5), ('Jireth', 5), ('Jiyanna', 5), ('Jiyoung', 5), ('Jkia', 5), ('Jkobi', 5), ('Jlea', 5), ('Jleah', 5), ('Jliana', 5), ('Jm', 5), ('Jme', 5), ('Jmere', 5), ('Jmyra', 5), ('Jnaiya', 5), ('Jnasia', 5), ('Jnay', 5), ('Jniaya', 5), ('Joahua', 5), ('Joangela', 5), ('Joanthon', 5), ('Joaovitor', 5), ('Joason', 5), ('Jobari', 5), ('Jocabeth', 5), ('Joceleen', 5), ('Jocelle', 5), ('Jocelynmarie', 5), ('Jociel', 5), ('Jocko', 5), ('Jocqua', 5), ('Jodana', 5), ('Jodarius', 5), ('Jodena', 5), ('Jodiel', 5), ('Jodyann', 5), ('Jodyne', 5), ('Joeen', 5), ('Joelaine', 5), ('Joelan', 5), ('Joeliel', 5), ('Joelissa', 5), ('Joelouis', 5), ('Joelyne', 5), ('Joevan', 5), ('Joezette', 5), ('Jogina', 5), ('Johanah', 5), ('Johandry', 5), ('Johannie', 5), ('Johanson', 5), ('Johar', 5), ('Johary', 5), ('Johnadam', 5), ('Johnalbert', 5), ('Johnalexander', 5), ('Johnalyn', 5), ('Johncarter', 5), ('Johneice', 5), ('Johnessa', 5), ('Johnicia', 5), ('Johnitta', 5), ('Johnjack', 5), ('Johnlloyd', 5), ('Johnluis', 5), ('Johnmarco', 5), ('Johnmorgan', 5), ('Johnneisha', 5), ('Johnnia', 5), ('Johnnice', 5), ('Johnniqua', 5), ('Johnnyjoe', 5), ('Johnscott', 5), ('Johnsy', 5), ('Johntavia', 5), ('Johnthon', 5), ('Johrdan', 5), ('Johusa', 5), ('Johvanna', 5), ('Joilyn', 5), ('Jokari', 5), ('Jolecia', 5), ('Jolian', 5), ('Jolieann', 5), ('Jollette', 5), ('Jolysa', 5), ('Jomei', 5), ('Jomiah', 5), ('Jonathaon', 5), ('Jonathna', 5), ('Jondra', 5), ('Joneer', 5), ('Jonene', 5), ('Jonhathan', 5), ('Joniell', 5), ('Jonilee', 5), ('Jonluca', 5), ('Jonlucas', 5), ('Jonlyn', 5), ('Jonmatthew', 5), ('Jonney', 5), ('Jonnique', 5), ('Jonnye', 5), ('Jonrobert', 5), ('Jonross', 5), ('Jontaya', 5), ('Jontaye', 5), ('Jontelle', 5), ('Jonwesley', 5), ('Jooyoung', 5), ('Joquavious', 5), ('Joray', 5), ('Jordae', 5), ('Jordahn', 5), ('Jordanalexander', 5), ('Jordanchristoph', 5), ('Jordanmarie', 5), ('Jorde', 5), ('Jordee', 5), ('Jordun', 5), ('Jorelys', 5), ('Jorgealberto', 5), ('Jorgedavid', 5), ('Jorgejr', 5), ('Joriann', 5), ('Jorianna', 5), ('Jorleny', 5), ('Jorome', 5), ('Jorrie', 5), ('Josabet', 5), ('Josael', 5), ('Josaia', 5), ('Josalina', 5), ('Josbel', 5), ('Joseadrian', 5), ('Joseduardo', 5), ('Josegabriel', 5), ('Josei', 5), ('Joseiah', 5), ('Joselen', 5), ('Josephallen', 5), ('Josephandrew', 5), ('Josephin', 5), ('Josephjohn', 5), ('Josephpatrick', 5), ('Josephpaul', 5), ('Josephthomas', 5), ('Josepine', 5), ('Josera', 5), ('Joshanae', 5), ('Joshep', 5), ('Joshie', 5), ('Joshika', 5), ('Joshuaa', 5), ('Joshuaalexander', 5), ('Joshuajay', 5), ('Joshuajohn', 5), ('Joshuajoseph', 5), ('Joshuar', 5), ('Joshuaray', 5), ('Joshuarobert', 5), ('Joshula', 5), ('Josiephene', 5), ('Josilyne', 5), ('Josine', 5), ('Josjeph', 5), ('Josmel', 5), ('Josphe', 5), ('Josphua', 5), ('Jossica', 5), ('Jossilynn', 5), ('Jossimar', 5), ('Josslynne', 5), ('Jossy', 5), ('Josuhe', 5), ('Josylin', 5), ('Jouan', 5), ('Journeigh', 5), ('Jouse', 5), ('Jovaan', 5), ('Jovahny', 5), ('Jovanah', 5), ('Jovania', 5), ('Jovaniel', 5), ('Jovari', 5), ('Jovial', 5), ('Jovienne', 5), ('Jovohn', 5), ('Jovone', 5), ('Jovonny', 5), ('Jowharah', 5), ('Joyee', 5), ('Joylynne', 5), ('Joynae', 5), ('Joynell', 5), ('Joyner', 5), ('Joyse', 5), ('Jozett', 5), ('Jozlyne', 5), ('Jqwon', 5), ('Jraya', 5), ('Jsai', 5), ('Jshin', 5), ('Jshun', 5), ('Juaita', 5), ('Jual', 5), ('Juancarlo', 5), ('Juanenrique', 5), ('Juanfernando', 5), ('Juanjr', 5), ('Juante', 5), ('Juany', 5), ('Juanyae', 5), ('Juaria', 5), ('Jubentino', 5), ('Judeah', 5), ('Judell', 5), ('Judey', 5), ('Judilynn', 5), ('Judite', 5), ('Judithanne', 5), ('Judon', 5), ('Judylynn', 5), ('Judyne', 5), ('Juelian', 5), ('Juella', 5), ('Juelze', 5), ('Juilianna', 5), ('Juilo', 5), ('Juleeanna', 5), ('Juleimy', 5), ('Julenny', 5), ('Julep', 5), ('Juliahnna', 5), ('Juliam', 5), ('Juliamae', 5), ('Juliannamarie', 5), ('Julianno', 5), ('Julibeth', 5), ('Julica', 5), ('Julice', 5), ('Juliella', 5), ('Julieza', 5), ('Julin', 5), ('Julinda', 5), ('Julioalberto', 5), ('Julivette', 5), ('Julixa', 5), ('Juliyanna', 5), ('Julonda', 5), ('Jumarcus', 5), ('Junea', 5), ('Juneve', 5), ('Jungwoo', 5), ('Junho', 5), ('Juniah', 5), ('Junietta', 5), ('Junilla', 5), ('Junito', 5), ('Junjie', 5), ('Juny', 5), ('Junya', 5), ('Juquana', 5), ('Jurene', 5), ('Juriana', 5), ('Jurita', 5), ('Juritza', 5), ('Jurnii', 5), ('Jussiah', 5), ('Justas', 5), ('Justhin', 5), ('Justilia', 5), ('Justinanthony', 5), ('Justinia', 5), ('Justiniano', 5), ('Justinrobert', 5), ('Justys', 5), ('Juwahn', 5), ('Juwairiyah', 5), ('Juwell', 5), ('Juwelz', 5), ('Juztin', 5), ('Jven', 5), ('Jvier', 5), ('Jvonn', 5), ('Jwon', 5), ('Jyena', 5), ('Jyhiem', 5), ('Jyia', 5), ('Jyiah', 5), ('Jyion', 5), ('Jylissa', 5), ('Jymon', 5), ('Jyonna', 5), ('Jyquavious', 5), ('Jyrelle', 5), ('Jyshon', 5), ('Jyvon', 5), ('Jywon', 5), ('Jyzaiah', 5), ('Kaajal', 5), ('Kaarlo', 5), ('Kaaron', 5), ('Kaaya', 5), ('Kabree', 5), ('Kabriel', 5), ('Kabryn', 5), ('Kaceson', 5), ('Kaceyon', 5), ('Kachelle', 5), ('Kadavion', 5), ('Kadaysia', 5), ('Kadel', 5), ('Kadenze', 5), ('Kadera', 5), ('Kaderius', 5), ('Kadetria', 5), ('Kadezha', 5), ('Kadren', 5), ('Kadri', 5), ('Kadria', 5), ('Kaecyn', 5), ('Kaedn', 5), ('Kaeisha', 5), ('Kaelia', 5), ('Kaelyne', 5), ('Kaeman', 5), ('Kaen', 5), ('Kaery', 5), ('Kaeshon', 5), ('Kager', 5), ('Kahala', 5), ('Kahanuola', 5), ('Kahea', 5), ('Kahiem', 5), ('Kahila', 5), ('Kahlaya', 5), ('Kahleia', 5), ('Kahleya', 5), ('Kahlill', 5), ('Kahlis', 5), ('Kahlo', 5), ('Kahmar', 5), ('Kahmir', 5), ('Kahmyah', 5), ('Kahmyra', 5), ('Kahreem', 5), ('Kahrin', 5), ('Kahryn', 5), ('Kahtai', 5), ('Kaicy', 5), ('Kaidenn', 5), ('Kaido', 5), ('Kaidra', 5), ('Kaie', 5), ('Kaiky', 5), ('Kailar', 5), ('Kaileemarie', 5), ('Kaileo', 5), ('Kailiah', 5), ('Kailib', 5), ('Kaimalu', 5), ('Kaiman', 5), ('Kaimere', 5), ('Kaimilani', 5), ('Kaique', 5), ('Kaishon', 5), ('Kaisin', 5), ('Kaiston', 5), ('Kaitey', 5), ('Kaithlin', 5), ('Kaithlynn', 5), ('Kaitin', 5), ('Kaitlynmarie', 5), ('Kaivan', 5), ('Kaiyonna', 5), ('Kaiza', 5), ('Kaizleigh', 5), ('Kajana', 5), ('Kajun', 5), ('Kalaijah', 5), ('Kalanii', 5), ('Kalanni', 5), ('Kalean', 5), ('Kaleece', 5), ('Kaleela', 5), ('Kaleemah', 5), ('Kaleina', 5), ('Kaleis', 5), ('Kalek', 5), ('Kalesa', 5), ('Kalesia', 5), ('Kalexy', 5), ('Kaliece', 5), ('Kaliey', 5), ('Kalifah', 5), ('Kalill', 5), ('Kaliona', 5), ('Kalionna', 5), ('Kalisee', 5), ('Kaliyanna', 5), ('Kallea', 5), ('Kallye', 5), ('Kalmer', 5), ('Kalona', 5), ('Kalonie', 5), ('Kalp', 5), ('Kaltrina', 5), ('Kalun', 5), ('Kalyann', 5), ('Kamaar', 5), ('Kamahl', 5), ('Kamaiah', 5), ('Kamaire', 5), ('Kamarionna', 5), ('Kamarious', 5), ('Kamarre', 5), ('Kambelle', 5), ('Kamberly', 5), ('Kameal', 5), ('Kameera', 5), ('Kamelo', 5), ('Kamelya', 5), ('Kameon', 5), ('Kamion', 5), ('Kamiria', 5), ('Kamm', 5), ('Kamor', 5), ('Kamraan', 5), ('Kamryne', 5), ('Kamrynne', 5), ('Kamsiyochi', 5), ('Kamyjah', 5), ('Kamyle', 5), ('Kanaiyah', 5), ('Kanaja', 5), ('Kandle', 5), ('Kandys', 5), ('Kaneidra', 5), ('Kaneil', 5), ('Kanella', 5), ('Kanette', 5), ('Kaniala', 5), ('Kanichi', 5), ('Kanijha', 5), ('Kanila', 5), ('Kanissa', 5), ('Kaniylah', 5), ('Kanoi', 5), ('Kanora', 5), ('Kantrice', 5), ('Kanyan', 5), ('Kanyatta', 5), ('Kanyra', 5), ('Kaola', 5), ('Kaolin', 5), ('Kaon', 5), ('Kaonou', 5), ('Kapish', 5), ('Kapricia', 5), ('Karadyn', 5), ('Karalin', 5), ('Karamo', 5), ('Karamvir', 5), ('Karanbir', 5), ('Karaya', 5), ('Karcher', 5), ('Kardale', 5), ('Kareana', 5), ('Kareese', 5), ('Kareesha', 5), ('Karelie', 5), ('Kareme', 5), ('Karese', 5), ('Karibe', 5), ('Karieliz', 5), ('Karielys', 5), ('Karimen', 5), ('Kariona', 5), ('Karismah', 5), ('Kariyana', 5), ('Karlise', 5), ('Karliyah', 5), ('Karlson', 5), ('Karlyee', 5), ('Karmani', 5), ('Karmari', 5), ('Karmindy', 5), ('Karmisha', 5), ('Karnecia', 5), ('Karnel', 5), ('Karola', 5), ('Karoleigh', 5), ('Karoll', 5), ('Karrick', 5), ('Karrien', 5), ('Kartez', 5), ('Kartrina', 5), ('Karyana', 5), ('Kas', 5), ('Kasa', 5), ('Kasadie', 5), ('Kasahn', 5), ('Kaser', 5), ('Kashandra', 5), ('Kashanta', 5), ('Kashaunda', 5), ('Kasheen', 5), ('Kashema', 5), ('Kashes', 5), ('Kashmira', 5), ('Kashtian', 5), ('Kasimer', 5), ('Kasimu', 5), ('Kassandrea', 5), ('Kassara', 5), ('Kasside', 5), ('Kastriot', 5), ('Kastyn', 5), ('Kasydi', 5), ('Kasye', 5), ('Kataria', 5), ('Katavion', 5), ('Kateara', 5), ('Katelon', 5), ('Katelund', 5), ('Kater', 5), ('Katerena', 5), ('Kathay', 5), ('Katheriene', 5), ('Kathleenann', 5), ('Kathran', 5), ('Kathrean', 5), ('Kathrynann', 5), ('Kathrynanne', 5), ('Kathyern', 5), ('Kathyy', 5), ('Katierra', 5), ('Katija', 5), ('Katishia', 5), ('Katiuscia', 5), ('Katlain', 5), ('Katonna', 5), ('Katrea', 5), ('Katreen', 5), ('Katreina', 5), ('Katrenna', 5), ('Katriece', 5), ('Katrisa', 5), ('Katsue', 5), ('Katyln', 5), ('Kauai', 5), ('Kauner', 5), ('Kausha', 5), ('Kavanaugh', 5), ('Kavayah', 5), ('Kaveen', 5), ('Kaveesh', 5), ('Kaveona', 5), ('Kavik', 5), ('Kaviona', 5), ('Kaviyon', 5), ('Kavy', 5), ('Kawaiola', 5), ('Kawayne', 5), ('Kawona', 5), ('Kayannah', 5), ('Kaybre', 5), ('Kaydens', 5), ('Kaydia', 5), ('Kaydnce', 5), ('Kaydynn', 5), ('Kayelle', 5), ('Kayetta', 5), ('Kayjuan', 5), ('Kaylab', 5), ('Kaylalynn', 5), ('Kaylamae', 5), ('Kaylanne', 5), ('Kaylarae', 5), ('Kayleeh', 5), ('Kayleemae', 5), ('Kayleene', 5), ('Kayleeonna', 5), ('Kayleh', 5), ('Kaylian', 5), ('Kaylianne', 5), ('Kaylieann', 5), ('Kaylien', 5), ('Kaylisa', 5), ('Kaylix', 5), ('Kaylle', 5), ('Kaylo', 5), ('Kayme', 5), ('Kaymi', 5), ('Kaymoni', 5), ('Kayoko', 5), ('Kayoni', 5), ('Kayonia', 5), ('Kaysaan', 5), ('Kaysaun', 5), ('Kayta', 5), ('Kaytlyne', 5), ('Kayto', 5), ('Kayvonna', 5), ('Kaywin', 5), ('Kayzlie', 5), ('Kazir', 5), ('Kazmiera', 5), ('Kazuhiro', 5), ('Kazz', 5), ('Kcee', 5), ('Kdrian', 5), ('Keadrian', 5), ('Keadyn', 5), ('Keajia', 5), ('Kealana', 5), ('Keally', 5), ('Kealohi', 5), ('Keantay', 5), ('Keanua', 5), ('Kearea', 5), ('Kearius', 5), ('Kearn', 5), ('Kearson', 5), ('Kearstan', 5), ('Keasya', 5), ('Keathan', 5), ('Keayon', 5), ('Keaysia', 5), ('Keb', 5), ('Kebbie', 5), ('Kedarian', 5), ('Kedeshia', 5), ('Kedran', 5), ('Keduse', 5), ('Keedah', 5), ('Keedon', 5), ('Keeisha', 5), ('Keekee', 5), ('Keemia', 5), ('Keemon', 5), ('Keemora', 5), ('Keener', 5), ('Keenin', 5), ('Keenyn', 5), ('Keerthan', 5), ('Keeshan', 5), ('Keeson', 5), ('Keeston', 5), ('Keethan', 5), ('Keevis', 5), ('Kefentse', 5), ('Kefira', 5), ('Kehara', 5), ('Keiah', 5), ('Keiairra', 5), ('Keiaja', 5), ('Keiann', 5), ('Keiari', 5), ('Keiarriyen', 5), ('Keichia', 5), ('Keida', 5), ('Keighton', 5), ('Keikilani', 5), ('Keilia', 5), ('Keiliana', 5), ('Keimy', 5), ('Keiner', 5), ('Keiontay', 5), ('Keiralee', 5), ('Keirslyn', 5), ('Keirya', 5), ('Keischa', 5), ('Keisel', 5), ('Keishanda', 5), ('Keither', 5), ('Keithin', 5), ('Keito', 5), ('Keitric', 5), ('Keitrick', 5), ('Keiuna', 5), ('Keivn', 5), ('Keiyona', 5), ('Kejohn', 5), ('Kelab', 5), ('Kelany', 5), ('Kelbe', 5), ('Kelcei', 5), ('Keldrin', 5), ('Kelecia', 5), ('Kelesha', 5), ('Keliann', 5), ('Kelik', 5), ('Kellei', 5), ('Kelleyann', 5), ('Kellia', 5), ('Kellisa', 5), ('Kellissa', 5), ('Kellogg', 5), ('Kelman', 5), ('Kelmer', 5), ('Kelseyanne', 5), ('Kelsyn', 5), ('Keltan', 5), ('Kelveon', 5), ('Kelvy', 5), ('Kemaj', 5), ('Kemanie', 5), ('Kemarii', 5), ('Kemarley', 5), ('Kemarui', 5), ('Kemauria', 5), ('Kemaurie', 5), ('Kemberlyn', 5), ('Kemeisha', 5), ('Kemeshia', 5), ('Kemmie', 5), ('Kemone', 5), ('Kemontez', 5), ('Kemran', 5), ('Kemry', 5), ('Kemyatta', 5), ('Kenadey', 5), ('Kenaja', 5), ('Kenajah', 5), ('Kenalee', 5), ('Kenasha', 5), ('Kendar', 5), ('Kendarion', 5), ('Kendasia', 5), ('Kendayl', 5), ('Kendera', 5), ('Kenderek', 5), ('Kendley', 5), ('Kendly', 5), ('Kendol', 5), ('Kendree', 5), ('Kendrel', 5), ('Kendrica', 5), ('Kendron', 5), ('Kendrya', 5), ('Kenenth', 5), ('Kenessa', 5), ('Kenette', 5), ('Kengi', 5), ('Kenil', 5), ('Keniqua', 5), ('Keniyha', 5), ('Kenjanae', 5), ('Kenlin', 5), ('Kennay', 5), ('Kennika', 5), ('Kennydi', 5), ('Kenrie', 5), ('Kenron', 5), ('Kenshayla', 5), ('Kenshia', 5), ('Kensyn', 5), ('Kentarious', 5), ('Kenterious', 5), ('Kently', 5), ('Kentreal', 5), ('Kentrevious', 5), ('Kentron', 5), ('Kentwan', 5), ('Kenyara', 5), ('Kenyce', 5), ('Kenyea', 5), ('Kenyel', 5), ('Kenyjah', 5), ('Kenylah', 5), ('Kenz', 5), ('Kenzia', 5), ('Kenzingtyn', 5), ('Kenzlea', 5), ('Kenzye', 5), ('Keolani', 5), ('Keondray', 5), ('Keondrea', 5), ('Keonie', 5), ('Keonnie', 5), ('Keori', 5), ('Keoria', 5), ('Keorra', 5), ('Kerala', 5), ('Kerani', 5), ('Keree', 5), ('Kerica', 5), ('Kernell', 5), ('Kerrell', 5), ('Kerrisa', 5), ('Kershaw', 5), ('Keshante', 5), ('Kesharia', 5), ('Keshaunna', 5), ('Keshawndra', 5), ('Keshera', 5), ('Kesiha', 5), ('Kesly', 5), ('Kessley', 5), ('Keteria', 5), ('Ketherine', 5), ('Kethia', 5), ('Ketta', 5), ('Ketzalli', 5), ('Ketziah', 5), ('Keunta', 5), ('Kevaris', 5), ('Keveen', 5), ('Kever', 5), ('Kevinanthony', 5), ('Kevinchristophe', 5), ('Kevinmatthew', 5), ('Kevious', 5), ('Kevlin', 5), ('Kevonda', 5), ('Kevondra', 5), ('Kevontre', 5), ('Kevrick', 5), ('Kewania', 5), ('Keyair', 5), ('Keyajah', 5), ('Keyandrea', 5), ('Keyania', 5), ('Keye', 5), ('Keyerah', 5), ('Keylea', 5), ('Keyliana', 5), ('Keylianis', 5), ('Keymara', 5), ('Keymi', 5), ('Keymiyah', 5), ('Keymonie', 5), ('Keynu', 5), ('Keyontai', 5), ('Keyren', 5), ('Keyria', 5), ('Keysan', 5), ('Keyshana', 5), ('Keysia', 5), ('Keyuanna', 5), ('Keyva', 5), ('Keyveon', 5), ('Keywaun', 5), ('Kezion', 5), ('Keziya', 5), ('Kezzie', 5), ('Kfir', 5), ('Khadarius', 5), ('Khadence', 5), ('Khadijiah', 5), ('Khadisah', 5), ('Khadiyah', 5), ('Khaelynn', 5), ('Khafre', 5), ('Khairy', 5), ('Khaleesy', 5), ('Khalema', 5), ('Khalial', 5), ('Khaliek', 5), ('Khalimah', 5), ('Khalli', 5), ('Khallil', 5), ('Khamel', 5), ('Khamilah', 5), ('Khamisi', 5), ('Khamon', 5), ('Khamyla', 5), ('Khandis', 5), ('Khandra', 5), ('Kharan', 5), ('Khare', 5), ('Kharley', 5), ('Kharsyn', 5), ('Khase', 5), ('Khash', 5), ('Khatia', 5), ('Khattab', 5), ('Khawla', 5), ('Khawlah', 5), ('Khaydence', 5), ('Khayir', 5), ('Khaylani', 5), ('Khaylie', 5), ('Khea', 5), ('Kheira', 5), ('Khelen', 5), ('Kheli', 5), ('Khemari', 5), ('Khendal', 5), ('Kheng', 5), ('Khepri', 5), ('Kheyla', 5), ('Khiandra', 5), ('Khimora', 5), ('Khiron', 5), ('Khloemae', 5), ('Khloii', 5), ('Khmya', 5), ('Kholette', 5), ('Kholie', 5), ('Kholten', 5), ('Khrishna', 5), ('Khrissa', 5), ('Khristan', 5), ('Khriston', 5), ('Khylar', 5), ('Khylige', 5), ('Kialani', 5), ('Kiamara', 5), ('Kiambu', 5), ('Kiania', 5), ('Kianta', 5), ('Kiaralyn', 5), ('Kiaron', 5), ('Kiarri', 5), ('Kiary', 5), ('Kias', 5), ('Kiava', 5), ('Kiawna', 5), ('Kiayah', 5), ('Kiayanna', 5), ('Kibbie', 5), ('Kichelle', 5), ('Kidata', 5), ('Kiean', 5), ('Kieandra', 5), ('Kieasha', 5), ('Kieisha', 5), ('Kielin', 5), ('Kieralyn', 5), ('Kierica', 5), ('Kierron', 5), ('Kiersa', 5), ('Kierslyn', 5), ('Kierson', 5), ('Kiesel', 5), ('Kiffin', 5), ('Kiheem', 5), ('Kiirsten', 5), ('Kilana', 5), ('Kilburn', 5), ('Kiler', 5), ('Kiliyah', 5), ('Killis', 5), ('Kimaada', 5), ('Kimarri', 5), ('Kimatha', 5), ('Kimauri', 5), ('Kimbala', 5), ('Kimberlyy', 5), ('Kimberyl', 5), ('Kimbie', 5), ('Kimbla', 5), ('Kimbrley', 5), ('Kimchi', 5), ('Kimella', 5), ('Kimmesha', 5), ('Kimone', 5), ('Kimonie', 5), ('Kimonte', 5), ('Kimoya', 5), ('Kimura', 5), ('Kimverly', 5), ('Kinady', 5), ('Kindrea', 5), ('Kindric', 5), ('Kindsay', 5), ('Kinganthony', 5), ('Kingjoseph', 5), ('Kingstan', 5), ('Kini', 5), ('Kiniah', 5), ('Kiniesha', 5), ('Kinji', 5), ('Kinnard', 5), ('Kinneret', 5), ('Kinsasha', 5), ('Kinsely', 5), ('Kinshasha', 5), ('Kintrell', 5), ('Kinverli', 5), ('Kinverlin', 5), ('Kio', 5), ('Kioko', 5), ('Kiomi', 5), ('Kionia', 5), ('Kipenie', 5), ('Kiplin', 5), ('Kiranjot', 5), ('Kirbee', 5), ('Kirina', 5), ('Kirisa', 5), ('Kirsey', 5), ('Kirstey', 5), ('Kirwin', 5), ('Kirynn', 5), ('Kisan', 5), ('Kishanna', 5), ('Kisher', 5), ('Kishla', 5), ('Kishma', 5), ('Kishonna', 5), ('Kisia', 5), ('Kissha', 5), ('Kistina', 5), ('Kiswanna', 5), ('Kitza', 5), ('Kiwon', 5), ('Kiyami', 5), ('Kiyarah', 5), ('Kiyel', 5), ('Kiyelle', 5), ('Kiylan', 5), ('Kizuwanda', 5), ('Kizze', 5), ('Kleb', 5), ('Kleopatra', 5), ('Klifton', 5), ('Kloeigh', 5), ('Klowey', 5), ('Kmauri', 5), ('Kmaya', 5), ('Kmiya', 5), ('Kneisha', 5), ('Knicole', 5), ('Knova', 5), ('Knoxville', 5), ('Kobei', 5), ('Kodjo', 5), ('Kodyn', 5), ('Koedy', 5), ('Koesha', 5), ('Kohlee', 5), ('Kohlston', 5), ('Kokeeta', 5), ('Kokomi', 5), ('Kokou', 5), ('Koleigh', 5), ('Kolia', 5), ('Kollier', 5), ('Koltynn', 5), ('Komora', 5), ('Konika', 5), ('Konley', 5), ('Konny', 5), ('Kontrina', 5), ('Kookie', 5), ('Koorosh', 5), ('Koosha', 5), ('Kor', 5), ('Koraleigh', 5), ('Koralie', 5), ('Kordan', 5), ('Korden', 5), ('Koreem', 5), ('Koreon', 5), ('Korilyn', 5), ('Korilynn', 5), ('Korionna', 5), ('Kornel', 5), ('Kortana', 5), ('Korvyn', 5), ('Kosisochi', 5), ('Kostanty', 5), ('Kosten', 5), ('Kother', 5), ('Koti', 5), ('Kotomi', 5), ('Kotryna', 5), ('Kouhei', 5), ('Kouri', 5), ('Kourtne', 5), ('Kousuke', 5), ('Kovan', 5), ('Kovi', 5), ('Kovid', 5), ('Kowanna', 5), ('Krayson', 5), ('Krea', 5), ('Kreelynn', 5), ('Kreena', 5), ('Krenar', 5), ('Kreshnik', 5), ('Kresten', 5), ('Krillin', 5), ('Krishal', 5), ('Krishani', 5), ('Krishara', 5), ('Krishell', 5), ('Krishen', 5), ('Krishil', 5), ('Krishina', 5), ('Krishona', 5), ('Krishtian', 5), ('Krishunna', 5), ('Krisit', 5), ('Krisley', 5), ('Krisopher', 5), ('Krispin', 5), ('Kristalle', 5), ('Kristepher', 5), ('Kristieann', 5), ('Kristiena', 5), ('Kristijo', 5), ('Kristinejoy', 5), ('Kristinn', 5), ('Kristlynn', 5), ('Kristopfer', 5), ('Kristupas', 5), ('Kristyanne', 5), ('Kritina', 5), ('Kriyansh', 5), ('Kriztian', 5), ('Kros', 5), ('Kruize', 5), ('Krush', 5), ('Krya', 5), ('Krystabella', 5), ('Krystaline', 5), ('Krystallee', 5), ('Krystalmae', 5), ('Krystalmarie', 5), ('Krystalrose', 5), ('Krystalynne', 5), ('Krysteen', 5), ('Krystoffer', 5), ('Kryton', 5), ('Kryztal', 5), ('Ksandra', 5), ('Ktherine', 5), ('Kubrick', 5), ('Kudura', 5), ('Kuhu', 5), ('Kullyn', 5), ('Kumani', 5), ('Kumi', 5), ('Kundana', 5), ('Kuniko', 5), ('Kuno', 5), ('Kunsh', 5), ('Kupaa', 5), ('Kurby', 5), ('Kurie', 5), ('Kursti', 5), ('Kurth', 5), ('Kurtina', 5), ('Kurtlin', 5), ('Kurtlyn', 5), ('Kuwan', 5), ('Kuwana', 5), ('Kuwanda', 5), ('Kuwanna', 5), ('Kwamae', 5), ('Kwamayne', 5), ('Kwamin', 5), ('Kwang', 5), ('Kwaniqua', 5), ('Kwanze', 5), ('Kwashawn', 5), ('Kwaun', 5), ('Kwayera', 5), ('Kwinn', 5), ('Kwok', 5), ('Kwuan', 5), ('Kyairra', 5), ('Kyalee', 5), ('Kyalo', 5), ('Kycia', 5), ('Kyelar', 5), ('Kyer', 5), ('Kyerstin', 5), ('Kyeson', 5), ('Kyhiem', 5), ('Kyhlee', 5), ('Kyiren', 5), ('Kylamarie', 5), ('Kylealexander', 5), ('Kyleek', 5), ('Kyleemarie', 5), ('Kylem', 5), ('Kylese', 5), ('Kylesha', 5), ('Kylicia', 5), ('Kylis', 5), ('Kylun', 5), ('Kymanie', 5), ('Kymar', 5), ('Kymarley', 5), ('Kymauri', 5), ('Kymaya', 5), ('Kymbella', 5), ('Kymberle', 5), ('Kymeir', 5), ('Kymeshia', 5), ('Kyndi', 5), ('Kyndyl', 5), ('Kyneisha', 5), ('Kynnady', 5), ('Kyntrell', 5), ('Kyonne', 5), ('Kyosuke', 5), ('Kypten', 5), ('Kyptin', 5), ('Kyralynn', 5), ('Kyrea', 5), ('Kyrek', 5), ('Kyreon', 5), ('Kyresha', 5), ('Kyrha', 5), ('Kyrien', 5), ('Kyrsta', 5), ('Kyse', 5), ('Kyshana', 5), ('Kysia', 5), ('Kystin', 5), ('Kytalin', 5), ('Kyten', 5), ('Kyuana', 5), ('Kyvion', 5), ('Kywanna', 5), ('Laangela', 5), ('Laanthony', 5), ('Laborn', 5), ('Labraya', 5), ('Labreya', 5), ('Labreyah', 5), ('Labritney', 5), ('Lacalvin', 5), ('Lacasha', 5), ('Lacci', 5), ('Lacelyn', 5), ('Lacen', 5), ('Lachara', 5), ('Lachisa', 5), ('Lachisha', 5), ('Lachonne', 5), ('Lachristy', 5), ('Lachundra', 5), ('Laciann', 5), ('Lacondra', 5), ('Lacorya', 5), ('Ladanna', 5), ('Ladara', 5), ('Ladaveon', 5), ('Ladavian', 5), ('Ladavid', 5), ('Ladayja', 5), ('Ladaynian', 5), ('Ladaysia', 5), ('Ladeidre', 5), ('Laderrian', 5), ('Ladijah', 5), ('Ladimer', 5), ('Ladonda', 5), ('Ladonja', 5), ('Ladontay', 5), ('Ladreama', 5), ('Ladreka', 5), ('Laeken', 5), ('Laella', 5), ('Laeuna', 5), ('Laeyah', 5), ('Lafeyette', 5), ('Lafonzo', 5), ('Lafran', 5), ('Lafrancine', 5), ('Lafrederick', 5), ('Lah', 5), ('Lahla', 5), ('Lahni', 5), ('Lahonda', 5), ('Laici', 5), ('Laida', 5), ('Laidy', 5), ('Laighton', 5), ('Laike', 5), ('Laileen', 5), ('Laileigh', 5), ('Lailiana', 5), ('Lailonnie', 5), ('Laiona', 5), ('Lairen', 5), ('Lajace', 5), ('Lajauna', 5), ('Lajayceon', 5), ('Lakayden', 5), ('Lakeah', 5), ('Lakedrick', 5), ('Lakeela', 5), ('Lakeetha', 5), ('Lakeida', 5), ('Lakel', 5), ('Lakelan', 5), ('Lakeley', 5), ('Lakell', 5), ('Lakemia', 5), ('Lakenzi', 5), ('Lakersha', 5), ('Lakeshea', 5), ('Lakessha', 5), ('Lakey', 5), ('Lakeycha', 5), ('Lakeydra', 5), ('Laki', 5), ('Lakiaya', 5), ('Lakieshia', 5), ('Lakinia', 5), ('Lakista', 5), ('Lakitia', 5), ('Lakitra', 5), ('Lakitsha', 5), ('Lakley', 5), ('Lakshmy', 5), ('Laksmi', 5), ('Lakwanzaa', 5), ('Lakye', 5), ('Lakyndra', 5), ('Lakyrah', 5), ('Lalainia', 5), ('Lalar', 5), ('Laleah', 5), ('Lalenia', 5), ('Laleta', 5), ('Lalicia', 5), ('Lalit', 5), ('Lalith', 5), ('Lamanuel', 5), ('Lamarqus', 5), ('Lamarra', 5), ('Lamarus', 5), ('Lamb', 5), ('Lamea', 5), ('Lameer', 5), ('Lameir', 5), ('Lamera', 5), ('Lamese', 5), ('Lameya', 5), ('Lamiek', 5), ('Lamirra', 5), ('Lamontray', 5), ('Lamoria', 5), ('Lamyla', 5), ('Lanaea', 5), ('Lanaija', 5), ('Lanajia', 5), ('Lanayja', 5), ('Lanayshia', 5), ('Lancaster', 5), ('Lancing', 5), ('Landdon', 5), ('Landel', 5), ('Landenn', 5), ('Landris', 5), ('Lanece', 5), ('Laneise', 5), ('Lanekia', 5), ('Lanena', 5), ('Lanesa', 5), ('Laneva', 5), ('Lange', 5), ('Laniyia', 5), ('Lannes', 5), ('Lannetta', 5), ('Lannon', 5), ('Lantanya', 5), ('Lanvy', 5), ('Lanyard', 5), ('Lanye', 5), ('Lanylah', 5), ('Lanyra', 5), ('Laoma', 5), ('Lapatra', 5), ('Lapearl', 5), ('Laphonso', 5), ('Laporchea', 5), ('Laquail', 5), ('Laquain', 5), ('Laquavion', 5), ('Laquavius', 5), ('Laquel', 5), ('Laquesta', 5), ('Laquetha', 5), ('Laquicha', 5), ('Laquietta', 5), ('Laquil', 5), ('Laquin', 5), ('Laquinthia', 5), ('Laquise', 5), ('Laquite', 5), ('Laqundra', 5), ('Laqusha', 5), ('Laraea', 5), ('Laralyn', 5), ('Laraye', 5), ('Larce', 5), ('Larea', 5), ('Larean', 5), ('Larecia', 5), ('Lareco', 5), ('Larenza', 5), ('Larez', 5), ('Laricka', 5), ('Lariesha', 5), ('Larion', 5), ('Larionna', 5), ('Laritha', 5), ('Larizza', 5), ('Larnelle', 5), ('Larnette', 5), ('Larnice', 5), ('Larobert', 5), ('Larodney', 5), ('Laroi', 5), ('Larosha', 5), ('Larre', 5), ('Larrene', 5), ('Larreon', 5), ('Larriah', 5), ('Larrica', 5), ('Larriesha', 5), ('Larrine', 5), ('Larrry', 5), ('Larsa', 5), ('Larsson', 5), ('Lartha', 5), ('Lasara', 5), ('Lasaunda', 5), ('Lascelles', 5), ('Lasco', 5), ('Lasedrick', 5), ('Lashalle', 5), ('Lasheia', 5), ('Lashelia', 5), ('Lasherrie', 5), ('Lasheryl', 5), ('Lasheta', 5), ('Lashley', 5), ('Lashown', 5), ('Lashowna', 5), ('Lashundia', 5), ('Lashunti', 5), ('Lashunya', 5), ('Lashurn', 5), ('Lastasia', 5), ('Lata', 5), ('Latae', 5), ('Latai', 5), ('Lataivia', 5), ('Lataiya', 5), ('Latangie', 5), ('Latanisha', 5), ('Latanyia', 5), ('Latarah', 5), ('Latari', 5), ('Latarsia', 5), ('Latassha', 5), ('Latatia', 5), ('Latavea', 5), ('Lataveon', 5), ('Latawn', 5), ('Latayia', 5), ('Lateaka', 5), ('Latease', 5), ('Lateashia', 5), ('Lateela', 5), ('Latefah', 5), ('Lateika', 5), ('Latela', 5), ('Laten', 5), ('Latenya', 5), ('Laterian', 5), ('Laterrell', 5), ('Latevia', 5), ('Lathena', 5), ('Lathomas', 5), ('Latiea', 5), ('Latief', 5), ('Latissia', 5), ('Latissue', 5), ('Latodd', 5), ('Latoina', 5), ('Latorrance', 5), ('Latorri', 5), ('Latoyla', 5), ('Latoyra', 5), ('Latracy', 5), ('Latrasha', 5), ('Latrayvion', 5), ('Latreca', 5), ('Latreena', 5), ('Latreka', 5), ('Latric', 5), ('Latroyia', 5), ('Latu', 5), ('Latyia', 5), ('Latyna', 5), ('Lauar', 5), ('Lauchlin', 5), ('Lauda', 5), ('Laudan', 5), ('Launda', 5), ('Launia', 5), ('Laurenelizabeth', 5), ('Laurentine', 5), ('Laurett', 5), ('Lauriane', 5), ('Laurica', 5), ('Lauriston', 5), ('Laurrine', 5), ('Lauryne', 5), ('Lauvenia', 5), ('Lavall', 5), ('Lavancha', 5), ('Lavara', 5), ('Lavare', 5), ('Laveen', 5), ('Lavenna', 5), ('Lavernon', 5), ('Laveryl', 5), ('Lavia', 5), ('Lavickie', 5), ('Lavinnia', 5), ('Lavoid', 5), ('Lavondia', 5), ('Lawaia', 5), ('Lawanika', 5), ('Lawaun', 5), ('Lawell', 5), ('Lawenda', 5), ('Lawhitney', 5), ('Lawney', 5), ('Lawrin', 5), ('Layanie', 5), ('Layanne', 5), ('Laydell', 5), ('Layeska', 5), ('Layland', 5), ('Laylanna', 5), ('Laylina', 5), ('Laylyn', 5), ('Layron', 5), ('Layvonne', 5), ('Lazare', 5), ('Lazareth', 5), ('Lazariyah', 5), ('Lazell', 5), ('Lazhane', 5), ('Lazzaro', 5), ('Ldarius', 5), ('Leady', 5), ('Leagh', 5), ('Leahgrace', 5), ('Leahrae', 5), ('Leahrose', 5), ('Leandrae', 5), ('Leandros', 5), ('Leanetta', 5), ('Leanner', 5), ('Learlene', 5), ('Learon', 5), ('Learta', 5), ('Leatricia', 5), ('Leavitt', 5), ('Leavon', 5), ('Leaysia', 5), ('Lebern', 5), ('Lebria', 5), ('Lech', 5), ('Lecole', 5), ('Lecory', 5), ('Ledaniel', 5), ('Ledeja', 5), ('Ledel', 5), ('Leeanah', 5), ('Leeander', 5), ('Leeannah', 5), ('Leeara', 5), ('Leeat', 5), ('Leecy', 5), ('Leedward', 5), ('Leeila', 5), ('Leejay', 5), ('Leelani', 5), ('Leemarie', 5), ('Leeoma', 5), ('Leequan', 5), ('Leeric', 5), ('Leeshaun', 5), ('Leetal', 5), ('Leevan', 5), ('Leeward', 5), ('Legendary', 5), ('Lehiwa', 5), ('Lehna', 5), ('Leiahna', 5), ('Leicha', 5), ('Leicia', 5), ('Leighia', 5), ('Leighlan', 5), ('Leightan', 5), ('Leihlani', 5), ('Leilaann', 5), ('Leilamarie', 5), ('Leilauni', 5), ('Leilena', 5), ('Leilend', 5), ('Leilonie', 5), ('Leilonnie', 5), ('Leilynd', 5), ('Leini', 5), ('Leionna', 5), ('Leire', 5), ('Leishla', 5), ('Leithan', 5), ('Leizel', 5), ('Lejoyce', 5), ('Lekai', 5), ('Lekayla', 5), ('Lekedia', 5), ('Lekendric', 5), ('Lekhi', 5), ('Lelanya', 5), ('Lelea', 5), ('Lelianna', 5), ('Lelie', 5), ('Lelind', 5), ('Lelita', 5), ('Leloni', 5), ('Lemarco', 5), ('Lemari', 5), ('Lemisha', 5), ('Lemmon', 5), ('Lemonica', 5), ('Lemorris', 5), ('Lenai', 5), ('Lenar', 5), ('Lendol', 5), ('Lendra', 5), ('Lenear', 5), ('Lenecia', 5), ('Lenes', 5), ('Lenett', 5), ('Lenley', 5), ('Lennel', 5), ('Lenneth', 5), ('Lennett', 5), ('Lennia', 5), ('Lens', 5), ('Lensa', 5), ('Lensy', 5), ('Lent', 5), ('Lenz', 5), ('Leoba', 5), ('Leokadja', 5), ('Leonaldo', 5), ('Leondrus', 5), ('Leonice', 5), ('Leonide', 5), ('Leonis', 5), ('Leonise', 5), ('Leonisha', 5), ('Leonnah', 5), ('Leontre', 5), ('Leonydus', 5), ('Leother', 5), ('Leoul', 5), ('Leovigildo', 5), ('Lequinton', 5), ('Lequitta', 5), ('Lequon', 5), ('Lerald', 5), ('Lerena', 5), ('Leriah', 5), ('Lerico', 5), ('Lerita', 5), ('Lerome', 5), ('Leshanta', 5), ('Leshauna', 5), ('Leshaundra', 5), ('Leshawnda', 5), ('Lesheena', 5), ('Lesheka', 5), ('Leslly', 5), ('Letah', 5), ('Lethe', 5), ('Lethel', 5), ('Letrecia', 5), ('Letrese', 5), ('Letriana', 5), ('Letrica', 5), ('Letrina', 5), ('Lettia', 5), ('Letwan', 5), ('Leuvenia', 5), ('Levane', 5), ('Levani', 5), ('Levant', 5), ('Levata', 5), ('Levaun', 5), ('Leve', 5), ('Levearn', 5), ('Levee', 5), ('Levella', 5), ('Leveon', 5), ('Leverda', 5), ('Leverette', 5), ('Levertis', 5), ('Levion', 5), ('Levity', 5), ('Levonna', 5), ('Levorne', 5), ('Lewann', 5), ('Lewella', 5), ('Lexandria', 5), ('Lexandro', 5), ('Lexanne', 5), ('Lexcee', 5), ('Lexcie', 5), ('Lexe', 5), ('Lexiee', 5), ('Lexilynn', 5), ('Lexsie', 5), ('Lexsy', 5), ('Leyat', 5), ('Leycester', 5), ('Leylan', 5), ('Leyre', 5), ('Lezer', 5), ('Lg', 5), ('Lhea', 5), ('Lialah', 5), ('Liamalexander', 5), ('Lianabel', 5), ('Libeth', 5), ('Lica', 5), ('Liczy', 5), ('Lidea', 5), ('Lidio', 5), ('Liedson', 5), ('Lienna', 5), ('Liette', 5), ('Lieza', 5), ('Ligeia', 5), ('Ligita', 5), ('Likhitha', 5), ('Lilany', 5), ('Liliano', 5), ('Lilica', 5), ('Lilirose', 5), ('Lilita', 5), ('Liliyanna', 5), ('Lilleeana', 5), ('Lillianrose', 5), ('Lilliyn', 5), ('Lillya', 5), ('Lillyah', 5), ('Lillyjo', 5), ('Lillykate', 5), ('Lillymay', 5), ('Liloa', 5), ('Lilyaunna', 5), ('Lilylynn', 5), ('Lilymay', 5), ('Linay', 5), ('Lindaa', 5), ('Lindamaria', 5), ('Lindella', 5), ('Lindly', 5), ('Linen', 5), ('Lingxi', 5), ('Linhchi', 5), ('Linie', 5), ('Liniyah', 5), ('Linly', 5), ('Linnard', 5), ('Linnda', 5), ('Linneah', 5), ('Linnis', 5), ('Linsley', 5), ('Linson', 5), ('Linza', 5), ('Linzell', 5), ('Lirije', 5), ('Lisah', 5), ('Lisajean', 5), ('Lisbon', 5), ('Lised', 5), ('Liseli', 5), ('Lisiate', 5), ('Lissbet', 5), ('Lissianna', 5), ('Lisvette', 5), ('Litonia', 5), ('Litta', 5), ('Litza', 5), ('Lius', 5), ('Livana', 5), ('Livea', 5), ('Livee', 5), ('Livija', 5), ('Liyanah', 5), ('Lizabelle', 5), ('Lize', 5), ('Lizeht', 5), ('Lizethe', 5), ('Lizhet', 5), ('Lizneidy', 5), ('Llanet', 5), ('Llarely', 5), ('Llayla', 5), ('Llecenia', 5), ('Lloana', 5), ('Llovani', 5), ('Lloydine', 5), ('Lloyed', 5), ('Lluvy', 5), ('Loagen', 5), ('Loai', 5), ('Loarine', 5), ('Lobsang', 5), ('Lochlainn', 5), ('Lochlen', 5), ('Locksley', 5), ('Lodine', 5), ('Loften', 5), ('Logahn', 5), ('Loganjames', 5), ('Logene', 5), ('Logunn', 5), ('Lohan', 5), ('Lohn', 5), ('Lolabelle', 5), ('Lolan', 5), ('Loleatta', 5), ('Lolethia', 5), ('Lomant', 5), ('Lonard', 5), ('Londi', 5), ('Londo', 5), ('Londonn', 5), ('Londonrose', 5), ('Londrea', 5), ('Lonesha', 5), ('Lonika', 5), ('Lonnesha', 5), ('Lonnia', 5), ('Lonniesha', 5), ('Lonnita', 5), ('Lonyea', 5), ('Loramae', 5), ('Lorde', 5), ('Loreene', 5), ('Loreeta', 5), ('Lorenn', 5), ('Lorensa', 5), ('Lorida', 5), ('Loriell', 5), ('Loriena', 5), ('Lorilai', 5), ('Lornalee', 5), ('Lorrel', 5), ('Lorrenda', 5), ('Lorrenzo', 5), ('Lorreta', 5), ('Lorrian', 5), ('Lorrisa', 5), ('Loryanna', 5), ('Loryssa', 5), ('Losie', 5), ('Lotaya', 5), ('Lotella', 5), ('Lotha', 5), ('Lothrop', 5), ('Lotty', 5), ('Louaine', 5), ('Louard', 5), ('Loubelle', 5), ('Loudella', 5), ('Louina', 5), ('Louiseann', 5), ('Louisette', 5), ('Louisia', 5), ('Louka', 5), ('Louna', 5), ('Lourdine', 5), ('Lourence', 5), ('Lourinda', 5), ('Lourita', 5), ('Loutricia', 5), ('Louvada', 5), ('Louvine', 5), ('Loval', 5), ('Lovelia', 5), ('Loveya', 5), ('Lovine', 5), ('Lovonda', 5), ('Low', 5), ('Lowayne', 5), ('Loweta', 5), ('Lowrie', 5), ('Lowrine', 5), ('Loya', 5), ('Loyall', 5), ('Loycie', 5), ('Lozell', 5), ('Lrey', 5), ('Luar', 5), ('Lubby', 5), ('Lubell', 5), ('Luberdie', 5), ('Lubina', 5), ('Lucais', 5), ('Lucanus', 5), ('Lucchese', 5), ('Luceile', 5), ('Lucell', 5), ('Lucenia', 5), ('Lucertia', 5), ('Luchanna', 5), ('Luchia', 5), ('Luchiana', 5), ('Luchious', 5), ('Luciele', 5), ('Lucienna', 5), ('Lucija', 5), ('Lucinia', 5), ('Lucja', 5), ('Luck', 5), ('Lucya', 5), ('Lucymarie', 5), ('Lucyrose', 5), ('Luddy', 5), ('Ludvina', 5), ('Ludwell', 5), ('Luease', 5), ('Lueberta', 5), ('Luedella', 5), ('Luedora', 5), ('Luel', 5), ('Luelle', 5), ('Luereatha', 5), ('Lueretha', 5), ('Lueseal', 5), ('Luetricia', 5), ('Lueva', 5), ('Luevertha', 5), ('Lugardita', 5), ('Lugman', 5), ('Luida', 5), ('Luigino', 5), ('Luisandro', 5), ('Luisarmando', 5), ('Luisjavier', 5), ('Lujack', 5), ('Lujuan', 5), ('Lukacs', 5), ('Lukaus', 5), ('Lukeanthony', 5), ('Luler', 5), ('Luley', 5), ('Luly', 5), ('Luong', 5), ('Lurah', 5), ('Luraine', 5), ('Lural', 5), ('Lurenda', 5), ('Lurlee', 5), ('Lurlyne', 5), ('Lurton', 5), ('Lusana', 5), ('Luserito', 5), ('Lusetta', 5), ('Lusha', 5), ('Lushawn', 5), ('Lushonda', 5), ('Lushus', 5), ('Lusio', 5), ('Lusvin', 5), ('Lutina', 5), ('Lutishia', 5), ('Lutrecia', 5), ('Lutz', 5), ('Luu', 5), ('Luukas', 5), ('Luvella', 5), ('Luvender', 5), ('Luvert', 5), ('Luvonia', 5), ('Luvonne', 5), ('Luxanna', 5), ('Luxton', 5), ('Luxy', 5), ('Luzdari', 5), ('Luzenia', 5), ('Luzette', 5), ('Luzmila', 5), ('Lyanie', 5), ('Lycinda', 5), ('Lycrecia', 5), ('Lydale', 5), ('Lyddia', 5), ('Lydianne', 5), ('Lydya', 5), ('Lyelah', 5), ('Lyia', 5), ('Lyjah', 5), ('Lylarose', 5), ('Lyliann', 5), ('Lyllyan', 5), ('Lynal', 5), ('Lynder', 5), ('Lyndsae', 5), ('Lynis', 5), ('Lynissa', 5), ('Lyniya', 5), ('Lynndsey', 5), ('Lynneann', 5), ('Lynnessa', 5), ('Lynnete', 5), ('Lynnlea', 5), ('Lyron', 5), ('Lyshon', 5), ('Lytina', 5), ('Lytzi', 5), ('Lyzandra', 5), ('Maaha', 5), ('Maahika', 5), ('Maahira', 5), ('Maaseiah', 5), ('Mabelin', 5), ('Mabil', 5), ('Mabinty', 5), ('Macailah', 5), ('Macara', 5), ('Macauly', 5), ('Maceon', 5), ('Mach', 5), ('Machias', 5), ('Machiavelli', 5), ('Mackaela', 5), ('Mackala', 5), ('Mackaylah', 5), ('Mackenley', 5), ('Mackenlie', 5), ('Mackensy', 5), ('Macola', 5), ('Maddielyn', 5), ('Maddoux', 5), ('Maddylynn', 5), ('Madelane', 5), ('Madellyne', 5), ('Madelys', 5), ('Madgel', 5), ('Madiba', 5), ('Madicella', 5), ('Madisongrace', 5), ('Madiyson', 5), ('Madlynne', 5), ('Madrene', 5), ('Madrox', 5), ('Maebri', 5), ('Maeda', 5), ('Maelana', 5), ('Maelina', 5), ('Maeliyah', 5), ('Maelo', 5), ('Maelynne', 5), ('Maemi', 5), ('Maerose', 5), ('Maeta', 5), ('Maevry', 5), ('Maezy', 5), ('Magalena', 5), ('Magavi', 5), ('Magdali', 5), ('Magdaly', 5), ('Magena', 5), ('Maggen', 5), ('Magi', 5), ('Maguerite', 5), ('Mah', 5), ('Mahadev', 5), ('Mahalet', 5), ('Mahaliah', 5), ('Mahammad', 5), ('Mahaylee', 5), ('Mahaylia', 5), ('Mahde', 5), ('Mahely', 5), ('Mahib', 5), ('Mahie', 5), ('Mahirah', 5), ('Mahisha', 5), ('Mahkhi', 5), ('Mahkiya', 5), ('Mahkyla', 5), ('Mahlah', 5), ('Mahlek', 5), ('Mahlena', 5), ('Mahoganee', 5), ('Maialen', 5), ('Maica', 5), ('Maicyn', 5), ('Maide', 5), ('Maider', 5), ('Maidson', 5), ('Maier', 5), ('Maigon', 5), ('Maiha', 5), ('Maiki', 5), ('Mailea', 5), ('Mailing', 5), ('Mailon', 5), ('Maina', 5), ('Mainou', 5), ('Maireli', 5), ('Maita', 5), ('Maiti', 5), ('Majeeda', 5), ('Majestie', 5), ('Majida', 5), ('Majik', 5), ('Majken', 5), ('Majorlynn', 5), ('Majuma', 5), ('Majur', 5), ('Makada', 5), ('Makaily', 5), ('Makalani', 5), ('Makalea', 5), ('Makalei', 5), ('Makanalei', 5), ('Makanna', 5), ('Makao', 5), ('Makarah', 5), ('Makarie', 5), ('Makasia', 5), ('Makauri', 5), ('Makayiah', 5), ('Makayliah', 5), ('Makayln', 5), ('Makelah', 5), ('Makennzie', 5), ('Makenzly', 5), ('Makesia', 5), ('Maketta', 5), ('Makhaya', 5), ('Makiala', 5), ('Makieh', 5), ('Makiel', 5), ('Makiley', 5), ('Makinnah', 5), ('Makkiyah', 5), ('Makston', 5), ('Makynlei', 5), ('Malacia', 5), ('Malack', 5), ('Malaena', 5), ('Malaine', 5), ('Malajia', 5), ('Malakei', 5), ('Malany', 5), ('Malanya', 5), ('Malav', 5), ('Malchijah', 5), ('Malcohm', 5), ('Malden', 5), ('Maleaya', 5), ('Maleesa', 5), ('Maleha', 5), ('Malei', 5), ('Malenna', 5), ('Malesia', 5), ('Malex', 5), ('Malialani', 5), ('Malicai', 5), ('Malicka', 5), ('Malieya', 5), ('Malikaih', 5), ('Malikiya', 5), ('Malira', 5), ('Mallard', 5), ('Mallia', 5), ('Mallina', 5), ('Malonda', 5), ('Malquan', 5), ('Maltie', 5), ('Malton', 5), ('Maluhia', 5), ('Malulani', 5), ('Malvie', 5), ('Malwina', 5), ('Mamadu', 5), ('Mamy', 5), ('Manada', 5), ('Manaure', 5), ('Manavi', 5), ('Mancie', 5), ('Mandala', 5), ('Mandalin', 5), ('Mandre', 5), ('Mandye', 5), ('Manee', 5), ('Maneesha', 5), ('Manfredo', 5), ('Manifred', 5), ('Manijeh', 5), ('Manisa', 5), ('Manita', 5), ('Manjinder', 5), ('Manogna', 5), ('Manoy', 5), ('Manshi', 5), ('Manthan', 5), ('Mantra', 5), ('Manuell', 5), ('Manul', 5), ('Manvil', 5), ('Manwell', 5), ('Manzell', 5), ('Mapuana', 5), ('Maquetta', 5), ('Maraam', 5), ('Maradee', 5), ('Maradith', 5), ('Marali', 5), ('Maralou', 5), ('Marandia', 5), ('Marbeya', 5), ('Marceen', 5), ('Marcelin', 5), ('Marcion', 5), ('Marckel', 5), ('Marckos', 5), ('Marclene', 5), ('Marcoa', 5), ('Marcopolo', 5), ('Marctavious', 5), ('Marcuse', 5), ('Marcusjames', 5), ('Marcyanna', 5), ('Mardena', 5), ('Mardith', 5), ('Mareck', 5), ('Mareike', 5), ('Mareily', 5), ('Marel', 5), ('Marelle', 5), ('Mareme', 5), ('Maressia', 5), ('Mareyah', 5), ('Margaretanne', 5), ('Margaretjo', 5), ('Margaro', 5), ('Margearet', 5), ('Margelene', 5), ('Margeree', 5), ('Margerete', 5), ('Margette', 5), ('Margretha', 5), ('Marguel', 5), ('Margueriette', 5), ('Margueritta', 5), ('Marguery', 5), ('Margulia', 5), ('Marguree', 5), ('Marhia', 5), ('Mariaann', 5), ('Mariaantonia', 5), ('Mariadelos', 5), ('Mariae', 5), ('Mariaelisa', 5), ('Mariaemilia', 5), ('Mariagrazia', 5), ('Mariahna', 5), ('Marialana', 5), ('Marialicia', 5), ('Marianely', 5), ('Mariangeles', 5), ('Mariannah', 5), ('Mariasha', 5), ('Mariaya', 5), ('Maric', 5), ('Maricely', 5), ('Maricelys', 5), ('Maricha', 5), ('Marichuy', 5), ('Maricrus', 5), ('Marid', 5), ('Maridean', 5), ('Marieana', 5), ('Marieange', 5), ('Mariejeanne', 5), ('Marigail', 5), ('Marijana', 5), ('Marijuana', 5), ('Marike', 5), ('Marileen', 5), ('Marilina', 5), ('Marilinda', 5), ('Marilis', 5), ('Marilon', 5), ('Marinee', 5), ('Marinette', 5), ('Marinez', 5), ('Marini', 5), ('Mariolita', 5), ('Mariques', 5), ('Mariruth', 5), ('Marisely', 5), ('Marish', 5), ('Marisleysi', 5), ('Marista', 5), ('Maritzabel', 5), ('Mariuxi', 5), ('Marivell', 5), ('Mariyonna', 5), ('Marje', 5), ('Marjeanne', 5), ('Markaysha', 5), ('Markaysia', 5), ('Markdavid', 5), ('Markeas', 5), ('Markease', 5), ('Markeida', 5), ('Markena', 5), ('Markera', 5), ('Markess', 5), ('Markest', 5), ('Markette', 5), ('Markeveon', 5), ('Markevus', 5), ('Markeys', 5), ('Markiee', 5), ('Marking', 5), ('Markishia', 5), ('Markk', 5), ('Markkevin', 5), ('Markki', 5), ('Markkus', 5), ('Markquan', 5), ('Markryan', 5), ('Markwan', 5), ('Markwilliam', 5), ('Markyia', 5), ('Marlanda', 5), ('Marlaysha', 5), ('Marlecia', 5), ('Marleigha', 5), ('Marleisha', 5), ('Marlenny', 5), ('Marletha', 5), ('Marleyjane', 5), ('Marlice', 5), ('Marliee', 5), ('Marliegh', 5), ('Marlika', 5), ('Marlvin', 5), ('Marlynda', 5), ('Marlynne', 5), ('Marnella', 5), ('Marneshia', 5), ('Marniqua', 5), ('Marniyah', 5), ('Marqell', 5), ('Marqies', 5), ('Marqis', 5), ('Marquael', 5), ('Marquas', 5), ('Marqueal', 5), ('Marqueen', 5), ('Marqueeta', 5), ('Marquettia', 5), ('Marquevious', 5), ('Marquian', 5), ('Marquille', 5), ('Marquina', 5), ('Marquinta', 5), ('Marquitha', 5), ('Marqurita', 5), ('Marreco', 5), ('Marrick', 5), ('Marrk', 5), ('Marsadie', 5), ('Marsea', 5), ('Marselo', 5), ('Marsenio', 5), ('Marsetta', 5), ('Marshalene', 5), ('Marshalle', 5), ('Marshie', 5), ('Marshonda', 5), ('Marsinah', 5), ('Marsue', 5), ('Martaja', 5), ('Martaveous', 5), ('Martee', 5), ('Marteeka', 5), ('Marteisha', 5), ('Marterius', 5), ('Marterrion', 5), ('Martes', 5), ('Marthaann', 5), ('Marthalene', 5), ('Martianna', 5), ('Martiel', 5), ('Martijn', 5), ('Martile', 5), ('Martinis', 5), ('Martique', 5), ('Martrail', 5), ('Martravius', 5), ('Martrina', 5), ('Martwan', 5), ('Martwon', 5), ('Marval', 5), ('Marvaline', 5), ('Marvan', 5), ('Marve', 5), ('Marveon', 5), ('Marvi', 5), ('Marvic', 5), ('Marvil', 5), ('Marvilla', 5), ('Marvlene', 5), ('Marycaroline', 5), ('Marycela', 5), ('Marychristina', 5), ('Maryelaine', 5), ('Maryellis', 5), ('Maryellyn', 5), ('Maryfaith', 5), ('Maryha', 5), ('Maryhannah', 5), ('Maryjune', 5), ('Maryka', 5), ('Marylean', 5), ('Marylena', 5), ('Marylinn', 5), ('Marysabel', 5), ('Maryterese', 5), ('Maryury', 5), ('Maryvel', 5), ('Marzavion', 5), ('Masakatsu', 5), ('Masal', 5), ('Masani', 5), ('Masataka', 5), ('Mascen', 5), ('Mashari', 5), ('Mashauna', 5), ('Mashaunda', 5), ('Mashay', 5), ('Mashea', 5), ('Mashunda', 5), ('Masia', 5), ('Maslin', 5), ('Masooma', 5), ('Masuma', 5), ('Masynn', 5), ('Matella', 5), ('Matelynn', 5), ('Mateyo', 5), ('Matheos', 5), ('Mathie', 5), ('Mathiew', 5), ('Mathijs', 5), ('Mathyas', 5), ('Mathyis', 5), ('Matiah', 5), ('Maticia', 5), ('Matildia', 5), ('Matilee', 5), ('Matiya', 5), ('Matline', 5), ('Matlock', 5), ('Matney', 5), ('Matsuichi', 5), ('Mattaniah', 5), ('Mattaya', 5), ('Matten', 5), ('Matthea', 5), ('Mattheq', 5), ('Matthewdavid', 5), ('Matthrew', 5), ('Matus', 5), ('Mau', 5), ('Maudestine', 5), ('Maudra', 5), ('Maulin', 5), ('Maung', 5), ('Maurece', 5), ('Maurey', 5), ('Mauricus', 5), ('Mauriella', 5), ('Maurietta', 5), ('Maurin', 5), ('Maurus', 5), ('Mavelyn', 5), ('Maverix', 5), ('Mavia', 5), ('Maximili', 5), ('Maximilion', 5), ('Maxola', 5), ('Maxwill', 5), ('Maxxamus', 5), ('Maxxen', 5), ('Maxymus', 5), ('Maxyn', 5), ('Mayalyn', 5), ('Mayann', 5), ('Maybre', 5), ('Maydee', 5), ('Maydeen', 5), ('Maydel', 5), ('Mayghan', 5), ('Mayha', 5), ('Mayher', 5), ('Mayisha', 5), ('Maykaylee', 5), ('Maykol', 5), ('Mayly', 5), ('Maymouna', 5), ('Maynie', 5), ('Mayolo', 5), ('Mayree', 5), ('Mayrel', 5), ('Mayrelin', 5), ('Mayrely', 5), ('Mayreni', 5), ('Maysea', 5), ('Mayzelle', 5), ('Maz', 5), ('Mazani', 5), ('Mazaria', 5), ('Mazhar', 5), ('Mazle', 5), ('Mazyah', 5), ('Mcalister', 5), ('Mccarty', 5), ('Mcchael', 5), ('Mcconnell', 5), ('Mchael', 5), ('Mcihelle', 5), ('Mckail', 5), ('Mckailah', 5), ('Mckaleb', 5), ('Mckaleigh', 5), ('Mckaye', 5), ('Mckayli', 5), ('Mckean', 5), ('Mckee', 5), ('Mckeena', 5), ('Mckeever', 5), ('Mckensley', 5), ('Mckenziee', 5), ('Mckinely', 5), ('Mckinnly', 5), ('Mckylie', 5), ('Mckynze', 5), ('Mcneva', 5), ('Mcquade', 5), ('Mcray', 5), ('Me', 5), ('Meabh', 5), ('Meada', 5), ('Meagyn', 5), ('Mearline', 5), ('Mecayla', 5), ('Mechella', 5), ('Mecie', 5), ('Mecislaus', 5), ('Medena', 5), ('Mederic', 5), ('Medin', 5), ('Medwin', 5), ('Meenah', 5), ('Meerub', 5), ('Megale', 5), ('Megam', 5), ('Meghean', 5), ('Meghon', 5), ('Meghyn', 5), ('Mehnaz', 5), ('Mehrab', 5), ('Mehret', 5), ('Meilanie', 5), ('Meile', 5), ('Meinrad', 5), ('Meiqi', 5), ('Mekea', 5), ('Mekeia', 5), ('Mekela', 5), ('Mekelle', 5), ('Mekensie', 5), ('Mekenzy', 5), ('Mekeshia', 5), ('Mekiel', 5), ('Mekih', 5), ('Mekyle', 5), ('Melakhi', 5), ('Melaku', 5), ('Melan', 5), ('Melanya', 5), ('Melarie', 5), ('Melaynie', 5), ('Melborn', 5), ('Melbourn', 5), ('Melbra', 5), ('Melchora', 5), ('Melcina', 5), ('Meldora', 5), ('Meledy', 5), ('Meleesa', 5), ('Meleyah', 5), ('Meliame', 5), ('Melinee', 5), ('Melishia', 5), ('Melky', 5), ('Mellani', 5), ('Meller', 5), ('Mellicent', 5), ('Mellisha', 5), ('Mellodee', 5), ('Mellodie', 5), ('Mellon', 5), ('Mellow', 5), ('Mellssa', 5), ('Mellyora', 5), ('Melna', 5), ('Melssia', 5), ('Meltem', 5), ('Melveen', 5), ('Melvita', 5), ('Melvonia', 5), ('Menal', 5), ('Menasha', 5), ('Mentie', 5), ('Meoshi', 5), ('Mercedas', 5), ('Merchelle', 5), ('Merdell', 5), ('Merdice', 5), ('Meredy', 5), ('Meredythe', 5), ('Merely', 5), ('Meret', 5), ('Merette', 5), ('Mergeron', 5), ('Meridth', 5), ('Meritza', 5), ('Merium', 5), ('Meriwether', 5), ('Merleah', 5), ('Merlisa', 5), ('Merlot', 5), ('Merlyne', 5), ('Merola', 5), ('Merrikay', 5), ('Merrilu', 5), ('Merrium', 5), ('Merrlyn', 5), ('Mersadees', 5), ('Mersadiez', 5), ('Mertin', 5), ('Mertle', 5), ('Merzedes', 5), ('Mesan', 5), ('Meshae', 5), ('Meshay', 5), ('Meshea', 5), ('Meshel', 5), ('Messias', 5), ('Messyah', 5), ('Metehan', 5), ('Meti', 5), ('Metz', 5), ('Metzi', 5), ('Mextli', 5), ('Meyanna', 5), ('Meyla', 5), ('Meyly', 5), ('Meyra', 5), ('Meyson', 5), ('Meztly', 5), ('Mezziah', 5), ('Mguadalupe', 5), ('Mhairi', 5), ('Mhari', 5), ('Mhina', 5), ('Mhya', 5), ('Miakayla', 5), ('Miakka', 5), ('Miakota', 5), ('Miamour', 5), ('Miarah', 5), ('Miavictoria', 5), ('Micahia', 5), ('Micahjoseph', 5), ('Micaleb', 5), ('Michaelallen', 5), ('Michaelchristop', 5), ('Michaelee', 5), ('Michaelin', 5), ('Michaeljr', 5), ('Michaelpatrick', 5), ('Michaels', 5), ('Michaia', 5), ('Michaylah', 5), ('Michealanthony', 5), ('Michealene', 5), ('Micheleen', 5), ('Michelleanne', 5), ('Michellele', 5), ('Michiele', 5), ('Michigan', 5), ('Michuel', 5), ('Mickail', 5), ('Mickalla', 5), ('Mickelena', 5), ('Mickelina', 5), ('Mickenzi', 5), ('Mickinley', 5), ('Mickinzie', 5), ('Mickyle', 5), ('Micquel', 5), ('Midian', 5), ('Miecislaus', 5), ('Mieya', 5), ('Miichael', 5), ('Miika', 5), ('Miina', 5), ('Mijoi', 5), ('Mijoy', 5), ('Mikaal', 5), ('Mikaeli', 5), ('Mikaeyla', 5), ('Mikaiyah', 5), ('Mikan', 5), ('Mikayala', 5), ('Mikayleigh', 5), ('Mikaylen', 5), ('Mikaylla', 5), ('Mikaylynn', 5), ('Mikeayla', 5), ('Mikee', 5), ('Mikei', 5), ('Mikeil', 5), ('Mikelia', 5), ('Mikenya', 5), ('Mikequan', 5), ('Mikeyah', 5), ('Mikhiya', 5), ('Mikilah', 5), ('Mikinlee', 5), ('Mikylee', 5), ('Mikylie', 5), ('Miladie', 5), ('Milaniya', 5), ('Milburne', 5), ('Mildra', 5), ('Mildre', 5), ('Mileen', 5), ('Mileke', 5), ('Mileni', 5), ('Milett', 5), ('Mileva', 5), ('Mileyna', 5), ('Mileyshka', 5), ('Milisha', 5), ('Milisia', 5), ('Mille', 5), ('Millenna', 5), ('Millia', 5), ('Millinia', 5), ('Milliona', 5), ('Milorad', 5), ('Milosh', 5), ('Milroy', 5), ('Mimose', 5), ('Mineko', 5), ('Minelba', 5), ('Minelva', 5), ('Minely', 5), ('Minga', 5), ('Mingus', 5), ('Minhanh', 5), ('Minhtri', 5), ('Minjoon', 5), ('Minnia', 5), ('Mintha', 5), ('Minyard', 5), ('Miquella', 5), ('Miquez', 5), ('Miquisha', 5), ('Mirabell', 5), ('Miracal', 5), ('Miraha', 5), ('Mirajane', 5), ('Mirei', 5), ('Mireia', 5), ('Miriama', 5), ('Miriel', 5), ('Mirle', 5), ('Mirlene', 5), ('Mirlinda', 5), ('Mirnes', 5), ('Miroslaw', 5), ('Mirriah', 5), ('Mirsab', 5), ('Mirth', 5), ('Mirya', 5), ('Misaye', 5), ('Misgana', 5), ('Mishalay', 5), ('Misheeta', 5), ('Mishia', 5), ('Misri', 5), ('Missel', 5), ('Mistala', 5), ('Mistic', 5), ('Misue', 5), ('Mithila', 5), ('Mitsie', 5), ('Mitsu', 5), ('Mitty', 5), ('Mitza', 5), ('Miura', 5), ('Mixtly', 5), ('Miyesha', 5), ('Miyla', 5), ('Mkaila', 5), ('Mkaylah', 5), ('Mleah', 5), ('Mmary', 5), ('Mmichael', 5), ('Mobolaji', 5), ('Mocha', 5), ('Moctar', 5), ('Modupeoluwa', 5), ('Moez', 5), ('Mofiyinfoluwa', 5), ('Mohamedamiin', 5), ('Mohamedamine', 5), ('Moiya', 5), ('Mojtaba', 5), ('Mokshagna', 5), ('Mokshitha', 5), ('Molette', 5), ('Molik', 5), ('Molika', 5), ('Molissa', 5), ('Molla', 5), ('Molloy', 5), ('Mollyrose', 5), ('Molton', 5), ('Momoe', 5), ('Monah', 5), ('Monajah', 5), ('Moncerrad', 5), ('Moncheri', 5), ('Mondra', 5), ('Moneeb', 5), ('Moneer', 5), ('Moneque', 5), ('Monikah', 5), ('Moniq', 5), ('Monir', 5), ('Monissa', 5), ('Monquel', 5), ('Monquita', 5), ('Monrad', 5), ('Monreaux', 5), ('Monsanto', 5), ('Monsita', 5), ('Montanah', 5), ('Montanez', 5), ('Montaye', 5), ('Montaysia', 5), ('Monterion', 5), ('Monterra', 5), ('Montese', 5), ('Montevious', 5), ('Montiara', 5), ('Montico', 5), ('Montiera', 5), ('Montonio', 5), ('Montoyia', 5), ('Montravion', 5), ('Montrevious', 5), ('Montry', 5), ('Montserrad', 5), ('Mony', 5), ('Monyka', 5), ('Monzell', 5), ('Monzella', 5), ('Monzerrad', 5), ('Moonyean', 5), ('Moraes', 5), ('Morah', 5), ('Mordchai', 5), ('Mordechi', 5), ('Moretta', 5), ('Morgayne', 5), ('Morghen', 5), ('Moriana', 5), ('Morion', 5), ('Morisa', 5), ('Morland', 5), ('Morlon', 5), ('Morolaoluwa', 5), ('Morpheus', 5), ('Morrel', 5), ('Morrey', 5), ('Morriss', 5), ('Moshay', 5), ('Motez', 5), ('Motie', 5), ('Motoki', 5), ('Mouhammad', 5), ('Mounia', 5), ('Mourya', 5), ('Moutaz', 5), ('Moy', 5), ('Mr', 5), ('Mrinalini', 5), ('Mtisha', 5), ('Muammar', 5), ('Mubin', 5), ('Mueed', 5), ('Mugen', 5), ('Muggie', 5), ('Mugilan', 5), ('Muhaimin', 5), ('Muhammadamin', 5), ('Muhmmad', 5), ('Mui', 5), ('Muireann', 5), ('Mukarram', 5), ('Mukesh', 5), ('Mukil', 5), ('Mumtahina', 5), ('Mun', 5), ('Munajj', 5), ('Muneo', 5), ('Munha', 5), ('Muniza', 5), ('Mura', 5), ('Mural', 5), ('Murali', 5), ('Murdie', 5), ('Murlen', 5), ('Murnie', 5), ('Murron', 5), ('Musah', 5), ('Musie', 5), ('Musse', 5), ('Mustafah', 5), ('Muzna', 5), ('Myair', 5), ('Myairah', 5), ('Myajah', 5), ('Myalin', 5), ('Myalyn', 5), ('Myamarie', 5), ('Myanh', 5), ('Myann', 5), ('Myanni', 5), ('Myashia', 5), ('Mychell', 5), ('Mycol', 5), ('Myesia', 5), ('Myheir', 5), ('Myjoy', 5), ('Mykalla', 5), ('Mykerria', 5), ('Mykhala', 5), ('Mykhel', 5), ('Mykita', 5), ('Mykl', 5), ('Mykya', 5), ('Mykyah', 5), ('Mylaa', 5), ('Mylana', 5), ('Mylasha', 5), ('Myleesha', 5), ('Myleisha', 5), ('Mylek', 5), ('Myler', 5), ('Mylicia', 5), ('Myliegh', 5), ('Mylii', 5), ('Mylinn', 5), ('Mylynda', 5), ('Mynasia', 5), ('Myneisha', 5), ('Myphuong', 5), ('Myquisha', 5), ('Myrdell', 5), ('Myreta', 5), ('Myrianna', 5), ('Myrie', 5), ('Myrlande', 5), ('Myrlee', 5), ('Myrne', 5), ('Myrone', 5), ('Myrra', 5), ('Myrt', 5), ('Myrtes', 5), ('Myrtia', 5), ('Myster', 5), ('Mytchell', 5), ('Mythri', 5), ('Mytisha', 5), ('Myunique', 5), ('Myyah', 5), ('Naami', 5), ('Nabhya', 5), ('Nabi', 5), ('Nabile', 5), ('Nachaly', 5), ('Nachel', 5), ('Nachele', 5), ('Nacirema', 5), ('Nadaleigh', 5), ('Nadalia', 5), ('Nadar', 5), ('Nadara', 5), ('Nadasha', 5), ('Nadeene', 5), ('Nadell', 5), ('Nadiv', 5), ('Nadrea', 5), ('Naeisha', 5), ('Naeyli', 5), ('Nafee', 5), ('Nafiso', 5), ('Nafissa', 5), ('Nagela', 5), ('Nahari', 5), ('Nahel', 5), ('Nahely', 5), ('Nahide', 5), ('Nahjay', 5), ('Nahje', 5), ('Nahrain', 5), ('Nahyma', 5), ('Naiana', 5), ('Naiely', 5), ('Naimo', 5), ('Naiome', 5), ('Nairy', 5), ('Naisean', 5), ('Naishaun', 5), ('Naissa', 5), ('Naithyn', 5), ('Naiyanna', 5), ('Naiym', 5), ('Najala', 5), ('Najam', 5), ('Najelly', 5), ('Najera', 5), ('Najih', 5), ('Najila', 5), ('Najilah', 5), ('Najirah', 5), ('Najji', 5), ('Najuan', 5), ('Nakayia', 5), ('Nakee', 5), ('Nakeena', 5), ('Nakel', 5), ('Naketta', 5), ('Nakevia', 5), ('Nakeyta', 5), ('Nakieya', 5), ('Nakio', 5), ('Nakiria', 5), ('Nakish', 5), ('Nakiyha', 5), ('Nakiyla', 5), ('Nalaiyah', 5), ('Nalanee', 5), ('Nalayiah', 5), ('Naleea', 5), ('Nalene', 5), ('Nally', 5), ('Nalyjah', 5), ('Nalyn', 5), ('Nalynn', 5), ('Namath', 5), ('Namaya', 5), ('Nanaadwoa', 5), ('Nanalee', 5), ('Nanciann', 5), ('Nancianne', 5), ('Nancyanne', 5), ('Nancyjane', 5), ('Nandhan', 5), ('Nandni', 5), ('Naneka', 5), ('Nanelle', 5), ('Nanika', 5), ('Nannett', 5), ('Nanor', 5), ('Naobi', 5), ('Naohmi', 5), ('Napat', 5), ('Naquitta', 5), ('Narae', 5), ('Narasha', 5), ('Narcisco', 5), ('Narciss', 5), ('Narcizo', 5), ('Nareli', 5), ('Narell', 5), ('Narielle', 5), ('Nariman', 5), ('Narquise', 5), ('Narsis', 5), ('Narsiso', 5), ('Naruto', 5), ('Narvelle', 5), ('Narvin', 5), ('Nasai', 5), ('Nasar', 5), ('Naseim', 5), ('Nashaley', 5), ('Nashally', 5), ('Nashima', 5), ('Nashlly', 5), ('Nashmia', 5), ('Nashrah', 5), ('Nashyla', 5), ('Nasiere', 5), ('Nasrudin', 5), ('Nassor', 5), ('Nastazia', 5), ('Nastia', 5), ('Nataile', 5), ('Natailia', 5), ('Natalene', 5), ('Nataliegh', 5), ('Natalii', 5), ('Natalino', 5), ('Natalis', 5), ('Nataniah', 5), ('Nataniela', 5), ('Natarshia', 5), ('Nataska', 5), ('Natayja', 5), ('Natayshia', 5), ('Nateal', 5), ('Natelege', 5), ('Natella', 5), ('Natelle', 5), ('Naterra', 5), ('Nateyah', 5), ('Nathael', 5), ('Nathain', 5), ('Nathaniell', 5), ('Nathanielle', 5), ('Nathanil', 5), ('Nathaya', 5), ('Nathinal', 5), ('Naticha', 5), ('Natileigh', 5), ('Natorian', 5), ('Natsuyo', 5), ('Natural', 5), ('Naturell', 5), ('Nau', 5), ('Naul', 5), ('Naura', 5), ('Nautyca', 5), ('Navaeha', 5), ('Navajo', 5), ('Navan', 5), ('Navario', 5), ('Navarion', 5), ('Navarius', 5), ('Navay', 5), ('Navdia', 5), ('Nawar', 5), ('Nawatha', 5), ('Nawfal', 5), ('Nayala', 5), ('Nayalis', 5), ('Nayami', 5), ('Nayanah', 5), ('Nayelys', 5), ('Nayeri', 5), ('Naylan', 5), ('Naylie', 5), ('Naylor', 5), ('Nayna', 5), ('Nayona', 5), ('Naysean', 5), ('Naytasha', 5), ('Nayvi', 5), ('Nayvia', 5), ('Nayya', 5), ('Nayyirah', 5), ('Nazarena', 5), ('Nazareno', 5), ('Nazaya', 5), ('Nazhir', 5), ('Nazih', 5), ('Nazik', 5), ('Nazmir', 5), ('Nazneen', 5), ('Nazr', 5), ('Ncholas', 5), ('Ncole', 5), ('Ndey', 5), ('Neajah', 5), ('Neana', 5), ('Neasa', 5), ('Neata', 5), ('Neatha', 5), ('Nebeyu', 5), ('Nebil', 5), ('Nebula', 5), ('Nechemiah', 5), ('Necko', 5), ('Nedrick', 5), ('Neelee', 5), ('Neemah', 5), ('Neeru', 5), ('Nefateria', 5), ('Nefeteria', 5), ('Neghan', 5), ('Nehki', 5), ('Neicha', 5), ('Neidelin', 5), ('Neidelyn', 5), ('Neilesh', 5), ('Neili', 5), ('Neilla', 5), ('Neissa', 5), ('Nekesia', 5), ('Nekki', 5), ('Nekol', 5), ('Nekya', 5), ('Nelba', 5), ('Neldean', 5), ('Nelitza', 5), ('Nellann', 5), ('Nellean', 5), ('Nellee', 5), ('Nelliel', 5), ('Nellora', 5), ('Nelo', 5), ('Nelvie', 5), ('Nequila', 5), ('Nerely', 5), ('Nerina', 5), ('Neris', 5), ('Nerma', 5), ('Neron', 5), ('Nervia', 5), ('Nerya', 5), ('Nerys', 5), ('Nesita', 5), ('Nesya', 5), ('Nethaniah', 5), ('Nevach', 5), ('Nevaehia', 5), ('Nevaehtnes', 5), ('Nevara', 5), ('Nevine', 5), ('Nevins', 5), ('Newbern', 5), ('Neylah', 5), ('Ng', 5), ('Ngocanh', 5), ('Ngozichukwu', 5), ('Nha', 5), ('Niaira', 5), ('Niaje', 5), ('Niakia', 5), ('Niamarie', 5), ('Nicanora', 5), ('Nicara', 5), ('Nicaya', 5), ('Nicere', 5), ('Nichaolas', 5), ('Nichcole', 5), ('Niche', 5), ('Nichella', 5), ('Nichet', 5), ('Nicho', 5), ('Nichoal', 5), ('Nicholetta', 5), ('Niciah', 5), ('Nickcola', 5), ('Nickhil', 5), ('Nickloas', 5), ('Nickohlas', 5), ('Nickolie', 5), ('Nickon', 5), ('Nickyla', 5), ('Nicoel', 5), ('Nicoleann', 5), ('Nicolete', 5), ('Nicoly', 5), ('Nicolyn', 5), ('Nicomedes', 5), ('Nicte', 5), ('Nicteha', 5), ('Nieja', 5), ('Niekia', 5), ('Nielsen', 5), ('Niera', 5), ('Nigee', 5), ('Nigiel', 5), ('Nihad', 5), ('Nijiah', 5), ('Nikara', 5), ('Nikata', 5), ('Nikayah', 5), ('Nikaylah', 5), ('Nikeea', 5), ('Nikeem', 5), ('Niketh', 5), ('Nikeyia', 5), ('Nikhaule', 5), ('Nikhilesh', 5), ('Nikitra', 5), ('Nikkei', 5), ('Nikkiah', 5), ('Nikkiya', 5), ('Nikkolai', 5), ('Nikolia', 5), ('Nikoma', 5), ('Nilajah', 5), ('Nilene', 5), ('Nilufar', 5), ('Nilufer', 5), ('Nilyn', 5), ('Nimalan', 5), ('Nimmy', 5), ('Ninad', 5), ('Ninasimone', 5), ('Nincy', 5), ('Ninia', 5), ('Ninnette', 5), ('Niola', 5), ('Niosha', 5), ('Niquel', 5), ('Niquisha', 5), ('Nirah', 5), ('Niree', 5), ('Nirek', 5), ('Niriyah', 5), ('Nirmeen', 5), ('Nirva', 5), ('Nisan', 5), ('Nisean', 5), ('Nishaun', 5), ('Nishith', 5), ('Nishon', 5), ('Nissie', 5), ('Nissy', 5), ('Nitoya', 5), ('Nitzy', 5), ('Niurca', 5), ('Nivetha', 5), ('Nivin', 5), ('Nixmary', 5), ('Niyat', 5), ('Niyel', 5), ('Niyeli', 5), ('Niyia', 5), ('Niyon', 5), ('Nizam', 5), ('Nizear', 5), ('Nizeria', 5), ('Nkao', 5), ('Nkara', 5), ('Nkayla', 5), ('Nkem', 5), ('Nkemjika', 5), ('Nkiyah', 5), ('Nnanna', 5), ('Nobu', 5), ('Nobuye', 5), ('Noelany', 5), ('Noelli', 5), ('Nohelly', 5), ('Nokia', 5), ('Noleen', 5), ('Nonah', 5), ('Nondus', 5), ('Nong', 5), ('Noorhan', 5), ('Nooria', 5), ('Nooriya', 5), ('Noorjahan', 5), ('Noral', 5), ('Noraleigh', 5), ('Noralva', 5), ('Noranne', 5), ('Norb', 5), ('Norda', 5), ('Nordahl', 5), ('Norelia', 5), ('Norelys', 5), ('Noren', 5), ('Noretha', 5), ('Norian', 5), ('Noriene', 5), ('Norika', 5), ('Normalea', 5), ('Normia', 5), ('Norra', 5), ('Norrah', 5), ('Norrell', 5), ('Norretta', 5), ('Norri', 5), ('Norvie', 5), ('Nosakhare', 5), ('Noslen', 5), ('Nouha', 5), ('Nouvelle', 5), ('Novela', 5), ('Novelia', 5), ('Nowa', 5), ('Nowah', 5), ('Nthan', 5), ('Nuradin', 5), ('Nuran', 5), ('Nurani', 5), ('Nuray', 5), ('Nuraz', 5), ('Nureen', 5), ('Nurit', 5), ('Nuru', 5), ('Nwamaka', 5), ('Nyagoa', 5), ('Nyahlee', 5), ('Nyaijah', 5), ('Nyailah', 5), ('Nyajiah', 5), ('Nyarai', 5), ('Nyaziah', 5), ('Nycia', 5), ('Nyckolas', 5), ('Nydaisha', 5), ('Nyderah', 5), ('Nydir', 5), ('Nyeasia', 5), ('Nyeim', 5), ('Nyeka', 5), ('Nyele', 5), ('Nyemia', 5), ('Nyemiah', 5), ('Nyhiem', 5), ('Nyiana', 5), ('Nykeesha', 5), ('Nykeya', 5), ('Nykiria', 5), ('Nylae', 5), ('Nylajah', 5), ('Nyleve', 5), ('Nymeria', 5), ('Nyomee', 5), ('Nyosha', 5), ('Nyran', 5), ('Nyrek', 5), ('Nyrissa', 5), ('Nyshae', 5), ('Nyshay', 5), ('Nyshon', 5), ('Nyson', 5), ('Nytavious', 5), ('Nytrell', 5), ('Nyvia', 5), ('Nyzeth', 5), ('Oakey', 5), ('Oatha', 5), ('Obafemi', 5), ('Obasi', 5), ('Obeda', 5), ('Obehi', 5), ('Obrain', 5), ('Obrey', 5), ('Obry', 5), ('Obsidian', 5), ('Ocasio', 5), ('Oce', 5), ('Ocella', 5), ('Octavus', 5), ('Od', 5), ('Odaniel', 5), ('Odbert', 5), ('Oder', 5), ('Odesa', 5), ('Odete', 5), ('Odice', 5), ('Odila', 5), ('Odra', 5), ('Oel', 5), ('Oella', 5), ('Oen', 5), ('Oesha', 5), ('Ogheneruno', 5), ('Oghenetega', 5), ('Oghosa', 5), ('Ogochukwu', 5), ('Ogreta', 5), ('Oguz', 5), ('Oh', 5), ('Ohan', 5), ('Ohitika', 5), ('Ohlin', 5), ('Okairy', 5), ('Okeema', 5), ('Okeima', 5), ('Oklahoma', 5), ('Okpara', 5), ('Olabisi', 5), ('Olabode', 5), ('Oladele', 5), ('Oladipo', 5), ('Oladipupo', 5), ('Oladis', 5), ('Olamilekan', 5), ('Olas', 5), ('Olasunkanmi', 5), ('Olbin', 5), ('Oldair', 5), ('Oleksiy', 5), ('Olesha', 5), ('Olester', 5), ('Olethea', 5), ('Olexus', 5), ('Olianna', 5), ('Olibia', 5), ('Olida', 5), ('Olivija', 5), ('Olivio', 5), ('Olivyah', 5), ('Olle', 5), ('Ollene', 5), ('Ollye', 5), ('Olna', 5), ('Oluf', 5), ('Olumuyiwa', 5), ('Oluremi', 5), ('Oluseun', 5), ('Olutoyin', 5), ('Oluwabukola', 5), ('Oluwabusola', 5), ('Oluwadabira', 5), ('Oluwadunmininu', 5), ('Oluwafisayo', 5), ('Oluwafolahanmi', 5), ('Oluwafolajimi', 5), ('Oluwafunmilola', 5), ('Oluwajoba', 5), ('Oluwakayode', 5), ('Oluwakorede', 5), ('Oluwalonimi', 5), ('Oluwamayomikun', 5), ('Oluwatomilola', 5), ('Oluwatoyosi', 5), ('Oluwatumininu', 5), ('Oluwayemisi', 5), ('Oluyemi', 5), ('Olva', 5), ('Olvis', 5), ('Olyne', 5), ('Omarah', 5), ('Omarionna', 5), ('Omaru', 5), ('Omary', 5), ('Omaryon', 5), ('Omed', 5), ('Omeisha', 5), ('Omeria', 5), ('Omika', 5), ('Omiya', 5), ('Omma', 5), ('Omon', 5), ('Omorion', 5), ('Onah', 5), ('Onald', 5), ('Onaya', 5), ('Ondreya', 5), ('Oneatha', 5), ('Onetia', 5), ('Onezia', 5), ('Onnaleigh', 5), ('Onorio', 5), ('Ontaria', 5), ('Onyka', 5), ('Oplis', 5), ('Oppie', 5), ('Optimus', 5), ('Oralene', 5), ('Oramel', 5), ('Orantes', 5), ('Orcella', 5), ('Ordan', 5), ('Oreane', 5), ('Oreen', 5), ('Orenthia', 5), ('Orestus', 5), ('Orianne', 5), ('Orietta', 5), ('Orina', 5), ('Oriole', 5), ('Oriyana', 5), ('Orleen', 5), ('Orlenda', 5), ('Orlidia', 5), ('Orlis', 5), ('Ormi', 5), ('Orothy', 5), ('Orral', 5), ('Orrey', 5), ('Orryn', 5), ('Orsen', 5), ('Orsola', 5), ('Orum', 5), ('Orvind', 5), ('Orya', 5), ('Osanna', 5), ('Oscardaniel', 5), ('Oscarjr', 5), ('Osciel', 5), ('Ose', 5), ('Osean', 5), ('Oshanique', 5), ('Oshanna', 5), ('Oshie', 5), ('Oshun', 5), ('Osiana', 5), ('Osler', 5), ('Osmon', 5), ('Osnas', 5), ('Ostap', 5), ('Ostara', 5), ('Osteen', 5), ('Osyrus', 5), ('Otavious', 5), ('Oteka', 5), ('Otello', 5), ('Othan', 5), ('Otley', 5), ('Otman', 5), ('Otome', 5), ('Otsie', 5), ('Ottaway', 5), ('Ottelia', 5), ('Ottillie', 5), ('Ottomar', 5), ('Otway', 5), ('Ouinton', 5), ('Ourtney', 5), ('Ovee', 5), ('Owetta', 5), ('Oyd', 5), ('Ozara', 5), ('Ozena', 5), ('Ozion', 5), ('Ozkar', 5), ('Pacifico', 5), ('Packard', 5), ('Pada', 5), ('Padmini', 5), ('Padon', 5), ('Padriac', 5), ('Padrick', 5), ('Padro', 5), ('Padyn', 5), ('Paeten', 5), ('Paetin', 5), ('Pageant', 5), ('Pagen', 5), ('Paig', 5), ('Paili', 5), ('Paisha', 5), ('Palmena', 5), ('Palmera', 5), ('Pamalia', 5), ('Pamara', 5), ('Pameal', 5), ('Pamilyn', 5), ('Pamlia', 5), ('Pamlyn', 5), ('Pamma', 5), ('Pammi', 5), ('Panayotis', 5), ('Panchita', 5), ('Pandi', 5), ('Pandoria', 5), ('Pandra', 5), ('Panela', 5), ('Pannie', 5), ('Pansye', 5), ('Pantalion', 5), ('Panth', 5), ('Pantha', 5), ('Pany', 5), ('Panyia', 5), ('Paradyce', 5), ('Paraskevas', 5), ('Pardis', 5), ('Parick', 5), ('Parie', 5), ('Parise', 5), ('Parishay', 5), ('Parita', 5), ('Parleen', 5), ('Parmanand', 5), ('Parmeet', 5), ('Parniece', 5), ('Parri', 5), ('Parvathi', 5), ('Parvina', 5), ('Parx', 5), ('Pashience', 5), ('Pashyn', 5), ('Pasley', 5), ('Pasquinel', 5), ('Passionae', 5), ('Passionate', 5), ('Patch', 5), ('Patrichia', 5), ('Patriciaanne', 5), ('Patrickjoseph', 5), ('Patrisa', 5), ('Patrisio', 5), ('Patritia', 5), ('Patrizio', 5), ('Paty', 5), ('Patyn', 5), ('Paublita', 5), ('Pauleta', 5), ('Paulinda', 5), ('Paullina', 5), ('Paulyn', 5), ('Paulyna', 5), ('Pavelle', 5), ('Pavin', 5), ('Pavlina', 5), ('Pavly', 5), ('Pavneet', 5), ('Pavni', 5), ('Paxston', 5), ('Paycie', 5), ('Payman', 5), ('Paytten', 5), ('Pazley', 5), ('Pearlann', 5), ('Pearletha', 5), ('Pearletta', 5), ('Pedrojr', 5), ('Pedrum', 5), ('Peggylee', 5), ('Pejman', 5), ('Pellie', 5), ('Pembroke', 5), ('Pemela', 5), ('Pene', 5), ('Penella', 5), ('Penelopea', 5), ('Pennyann', 5), ('Pensacola', 5), ('Peppino', 5), ('Percious', 5), ('Peregrina', 5), ('Perfect', 5), ('Peria', 5), ('Perianne', 5), ('Peron', 5), ('Perrier', 5), ('Persaya', 5), ('Perscilla', 5), ('Persell', 5), ('Personna', 5), ('Pertrina', 5), ('Peshy', 5), ('Pessi', 5), ('Peteris', 5), ('Petite', 5), ('Petre', 5), ('Petria', 5), ('Petrick', 5), ('Petrit', 5), ('Petrus', 5), ('Petunia', 5), ('Petyon', 5), ('Peytonn', 5), ('Phalicia', 5), ('Phallen', 5), ('Phalynn', 5), ('Pharren', 5), ('Pharyn', 5), ('Phawn', 5), ('Phazon', 5), ('Phebee', 5), ('Pheby', 5), ('Phenie', 5), ('Phenious', 5), ('Phia', 5), ('Philibert', 5), ('Philippina', 5), ('Philistine', 5), ('Philix', 5), ('Phillistine', 5), ('Philly', 5), ('Philmon', 5), ('Philomen', 5), ('Philp', 5), ('Philson', 5), ('Phin', 5), ('Phinizy', 5), ('Phoebi', 5), ('Phonesavanh', 5), ('Phoung', 5), ('Phronie', 5), ('Phuonganh', 5), ('Phylisia', 5), ('Picabo', 5), ('Pierston', 5), ('Piilani', 5), ('Pioet', 5), ('Pioquinto', 5), ('Pirley', 5), ('Pixley', 5), ('Placide', 5), ('Plas', 5), ('Plassie', 5), ('Platinum', 5), ('Platt', 5), ('Playford', 5), ('Plinio', 5), ('Plum', 5), ('Po', 5), ('Poetri', 5), ('Pol', 5), ('Polaris', 5), ('Polixeni', 5), ('Polley', 5), ('Pomp', 5), ('Pomposo', 5), ('Poncho', 5), ('Pondra', 5), ('Poojan', 5), ('Poorna', 5), ('Pooya', 5), ('Porsia', 5), ('Portlyn', 5), ('Portlynn', 5), ('Potter', 5), ('Prabhas', 5), ('Prabin', 5), ('Prabjot', 5), ('Pracilla', 5), ('Pradhyun', 5), ('Pragathi', 5), ('Praharsh', 5), ('Prajedes', 5), ('Prajin', 5), ('Prakrit', 5), ('Prakruti', 5), ('Pramit', 5), ('Pranil', 5), ('Pranitha', 5), ('Prasad', 5), ('Pratyusha', 5), ('Pravallika', 5), ('Praveer', 5), ('Praxedis', 5), ('Prayash', 5), ('Praylee', 5), ('Preana', 5), ('Preciousa', 5), ('Precius', 5), ('Precyous', 5), ('Predrag', 5), ('Preetam', 5), ('Premier', 5), ('Premiere', 5), ('Prenella', 5), ('Prenisha', 5), ('Presciliano', 5), ('Presilla', 5), ('Pretto', 5), ('Priansh', 5), ('Pricsila', 5), ('Priella', 5), ('Princecharles', 5), ('Princeten', 5), ('Princewilliam', 5), ('Princilla', 5), ('Printiss', 5), ('Priyank', 5), ('Profit', 5), ('Promyss', 5), ('Prudance', 5), ('Prutha', 5), ('Prynn', 5), ('Puaolena', 5), ('Purab', 5), ('Purlie', 5), ('Purnima', 5), ('Purpose', 5), ('Pypper', 5), ('Qadeera', 5), ('Qaiden', 5), ('Qiarah', 5), ('Qierra', 5), ('Qing', 5), ('Qiuana', 5), ('Quacy', 5), ('Quadarrious', 5), ('Quadeshia', 5), ('Quadier', 5), ('Quadreka', 5), ('Quaheem', 5), ('Qualesha', 5), ('Quameek', 5), ('Quameir', 5), ('Quamine', 5), ('Quamire', 5), ('Quamon', 5), ('Quamya', 5), ('Quanaisha', 5), ('Quandarrius', 5), ('Quaneeka', 5), ('Quanessa', 5), ('Quanetra', 5), ('Quanice', 5), ('Quanicia', 5), ('Quanise', 5), ('Quanishia', 5), ('Quannah', 5), ('Quannell', 5), ('Quantasha', 5), ('Quantiana', 5), ('Quantis', 5), ('Quantrez', 5), ('Quanya', 5), ('Quanza', 5), ('Quanzell', 5), ('Quanzie', 5), ('Quartey', 5), ('Quartterio', 5), ('Quashan', 5), ('Quashanda', 5), ('Quashanna', 5), ('Quasheema', 5), ('Quatashia', 5), ('Quaterius', 5), ('Quaterrius', 5), ('Quatravious', 5), ('Quatrina', 5), ('Quavius', 5), ('Quaylan', 5), ('Quazar', 5), ('Quazi', 5), ('Qubilah', 5), ('Queency', 5), ('Queene', 5), ('Queenell', 5), ('Quella', 5), ('Quendarious', 5), ('Queneisha', 5), ('Queneshia', 5), ('Quenette', 5), ('Quennell', 5), ('Quennie', 5), ('Quentavia', 5), ('Queren', 5), ('Quesean', 5), ('Quesha', 5), ('Queshaun', 5), ('Queshon', 5), ('Quetzy', 5), ('Quiandra', 5), ('Quillar', 5), ('Quillon', 5), ('Quimora', 5), ('Quinaya', 5), ('Quineka', 5), ('Quinessa', 5), ('Quinleigh', 5), ('Quinnel', 5), ('Quinnell', 5), ('Quinneshia', 5), ('Quinnette', 5), ('Quinnita', 5), ('Quinnlee', 5), ('Quinnshawn', 5), ('Quinshon', 5), ('Quintae', 5), ('Quintashia', 5), ('Quintesa', 5), ('Quintine', 5), ('Quintion', 5), ('Quiriat', 5), ('Quitin', 5), ('Qujuan', 5), ('Quora', 5), ('Quortney', 5), ('Quwan', 5), ('Quynton', 5), ('Qwen', 5), ('Qwintin', 5), ('Qynn', 5), ('Raaed', 5), ('Raahul', 5), ('Raaid', 5), ('Raana', 5), ('Raashan', 5), ('Raaziq', 5), ('Rabekka', 5), ('Rabert', 5), ('Rabihah', 5), ('Racelyn', 5), ('Racen', 5), ('Racey', 5), ('Rachelleann', 5), ('Rachelleanne', 5), ('Rachely', 5), ('Rachita', 5), ('Rachmiel', 5), ('Rachon', 5), ('Racin', 5), ('Rackel', 5), ('Racqual', 5), ('Radame', 5), ('Radamel', 5), ('Radee', 5), ('Radeen', 5), ('Radoika', 5), ('Radoslav', 5), ('Raeanah', 5), ('Raedon', 5), ('Raelah', 5), ('Raelean', 5), ('Raeliegh', 5), ('Raellen', 5), ('Raemarie', 5), ('Raemona', 5), ('Raenada', 5), ('Raenae', 5), ('Raene', 5), ('Raeniyah', 5), ('Raeola', 5), ('Raeona', 5), ('Raequel', 5), ('Raeyana', 5), ('Raeyanna', 5), ('Rafaila', 5), ('Rafee', 5), ('Rafeek', 5), ('Raffiel', 5), ('Raffy', 5), ('Rafhael', 5), ('Ragav', 5), ('Ragenia', 5), ('Raghavi', 5), ('Rahasia', 5), ('Rahjae', 5), ('Rahkia', 5), ('Rahmi', 5), ('Rahmin', 5), ('Rahna', 5), ('Rahnasia', 5), ('Rahshida', 5), ('Raian', 5), ('Raihaan', 5), ('Raihaanah', 5), ('Raika', 5), ('Raileen', 5), ('Railynne', 5), ('Rainne', 5), ('Raiqa', 5), ('Rais', 5), ('Raiyana', 5), ('Rajani', 5), ('Rajen', 5), ('Rajkumar', 5), ('Rakai', 5), ('Rakee', 5), ('Rakiesha', 5), ('Rakshitha', 5), ('Raksmey', 5), ('Raleen', 5), ('Rallie', 5), ('Ralls', 5), ('Ralon', 5), ('Ralphe', 5), ('Ralphell', 5), ('Ramada', 5), ('Ramatoulie', 5), ('Ramatu', 5), ('Rameel', 5), ('Rameisha', 5), ('Ramik', 5), ('Ramoan', 5), ('Ramsen', 5), ('Ramsi', 5), ('Ramson', 5), ('Ramsy', 5), ('Ramzes', 5), ('Ramzie', 5), ('Ranaa', 5), ('Randalle', 5), ('Randalynn', 5), ('Randeen', 5), ('Randeisha', 5), ('Randene', 5), ('Randesha', 5), ('Randin', 5), ('Randll', 5), ('Randolfo', 5), ('Ranecia', 5), ('Ranjana', 5), ('Ranndy', 5), ('Ranold', 5), ('Ransen', 5), ('Ranvijay', 5), ('Ranylah', 5), ('Ranzino', 5), ('Ranzy', 5), ('Raoof', 5), ('Raqeeb', 5), ('Raquael', 5), ('Raquane', 5), ('Raquia', 5), ('Raquisha', 5), ('Raschad', 5), ('Rascoe', 5), ('Rashade', 5), ('Rashand', 5), ('Rasheba', 5), ('Rasheedat', 5), ('Rasheeka', 5), ('Rashene', 5), ('Rashieka', 5), ('Rashik', 5), ('Rashim', 5), ('Rashodd', 5), ('Rashondra', 5), ('Rasiyah', 5), ('Rasmine', 5), ('Rass', 5), ('Rasun', 5), ('Ratan', 5), ('Ratchel', 5), ('Ratesha', 5), ('Rathany', 5), ('Rauf', 5), ('Raulie', 5), ('Rauljr', 5), ('Raunda', 5), ('Rauni', 5), ('Raushaun', 5), ('Ravenel', 5), ('Ravien', 5), ('Ravine', 5), ('Ravonne', 5), ('Ravy', 5), ('Ravya', 5), ('Rawa', 5), ('Raychael', 5), ('Raycin', 5), ('Raycine', 5), ('Rayea', 5), ('Rayeanna', 5), ('Rayegan', 5), ('Rayfe', 5), ('Raygine', 5), ('Rayha', 5), ('Rayhona', 5), ('Raylah', 5), ('Raylean', 5), ('Raylend', 5), ('Raylenn', 5), ('Raymah', 5), ('Raymeir', 5), ('Raymelle', 5), ('Raymer', 5), ('Raymesha', 5), ('Raymiah', 5), ('Raymoni', 5), ('Raymunda', 5), ('Raynae', 5), ('Raynne', 5), ('Rayo', 5), ('Rayonah', 5), ('Rayonda', 5), ('Rayonia', 5), ('Rayquann', 5), ('Rayshawnda', 5), ('Rayshone', 5), ('Raytheon', 5), ('Rayva', 5), ('Rayvyn', 5), ('Razariah', 5), ('Razel', 5), ('Razhane', 5), ('Razin', 5), ('Rbecca', 5), ('Readus', 5), ('Realyn', 5), ('Rean', 5), ('Reanda', 5), ('Reaner', 5), ('Rebe', 5), ('Rebert', 5), ('Rebertha', 5), ('Reche', 5), ('Rechele', 5), ('Rechetta', 5), ('Recina', 5), ('Rederick', 5), ('Redman', 5), ('Redmon', 5), ('Redwan', 5), ('Reeana', 5), ('Reesie', 5), ('Reetha', 5), ('Reeyan', 5), ('Rege', 5), ('Reggan', 5), ('Reginamarie', 5), ('Reginea', 5), ('Reginique', 5), ('Regna', 5), ('Regnold', 5), ('Rehmat', 5), ('Reicher', 5), ('Reinaliz', 5), ('Reinard', 5), ('Reinardo', 5), ('Reinna', 5), ('Reiny', 5), ('Reion', 5), ('Reiya', 5), ('Rejanae', 5), ('Rejane', 5), ('Rejine', 5), ('Rekayla', 5), ('Rela', 5), ('Reldon', 5), ('Relford', 5), ('Relic', 5), ('Relis', 5), ('Relynn', 5), ('Rem', 5), ('Rember', 5), ('Remeka', 5), ('Remelda', 5), ('Remia', 5), ('Remigia', 5), ('Remigius', 5), ('Remika', 5), ('Renado', 5), ('Renah', 5), ('Renasha', 5), ('Renauldo', 5), ('Renegade', 5), ('Reney', 5), ('Renezme', 5), ('Renida', 5), ('Reniece', 5), ('Reniel', 5), ('Renitha', 5), ('Renitia', 5), ('Rennan', 5), ('Rennis', 5), ('Renza', 5), ('Renzie', 5), ('Reppard', 5), ('Reshae', 5), ('Resham', 5), ('Reshana', 5), ('Reshaunda', 5), ('Resheka', 5), ('Reshia', 5), ('Reshmi', 5), ('Reshod', 5), ('Resia', 5), ('Retag', 5), ('Rethal', 5), ('Retonya', 5), ('Reus', 5), ('Reut', 5), ('Rev', 5), ('Revati', 5), ('Revea', 5), ('Revelation', 5), ('Revie', 5), ('Reyburn', 5), ('Reyd', 5), ('Reydon', 5), ('Reyelle', 5), ('Reymi', 5), ('Reyner', 5), ('Reyyan', 5), ('Rezon', 5), ('Rhaheem', 5), ('Rhamir', 5), ('Rhanada', 5), ('Rhavyn', 5), ('Rheaann', 5), ('Rheanon', 5), ('Rheese', 5), ('Rheia', 5), ('Rheo', 5), ('Rhetha', 5), ('Rheyanna', 5), ('Rhiane', 5), ('Rhileigh', 5), ('Rhinda', 5), ('Rhnea', 5), ('Rhoads', 5), ('Rhochelle', 5), ('Rhode', 5), ('Rhodell', 5), ('Rhodena', 5), ('Rhodonna', 5), ('Rhoman', 5), ('Rhond', 5), ('Rhye', 5), ('Rhyin', 5), ('Rhylon', 5), ('Rhyson', 5), ('Rianon', 5), ('Rianshi', 5), ('Ribhi', 5), ('Ricado', 5), ('Ricari', 5), ('Ricaria', 5), ('Richaad', 5), ('Richana', 5), ('Richand', 5), ('Richardjames', 5), ('Richette', 5), ('Richia', 5), ('Richman', 5), ('Richmon', 5), ('Rickeem', 5), ('Rickeeta', 5), ('Rickiesha', 5), ('Rickki', 5), ('Rickman', 5), ('Ricks', 5), ('Rickyia', 5), ('Rickyy', 5), ('Ricquita', 5), ('Rictavious', 5), ('Rictoria', 5), ('Riddic', 5), ('Ridger', 5), ('Ridlee', 5), ('Ridwaan', 5), ('Rieleigh', 5), ('Rielley', 5), ('Rienhold', 5), ('Righley', 5), ('Rihab', 5), ('Rihansh', 5), ('Rikeisha', 5), ('Rikelme', 5), ('Riketa', 5), ('Rikhia', 5), ('Rikiah', 5), ('Rikio', 5), ('Rikkilynn', 5), ('Rikku', 5), ('Rikky', 5), ('Rikyah', 5), ('Rilah', 5), ('Rilma', 5), ('Riloh', 5), ('Rinesa', 5), ('Rinesha', 5), ('Rinnie', 5), ('Rinor', 5), ('Rinya', 5), ('Ripal', 5), ('Ripsi', 5), ('Rishaun', 5), ('Ristin', 5), ('Ritchy', 5), ('Rith', 5), ('Rithanya', 5), ('Rithi', 5), ('Rithu', 5), ('Ritney', 5), ('Rittal', 5), ('Ritzy', 5), ('Riuka', 5), ('Rivera', 5), ('Riverlyn', 5), ('Riyann', 5), ('Riyaq', 5), ('Rizal', 5), ('Rizelle', 5), ('Rmonie', 5), ('Ro', 5), ('Roandy', 5), ('Roarie', 5), ('Robbins', 5), ('Robere', 5), ('Roberick', 5), ('Robertcharles', 5), ('Roberte', 5), ('Robinho', 5), ('Robney', 5), ('Robrick', 5), ('Rochan', 5), ('Rochard', 5), ('Rochelly', 5), ('Rochus', 5), ('Rocker', 5), ('Rocki', 5), ('Rockson', 5), ('Rodaina', 5), ('Rodaisha', 5), ('Rodericus', 5), ('Roderiquez', 5), ('Rodick', 5), ('Rodley', 5), ('Rodne', 5), ('Rodneysha', 5), ('Rodonna', 5), ('Rodre', 5), ('Rodricas', 5), ('Rodrion', 5), ('Rodson', 5), ('Roeberta', 5), ('Roenia', 5), ('Rogar', 5), ('Roget', 5), ('Rohma', 5), ('Rohman', 5), ('Roianne', 5), ('Rojan', 5), ('Rokeem', 5), ('Rokiya', 5), ('Rolandas', 5), ('Roll', 5), ('Rolph', 5), ('Rolston', 5), ('Romalis', 5), ('Romia', 5), ('Romit', 5), ('Ronalie', 5), ('Ronaya', 5), ('Rondee', 5), ('Ronderick', 5), ('Rondez', 5), ('Rondol', 5), ('Roneal', 5), ('Roneika', 5), ('Roneil', 5), ('Ronekia', 5), ('Ronil', 5), ('Ronke', 5), ('Ronmel', 5), ('Ronnay', 5), ('Ronnella', 5), ('Ronnet', 5), ('Ronniece', 5), ('Ronniel', 5), ('Ronniya', 5), ('Ronreco', 5), ('Ronshay', 5), ('Rontarius', 5), ('Rontasia', 5), ('Rontavia', 5), ('Rontavis', 5), ('Rooks', 5), ('Roopal', 5), ('Rooseve', 5), ('Roqaya', 5), ('Roric', 5), ('Rosala', 5), ('Rosalean', 5), ('Rosaleta', 5), ('Rosaliyah', 5), ('Rosaliz', 5), ('Rosalla', 5), ('Rosamay', 5), ('Rosamonde', 5), ('Rosandra', 5), ('Rosanell', 5), ('Roseangela', 5), ('Roseellen', 5), ('Rosellar', 5), ('Rosenia', 5), ('Rosenna', 5), ('Rosettia', 5), ('Rosevell', 5), ('Rosh', 5), ('Roshaad', 5), ('Roshanta', 5), ('Roshay', 5), ('Roshina', 5), ('Roshonna', 5), ('Rosier', 5), ('Rosietta', 5), ('Rosolino', 5), ('Rosonda', 5), ('Rossalind', 5), ('Rossmary', 5), ('Rostin', 5), ('Rosylin', 5), ('Rothwell', 5), ('Rotimi', 5), ('Rotisha', 5), ('Rotonia', 5), ('Roua', 5), ('Rouchelle', 5), ('Rougui', 5), ('Roul', 5), ('Rouldph', 5), ('Rovina', 5), ('Rovon', 5), ('Rowden', 5), ('Rowdie', 5), ('Rowenna', 5), ('Roxa', 5), ('Roxen', 5), ('Roxii', 5), ('Roxsand', 5), ('Roxton', 5), ('Roxxane', 5), ('Royace', 5), ('Royalene', 5), ('Royaltee', 5), ('Rozalee', 5), ('Rozario', 5), ('Rozel', 5), ('Rozellia', 5), ('Rozeta', 5), ('Rozia', 5), ('Rozine', 5), ('Roziya', 5), ('Rozzlyn', 5), ('Rreanna', 5), ('Ruann', 5), ('Ruberto', 5), ('Rubey', 5), ('Rubio', 5), ('Rubyn', 5), ('Rubyrose', 5), ('Ruchita', 5), ('Rudaina', 5), ('Ruenell', 5), ('Rufes', 5), ('Ruff', 5), ('Rugayyah', 5), ('Rugiatu', 5), ('Ruhika', 5), ('Ruiqi', 5), ('Ruiz', 5), ('Rujul', 5), ('Rujuta', 5), ('Rukaiyah', 5), ('Ruman', 5), ('Rumonda', 5), ('Rundy', 5), ('Ruot', 5), ('Rupen', 5), ('Rurik', 5), ('Rushad', 5), ('Rushank', 5), ('Rushun', 5), ('Russchell', 5), ('Ruthlee', 5), ('Ruthlene', 5), ('Ruthye', 5), ('Ruxton', 5), ('Ruzanna', 5), ('Ryahn', 5), ('Ryanchristian', 5), ('Ryanjay', 5), ('Ryanmatthew', 5), ('Ryanpatrick', 5), ('Ryanpaul', 5), ('Ryat', 5), ('Rydel', 5), ('Ryean', 5), ('Ryeli', 5), ('Rykki', 5), ('Ryleeanne', 5), ('Ryma', 5), ('Rynette', 5), ('Rynleigh', 5), ('Ryou', 5), ('Rythm', 5), ('Ryton', 5), ('Ryujin', 5), ('Ryuki', 5), ('Saada', 5), ('Saadiyah', 5), ('Saajida', 5), ('Saanjh', 5), ('Saavon', 5), ('Sabarin', 5), ('Sabe', 5), ('Sabha', 5), ('Sabih', 5), ('Sabit', 5), ('Sabiya', 5), ('Sabreea', 5), ('Sabreya', 5), ('Sabrielle', 5), ('Sabriena', 5), ('Sabriye', 5), ('Sabriyyah', 5), ('Sabrynn', 5), ('Sabu', 5), ('Sabur', 5), ('Sachel', 5), ('Sachiye', 5), ('Sachiyo', 5), ('Sacorya', 5), ('Sacoyia', 5), ('Sadame', 5), ('Sadane', 5), ('Sadaq', 5), ('Sadarian', 5), ('Sadarion', 5), ('Sadavia', 5), ('Saddiya', 5), ('Sadea', 5), ('Sadeeq', 5), ('Sadeigh', 5), ('Saderia', 5), ('Sadhvi', 5), ('Sadielee', 5), ('Sadio', 5), ('Sadique', 5), ('Sadir', 5), ('Sadiyya', 5), ('Sadman', 5), ('Sadonia', 5), ('Saedie', 5), ('Saela', 5), ('Safeara', 5), ('Safee', 5), ('Safet', 5), ('Saffa', 5), ('Safiah', 5), ('Sagine', 5), ('Sahaan', 5), ('Sahai', 5), ('Saham', 5), ('Saheb', 5), ('Sahen', 5), ('Sahishnu', 5), ('Sahitya', 5), ('Sahiyah', 5), ('Sahmiya', 5), ('Sahnya', 5), ('Sahrai', 5), ('Sahron', 5), ('Sahrye', 5), ('Saianish', 5), ('Saichi', 5), ('Saiden', 5), ('Saidou', 5), ('Saifaldeen', 5), ('Saiid', 5), ('Saile', 5), ('Saintjohn', 5), ('Saion', 5), ('Sajaad', 5), ('Sajeda', 5), ('Saji', 5), ('Sakaiya', 5), ('Sakeef', 5), ('Sakeya', 5), ('Sakthi', 5), ('Saku', 5), ('Saladine', 5), ('Salahaldeen', 5), ('Salaheddine', 5), ('Salamata', 5), ('Salanda', 5), ('Salandra', 5), ('Salay', 5), ('Salayna', 5), ('Salazar', 5), ('Saleigh', 5), ('Salet', 5), ('Salethia', 5), ('Saleyah', 5), ('Salida', 5), ('Saliya', 5), ('Saliym', 5), ('Salomae', 5), ('Salonda', 5), ('Salone', 5), ('Salonge', 5), ('Salvado', 5), ('Salvadora', 5), ('Salvatora', 5), ('Samaah', 5), ('Samaara', 5), ('Samahj', 5), ('Samalia', 5), ('Samana', 5), ('Samandar', 5), ('Samanthalynn', 5), ('Samanthea', 5), ('Samare', 5), ('Samarea', 5), ('Samarian', 5), ('Samarjit', 5), ('Samarpreet', 5), ('Samata', 5), ('Sameem', 5), ('Samehesha', 5), ('Sameia', 5), ('Sameika', 5), ('Samej', 5), ('Samekia', 5), ('Samerra', 5), ('Samet', 5), ('Sametta', 5), ('Samiera', 5), ('Samija', 5), ('Samita', 5), ('Samma', 5), ('Sammael', 5), ('Sammeul', 5), ('Sammiyah', 5), ('Sammul', 5), ('Sammya', 5), ('Samonie', 5), ('Samontha', 5), ('Samore', 5), ('Samp', 5), ('Sampath', 5), ('Samraj', 5), ('Samuael', 5), ('Samuil', 5), ('Samyr', 5), ('Sanchit', 5), ('Sandal', 5), ('Sanderson', 5), ('Sandino', 5), ('Sandora', 5), ('Sandr', 5), ('Sandreka', 5), ('Sandricka', 5), ('Sandry', 5), ('Sandybell', 5), ('Saned', 5), ('Saneya', 5), ('Sanibel', 5), ('Sanihya', 5), ('Saniiya', 5), ('Saniqua', 5), ('Sanira', 5), ('Sanitra', 5), ('Saniye', 5), ('Saniyia', 5), ('Sanjan', 5), ('Sankeerth', 5), ('Sankey', 5), ('Sannai', 5), ('Sannon', 5), ('Sanskruti', 5), ('Santanah', 5), ('Santanya', 5), ('Santavia', 5), ('Santavious', 5), ('Santoi', 5), ('Santrez', 5), ('Sanyra', 5), ('Sapheria', 5), ('Saphirah', 5), ('Saquanna', 5), ('Sarabel', 5), ('Sarahbella', 5), ('Sarahya', 5), ('Saraina', 5), ('Sarait', 5), ('Saralie', 5), ('Sarani', 5), ('Saraswati', 5), ('Saratha', 5), ('Sarbjot', 5), ('Sardar', 5), ('Sarell', 5), ('Sareniti', 5), ('Sariaha', 5), ('Sarica', 5), ('Sariha', 5), ('Sarii', 5), ('Sariyha', 5), ('Sarn', 5), ('Saroun', 5), ('Sarri', 5), ('Sarriyah', 5), ('Sarsh', 5), ('Sarvia', 5), ('Saryan', 5), ('Sasami', 5), ('Sashalee', 5), ('Sasharae', 5), ('Sashya', 5), ('Sathwik', 5), ('Satnam', 5), ('Satsha', 5), ('Satsuko', 5), ('Satyn', 5), ('Sauannah', 5), ('Sauna', 5), ('Savannahgrace', 5), ('Savannahjo', 5), ('Saveliy', 5), ('Savena', 5), ('Saveya', 5), ('Saveyon', 5), ('Savhannah', 5), ('Saviah', 5), ('Saviana', 5), ('Savin', 5), ('Savit', 5), ('Savoeun', 5), ('Savonya', 5), ('Sawdah', 5), ('Sayanna', 5), ('Saybree', 5), ('Sayen', 5), ('Sayona', 5), ('Sayonna', 5), ('Sbeidy', 5), ('Sbrina', 5), ('Scarlytt', 5), ('Schaffer', 5), ('Schanelle', 5), ('Schannon', 5), ('Schmika', 5), ('Scholar', 5), ('Scholastica', 5), ('Schrie', 5), ('Scottia', 5), ('Seaanna', 5), ('Seabrook', 5), ('Seairah', 5), ('Seals', 5), ('Sealtiel', 5), ('Seaman', 5), ('Seandouglas', 5), ('Seandre', 5), ('Seandrea', 5), ('Seangabriel', 5), ('Seanjohn', 5), ('Seanta', 5), ('Seanthomas', 5), ('Seantyler', 5), ('Searah', 5), ('Searia', 5), ('Searl', 5), ('Seasons', 5), ('Sebastean', 5), ('Sebestian', 5), ('Sebie', 5), ('Sebria', 5), ('Sebrinia', 5), ('Seburn', 5), ('Secundina', 5), ('Sedell', 5), ('Sedgie', 5), ('Sedney', 5), ('Sedwick', 5), ('Sefton', 5), ('Sehajpreet', 5), ('Sehana', 5), ('Seianna', 5), ('Seid', 5), ('Seidina', 5), ('Seigo', 5), ('Seitu', 5), ('Seja', 5), ('Sekayi', 5), ('Sekia', 5), ('Sekura', 5), ('Selasi', 5), ('Selebrity', 5), ('Seliah', 5), ('Seliyah', 5), ('Sellie', 5), ('Selphie', 5), ('Selven', 5), ('Selyn', 5), ('Semajai', 5), ('Semarias', 5), ('Semayah', 5), ('Semere', 5), ('Senaiya', 5), ('Seneque', 5), ('Senetria', 5), ('Senida', 5), ('Sensi', 5), ('Senteria', 5), ('Sentrell', 5), ('Seoyeon', 5), ('Seoyoon', 5), ('Sepia', 5), ('Sepp', 5), ('Sequeena', 5), ('Sequina', 5), ('Sequoyia', 5), ('Serach', 5), ('Serae', 5), ('Serafima', 5), ('Serafine', 5), ('Seras', 5), ('Seray', 5), ('Serdar', 5), ('Sereina', 5), ('Serennity', 5), ('Sergie', 5), ('Serguio', 5), ('Serhat', 5), ('Seriena', 5), ('Seriniti', 5), ('Serissa', 5), ('Seritta', 5), ('Seryniti', 5), ('Sesalie', 5), ('Setara', 5), ('Setsuo', 5), ('Settimio', 5), ('Seumas', 5), ('Sevena', 5), ('Seveon', 5), ('Sever', 5), ('Severen', 5), ('Severia', 5), ('Severio', 5), ('Severyn', 5), ('Sevi', 5), ('Seviah', 5), ('Sewilla', 5), ('Sewit', 5), ('Seya', 5), ('Seyha', 5), ('Seymoure', 5), ('Shaad', 5), ('Shaaliyah', 5), ('Shaba', 5), ('Shabina', 5), ('Shabriana', 5), ('Shabriel', 5), ('Shabrittany', 5), ('Shacaria', 5), ('Shachi', 5), ('Shack', 5), ('Shacondra', 5), ('Shacourtney', 5), ('Shadarian', 5), ('Shadayah', 5), ('Shaddy', 5), ('Shadeen', 5), ('Shadejah', 5), ('Shadiqua', 5), ('Shadira', 5), ('Shadona', 5), ('Shaeann', 5), ('Shaelea', 5), ('Shafon', 5), ('Shaguanna', 5), ('Shahaan', 5), ('Shahanna', 5), ('Shaheedah', 5), ('Shahirah', 5), ('Shahnawaz', 5), ('Shahrazad', 5), ('Shahreen', 5), ('Shahzoda', 5), ('Shaid', 5), ('Shaienne', 5), ('Shaik', 5), ('Shaikeem', 5), ('Shaikha', 5), ('Shailie', 5), ('Shailynne', 5), ('Shaisha', 5), ('Shaiyan', 5), ('Shakaiya', 5), ('Shakalia', 5), ('Shakayia', 5), ('Shakeah', 5), ('Shakeidra', 5), ('Shakemmia', 5), ('Shakeyda', 5), ('Shaking', 5), ('Shakiva', 5), ('Shakka', 5), ('Shakoria', 5), ('Shakria', 5), ('Shakwan', 5), ('Shakye', 5), ('Shakyiah', 5), ('Shalaka', 5), ('Shalanna', 5), ('Shalanta', 5), ('Shalante', 5), ('Shalaundra', 5), ('Shaleshia', 5), ('Shalica', 5), ('Shaliese', 5), ('Shalima', 5), ('Shaliqua', 5), ('Shalisia', 5), ('Shalliyah', 5), ('Shalo', 5), ('Shalonte', 5), ('Shalymar', 5), ('Shalyric', 5), ('Shalyssa', 5), ('Shamada', 5), ('Shamaia', 5), ('Shamaila', 5), ('Shamain', 5), ('Shamakia', 5), ('Shamanique', 5), ('Shamay', 5), ('Shambrea', 5), ('Shameik', 5), ('Shamek', 5), ('Shameki', 5), ('Shametrice', 5), ('Shamiek', 5), ('Shamill', 5), ('Shamillia', 5), ('Shamise', 5), ('Shamma', 5), ('Shammie', 5), ('Shamonia', 5), ('Shamori', 5), ('Shampagne', 5), ('Shamso', 5), ('Shamuel', 5), ('Shanaih', 5), ('Shanail', 5), ('Shanaisha', 5), ('Shanarra', 5), ('Shanasha', 5), ('Shanchez', 5), ('Shandara', 5), ('Shandella', 5), ('Shandera', 5), ('Shandreika', 5), ('Shanecka', 5), ('Shaneesa', 5), ('Shanekqa', 5), ('Shanely', 5), ('Shanequea', 5), ('Shanesa', 5), ('Shaneshia', 5), ('Shanesse', 5), ('Shanez', 5), ('Shangaleza', 5), ('Shanieca', 5), ('Shanii', 5), ('Shaniki', 5), ('Shaniquwa', 5), ('Shaniyia', 5), ('Shanli', 5), ('Shanmukh', 5), ('Shannalee', 5), ('Shannee', 5), ('Shanneka', 5), ('Shanniya', 5), ('Shannya', 5), ('Shanobia', 5), ('Shanona', 5), ('Shanonn', 5), ('Shanqua', 5), ('Shanqual', 5), ('Shanquan', 5), ('Shanquil', 5), ('Shanrica', 5), ('Shantala', 5), ('Shantanae', 5), ('Shantela', 5), ('Shanterika', 5), ('Shanterri', 5), ('Shantesha', 5), ('Shanteya', 5), ('Shantie', 5), ('Shantiece', 5), ('Shantiel', 5), ('Shantih', 5), ('Shantle', 5), ('Shantrail', 5), ('Shantwana', 5), ('Shantya', 5), ('Shanye', 5), ('Shanyel', 5), ('Shanyse', 5), ('Shapria', 5), ('Shaqil', 5), ('Shaquaila', 5), ('Shaquale', 5), ('Shaquarius', 5), ('Shaqueda', 5), ('Shaqueel', 5), ('Shaqueeta', 5), ('Shaquelia', 5), ('Shaquerra', 5), ('Shaquillie', 5), ('Shaquin', 5), ('Shaquinn', 5), ('Shaquirra', 5), ('Shaquone', 5), ('Shaquor', 5), ('Shaqwanna', 5), ('Sharail', 5), ('Sharalynn', 5), ('Sharat', 5), ('Sharaven', 5), ('Sharayu', 5), ('Shardonay', 5), ('Shardul', 5), ('Shareek', 5), ('Shareem', 5), ('Sharees', 5), ('Shareif', 5), ('Shareny', 5), ('Shareva', 5), ('Shariden', 5), ('Sharielle', 5), ('Sharikka', 5), ('Sharimar', 5), ('Sharinda', 5), ('Sharini', 5), ('Sharinna', 5), ('Shariyka', 5), ('Sharlan', 5), ('Sharlanda', 5), ('Sharleene', 5), ('Sharlen', 5), ('Sharletha', 5), ('Sharly', 5), ('Sharmae', 5), ('Sharmake', 5), ('Sharmia', 5), ('Sharmilla', 5), ('Sharnele', 5), ('Sharnet', 5), ('Sharney', 5), ('Sharnisha', 5), ('Sharocka', 5), ('Sharoll', 5), ('Sharolynn', 5), ('Sharome', 5), ('Sharonette', 5), ('Sharrae', 5), ('Sharray', 5), ('Sharre', 5), ('Sharrika', 5), ('Sharrita', 5), ('Sharva', 5), ('Sharyan', 5), ('Sharyia', 5), ('Sharynne', 5), ('Shasa', 5), ('Shashanth', 5), ('Shashawn', 5), ('Shashi', 5), ('Shastelin', 5), ('Shataka', 5), ('Shatarah', 5), ('Shataura', 5), ('Shatay', 5), ('Shatel', 5), ('Shatell', 5), ('Shateya', 5), ('Shatiah', 5), ('Shatiek', 5), ('Shatierra', 5), ('Shatoni', 5), ('Shatory', 5), ('Shatorya', 5), ('Shaunacy', 5), ('Shaunay', 5), ('Shaundale', 5), ('Shaundel', 5), ('Shaundreka', 5), ('Shaundrika', 5), ('Shauneille', 5), ('Shaunel', 5), ('Shaunielle', 5), ('Shauniya', 5), ('Shauntavious', 5), ('Shauntaya', 5), ('Shauntaye', 5), ('Shauntele', 5), ('Shauntiana', 5), ('Shauntoria', 5), ('Shavada', 5), ('Shavan', 5), ('Shavaria', 5), ('Shavera', 5), ('Shavion', 5), ('Shawhin', 5), ('Shawki', 5), ('Shawnacy', 5), ('Shawndelle', 5), ('Shawndi', 5), ('Shawneeque', 5), ('Shawneka', 5), ('Shawnesha', 5), ('Shawnon', 5), ('Shawntale', 5), ('Shawntane', 5), ('Shawntey', 5), ('Shawntika', 5), ('Shawun', 5), ('Shawyn', 5), ('Shaydin', 5), ('Shayleah', 5), ('Shaylla', 5), ('Shaylonda', 5), ('Shayndel', 5), ('Shaynelle', 5), ('She', 5), ('Sheaira', 5), ('Shealan', 5), ('Sheali', 5), ('Sheandra', 5), ('Sheary', 5), ('Shebria', 5), ('Shedonna', 5), ('Shedrich', 5), ('Shedricka', 5), ('Sheeneeka', 5), ('Sheharyar', 5), ('Shehroz', 5), ('Sheikha', 5), ('Sheil', 5), ('Sheili', 5), ('Sheiva', 5), ('Shekeia', 5), ('Shekeila', 5), ('Shekhinah', 5), ('Shekitha', 5), ('Shelan', 5), ('Shelaya', 5), ('Shelayne', 5), ('Shelbert', 5), ('Shelbra', 5), ('Shelbyjo', 5), ('Sheldia', 5), ('Shele', 5), ('Sheleena', 5), ('Shelette', 5), ('Shelica', 5), ('Sheliya', 5), ('Sheliza', 5), ('Shellaine', 5), ('Shellbe', 5), ('Shellisa', 5), ('Shelyn', 5), ('Shemaine', 5), ('Shemaka', 5), ('Shemara', 5), ('Shemera', 5), ('Shemita', 5), ('Sheneaka', 5), ('Sheneda', 5), ('Sheneil', 5), ('Sheneshia', 5), ('Shengyeng', 5), ('Shenikia', 5), ('Shenina', 5), ('Shennan', 5), ('Shennel', 5), ('Shenya', 5), ('Shenyah', 5), ('Sheperd', 5), ('Shequanda', 5), ('Shequanna', 5), ('Shequira', 5), ('Sheraldine', 5), ('Sherall', 5), ('Sheraton', 5), ('Sherburne', 5), ('Shereika', 5), ('Sherelene', 5), ('Sheriel', 5), ('Sherifat', 5), ('Sherile', 5), ('Sherinda', 5), ('Sherkita', 5), ('Sherlly', 5), ('Shermona', 5), ('Sherneice', 5), ('Shernette', 5), ('Sherokee', 5), ('Sherome', 5), ('Sherquita', 5), ('Sherr', 5), ('Sherralyn', 5), ('Sherrea', 5), ('Sherreka', 5), ('Sherrene', 5), ('Sherretta', 5), ('Sherrille', 5), ('Sherris', 5), ('Shertia', 5), ('Sherunda', 5), ('Shervonda', 5), ('Sheshe', 5), ('Shetarra', 5), ('Sheterica', 5), ('Sheterrica', 5), ('Shevella', 5), ('Shevetta', 5), ('Shevi', 5), ('Sheylyn', 5), ('Sheylynn', 5), ('Shiala', 5), ('Shielah', 5), ('Shierra', 5), ('Shige', 5), ('Shigetoshi', 5), ('Shigeyuki', 5), ('Shikema', 5), ('Shikeria', 5), ('Shiketa', 5), ('Shikeyla', 5), ('Shillae', 5), ('Shimeek', 5), ('Shimeeka', 5), ('Shimekia', 5), ('Shinda', 5), ('Shinee', 5), ('Shinesha', 5), ('Shiniah', 5), ('Shinobi', 5), ('Shioban', 5), ('Shirae', 5), ('Shiretta', 5), ('Shirlane', 5), ('Shirleeta', 5), ('Shirletha', 5), ('Shirlina', 5), ('Shirret', 5), ('Shirron', 5), ('Shivaansh', 5), ('Shivany', 5), ('Shiyann', 5), ('Shiyanna', 5), ('Shiye', 5), ('Shlomit', 5), ('Shmeil', 5), ('Shnea', 5), ('Shneor', 5), ('Shnita', 5), ('Shniyah', 5), ('Shondalyn', 5), ('Shondolyn', 5), ('Shondre', 5), ('Shondrick', 5), ('Shoneka', 5), ('Shonett', 5), ('Shong', 5), ('Shonnetta', 5), ('Shonni', 5), ('Shonnita', 5), ('Shonski', 5), ('Shontavius', 5), ('Shontisha', 5), ('Shorn', 5), ('Shoshona', 5), ('Shovon', 5), ('Shrea', 5), ('Shreehan', 5), ('Shreyasi', 5), ('Shrhonda', 5), ('Shrishti', 5), ('Shrivas', 5), ('Shriyaan', 5), ('Shubha', 5), ('Shuchi', 5), ('Shulamite', 5), ('Shumel', 5), ('Shunashi', 5), ('Shunell', 5), ('Shuntana', 5), ('Shunterria', 5), ('Shuntina', 5), ('Shunya', 5), ('Shuraim', 5), ('Shurhonda', 5), ('Shuri', 5), ('Shurie', 5), ('Shurlene', 5), ('Shushan', 5), ('Shuvonne', 5), ('Shuwanna', 5), ('Shyauna', 5), ('Shyda', 5), ('Shydia', 5), ('Shyhem', 5), ('Shykerria', 5), ('Shyleah', 5), ('Shylei', 5), ('Shylla', 5), ('Shylon', 5), ('Shylow', 5), ('Shyma', 5), ('Shymel', 5), ('Shyneka', 5), ('Shynesha', 5), ('Shynita', 5), ('Shyrene', 5), ('Sias', 5), ('Sibelle', 5), ('Sibi', 5), ('Sibil', 5), ('Sibilla', 5), ('Sibrina', 5), ('Sidahmed', 5), ('Siddhesh', 5), ('Sidhartha', 5), ('Sidora', 5), ('Sidratul', 5), ('Siebert', 5), ('Sienne', 5), ('Sier', 5), ('Sieria', 5), ('Sierraleone', 5), ('Sierralynn', 5), ('Sierramarie', 5), ('Sierrea', 5), ('Siesta', 5), ('Sievert', 5), ('Sifat', 5), ('Sigfrid', 5), ('Sigfrido', 5), ('Sigmunt', 5), ('Sigrun', 5), ('Sigvard', 5), ('Sihara', 5), ('Sikander', 5), ('Silla', 5), ('Silven', 5), ('Silvi', 5), ('Silvo', 5), ('Simbarashe', 5), ('Sime', 5), ('Simia', 5), ('Simin', 5), ('Simione', 5), ('Simitrio', 5), ('Simms', 5), ('Simoni', 5), ('Simote', 5), ('Simrandeep', 5), ('Simreet', 5), ('Simron', 5), ('Sinaiya', 5), ('Sinath', 5), ('Sinchana', 5), ('Sindey', 5), ('Sinjon', 5), ('Sinnamon', 5), ('Siobhon', 5), ('Sioeli', 5), ('Siohban', 5), ('Siovhan', 5), ('Sip', 5), ('Siqi', 5), ('Siraaj', 5), ('Siraya', 5), ('Sirayah', 5), ('Sirchristopher', 5), ('Sirgio', 5), ('Siriya', 5), ('Sirrah', 5), ('Sirvon', 5), ('Siryah', 5), ('Sistine', 5), ('Sitey', 5), ('Siwar', 5), ('Siwoo', 5), ('Siyam', 5), ('Siyuri', 5), ('Sjana', 5), ('Skieler', 5), ('Skilee', 5), ('Skyana', 5), ('Skyasia', 5), ('Skyelee', 5), ('Skylarmarie', 5), ('Skylarrae', 5), ('Skyle', 5), ('Skylit', 5), ('Skyshun', 5), ('Skyyler', 5), ('Slavica', 5), ('Slavko', 5), ('Smead', 5), ('Smiya', 5), ('Smyrna', 5), ('Sneed', 5), ('Sneyder', 5), ('Snoda', 5), ('Snowy', 5), ('Soana', 5), ('Socoro', 5), ('Soda', 5), ('Sodbileg', 5), ('Soffie', 5), ('Sohany', 5), ('Sohela', 5), ('Sohna', 5), ('Sokol', 5), ('Sokoya', 5), ('Solach', 5), ('Solaine', 5), ('Solarah', 5), ('Solenn', 5), ('Soleya', 5), ('Solmary', 5), ('Solomona', 5), ('Somarah', 5), ('Somers', 5), ('Somiah', 5), ('Somil', 5), ('Somona', 5), ('Sonceria', 5), ('Sone', 5), ('Sonequa', 5), ('Sonic', 5), ('Sonica', 5), ('Soniqua', 5), ('Sonjay', 5), ('Sonjie', 5), ('Sonnett', 5), ('Sonovia', 5), ('Sonum', 5), ('Sonza', 5), ('Soobin', 5), ('Soomin', 5), ('Sopath', 5), ('Sopaul', 5), ('Sophiaisabella', 5), ('Sophiaisabelle', 5), ('Sophialauren', 5), ('Sophiamae', 5), ('Sophiemarie', 5), ('Sophilia', 5), ('Sopia', 5), ('Soraide', 5), ('Soran', 5), ('Sorella', 5), ('Soreya', 5), ('Soria', 5), ('Soroya', 5), ('Sorraya', 5), ('Sory', 5), ('Soterios', 5), ('Sotiris', 5), ('Soufiane', 5), ('Soukaina', 5), ('Soula', 5), ('Souren', 5), ('South', 5), ('Sowsan', 5), ('Soyer', 5), ('Spandan', 5), ('Sparks', 5), ('Spartan', 5), ('Spaulding', 5), ('Speedy', 5), ('Spencel', 5), ('Sperry', 5), ('Spessard', 5), ('Spicie', 5), ('Spiridoula', 5), ('Spivey', 5), ('Splendora', 5), ('Sprague', 5), ('Sraavya', 5), ('Sragvi', 5), ('Srihaan', 5), ('Srika', 5), ('Srikrithi', 5), ('Srilaasya', 5), ('Srimayi', 5), ('Srimedha', 5), ('Srinija', 5), ('Sriniketh', 5), ('Srinithya', 5), ('Srisai', 5), ('Sritan', 5), ('Srivaishnavi', 5), ('Srivar', 5), ('Sriyansh', 5), ('Ssirley', 5), ('Sstephanie', 5), ('Staciann', 5), ('Stafan', 5), ('Stafon', 5), ('Stamatina', 5), ('Stance', 5), ('Stancy', 5), ('Standish', 5), ('Staney', 5), ('Stanleigh', 5), ('Stann', 5), ('Stanson', 5), ('Stara', 5), ('Starcia', 5), ('Stardust', 5), ('Starkey', 5), ('Starlah', 5), ('Starlisa', 5), ('Starlita', 5), ('Starri', 5), ('Starshemah', 5), ('Startasia', 5), ('Stash', 5), ('Stathan', 5), ('Statton', 5), ('Stazia', 5), ('Stcy', 5), ('Stearl', 5), ('Steelie', 5), ('Steevie', 5), ('Stefanni', 5), ('Stefhon', 5), ('Stefphon', 5), ('Stehpen', 5), ('Steicy', 5), ('Stephanic', 5), ('Stephanni', 5), ('Stephennie', 5), ('Stepheon', 5), ('Stephfan', 5), ('Stephun', 5), ('Stephvon', 5), ('Stepphanie', 5), ('Sterline', 5), ('Stevani', 5), ('Stevena', 5), ('Stevierae', 5), ('Stevion', 5), ('Steysi', 5), ('Sthefani', 5), ('Sthepanie', 5), ('Stiney', 5), ('Stjulian', 5), ('Stover', 5), ('Stratford', 5), ('Stratos', 5), ('Strauss', 5), ('Streeter', 5), ('Strickland', 5), ('Stven', 5), ('Styler', 5), ('Subaru', 5), ('Subria', 5), ('Sucdi', 5), ('Sudeeksha', 5), ('Sudhanva', 5), ('Sudip', 5), ('Suedell', 5), ('Suejin', 5), ('Suelyn', 5), ('Suen', 5), ('Sufi', 5), ('Sugeily', 5), ('Sugeiri', 5), ('Suhailey', 5), ('Suhaily', 5), ('Suhanee', 5), ('Suheib', 5), ('Suhrit', 5), ('Suhur', 5), ('Sujatha', 5), ('Sujood', 5), ('Sulai', 5), ('Sulaymaan', 5), ('Sule', 5), ('Sulekha', 5), ('Suleymi', 5), ('Sulia', 5), ('Sulin', 5), ('Sulynn', 5), ('Sumair', 5), ('Sumaiyya', 5), ('Sumalee', 5), ('Sumia', 5), ('Summa', 5), ('Summayah', 5), ('Summerrain', 5), ('Sumra', 5), ('Sunasia', 5), ('Sunde', 5), ('Sundos', 5), ('Sunitha', 5), ('Sunnee', 5), ('Suoma', 5), ('Suparna', 5), ('Supraja', 5), ('Suprenia', 5), ('Suraiyah', 5), ('Surayya', 5), ('Suree', 5), ('Surianna', 5), ('Surraya', 5), ('Sushma', 5), ('Susin', 5), ('Susyn', 5), ('Suvilla', 5), ('Suyai', 5), ('Suyeko', 5), ('Suzzie', 5), ('Sveva', 5), ('Swanda', 5), ('Swanee', 5), ('Swanie', 5), ('Swecha', 5), ('Swindell', 5), ('Swinton', 5), ('Syaira', 5), ('Sybrena', 5), ('Sydalee', 5), ('Sydonia', 5), ('Sydra', 5), ('Syedah', 5), ('Syeisha', 5), ('Syere', 5), ('Syheem', 5), ('Syid', 5), ('Syiere', 5), ('Sykeria', 5), ('Syl', 5), ('Sylbia', 5), ('Syliss', 5), ('Sylvannah', 5), ('Sylvonia', 5), ('Symarah', 5), ('Symaya', 5), ('Symeir', 5), ('Symona', 5), ('Synaia', 5), ('Synceir', 5), ('Syndia', 5), ('Synithia', 5), ('Synneva', 5), ('Syr', 5), ('Syrene', 5), ('Syrenna', 5), ('Syrette', 5), ('Syritta', 5), ('Syrius', 5), ('Syron', 5), ('Sytha', 5), ('Syvester', 5), ('Syvia', 5), ('Szander', 5), ('Szofia', 5), ('Taalor', 5), ('Taarna', 5), ('Taba', 5), ('Tabathe', 5), ('Tabbytha', 5), ('Tabea', 5), ('Tabious', 5), ('Taborah', 5), ('Tabori', 5), ('Tabu', 5), ('Tace', 5), ('Tachara', 5), ('Tachiana', 5), ('Tachic', 5), ('Taciana', 5), ('Tacory', 5), ('Tadajah', 5), ('Tadarian', 5), ('Taddeo', 5), ('Tadeja', 5), ('Tadesha', 5), ('Taegyn', 5), ('Taeh', 5), ('Taehyun', 5), ('Taejuan', 5), ('Taelan', 5), ('Taelee', 5), ('Taelour', 5), ('Taeryn', 5), ('Taeshia', 5), ('Taeson', 5), ('Taetym', 5), ('Taeyah', 5), ('Taeyang', 5), ('Taffeta', 5), ('Tahesia', 5), ('Tahi', 5), ('Tahitha', 5), ('Tahitoa', 5), ('Tahiyah', 5), ('Tahjanee', 5), ('Tahlaya', 5), ('Tahleek', 5), ('Tahlib', 5), ('Tahlya', 5), ('Tahmia', 5), ('Tahna', 5), ('Tahnesha', 5), ('Tahnisha', 5), ('Tahriq', 5), ('Tahshawn', 5), ('Taig', 5), ('Taighlor', 5), ('Taigon', 5), ('Taihlor', 5), ('Taijarae', 5), ('Tailen', 5), ('Tailon', 5), ('Taimani', 5), ('Taimoor', 5), ('Tairen', 5), ('Tairik', 5), ('Taitianna', 5), ('Taityana', 5), ('Taityanna', 5), ('Taiwon', 5), ('Taiyler', 5), ('Taizha', 5), ('Taizley', 5), ('Tajahn', 5), ('Tajahne', 5), ('Tajhanae', 5), ('Tajianna', 5), ('Tajinae', 5), ('Tajmalik', 5), ('Tajmere', 5), ('Tajudeen', 5), ('Tajveer', 5), ('Takashia', 5), ('Takeara', 5), ('Takeasha', 5), ('Takedra', 5), ('Takeeta', 5), ('Takeichi', 5), ('Takeidra', 5), ('Takella', 5), ('Takemia', 5), ('Takijah', 5), ('Takisa', 5), ('Takiyla', 5), ('Takori', 5), ('Takye', 5), ('Takylia', 5), ('Talae', 5), ('Talaija', 5), ('Talajha', 5), ('Talajiah', 5), ('Talat', 5), ('Talayasia', 5), ('Taleisa', 5), ('Taliba', 5), ('Taliha', 5), ('Talissia', 5), ('Talmer', 5), ('Talsha', 5), ('Taly', 5), ('Talyor', 5), ('Tamaiah', 5), ('Tamajah', 5), ('Tamalia', 5), ('Tamarae', 5), ('Tamarik', 5), ('Tamaro', 5), ('Tamaron', 5), ('Tamarrah', 5), ('Tamasine', 5), ('Tamaurice', 5), ('Tamayia', 5), ('Tambresha', 5), ('Tambry', 5), ('Tameera', 5), ('Tameira', 5), ('Tameke', 5), ('Tamekea', 5), ('Tamell', 5), ('Tameyka', 5), ('Tamhra', 5), ('Tamiaya', 5), ('Tamicko', 5), ('Tamieko', 5), ('Tamiika', 5), ('Tamikca', 5), ('Tamillia', 5), ('Tammetha', 5), ('Tammila', 5), ('Tammmy', 5), ('Tammora', 5), ('Tammylee', 5), ('Tammyra', 5), ('Tamorion', 5), ('Tamyria', 5), ('Tanaa', 5), ('Tanard', 5), ('Tanayshia', 5), ('Tanayzia', 5), ('Tandice', 5), ('Tandis', 5), ('Tanedra', 5), ('Taneesh', 5), ('Taneice', 5), ('Taneicia', 5), ('Taneille', 5), ('Taneiqua', 5), ('Taneiya', 5), ('Tanek', 5), ('Tanekqua', 5), ('Taneysha', 5), ('Tangelo', 5), ('Tangenika', 5), ('Tanglia', 5), ('Tangular', 5), ('Taniayah', 5), ('Tanicha', 5), ('Tanida', 5), ('Tanin', 5), ('Tanjanae', 5), ('Tanjie', 5), ('Tanneshia', 5), ('Tannim', 5), ('Tannyr', 5), ('Tansi', 5), ('Tantra', 5), ('Tanuja', 5), ('Tanusha', 5), ('Tanushka', 5), ('Tanyha', 5), ('Taonna', 5), ('Tapasya', 5), ('Taqiyyah', 5), ('Taquanta', 5), ('Taquella', 5), ('Taquez', 5), ('Taquisa', 5), ('Taquoya', 5), ('Taqwan', 5), ('Tar', 5), ('Taraf', 5), ('Taranique', 5), ('Tarcia', 5), ('Tareia', 5), ('Tareyn', 5), ('Tarha', 5), ('Taric', 5), ('Taritha', 5), ('Tarkeshia', 5), ('Tarkisha', 5), ('Tarneisha', 5), ('Tarnya', 5), ('Taronza', 5), ('Tarralyn', 5), ('Tarrius', 5), ('Tarrod', 5), ('Tarsheka', 5), ('Tarvin', 5), ('Taryl', 5), ('Tarzan', 5), ('Tasani', 5), ('Tashalee', 5), ('Tashanika', 5), ('Tashante', 5), ('Tashaunti', 5), ('Tasheeka', 5), ('Tashel', 5), ('Tasheyana', 5), ('Tashfia', 5), ('Tashiona', 5), ('Tashionna', 5), ('Tashiyana', 5), ('Tasina', 5), ('Taslin', 5), ('Tasma', 5), ('Tatanishia', 5), ('Tatiayana', 5), ('Tatiyonna', 5), ('Tatom', 5), ('Tatrina', 5), ('Tatsiana', 5), ('Tatsu', 5), ('Tatsuro', 5), ('Tatton', 5), ('Tauhid', 5), ('Taumi', 5), ('Taunie', 5), ('Taurance', 5), ('Taurasi', 5), ('Taurius', 5), ('Taushia', 5), ('Tavain', 5), ('Tavalas', 5), ('Tavanna', 5), ('Tavarian', 5), ('Tavario', 5), ('Tavean', 5), ('Tavera', 5), ('Tavern', 5), ('Tavette', 5), ('Tavey', 5), ('Tavonda', 5), ('Tavonn', 5), ('Tavontae', 5), ('Tavores', 5), ('Tavy', 5), ('Tawanica', 5), ('Tawann', 5), ('Tawanne', 5), ('Tawfeeq', 5), ('Tawheed', 5), ('Tawiana', 5), ('Tawne', 5), ('Tawnjai', 5), ('Tayani', 5), ('Taybor', 5), ('Tayce', 5), ('Taydum', 5), ('Tayea', 5), ('Tayesha', 5), ('Tayeshawn', 5), ('Tayhlor', 5), ('Tayisha', 5), ('Tayleah', 5), ('Taylene', 5), ('Taylenn', 5), ('Taylorgrace', 5), ('Taylorjames', 5), ('Taymour', 5), ('Tayonia', 5), ('Tayvan', 5), ('Tayvianna', 5), ('Tayviona', 5), ('Tayvionna', 5), ('Tayvone', 5), ('Tayvonne', 5), ('Tayyaba', 5), ('Tayyibah', 5), ('Tayzen', 5), ('Tazaya', 5), ('Tazewell', 5), ('Tchanavian', 5), ('Teaerra', 5), ('Teahna', 5), ('Teaisha', 5), ('Teandria', 5), ('Teangela', 5), ('Teanisha', 5), ('Teann', 5), ('Tecola', 5), ('Teddye', 5), ('Tedros', 5), ('Teeana', 5), ('Teenia', 5), ('Teenie', 5), ('Teerra', 5), ('Teffani', 5), ('Teghveer', 5), ('Tegon', 5), ('Teha', 5), ('Tehesha', 5), ('Teiarra', 5), ('Teidra', 5), ('Tein', 5), ('Tekeira', 5), ('Tekenya', 5), ('Tekita', 5), ('Tekiya', 5), ('Tekulve', 5), ('Tekyra', 5), ('Telaya', 5), ('Telaysia', 5), ('Telesphore', 5), ('Telica', 5), ('Telio', 5), ('Telise', 5), ('Telsha', 5), ('Teman', 5), ('Temeeka', 5), ('Temeko', 5), ('Temesa', 5), ('Temetria', 5), ('Temetrius', 5), ('Temkia', 5), ('Temon', 5), ('Tempesst', 5), ('Temprince', 5), ('Tempsett', 5), ('Temuujin', 5), ('Tenara', 5), ('Tenayah', 5), ('Tench', 5), ('Tency', 5), ('Tendai', 5), ('Tendra', 5), ('Tendria', 5), ('Teneasha', 5), ('Teneca', 5), ('Teneeka', 5), ('Teneesha', 5), ('Teneia', 5), ('Teneile', 5), ('Teneke', 5), ('Tenicha', 5), ('Teniel', 5), ('Tenijah', 5), ('Tenneh', 5), ('Tenneill', 5), ('Tenneille', 5), ('Tennesia', 5), ('Tennill', 5), ('Tenora', 5), ('Tenyce', 5), ('Teonni', 5), ('Tepanga', 5), ('Teppei', 5), ('Tequana', 5), ('Tequela', 5), ('Tequella', 5), ('Tequira', 5), ('Teral', 5), ('Teralee', 5), ('Terani', 5), ('Teremy', 5), ('Terenna', 5), ('Tereon', 5), ('Teresaann', 5), ('Terico', 5), ('Teris', 5), ('Termell', 5), ('Ternell', 5), ('Terr', 5), ('Terrain', 5), ('Terralynn', 5), ('Terrane', 5), ('Terraneisha', 5), ('Terrayne', 5), ('Terreal', 5), ('Terresia', 5), ('Terricia', 5), ('Terriek', 5), ('Terriell', 5), ('Terrilynne', 5), ('Terrineka', 5), ('Terrique', 5), ('Terrissa', 5), ('Terriyon', 5), ('Terrolyn', 5), ('Terronda', 5), ('Terryanna', 5), ('Tervell', 5), ('Tervin', 5), ('Teryon', 5), ('Tes', 5), ('Teshayla', 5), ('Teshena', 5), ('Teshina', 5), ('Teshira', 5), ('Tetsu', 5), ('Tevarus', 5), ('Tevell', 5), ('Teyahna', 5), ('Teyanah', 5), ('Teyonda', 5), ('Teysean', 5), ('Thaddea', 5), ('Thadeo', 5), ('Thadine', 5), ('Thailen', 5), ('Thain', 5), ('Thaisa', 5), ('Thaissa', 5), ('Thaj', 5), ('Thalen', 5), ('Thames', 5), ('Thamia', 5), ('Thamos', 5), ('Thanasi', 5), ('Thanhphong', 5), ('Thanhtruc', 5), ('Tharel', 5), ('Tharyn', 5), ('Thawann', 5), ('Thaxter', 5), ('Thayla', 5), ('Thaylia', 5), ('Thayna', 5), ('Thays', 5), ('The', 5), ('Theanna', 5), ('Thearthur', 5), ('Thel', 5), ('Theldon', 5), ('Thelisa', 5), ('Thelmar', 5), ('Theodie', 5), ('Theofilos', 5), ('Theoni', 5), ('Theopa', 5), ('Theophane', 5), ('Theophilia', 5), ('Theophus', 5), ('Theral', 5), ('Therald', 5), ('Therease', 5), ('Theresann', 5), ('Theressia', 5), ('Thereza', 5), ('Therone', 5), ('Therrell', 5), ('Therrin', 5), ('Therse', 5), ('Thesa', 5), ('Thessalonia', 5), ('Thiego', 5), ('Thiel', 5), ('Thira', 5), ('Thirl', 5), ('Thistle', 5), ('Thlema', 5), ('Thoa', 5), ('Thomara', 5), ('Thomasita', 5), ('Thomason', 5), ('Thomass', 5), ('Thomesa', 5), ('Thony', 5), ('Thorald', 5), ('Thoralf', 5), ('Thoreau', 5), ('Thorine', 5), ('Thornwell', 5), ('Thorson', 5), ('Thorval', 5), ('Thressia', 5), ('Thrisa', 5), ('Thuhuong', 5), ('Thuraya', 5), ('Thurayya', 5), ('Thurber', 5), ('Thurgood', 5), ('Thurla', 5), ('Thuthuy', 5), ('Thuyvy', 5), ('Thyrome', 5), ('Thyron', 5), ('Thyrone', 5), ('Tiadra', 5), ('Tiaka', 5), ('Tiala', 5), ('Tiamia', 5), ('Tiandria', 5), ('Tianny', 5), ('Tiany', 5), ('Tianyi', 5), ('Tiaona', 5), ('Tiarre', 5), ('Tiawanda', 5), ('Tiaya', 5), ('Tiayanna', 5), ('Tibby', 5), ('Ticarra', 5), ('Ticha', 5), ('Tiege', 5), ('Tier', 5), ('Tieranee', 5), ('Tierani', 5), ('Tiere', 5), ('Tiereney', 5), ('Tiericka', 5), ('Tierna', 5), ('Tiesa', 5), ('Tiessa', 5), ('Tiffaine', 5), ('Tiffannee', 5), ('Tiffnie', 5), ('Tifni', 5), ('Tigre', 5), ('Tihara', 5), ('Tiheim', 5), ('Tihisha', 5), ('Tiiu', 5), ('Tikela', 5), ('Tikera', 5), ('Tikeria', 5), ('Tikiyah', 5), ('Tikyra', 5), ('Tilena', 5), ('Tilio', 5), ('Tillis', 5), ('Tilon', 5), ('Tilwanda', 5), ('Timaj', 5), ('Timar', 5), ('Timarah', 5), ('Timarcus', 5), ('Timeah', 5), ('Timetrius', 5), ('Timmiah', 5), ('Timmithy', 5), ('Timmyah', 5), ('Timone', 5), ('Timote', 5), ('Timothyjohn', 5), ('Tinasia', 5), ('Tindra', 5), ('Tinette', 5), ('Tinnelle', 5), ('Tinslie', 5), ('Tinzleigh', 5), ('Tiodora', 5), ('Tiofila', 5), ('Tioluwani', 5), ('Tiomthy', 5), ('Tionah', 5), ('Tionee', 5), ('Tiphaine', 5), ('Tiphanee', 5), ('Tiquila', 5), ('Tiquisha', 5), ('Tircio', 5), ('Tirelle', 5), ('Tirese', 5), ('Tiria', 5), ('Tirik', 5), ('Tirina', 5), ('Tirrany', 5), ('Tishae', 5), ('Tishay', 5), ('Tishayla', 5), ('Tisheka', 5), ('Tishena', 5), ('Tishera', 5), ('Tishonna', 5), ('Tishya', 5), ('Titiyana', 5), ('Tiuana', 5), ('Tivoli', 5), ('Tiyanni', 5), ('Tkara', 5), ('Tkayah', 5), ('Tleah', 5), ('Tmaya', 5), ('Tmyra', 5), ('Tobye', 5), ('Tocha', 5), ('Tokala', 5), ('Tokina', 5), ('Tokuichi', 5), ('Tokyo', 5), ('Tol', 5), ('Toleda', 5), ('Toler', 5), ('Toluwalope', 5), ('Tomacina', 5), ('Tomako', 5), ('Tomari', 5), ('Tomario', 5), ('Tomaya', 5), ('Tomea', 5), ('Tomes', 5), ('Tomesia', 5), ('Tomiah', 5), ('Tomicko', 5), ('Tomiwa', 5), ('Tomkia', 5), ('Tomme', 5), ('Tommesha', 5), ('Tommisha', 5), ('Tommya', 5), ('Tomora', 5), ('Tomoye', 5), ('Tomyka', 5), ('Toneesha', 5), ('Tonice', 5), ('Tonija', 5), ('Tonisa', 5), ('Tonise', 5), ('Tonisia', 5), ('Tonka', 5), ('Tonza', 5), ('Tootie', 5), ('Toots', 5), ('Topazio', 5), ('Topper', 5), ('Toranio', 5), ('Toray', 5), ('Torchie', 5), ('Torei', 5), ('Torianno', 5), ('Torika', 5), ('Torique', 5), ('Torita', 5), ('Toriyah', 5), ('Torlan', 5), ('Torland', 5), ('Tornell', 5), ('Tornisha', 5), ('Torraine', 5), ('Torriyah', 5), ('Torye', 5), ('Torynn', 5), ('Toschia', 5), ('Toshana', 5), ('Toshiki', 5), ('Toshya', 5), ('Totiyana', 5), ('Tovan', 5), ('Tovaris', 5), ('Tovias', 5), ('Tovin', 5), ('Towa', 5), ('Toxi', 5), ('Toyana', 5), ('Toyea', 5), ('Tracei', 5), ('Tracianne', 5), ('Tracilyn', 5), ('Traeshaun', 5), ('Traetyn', 5), ('Traeven', 5), ('Traig', 5), ('Trail', 5), ('Traison', 5), ('Traiveon', 5), ('Trajuan', 5), ('Trakia', 5), ('Tralaina', 5), ('Tralaya', 5), ('Tramal', 5), ('Tramarcus', 5), ('Tramari', 5), ('Tramisha', 5), ('Tranasia', 5), ('Tranay', 5), ('Tranda', 5), ('Tranea', 5), ('Traneka', 5), ('Tranyah', 5), ('Trapp', 5), ('Traquez', 5), ('Trasen', 5), ('Trashell', 5), ('Trashonda', 5), ('Trasia', 5), ('Trava', 5), ('Travaun', 5), ('Travel', 5), ('Traverse', 5), ('Travianna', 5), ('Travionne', 5), ('Travontay', 5), ('Trayc', 5), ('Traylan', 5), ('Trayse', 5), ('Treava', 5), ('Treaven', 5), ('Treavion', 5), ('Treda', 5), ('Tredan', 5), ('Tredon', 5), ('Treisha', 5), ('Trekwan', 5), ('Trelisa', 5), ('Tremal', 5), ('Tremesha', 5), ('Tremica', 5), ('Trenadi', 5), ('Trenasia', 5), ('Trenaty', 5), ('Trendan', 5), ('Trendarius', 5), ('Treneisha', 5), ('Trennan', 5), ('Trentavious', 5), ('Tresca', 5), ('Treshell', 5), ('Tresta', 5), ('Tresvon', 5), ('Trevares', 5), ('Treve', 5), ('Treves', 5), ('Trevhon', 5), ('Trevier', 5), ('Trevira', 5), ('Trevona', 5), ('Trevore', 5), ('Trevorjames', 5), ('Trevun', 5), ('Trevvor', 5), ('Treymaine', 5), ('Treymane', 5), ('Treyston', 5), ('Triandos', 5), ('Tribecca', 5), ('Trifon', 5), ('Trill', 5), ('Trillis', 5), ('Trimayne', 5), ('Trinadi', 5), ('Trinay', 5), ('Trinea', 5), ('Trinere', 5), ('Trinida', 5), ('Trinidie', 5), ('Trintyn', 5), ('Trion', 5), ('Trisca', 5), ('Trishalana', 5), ('Trishamae', 5), ('Trishan', 5), ('Trishawna', 5), ('Trishona', 5), ('Trisity', 5), ('Triska', 5), ('Triss', 5), ('Tristam', 5), ('Tristanjames', 5), ('Tristann', 5), ('Tristano', 5), ('Triste', 5), ('Tristianna', 5), ('Trivian', 5), ('Troas', 5), ('Trucilla', 5), ('Truddie', 5), ('Trudis', 5), ('Truette', 5), ('Trumell', 5), ('Trunell', 5), ('Trusha', 5), ('Tryell', 5), ('Trynati', 5), ('Trystal', 5), ('Trystn', 5), ('Tshai', 5), ('Tshaye', 5), ('Tsianina', 5), ('Tsianna', 5), ('Tsunade', 5), ('Tsuruyo', 5), ('Tsutako', 5), ('Tsvia', 5), ('Tucson', 5), ('Tudy', 5), ('Tuesdai', 5), ('Tugg', 5), ('Tujuan', 5), ('Tukesha', 5), ('Tulisa', 5), ('Tullis', 5), ('Tumekia', 5), ('Tunyia', 5), ('Turea', 5), ('Turin', 5), ('Turley', 5), ('Turron', 5), ('Tuscan', 5), ('Tushara', 5), ('Tushima', 5), ('Tuson', 5), ('Tuvya', 5), ('Tuyetnhung', 5), ('Twaniqua', 5), ('Twig', 5), ('Twon', 5), ('Twonda', 5), ('Tyairah', 5), ('Tyanni', 5), ('Tyannia', 5), ('Tyaria', 5), ('Tyber', 5), ('Tybriana', 5), ('Tyche', 5), ('Tydaisha', 5), ('Tydarian', 5), ('Tydashia', 5), ('Tyecia', 5), ('Tyeishia', 5), ('Tyell', 5), ('Tyere', 5), ('Tyesa', 5), ('Tygan', 5), ('Tygh', 5), ('Tyhecia', 5), ('Tyheisha', 5), ('Tyheshia', 5), ('Tyice', 5), ('Tyieshia', 5), ('Tyira', 5), ('Tyjanea', 5), ('Tyjhon', 5), ('Tyji', 5), ('Tyjier', 5), ('Tyjir', 5), ('Tyka', 5), ('Tykaria', 5), ('Tykayla', 5), ('Tykea', 5), ('Tykeith', 5), ('Tyker', 5), ('Tykeriah', 5), ('Tykiana', 5), ('Tykierra', 5), ('Tykiesha', 5), ('Tykirah', 5), ('Tylane', 5), ('Tylayshia', 5), ('Tylerjohn', 5), ('Tylerlee', 5), ('Tyletha', 5), ('Tylier', 5), ('Tyliq', 5), ('Tylis', 5), ('Tylone', 5), ('Tylur', 5), ('Tymarian', 5), ('Tymarius', 5), ('Tymberlyn', 5), ('Tymerius', 5), ('Tymetrius', 5), ('Tymiesha', 5), ('Tymond', 5), ('Tymonte', 5), ('Tynayah', 5), ('Tyndale', 5), ('Tyndall', 5), ('Tyneal', 5), ('Tyneeka', 5), ('Tyneice', 5), ('Tyneil', 5), ('Tynica', 5), ('Tynie', 5), ('Tynieka', 5), ('Tynija', 5), ('Tynzlee', 5), ('Tyonnah', 5), ('Tyquanna', 5), ('Tyquarious', 5), ('Tyquin', 5), ('Tyquis', 5), ('Tyquita', 5), ('Tyrale', 5), ('Tyranae', 5), ('Tyranika', 5), ('Tyranique', 5), ('Tyraya', 5), ('Tyreco', 5), ('Tyreec', 5), ('Tyreeck', 5), ('Tyreef', 5), ('Tyreike', 5), ('Tyrekus', 5), ('Tyrhiana', 5), ('Tyrine', 5), ('Tyriona', 5), ('Tyronesha', 5), ('Tyronzia', 5), ('Tyruss', 5), ('Tysaiah', 5), ('Tyshawnna', 5), ('Tyshe', 5), ('Tysheana', 5), ('Tysheed', 5), ('Tysheera', 5), ('Tysheia', 5), ('Tyshekia', 5), ('Tysheonna', 5), ('Tyshiem', 5), ('Tyski', 5), ('Tytanna', 5), ('Tyuana', 5), ('Tyvaeh', 5), ('Tyvaughn', 5), ('Tyvez', 5), ('Tyvonna', 5), ('Tywand', 5), ('Tywane', 5), ('Tywania', 5), ('Tywin', 5), ('Tywonda', 5), ('Tyzae', 5), ('Tyzaiah', 5), ('Tyzer', 5), ('Tyzion', 5), ('Tyzir', 5), ('Tyzon', 5), ('Ualani', 5), ('Uba', 5), ('Ubald', 5), ('Uche', 5), ('Uciel', 5), ('Udbhav', 5), ('Udelia', 5), ('Udella', 5), ('Udit', 5), ('Udona', 5), ('Udonis', 5), ('Udonna', 5), ('Ugene', 5), ('Ugne', 5), ('Uilliam', 5), ('Ujala', 5), ('Ujjwal', 5), ('Ulesses', 5), ('Uli', 5), ('Ulise', 5), ('Ulva', 5), ('Ulyssess', 5), ('Ulyssia', 5), ('Ulyssis', 5), ('Umama', 5), ('Umang', 5), ('Umari', 5), ('Umaya', 5), ('Umayma', 5), ('Umber', 5), ('Ume', 5), ('Umesh', 5), ('Umeyo', 5), ('Umit', 5), ('Umoja', 5), ('Undrae', 5), ('Undria', 5), ('Unia', 5), ('Uniah', 5), ('Uniquewa', 5), ('Uniya', 5), ('Unseld', 5), ('Unto', 5), ('Upshur', 5), ('Urana', 5), ('Uranus', 5), ('Urbana', 5), ('Urbane', 5), ('Urbin', 5), ('Urena', 5), ('Urenna', 5), ('Urhonda', 5), ('Uria', 5), ('Urika', 5), ('Urina', 5), ('Urlin', 5), ('Urline', 5), ('Urmila', 5), ('Ursaline', 5), ('Urszula', 5), ('Usef', 5), ('Usra', 5), ('Uswa', 5), ('Utica', 5), ('Uver', 5), ('Uvonka', 5), ('Uyiosa', 5), ('Uzay', 5), ('Uzella', 5), ('Vachan', 5), ('Vache', 5), ('Vadah', 5), ('Vadal', 5), ('Vadell', 5), ('Vadia', 5), ('Vadys', 5), ('Vae', 5), ('Vagas', 5), ('Vahram', 5), ('Vai', 5), ('Vaila', 5), ('Vaimoana', 5), ('Vaishvi', 5), ('Vaitea', 5), ('Vaitiare', 5), ('Vakesha', 5), ('Valasia', 5), ('Valaska', 5), ('Valaysia', 5), ('Valdene', 5), ('Valder', 5), ('Valdimir', 5), ('Valdine', 5), ('Valdir', 5), ('Valencio', 5), ('Valentinna', 5), ('Valeriana', 5), ('Valerieanne', 5), ('Valerine', 5), ('Valetina', 5), ('Valice', 5), ('Valier', 5), ('Valirie', 5), ('Vallyn', 5), ('Valoris', 5), ('Valyre', 5), ('Valyssa', 5), ('Vamika', 5), ('Vanasia', 5), ('Vandalia', 5), ('Vandra', 5), ('Vandrea', 5), ('Vaneda', 5), ('Vanelly', 5), ('Vanessaanne', 5), ('Vanie', 5), ('Vaniecia', 5), ('Vanitie', 5), ('Vanja', 5), ('Vanner', 5), ('Vanshon', 5), ('Vanteen', 5), ('Vanus', 5), ('Vanyah', 5), ('Varda', 5), ('Varden', 5), ('Varna', 5), ('Varnie', 5), ('Varnum', 5), ('Varshika', 5), ('Vasanti', 5), ('Vasha', 5), ('Vashni', 5), ('Vasia', 5), ('Vasilije', 5), ('Vasken', 5), ('Vaso', 5), ('Vaunita', 5), ('Vawn', 5), ('Vayah', 5), ('Vayne', 5), ('Vayron', 5), ('Veanne', 5), ('Vedette', 5), ('Vedhika', 5), ('Velan', 5), ('Velanie', 5), ('Velarie', 5), ('Veldia', 5), ('Velika', 5), ('Velmo', 5), ('Velois', 5), ('Velvett', 5), ('Vendla', 5), ('Venitra', 5), ('Venoy', 5), ('Ventrell', 5), ('Veolia', 5), ('Veon', 5), ('Verabelle', 5), ('Verbia', 5), ('Verdeen', 5), ('Verdo', 5), ('Verdonna', 5), ('Vereda', 5), ('Veree', 5), ('Vergel', 5), ('Verian', 5), ('Verinica', 5), ('Verlanda', 5), ('Verlla', 5), ('Verly', 5), ('Vermonica', 5), ('Vernadeen', 5), ('Vernall', 5), ('Vernando', 5), ('Vernasia', 5), ('Vernay', 5), ('Verneisha', 5), ('Verneita', 5), ('Vernetia', 5), ('Vernez', 5), ('Vernisa', 5), ('Veronicka', 5), ('Verrona', 5), ('Versal', 5), ('Vershonda', 5), ('Vertle', 5), ('Vertner', 5), ('Verton', 5), ('Vestina', 5), ('Vetha', 5), ('Vetrice', 5), ('Veyah', 5), ('Vianay', 5), ('Vibol', 5), ('Vice', 5), ('Vicey', 5), ('Vichelle', 5), ('Victorene', 5), ('Vidhu', 5), ('Vieda', 5), ('Viella', 5), ('Vience', 5), ('Vierra', 5), ('Viesha', 5), ('Vigo', 5), ('Vihaas', 5), ('Vija', 5), ('Vijaya', 5), ('Vikesh', 5), ('Vikhyath', 5), ('Vikky', 5), ('Vikramjit', 5), ('Vilho', 5), ('Vili', 5), ('Viliamu', 5), ('Vilija', 5), ('Vimala', 5), ('Vincenzio', 5), ('Vindetta', 5), ('Vine', 5), ('Vineel', 5), ('Vineisha', 5), ('Vinn', 5), ('Vinni', 5), ('Vinola', 5), ('Vinona', 5), ('Violetrose', 5), ('Vionette', 5), ('Virble', 5), ('Virgine', 5), ('Virgini', 5), ('Virginiamae', 5), ('Virginius', 5), ('Virgnia', 5), ('Virlinda', 5), ('Vironica', 5), ('Virsaviya', 5), ('Vishwesh', 5), ('Vismaya', 5), ('Vitani', 5), ('Viv', 5), ('Vivienna', 5), ('Vivin', 5), ('Vladik', 5), ('Vladislava', 5), ('Voctoria', 5), ('Vohn', 5), ('Voight', 5), ('Volare', 5), ('Voleta', 5), ('Volf', 5), ('Volia', 5), ('Vonceal', 5), ('Vondia', 5), ('Vondrell', 5), ('Voneda', 5), ('Vonell', 5), ('Vonessa', 5), ('Vonica', 5), ('Vonisha', 5), ('Vonnette', 5), ('Vonnita', 5), ('Vonshae', 5), ('Vontarius', 5), ('Vontray', 5), ('Vontrel', 5), ('Vonzel', 5), ('Voy', 5), ('Vrisa', 5), ('Vsevolod', 5), ('Vukasin', 5), ('Vyctorya', 5), ('Waconda', 5), ('Waddy', 5), ('Wadee', 5), ('Wadia', 5), ('Wadley', 5), ('Waford', 5), ('Wahaj', 5), ('Wahnita', 5), ('Wailyn', 5), ('Waitus', 5), ('Wajd', 5), ('Wakeel', 5), ('Wakeen', 5), ('Wakenda', 5), ('Waker', 5), ('Waldena', 5), ('Waled', 5), ('Walee', 5), ('Walene', 5), ('Walfrid', 5), ('Walia', 5), ('Waliyah', 5), ('Walkidia', 5), ('Walsh', 5), ('Walterene', 5), ('Walters', 5), ('Wamon', 5), ('Wandalid', 5), ('Wanderlei', 5), ('Waneita', 5), ('Wanjiku', 5), ('Wanzie', 5), ('Waqar', 5), ('Wareef', 5), ('Warran', 5), ('Warrine', 5), ('Wasay', 5), ('Wasi', 5), ('Watha', 5), ('Watler', 5), ('Wattie', 5), ('Wavalene', 5), ('Wavelyn', 5), ('Wayford', 5), ('Waynne', 5), ('Wc', 5), ('Wedad', 5), ('Welker', 5), ('Welty', 5), ('Wendlyn', 5), ('Wendolyne', 5), ('Wendylee', 5), ('Wengel', 5), ('Wenndy', 5), ('Wenola', 5), ('Wensel', 5), ('Wenson', 5), ('Weona', 5), ('Wesli', 5), ('Weslin', 5), ('Westleigh', 5), ('Westonia', 5), ('Weylon', 5), ('Wheaton', 5), ('Whelan', 5), ('Whitelaw', 5), ('Whitford', 5), ('Whitli', 5), ('Whitlie', 5), ('Whitmore', 5), ('Whitne', 5), ('Whitnye', 5), ('Whittnie', 5), ('Whtiney', 5), ('Whysper', 5), ('Wialliam', 5), ('Wiam', 5), ('Wiladean', 5), ('Wilce', 5), ('Wilcie', 5), ('Wildan', 5), ('Wilella', 5), ('Wilem', 5), ('Wilesha', 5), ('Wilisha', 5), ('Willabell', 5), ('Willas', 5), ('Willasia', 5), ('Willease', 5), ('Willfredo', 5), ('Williadean', 5), ('Williametta', 5), ('Williamhenry', 5), ('Williamina', 5), ('Williamjames', 5), ('Williamjohn', 5), ('Williaw', 5), ('Willielee', 5), ('Williem', 5), ('Willien', 5), ('Willietta', 5), ('Willimena', 5), ('Willison', 5), ('Willum', 5), ('Wilmor', 5), ('Wilniya', 5), ('Wilroy', 5), ('Wilsey', 5), ('Wimberley', 5), ('Winchell', 5), ('Windale', 5), ('Windfield', 5), ('Winfried', 5), ('Wingate', 5), ('Winrey', 5), ('Winsel', 5), ('Wint', 5), ('Wisler', 5), ('Wisper', 5), ('Wiyaka', 5), ('Wizdom', 5), ('Wnedy', 5), ('Woojin', 5), ('Wordie', 5), ('Worner', 5), ('Wortham', 5), ('Worthie', 5), ('Wrayanne', 5), ('Wrenda', 5), ('Wrynn', 5), ('Wuendi', 5), ('Wuilber', 5), ('Wuilian', 5), ('Wyhatt', 5), ('Wykeem', 5), ('Wykena', 5), ('Wykeria', 5), ('Wyla', 5), ('Wylde', 5), ('Wyle', 5), ('Wyleigh', 5), ('Wyline', 5), ('Wyma', 5), ('Wymond', 5), ('Wynda', 5), ('Wyndee', 5), ('Wyndie', 5), ('Wynnell', 5), ('Wynnston', 5), ('Wynoma', 5), ('Wynonah', 5), ('Wyonnia', 5), ('Wyota', 5), ('Wyteria', 5), ('Wyzetta', 5), ('Xabriel', 5), ('Xachery', 5), ('Xaedyn', 5), ('Xailey', 5), ('Xally', 5), ('Xamara', 5), ('Xamir', 5), ('Xamiyah', 5), ('Xande', 5), ('Xanden', 5), ('Xaniah', 5), ('Xannon', 5), ('Xareny', 5), ('Xarianna', 5), ('Xaviea', 5), ('Xaviona', 5), ('Xaylie', 5), ('Xazavier', 5), ('Xea', 5), ('Xendaya', 5), ('Xeniya', 5), ('Xeniyah', 5), ('Xenya', 5), ('Xiaver', 5), ('Xinrui', 5), ('Xiomy', 5), ('Xitlalit', 5), ('Xiyah', 5), ('Xizavier', 5), ('Xjavier', 5), ('Xochithl', 5), ('Xsavion', 5), ('Xu', 5), ('Xylar', 5), ('Xylee', 5), ('Xyliana', 5), ('Xyriah', 5), ('Xzaevion', 5), ('Xzaivier', 5), ('Yaalini', 5), ('Yaasmiyn', 5), ('Yabriel', 5), ('Yachira', 5), ('Yackov', 5), ('Yacouba', 5), ('Yadelis', 5), ('Yadhiel', 5), ('Yadian', 5), ('Yadin', 5), ('Yadria', 5), ('Yae', 5), ('Yaely', 5), ('Yaeno', 5), ('Yahaida', 5), ('Yahani', 5), ('Yahari', 5), ('Yaharia', 5), ('Yahna', 5), ('Yahne', 5), ('Yahoshua', 5), ('Yahriel', 5), ('Yahzarah', 5), ('Yailet', 5), ('Yaili', 5), ('Yairely', 5), ('Yairy', 5), ('Yakirah', 5), ('Yakyra', 5), ('Yalana', 5), ('Yamal', 5), ('Yamara', 5), ('Yamarie', 5), ('Yami', 5), ('Yamiletz', 5), ('Yamisha', 5), ('Yamiyah', 5), ('Yanabah', 5), ('Yanairis', 5), ('Yanais', 5), ('Yanali', 5), ('Yanalis', 5), ('Yanaliz', 5), ('Yanay', 5), ('Yandier', 5), ('Yaned', 5), ('Yaneisha', 5), ('Yanitzi', 5), ('Yankee', 5), ('Yanko', 5), ('Yanneth', 5), ('Yansiel', 5), ('Yanxiel', 5), ('Yaphett', 5), ('Yaqeen', 5), ('Yarazet', 5), ('Yarecsi', 5), ('Yarell', 5), ('Yaremy', 5), ('Yarenys', 5), ('Yaretci', 5), ('Yaretcy', 5), ('Yarett', 5), ('Yarira', 5), ('Yarisamar', 5), ('Yarisleidy', 5), ('Yarisley', 5), ('Yarisma', 5), ('Yarismar', 5), ('Yaritssa', 5), ('Yaritzza', 5), ('Yarizel', 5), ('Yarleth', 5), ('Yarlyn', 5), ('Yarnelle', 5), ('Yaschia', 5), ('Yashdeep', 5), ('Yashir', 5), ('Yashmit', 5), ('Yashveer', 5), ('Yashwant', 5), ('Yasiah', 5), ('Yasiris', 5), ('Yaslen', 5), ('Yasley', 5), ('Yasmein', 5), ('Yasmiin', 5), ('Yasmir', 5), ('Yasniel', 5), ('Yasunobu', 5), ('Yatharth', 5), ('Yatziel', 5), ('Yavanna', 5), ('Yawanda', 5), ('Yaxye', 5), ('Yayra', 5), ('Yazayra', 5), ('Yazil', 5), ('Yazlee', 5), ('Yazlen', 5), ('Yazmene', 5), ('Yazzie', 5), ('Yazziel', 5), ('Yeabsera', 5), ('Yedda', 5), ('Yedida', 5), ('Yehezkel', 5), ('Yeicelyn', 5), ('Yeidan', 5), ('Yeidy', 5), ('Yeisy', 5), ('Yejide', 5), ('Yelaina', 5), ('Yelisey', 5), ('Yeliz', 5), ('Yelizaveta', 5), ('Yema', 5), ('Yenci', 5), ('Yennie', 5), ('Yensid', 5), ('Yerenia', 5), ('Yerica', 5), ('Yerimar', 5), ('Yerucham', 5), ('Yesel', 5), ('Yesley', 5), ('Yesmi', 5), ('Yesmine', 5), ('Yessenya', 5), ('Yestin', 5), ('Yetzaly', 5), ('Yevetta', 5), ('Yewon', 5), ('Yexiel', 5), ('Yiana', 5), ('Yiorgos', 5), ('Yiqing', 5), ('Yiru', 5), ('Yisenia', 5), ('Yisleine', 5), ('Yitel', 5), ('Yitsel', 5), ('Yizelle', 5), ('Yizza', 5), ('Ylani', 5), ('Ylario', 5), ('Yler', 5), ('Yll', 5), ('Yngwie', 5), ('Yoany', 5), ('Yohsuke', 5), ('Yolana', 5), ('Yolanta', 5), ('Yolenda', 5), ('Yolisma', 5), ('Yolonde', 5), ('Yomo', 5), ('Yone', 5), ('Yonika', 5), ('Yoonseo', 5), ('Yorvin', 5), ('Yosaira', 5), ('Yoselina', 5), ('Yosemite', 5), ('Yosgard', 5), ('Yosheka', 5), ('Yoshihiko', 5), ('Yoshikatsu', 5), ('Yosilin', 5), ('Yosmairy', 5), ('Yosman', 5), ('Yosvany', 5), ('Youel', 5), ('Youki', 5), ('Youlander', 5), ('Yousuke', 5), ('Yovela', 5), ('Yrania', 5), ('Yridiana', 5), ('Ysaura', 5), ('Yuba', 5), ('Yubin', 5), ('Yuen', 5), ('Yuepeng', 5), ('Yuga', 5), ('Yuhanna', 5), ('Yuina', 5), ('Yuito', 5), ('Yukary', 5), ('Yukon', 5), ('Yukti', 5), ('Yule', 5), ('Yuleiky', 5), ('Yulemi', 5), ('Yuliette', 5), ('Yulitzy', 5), ('Yulliana', 5), ('Yumaira', 5), ('Yumara', 5), ('Yumin', 5), ('Yumira', 5), ('Yuneicy', 5), ('Yuni', 5), ('Yunier', 5), ('Yunnuen', 5), ('Yunxi', 5), ('Yurani', 5), ('Yureimy', 5), ('Yuritzia', 5), ('Yusayrah', 5), ('Yushica', 5), ('Yushin', 5), ('Yusmeri', 5), ('Yuting', 5), ('Yuuna', 5), ('Yuv', 5), ('Yuven', 5), ('Yuvonda', 5), ('Yuyang', 5), ('Yvain', 5), ('Yvalondra', 5), ('Yvannah', 5), ('Yvannia', 5), ('Yvelle', 5), ('Za', 5), ('Zaafir', 5), ('Zaakiyah', 5), ('Zace', 5), ('Zachariyah', 5), ('Zacharya', 5), ('Zachiary', 5), ('Zackarias', 5), ('Zackorie', 5), ('Zadrien', 5), ('Zaelia', 5), ('Zaely', 5), ('Zaeya', 5), ('Zahcary', 5), ('Zahida', 5), ('Zahidah', 5), ('Zahkee', 5), ('Zahkeem', 5), ('Zahmaria', 5), ('Zahmiya', 5), ('Zahran', 5), ('Zahri', 5), ('Zahro', 5), ('Zahyrah', 5), ('Zaiana', 5), ('Zailie', 5), ('Zaimah', 5), ('Zaimar', 5), ('Zainb', 5), ('Zaivian', 5), ('Zaiyan', 5), ('Zaiyanna', 5), ('Zakarey', 5), ('Zakarri', 5), ('Zakaryah', 5), ('Zakayden', 5), ('Zake', 5), ('Zakeyah', 5), ('Zakeyia', 5), ('Zakhiya', 5), ('Zakiel', 5), ('Zakri', 5), ('Zakwon', 5), ('Zaky', 5), ('Zalet', 5), ('Zamair', 5), ('Zamaira', 5), ('Zamaiya', 5), ('Zamaiyah', 5), ('Zamareon', 5), ('Zamarious', 5), ('Zamayra', 5), ('Zamiel', 5), ('Zamiere', 5), ('Zamion', 5), ('Zanaa', 5), ('Zanaii', 5), ('Zanayla', 5), ('Zandar', 5), ('Zandel', 5), ('Zandur', 5), ('Zaneria', 5), ('Zaney', 5), ('Zanieya', 5), ('Zaniiya', 5), ('Zanniyah', 5), ('Zanquisha', 5), ('Zanteria', 5), ('Zanyra', 5), ('Zanyyah', 5), ('Zaon', 5), ('Zaquavious', 5), ('Zaragosa', 5), ('Zaraiah', 5), ('Zaraiyah', 5), ('Zareb', 5), ('Zarelia', 5), ('Zarely', 5), ('Zarhianna', 5), ('Zarreah', 5), ('Zarrin', 5), ('Zaryab', 5), ('Zaryha', 5), ('Zaryk', 5), ('Zatara', 5), ('Zavi', 5), ('Zaviere', 5), ('Zavyn', 5), ('Zawdie', 5), ('Zayanah', 5), ('Zayani', 5), ('Zayannah', 5), ('Zaybrien', 5), ('Zayceon', 5), ('Zaydren', 5), ('Zayir', 5), ('Zayland', 5), ('Zayleah', 5), ('Zaylene', 5), ('Zaymere', 5), ('Zaymir', 5), ('Zayona', 5), ('Zaysean', 5), ('Zaysia', 5), ('Zazil', 5), ('Zealan', 5), ('Zealyn', 5), ('Zeasia', 5), ('Zebariah', 5), ('Zebdee', 5), ('Zebidiah', 5), ('Zeborah', 5), ('Zebra', 5), ('Zebrina', 5), ('Zecharyah', 5), ('Zedan', 5), ('Zedek', 5), ('Zederick', 5), ('Zeel', 5), ('Zeenah', 5), ('Zeidan', 5), ('Zeidi', 5), ('Zeilah', 5), ('Zeily', 5), ('Zeilyn', 5), ('Zeinah', 5), ('Zek', 5), ('Zekeriah', 5), ('Zel', 5), ('Zelbert', 5), ('Zelder', 5), ('Zeldia', 5), ('Zeldon', 5), ('Zelenia', 5), ('Zellah', 5), ('Zellamae', 5), ('Zellar', 5), ('Zelline', 5), ('Zelmadene', 5), ('Zemiyah', 5), ('Zenaiya', 5), ('Zenayah', 5), ('Zendiya', 5), ('Zendy', 5), ('Zenida', 5), ('Zenis', 5), ('Zenolia', 5), ('Zenorah', 5), ('Zentavious', 5), ('Zenus', 5), ('Zeny', 5), ('Zepher', 5), ('Zephery', 5), ('Zephyn', 5), ('Zeplynn', 5), ('Zeporia', 5), ('Zerriah', 5), ('Zeryk', 5), ('Zesar', 5), ('Zeshaun', 5), ('Zeyana', 5), ('Zeylah', 5), ('Zeza', 5), ('Zhair', 5), ('Zhaira', 5), ('Zhaki', 5), ('Zhalen', 5), ('Zhanasia', 5), ('Zhanaya', 5), ('Zhander', 5), ('Zhanea', 5), ('Zhanel', 5), ('Zhanelle', 5), ('Zharya', 5), ('Zharyah', 5), ('Zhian', 5), ('Zhianna', 5), ('Zhivago', 5), ('Zhyair', 5), ('Zhyier', 5), ('Zhyir', 5), ('Zianah', 5), ('Zianny', 5), ('Ziarre', 5), ('Ziba', 5), ('Zichen', 5), ('Ziclaly', 5), ('Zida', 5), ('Ziden', 5), ('Ziena', 5), ('Ziggie', 5), ('Zihanna', 5), ('Ziheir', 5), ('Zijun', 5), ('Zikayla', 5), ('Zikee', 5), ('Zikeyah', 5), ('Zikiria', 5), ('Zikiya', 5), ('Zikomo', 5), ('Zilas', 5), ('Zilynn', 5), ('Zimaria', 5), ('Zimaya', 5), ('Zimbabwe', 5), ('Zinedin', 5), ('Ziniah', 5), ('Zione', 5), ('Zionn', 5), ('Zionne', 5), ('Zirui', 5), ('Zishe', 5), ('Zixi', 5), ('Ziyadah', 5), ('Ziyear', 5), ('Zkai', 5), ('Zkye', 5), ('Zniah', 5), ('Zody', 5), ('Zoeanna', 5), ('Zoeanne', 5), ('Zoeygrace', 5), ('Zohe', 5), ('Zoheb', 5), ('Zohrab', 5), ('Zoja', 5), ('Zolar', 5), ('Zorayda', 5), ('Zoree', 5), ('Zorien', 5), ('Zorriah', 5), ('Zorya', 5), ('Zowee', 5), ('Zoyah', 5), ('Zshakira', 5), ('Zsophia', 5), ('Zubaidah', 5), ('Zubie', 5), ('Zudie', 5), ('Zuheyla', 5), ('Zujeily', 5), ('Zular', 5), ('Zuleikha', 5), ('Zuleymi', 5), ('Zulla', 5), ('Zulmarie', 5), ('Zulmira', 5), ('Zuszeth', 5), ('Zxavian', 5), ('Zyairr', 5), ('Zyani', 5), ('Zyare', 5), ('Zyaun', 5), ('Zyda', 5), ('Zydia', 5), ('Zyeer', 5), ('Zyeire', 5), ('Zyelle', 5), ('Zyira', 5), ('Zykei', 5), ('Zykeriya', 5), ('Zykevious', 5), ('Zylas', 5), ('Zymaire', 5), ('Zynab', 5), ('Zyonne', 5), ('Zyreion', 5), ('Zyrek', 5), ('Zyrese', 5), ('Zysean', 5), ('Zytaevius', 5), ('Zytavion', 5), ('Zyvion', 5), ('Zzyzx', 5)]\n"
          ]
        }
      ]
    },
    {
      "cell_type": "markdown",
      "source": [
        "We can see that the most common names are James, and the rarest names are names that appeared a total of 5 times.\n",
        "*Can you guess why aren't any unique names in the database?*"
      ],
      "metadata": {
        "id": "OKKbRWm-o7tT"
      }
    },
    {
      "cell_type": "markdown",
      "source": [
        "**Question 2.2:** How many distinct names in the Washington State? and in New York State?"
      ],
      "metadata": {
        "id": "OEzGsXxAOUxK"
      }
    },
    {
      "cell_type": "markdown",
      "source": [
        "We can answer this question, by using the [Select Distinct] statment(https://www.w3schools.com/sql/sql_distinct.asp):"
      ],
      "metadata": {
        "id": "9eZKHKuvOiFg"
      }
    },
    {
      "cell_type": "code",
      "source": [
        "conn = sqlite3.connect(database_path)\n",
        "c = conn.cursor()\n",
        "\n",
        "# Query the number of distinct names in Washington State\n",
        "result_washington = c.execute(\"SELECT COUNT(DISTINCT Name) FROM StateNames WHERE State = 'WA'\").fetchone()\n",
        "print(\"Number of distinct names in Washington State:\", result_washington[0])\n",
        "\n",
        "# Query the number of distinct names in New York State\n",
        "result_newyork = c.execute(\"SELECT COUNT(DISTINCT Name) FROM StateNames WHERE State = 'NY'\").fetchone()\n",
        "print(\"Number of distinct names in New York State:\", result_newyork[0])\n",
        "\n",
        "c.close()\n"
      ],
      "metadata": {
        "id": "aroKgx4VIGaH",
        "outputId": "6ebfb955-40d8-4e70-f5d5-077333c4ebfd",
        "colab": {
          "base_uri": "https://localhost:8080/"
        }
      },
      "execution_count": null,
      "outputs": [
        {
          "output_type": "stream",
          "name": "stdout",
          "text": [
            "Number of distinct names in Washington State: 5828\n",
            "Number of distinct names in New York State: 13933\n"
          ]
        }
      ]
    },
    {
      "cell_type": "markdown",
      "source": [
        "Now let's print the names in descending order:\n",
        "\n",
        "**Question 2.3:** What are the most common names?"
      ],
      "metadata": {
        "id": "5bvxAK88OrRn"
      }
    },
    {
      "cell_type": "code",
      "source": [
        "conn = sqlite3.connect(database_path)\n",
        "c = conn.cursor()\n",
        "\n",
        "# Query the most common names\n",
        "result_common_names = c.execute(\"SELECT Name, SUM(Count) as TotalCount FROM NationalNames GROUP BY Name ORDER BY TotalCount DESC LIMIT 10\").fetchall()\n",
        "print(\"Most common names:\", result_common_names)\n",
        "\n",
        "c.close()\n"
      ],
      "metadata": {
        "id": "r53EVqtkIKak",
        "outputId": "0ed8c6a1-3cbb-43f1-bf7a-d0eb18b06a09",
        "colab": {
          "base_uri": "https://localhost:8080/"
        }
      },
      "execution_count": null,
      "outputs": [
        {
          "output_type": "stream",
          "name": "stdout",
          "text": [
            "Most common names: [('James', 5129096), ('John', 5106590), ('Robert', 4816785), ('Michael', 4330805), ('Mary', 4130441), ('William', 4071368), ('David', 3590557), ('Joseph', 2580687), ('Richard', 2564867), ('Charles', 2376700)]\n"
          ]
        }
      ]
    },
    {
      "cell_type": "markdown",
      "source": [
        "**Question 2.4:** Write a code that queries the babies DB you prepared and retrieves the number of male babies named George in 1992."
      ],
      "metadata": {
        "id": "nXIBM12ZO-NC"
      }
    },
    {
      "cell_type": "code",
      "source": [
        "conn = sqlite3.connect(database_path)\n",
        "c = conn.cursor()\n",
        "\n",
        "# Query the number of male babies named George in 1992\n",
        "result_george_1992 = c.execute(\"SELECT SUM(Count) FROM NationalNames WHERE Name = 'George' AND Gender = 'M' AND Year = 1992\").fetchone()\n",
        "print(\"Number of male babies named George in 1992:\", result_george_1992[0])\n",
        "\n",
        "c.close()\n"
      ],
      "metadata": {
        "id": "I0ogZHidIM_G",
        "outputId": "45f77ebd-5872-4ade-8220-9669ea5b16d4",
        "colab": {
          "base_uri": "https://localhost:8080/"
        }
      },
      "execution_count": null,
      "outputs": [
        {
          "output_type": "stream",
          "name": "stdout",
          "text": [
            "Number of male babies named George in 1992: 3892\n"
          ]
        }
      ]
    },
    {
      "cell_type": "markdown",
      "source": [
        "**Question 2.5:** Write a function that returns how many babies were born in a given state in a given year.\n",
        "Use it to calculate the number of babies born in TX in 1986."
      ],
      "metadata": {
        "id": "_1oEygfJPL1t"
      }
    },
    {
      "cell_type": "code",
      "source": [
        "def get_babies_count_by_state_year(state, year):\n",
        "    conn = sqlite3.connect(database_path)\n",
        "    c = conn.cursor()\n",
        "\n",
        "    result = c.execute(\"SELECT SUM(Count) FROM StateNames WHERE State = ? AND Year = ?\", (state, year)).fetchone()\n",
        "\n",
        "    c.close()\n",
        "    return result[0] if result else 0\n",
        "\n",
        "# Example usage\n",
        "babies_count_tx_1986 = get_babies_count_by_state_year('TX', 1986)\n",
        "print(\"Number of babies born in TX in 1986:\", babies_count_tx_1986)\n"
      ],
      "metadata": {
        "id": "_gSbNEoSIQPE",
        "outputId": "f26eda8a-8e80-4255-db5f-f9d401cfd301",
        "colab": {
          "base_uri": "https://localhost:8080/"
        }
      },
      "execution_count": null,
      "outputs": [
        {
          "output_type": "stream",
          "name": "stdout",
          "text": [
            "Number of babies born in TX in 1986: 277779\n"
          ]
        }
      ]
    },
    {
      "cell_type": "markdown",
      "source": [
        "**Question 2.6:** Write a function that returns how many male babies named Robert where born in a given state in a given year.\n",
        "Use it to find the state in which the highest number of babies Robert were born in 2010."
      ],
      "metadata": {
        "id": "4WNTCVDOQEAB"
      }
    },
    {
      "cell_type": "code",
      "source": [
        "\n",
        "# Function to get male babies count and elapsed time\n",
        "def get_male_babies_count_by_name_state_year(name, state, year):\n",
        "    conn = sqlite3.connect(database_path)\n",
        "    c = conn.cursor()\n",
        "\n",
        "    result = c.execute(\"SELECT SUM(Count) FROM StateNames WHERE Name = ? AND Gender = 'M' AND State = ? AND Year = ?\", (name, state, year)).fetchone()\n",
        "\n",
        "    c.close()\n",
        "    return result[0] if result else 0\n",
        "\n",
        "# Retrieve distinct states from the dataset\n",
        "conn = sqlite3.connect(database_path)\n",
        "c = conn.cursor()\n",
        "distinct_states = c.execute(\"SELECT DISTINCT State FROM StateNames\").fetchall()\n",
        "states = [state[0] for state in distinct_states]\n",
        "conn.close()\n",
        "\n",
        "max_count = 0\n",
        "max_state = ''\n",
        "\n",
        "\n",
        "for state in states:\n",
        "    count_robert_2010 = get_male_babies_count_by_name_state_year('Robert', state, 2010)\n",
        "    if count_robert_2010 > max_count:\n",
        "        max_count = count_robert_2010\n",
        "        max_state = state\n",
        "\n",
        "print(\"State with the highest number of male babies named Robert in 2010:\", max_state, \"with\", max_count, \"babies. \")"
      ],
      "metadata": {
        "id": "OmBrQ29VIfTV",
        "outputId": "a0fb7673-71f8-464f-97e2-f68aa80c06d8",
        "colab": {
          "base_uri": "https://localhost:8080/"
        }
      },
      "execution_count": null,
      "outputs": [
        {
          "output_type": "stream",
          "name": "stdout",
          "text": [
            "State with the highest number of male babies named Robert in 2010: CA with 852 babies. \n"
          ]
        }
      ]
    },
    {
      "cell_type": "markdown",
      "source": [
        "## 3. Working with Pony ORM\n",
        "Object-relational mapping (ORM) is very useful for analyzing datasets. I like [Pony ORM](https://ponyorm.org) because it is really easy to use and work with. Moreover, Pony has easy to follow [documentation](https://docs.ponyorm.org). In this part of the notebook, we are going to work with Pony to transfer the database to object and objects into databases. Let's start by installing Pony ORM, and downloading the Pokemon Dataset and convert it into a database."
      ],
      "metadata": {
        "id": "BhWZfyZ0pWTj"
      }
    },
    {
      "cell_type": "code",
      "source": [
        "!pip install pony"
      ],
      "metadata": {
        "colab": {
          "base_uri": "https://localhost:8080/"
        },
        "id": "GBYLQXBqphlL",
        "outputId": "e4b5898d-f5db-42bd-cfca-57e19b20a01c"
      },
      "execution_count": null,
      "outputs": [
        {
          "output_type": "stream",
          "name": "stdout",
          "text": [
            "Collecting pony\n",
            "  Downloading pony-0.7.17-py3-none-any.whl (316 kB)\n",
            "\u001b[2K     \u001b[90m━━━━━━━━━━━━━━━━━━━━━━━━━━━━━━━━━━━━━━━━\u001b[0m \u001b[32m316.7/316.7 kB\u001b[0m \u001b[31m2.6 MB/s\u001b[0m eta \u001b[36m0:00:00\u001b[0m\n",
            "\u001b[?25hInstalling collected packages: pony\n",
            "Successfully installed pony-0.7.17\n"
          ]
        }
      ]
    },
    {
      "cell_type": "code",
      "source": [
        "!kaggle datasets list -s pokemon"
      ],
      "metadata": {
        "colab": {
          "base_uri": "https://localhost:8080/"
        },
        "id": "ryIVNU3WSaQc",
        "outputId": "2c669f5e-b5ee-4a1a-d7d7-385cb5088251"
      },
      "execution_count": null,
      "outputs": [
        {
          "output_type": "stream",
          "name": "stdout",
          "text": [
            "Warning: Looks like you're using an outdated API Version, please consider updating (server 1.6.4 / client 1.5.16)\n",
            "ref                                                 title                                         size  lastUpdated          downloadCount  voteCount  usabilityRating  \n",
            "--------------------------------------------------  -------------------------------------------  -----  -------------------  -------------  ---------  ---------------  \n",
            "abcsds/pokemon                                      Pokemon with stats                            15KB  2016-08-29 06:01:43         114776       2486  0.88235295       \n",
            "vishalsubbiah/pokemon-images-and-types              Pokemon Image Dataset                          2MB  2018-12-17 01:01:39          29191        495  0.9411765        \n",
            "rounakbanik/pokemon                                 The Complete Pokemon Dataset                  47KB  2017-09-29 19:49:32          64011       1125  0.8235294        \n",
            "kvpratama/pokemon-images-dataset                    Pokemon Images Dataset                        71MB  2020-08-10 02:05:00          15250        285  0.875            \n",
            "terminus7/pokemon-challenge                         Pokemon- Weedle's Cave                       285KB  2017-09-21 08:43:04          41374        453  0.7352941        \n",
            "mlomuscio/pokemon                                   Pokemon                                       14KB  2019-09-03 01:14:49           1958         32  0.8235294        \n",
            "lantian773030/pokemonclassification                 7,000 Labeled Pokemon                        417MB  2019-11-09 23:15:13           6621        180  0.875            \n",
            "ulrikthygepedersen/pokemon-stats                    Pokemon Stats                                 19KB  2023-03-01 14:20:56           1190         38  1.0              \n",
            "thedagger/pokemon-generation-one                    Pokemon Generation One                         2GB  2018-08-02 06:47:33           7852        255  0.625            \n",
            "mariotormo/complete-pokemon-dataset-updated-090420  Complete Pokemon Dataset (Updated 16.04.21)  195KB  2021-04-16 06:32:50           9423        166  0.9705882        \n",
            "mrdew25/pokemon-database                            Pokemon Database                              89KB  2022-12-21 16:31:22           2046         57  0.8235294        \n",
            "maca11/all-pokemon-dataset                          All Pokemon Dataset                           56KB  2021-10-20 07:04:01           1975         59  0.88235295       \n",
            "lunamcbride24/pokemon-type-matchup-data             Pokemon Type Matchup Data                      9KB  2020-10-14 18:56:23           1686         70  1.0              \n",
            "hlrhegemony/pokemon-image-dataset                   Complete Pokemon Image Dataset                58MB  2020-11-15 01:51:47           2144         44  0.875            \n",
            "mylesoneill/pokemon-sun-and-moon-gen-7-stats        Pokemon Sun and Moon (Gen 7) Stats           271KB  2019-11-17 22:16:07           3428         81  0.9705882        \n",
            "abcsds/pokemongo                                    PokemonGO                                      4KB  2016-08-26 04:57:19           2803         31  0.8235294        \n",
            "brilja/pokemon-mugshots-from-super-mystery-dungeon  Pokemon Mugshots                              81MB  2019-05-21 04:09:03            432         27  0.5625           \n",
            "hamdallak/the-world-of-pokemons                     The World of Pokemons                         18KB  2021-09-29 11:41:27           1271         84  0.7058824        \n",
            "aaronyin/oneshotpokemon                             One-Shot-Pokemon Images                        2GB  2018-05-29 05:32:03           1652         95  0.75             \n",
            "hasanarcas/pokemon-stats-dataset                    Pokemon Stats Dataset                         47KB  2022-08-20 19:19:48            584         31  0.9705882        \n"
          ]
        }
      ]
    },
    {
      "cell_type": "code",
      "source": [
        "!kaggle datasets download abcsds/pokemon -p ./datasets/\n",
        "!unzip ./datasets/pokemon.zip -d ./datasets/pokemon/"
      ],
      "metadata": {
        "colab": {
          "base_uri": "https://localhost:8080/"
        },
        "id": "wsJfAVMFShY5",
        "outputId": "fe35a082-3f03-4e03-a293-156da53d4311"
      },
      "execution_count": null,
      "outputs": [
        {
          "output_type": "stream",
          "name": "stdout",
          "text": [
            "Downloading pokemon.zip to ./datasets\n",
            "\r  0% 0.00/14.9k [00:00<?, ?B/s]\n",
            "\r100% 14.9k/14.9k [00:00<00:00, 31.0MB/s]\n",
            "Archive:  ./datasets/pokemon.zip\n",
            "  inflating: ./datasets/pokemon/Pokemon.csv  \n"
          ]
        }
      ]
    },
    {
      "cell_type": "markdown",
      "source": [
        "### 3.1 Creating DB using Objects\n",
        "Now let's use the Pokemon dataset and Pony to create a database. The first step is to create classes that will map to tables in the generate database:"
      ],
      "metadata": {
        "id": "fpj7l-X1Snoq"
      }
    },
    {
      "cell_type": "code",
      "source": [
        "#!pip install pony\n",
        "from pony.orm import *\n",
        "# Creating a new database\n",
        "db = Database()\n",
        "db.bind(provider='sqlite', filename='/content/datasets/pokemon/pokemon.pony.db', create_db=True) # notice we can easily use other type of databases instead of SQLite\n",
        "\n",
        "# Each class will be map to a table\n",
        "class Trainer(db.Entity):\n",
        "    name = Required(str)\n",
        "    age = Required(int)\n",
        "    pokemons_list = Set('Pokemon') # Connected to the Pokemon class\n",
        "\n",
        "class Pokemon(db.Entity):\n",
        "    name = Required(str) # cannot be None\n",
        "    age  = Optional(int)\n",
        "    attack_power = Required(int)\n",
        "    defense_power = Required(int)\n",
        "    trainer = Optional(Trainer) # Connected to the Trainer class"
      ],
      "metadata": {
        "id": "ANBfqB9hSp9l"
      },
      "execution_count": null,
      "outputs": []
    },
    {
      "cell_type": "code",
      "source": [
        "show(Trainer)"
      ],
      "metadata": {
        "colab": {
          "base_uri": "https://localhost:8080/"
        },
        "id": "wmaMLk2VS_Qr",
        "outputId": "2877127a-6ee2-4dd5-da3d-47c847241369"
      },
      "execution_count": null,
      "outputs": [
        {
          "output_type": "stream",
          "name": "stdout",
          "text": [
            "class Trainer(Entity):\n",
            "    id = PrimaryKey(int, auto=True)\n",
            "    name = Required(str)\n",
            "    age = Required(int)\n",
            "    pokemons_list = Set(Pokemon)\n"
          ]
        }
      ]
    },
    {
      "cell_type": "markdown",
      "source": [
        "Notice that Pony adds a PrimaryKey to the Trainer class. Let's create the actual tables:"
      ],
      "metadata": {
        "id": "eGZJ6Y3ATGfP"
      }
    },
    {
      "cell_type": "code",
      "source": [
        "set_sql_debug(True) # helps to see what SQL commands are running\n",
        "db.generate_mapping(create_tables=True) # create tables"
      ],
      "metadata": {
        "id": "Hghkw3_rTIHU"
      },
      "execution_count": null,
      "outputs": []
    },
    {
      "cell_type": "markdown",
      "source": [
        "We can see that Pony create the Pokemon & the Trainer tables in the database. Next, we will use the Pandas package to insert data into these tables:"
      ],
      "metadata": {
        "id": "6rds-vltTTX8"
      }
    },
    {
      "cell_type": "code",
      "source": [
        "import pandas as pd # we will talk more about pandas in our next lecture\n",
        "df = pd.read_csv('./datasets/pokemon/Pokemon.csv')\n",
        "df"
      ],
      "metadata": {
        "colab": {
          "base_uri": "https://localhost:8080/",
          "height": 458
        },
        "id": "MMFu1IXWTUuQ",
        "outputId": "5fb6d1c0-4e1e-4c7f-e7a9-d142b92bbb6e"
      },
      "execution_count": null,
      "outputs": [
        {
          "output_type": "execute_result",
          "data": {
            "text/plain": [
              "       #                   Name   Type 1  Type 2  Total  HP  Attack  Defense  \\\n",
              "0      1              Bulbasaur    Grass  Poison    318  45      49       49   \n",
              "1      2                Ivysaur    Grass  Poison    405  60      62       63   \n",
              "2      3               Venusaur    Grass  Poison    525  80      82       83   \n",
              "3      3  VenusaurMega Venusaur    Grass  Poison    625  80     100      123   \n",
              "4      4             Charmander     Fire     NaN    309  39      52       43   \n",
              "..   ...                    ...      ...     ...    ...  ..     ...      ...   \n",
              "795  719                Diancie     Rock   Fairy    600  50     100      150   \n",
              "796  719    DiancieMega Diancie     Rock   Fairy    700  50     160      110   \n",
              "797  720    HoopaHoopa Confined  Psychic   Ghost    600  80     110       60   \n",
              "798  720     HoopaHoopa Unbound  Psychic    Dark    680  80     160       60   \n",
              "799  721              Volcanion     Fire   Water    600  80     110      120   \n",
              "\n",
              "     Sp. Atk  Sp. Def  Speed  Generation  Legendary  \n",
              "0         65       65     45           1      False  \n",
              "1         80       80     60           1      False  \n",
              "2        100      100     80           1      False  \n",
              "3        122      120     80           1      False  \n",
              "4         60       50     65           1      False  \n",
              "..       ...      ...    ...         ...        ...  \n",
              "795      100      150     50           6       True  \n",
              "796      160      110    110           6       True  \n",
              "797      150      130     70           6       True  \n",
              "798      170      130     80           6       True  \n",
              "799      130       90     70           6       True  \n",
              "\n",
              "[800 rows x 13 columns]"
            ],
            "text/html": [
              "\n",
              "  <div id=\"df-b6f4964e-7990-4a71-bff8-5d9e9765d2d7\" class=\"colab-df-container\">\n",
              "    <div>\n",
              "<style scoped>\n",
              "    .dataframe tbody tr th:only-of-type {\n",
              "        vertical-align: middle;\n",
              "    }\n",
              "\n",
              "    .dataframe tbody tr th {\n",
              "        vertical-align: top;\n",
              "    }\n",
              "\n",
              "    .dataframe thead th {\n",
              "        text-align: right;\n",
              "    }\n",
              "</style>\n",
              "<table border=\"1\" class=\"dataframe\">\n",
              "  <thead>\n",
              "    <tr style=\"text-align: right;\">\n",
              "      <th></th>\n",
              "      <th>#</th>\n",
              "      <th>Name</th>\n",
              "      <th>Type 1</th>\n",
              "      <th>Type 2</th>\n",
              "      <th>Total</th>\n",
              "      <th>HP</th>\n",
              "      <th>Attack</th>\n",
              "      <th>Defense</th>\n",
              "      <th>Sp. Atk</th>\n",
              "      <th>Sp. Def</th>\n",
              "      <th>Speed</th>\n",
              "      <th>Generation</th>\n",
              "      <th>Legendary</th>\n",
              "    </tr>\n",
              "  </thead>\n",
              "  <tbody>\n",
              "    <tr>\n",
              "      <th>0</th>\n",
              "      <td>1</td>\n",
              "      <td>Bulbasaur</td>\n",
              "      <td>Grass</td>\n",
              "      <td>Poison</td>\n",
              "      <td>318</td>\n",
              "      <td>45</td>\n",
              "      <td>49</td>\n",
              "      <td>49</td>\n",
              "      <td>65</td>\n",
              "      <td>65</td>\n",
              "      <td>45</td>\n",
              "      <td>1</td>\n",
              "      <td>False</td>\n",
              "    </tr>\n",
              "    <tr>\n",
              "      <th>1</th>\n",
              "      <td>2</td>\n",
              "      <td>Ivysaur</td>\n",
              "      <td>Grass</td>\n",
              "      <td>Poison</td>\n",
              "      <td>405</td>\n",
              "      <td>60</td>\n",
              "      <td>62</td>\n",
              "      <td>63</td>\n",
              "      <td>80</td>\n",
              "      <td>80</td>\n",
              "      <td>60</td>\n",
              "      <td>1</td>\n",
              "      <td>False</td>\n",
              "    </tr>\n",
              "    <tr>\n",
              "      <th>2</th>\n",
              "      <td>3</td>\n",
              "      <td>Venusaur</td>\n",
              "      <td>Grass</td>\n",
              "      <td>Poison</td>\n",
              "      <td>525</td>\n",
              "      <td>80</td>\n",
              "      <td>82</td>\n",
              "      <td>83</td>\n",
              "      <td>100</td>\n",
              "      <td>100</td>\n",
              "      <td>80</td>\n",
              "      <td>1</td>\n",
              "      <td>False</td>\n",
              "    </tr>\n",
              "    <tr>\n",
              "      <th>3</th>\n",
              "      <td>3</td>\n",
              "      <td>VenusaurMega Venusaur</td>\n",
              "      <td>Grass</td>\n",
              "      <td>Poison</td>\n",
              "      <td>625</td>\n",
              "      <td>80</td>\n",
              "      <td>100</td>\n",
              "      <td>123</td>\n",
              "      <td>122</td>\n",
              "      <td>120</td>\n",
              "      <td>80</td>\n",
              "      <td>1</td>\n",
              "      <td>False</td>\n",
              "    </tr>\n",
              "    <tr>\n",
              "      <th>4</th>\n",
              "      <td>4</td>\n",
              "      <td>Charmander</td>\n",
              "      <td>Fire</td>\n",
              "      <td>NaN</td>\n",
              "      <td>309</td>\n",
              "      <td>39</td>\n",
              "      <td>52</td>\n",
              "      <td>43</td>\n",
              "      <td>60</td>\n",
              "      <td>50</td>\n",
              "      <td>65</td>\n",
              "      <td>1</td>\n",
              "      <td>False</td>\n",
              "    </tr>\n",
              "    <tr>\n",
              "      <th>...</th>\n",
              "      <td>...</td>\n",
              "      <td>...</td>\n",
              "      <td>...</td>\n",
              "      <td>...</td>\n",
              "      <td>...</td>\n",
              "      <td>...</td>\n",
              "      <td>...</td>\n",
              "      <td>...</td>\n",
              "      <td>...</td>\n",
              "      <td>...</td>\n",
              "      <td>...</td>\n",
              "      <td>...</td>\n",
              "      <td>...</td>\n",
              "    </tr>\n",
              "    <tr>\n",
              "      <th>795</th>\n",
              "      <td>719</td>\n",
              "      <td>Diancie</td>\n",
              "      <td>Rock</td>\n",
              "      <td>Fairy</td>\n",
              "      <td>600</td>\n",
              "      <td>50</td>\n",
              "      <td>100</td>\n",
              "      <td>150</td>\n",
              "      <td>100</td>\n",
              "      <td>150</td>\n",
              "      <td>50</td>\n",
              "      <td>6</td>\n",
              "      <td>True</td>\n",
              "    </tr>\n",
              "    <tr>\n",
              "      <th>796</th>\n",
              "      <td>719</td>\n",
              "      <td>DiancieMega Diancie</td>\n",
              "      <td>Rock</td>\n",
              "      <td>Fairy</td>\n",
              "      <td>700</td>\n",
              "      <td>50</td>\n",
              "      <td>160</td>\n",
              "      <td>110</td>\n",
              "      <td>160</td>\n",
              "      <td>110</td>\n",
              "      <td>110</td>\n",
              "      <td>6</td>\n",
              "      <td>True</td>\n",
              "    </tr>\n",
              "    <tr>\n",
              "      <th>797</th>\n",
              "      <td>720</td>\n",
              "      <td>HoopaHoopa Confined</td>\n",
              "      <td>Psychic</td>\n",
              "      <td>Ghost</td>\n",
              "      <td>600</td>\n",
              "      <td>80</td>\n",
              "      <td>110</td>\n",
              "      <td>60</td>\n",
              "      <td>150</td>\n",
              "      <td>130</td>\n",
              "      <td>70</td>\n",
              "      <td>6</td>\n",
              "      <td>True</td>\n",
              "    </tr>\n",
              "    <tr>\n",
              "      <th>798</th>\n",
              "      <td>720</td>\n",
              "      <td>HoopaHoopa Unbound</td>\n",
              "      <td>Psychic</td>\n",
              "      <td>Dark</td>\n",
              "      <td>680</td>\n",
              "      <td>80</td>\n",
              "      <td>160</td>\n",
              "      <td>60</td>\n",
              "      <td>170</td>\n",
              "      <td>130</td>\n",
              "      <td>80</td>\n",
              "      <td>6</td>\n",
              "      <td>True</td>\n",
              "    </tr>\n",
              "    <tr>\n",
              "      <th>799</th>\n",
              "      <td>721</td>\n",
              "      <td>Volcanion</td>\n",
              "      <td>Fire</td>\n",
              "      <td>Water</td>\n",
              "      <td>600</td>\n",
              "      <td>80</td>\n",
              "      <td>110</td>\n",
              "      <td>120</td>\n",
              "      <td>130</td>\n",
              "      <td>90</td>\n",
              "      <td>70</td>\n",
              "      <td>6</td>\n",
              "      <td>True</td>\n",
              "    </tr>\n",
              "  </tbody>\n",
              "</table>\n",
              "<p>800 rows × 13 columns</p>\n",
              "</div>\n",
              "    <div class=\"colab-df-buttons\">\n",
              "\n",
              "  <div class=\"colab-df-container\">\n",
              "    <button class=\"colab-df-convert\" onclick=\"convertToInteractive('df-b6f4964e-7990-4a71-bff8-5d9e9765d2d7')\"\n",
              "            title=\"Convert this dataframe to an interactive table.\"\n",
              "            style=\"display:none;\">\n",
              "\n",
              "  <svg xmlns=\"http://www.w3.org/2000/svg\" height=\"24px\" viewBox=\"0 -960 960 960\">\n",
              "    <path d=\"M120-120v-720h720v720H120Zm60-500h600v-160H180v160Zm220 220h160v-160H400v160Zm0 220h160v-160H400v160ZM180-400h160v-160H180v160Zm440 0h160v-160H620v160ZM180-180h160v-160H180v160Zm440 0h160v-160H620v160Z\"/>\n",
              "  </svg>\n",
              "    </button>\n",
              "\n",
              "  <style>\n",
              "    .colab-df-container {\n",
              "      display:flex;\n",
              "      gap: 12px;\n",
              "    }\n",
              "\n",
              "    .colab-df-convert {\n",
              "      background-color: #E8F0FE;\n",
              "      border: none;\n",
              "      border-radius: 50%;\n",
              "      cursor: pointer;\n",
              "      display: none;\n",
              "      fill: #1967D2;\n",
              "      height: 32px;\n",
              "      padding: 0 0 0 0;\n",
              "      width: 32px;\n",
              "    }\n",
              "\n",
              "    .colab-df-convert:hover {\n",
              "      background-color: #E2EBFA;\n",
              "      box-shadow: 0px 1px 2px rgba(60, 64, 67, 0.3), 0px 1px 3px 1px rgba(60, 64, 67, 0.15);\n",
              "      fill: #174EA6;\n",
              "    }\n",
              "\n",
              "    .colab-df-buttons div {\n",
              "      margin-bottom: 4px;\n",
              "    }\n",
              "\n",
              "    [theme=dark] .colab-df-convert {\n",
              "      background-color: #3B4455;\n",
              "      fill: #D2E3FC;\n",
              "    }\n",
              "\n",
              "    [theme=dark] .colab-df-convert:hover {\n",
              "      background-color: #434B5C;\n",
              "      box-shadow: 0px 1px 3px 1px rgba(0, 0, 0, 0.15);\n",
              "      filter: drop-shadow(0px 1px 2px rgba(0, 0, 0, 0.3));\n",
              "      fill: #FFFFFF;\n",
              "    }\n",
              "  </style>\n",
              "\n",
              "    <script>\n",
              "      const buttonEl =\n",
              "        document.querySelector('#df-b6f4964e-7990-4a71-bff8-5d9e9765d2d7 button.colab-df-convert');\n",
              "      buttonEl.style.display =\n",
              "        google.colab.kernel.accessAllowed ? 'block' : 'none';\n",
              "\n",
              "      async function convertToInteractive(key) {\n",
              "        const element = document.querySelector('#df-b6f4964e-7990-4a71-bff8-5d9e9765d2d7');\n",
              "        const dataTable =\n",
              "          await google.colab.kernel.invokeFunction('convertToInteractive',\n",
              "                                                    [key], {});\n",
              "        if (!dataTable) return;\n",
              "\n",
              "        const docLinkHtml = 'Like what you see? Visit the ' +\n",
              "          '<a target=\"_blank\" href=https://colab.research.google.com/notebooks/data_table.ipynb>data table notebook</a>'\n",
              "          + ' to learn more about interactive tables.';\n",
              "        element.innerHTML = '';\n",
              "        dataTable['output_type'] = 'display_data';\n",
              "        await google.colab.output.renderOutput(dataTable, element);\n",
              "        const docLink = document.createElement('div');\n",
              "        docLink.innerHTML = docLinkHtml;\n",
              "        element.appendChild(docLink);\n",
              "      }\n",
              "    </script>\n",
              "  </div>\n",
              "\n",
              "\n",
              "<div id=\"df-c7456a8a-2149-4b3d-8b78-0ae9d4ffe042\">\n",
              "  <button class=\"colab-df-quickchart\" onclick=\"quickchart('df-c7456a8a-2149-4b3d-8b78-0ae9d4ffe042')\"\n",
              "            title=\"Suggest charts\"\n",
              "            style=\"display:none;\">\n",
              "\n",
              "<svg xmlns=\"http://www.w3.org/2000/svg\" height=\"24px\"viewBox=\"0 0 24 24\"\n",
              "     width=\"24px\">\n",
              "    <g>\n",
              "        <path d=\"M19 3H5c-1.1 0-2 .9-2 2v14c0 1.1.9 2 2 2h14c1.1 0 2-.9 2-2V5c0-1.1-.9-2-2-2zM9 17H7v-7h2v7zm4 0h-2V7h2v10zm4 0h-2v-4h2v4z\"/>\n",
              "    </g>\n",
              "</svg>\n",
              "  </button>\n",
              "\n",
              "<style>\n",
              "  .colab-df-quickchart {\n",
              "      --bg-color: #E8F0FE;\n",
              "      --fill-color: #1967D2;\n",
              "      --hover-bg-color: #E2EBFA;\n",
              "      --hover-fill-color: #174EA6;\n",
              "      --disabled-fill-color: #AAA;\n",
              "      --disabled-bg-color: #DDD;\n",
              "  }\n",
              "\n",
              "  [theme=dark] .colab-df-quickchart {\n",
              "      --bg-color: #3B4455;\n",
              "      --fill-color: #D2E3FC;\n",
              "      --hover-bg-color: #434B5C;\n",
              "      --hover-fill-color: #FFFFFF;\n",
              "      --disabled-bg-color: #3B4455;\n",
              "      --disabled-fill-color: #666;\n",
              "  }\n",
              "\n",
              "  .colab-df-quickchart {\n",
              "    background-color: var(--bg-color);\n",
              "    border: none;\n",
              "    border-radius: 50%;\n",
              "    cursor: pointer;\n",
              "    display: none;\n",
              "    fill: var(--fill-color);\n",
              "    height: 32px;\n",
              "    padding: 0;\n",
              "    width: 32px;\n",
              "  }\n",
              "\n",
              "  .colab-df-quickchart:hover {\n",
              "    background-color: var(--hover-bg-color);\n",
              "    box-shadow: 0 1px 2px rgba(60, 64, 67, 0.3), 0 1px 3px 1px rgba(60, 64, 67, 0.15);\n",
              "    fill: var(--button-hover-fill-color);\n",
              "  }\n",
              "\n",
              "  .colab-df-quickchart-complete:disabled,\n",
              "  .colab-df-quickchart-complete:disabled:hover {\n",
              "    background-color: var(--disabled-bg-color);\n",
              "    fill: var(--disabled-fill-color);\n",
              "    box-shadow: none;\n",
              "  }\n",
              "\n",
              "  .colab-df-spinner {\n",
              "    border: 2px solid var(--fill-color);\n",
              "    border-color: transparent;\n",
              "    border-bottom-color: var(--fill-color);\n",
              "    animation:\n",
              "      spin 1s steps(1) infinite;\n",
              "  }\n",
              "\n",
              "  @keyframes spin {\n",
              "    0% {\n",
              "      border-color: transparent;\n",
              "      border-bottom-color: var(--fill-color);\n",
              "      border-left-color: var(--fill-color);\n",
              "    }\n",
              "    20% {\n",
              "      border-color: transparent;\n",
              "      border-left-color: var(--fill-color);\n",
              "      border-top-color: var(--fill-color);\n",
              "    }\n",
              "    30% {\n",
              "      border-color: transparent;\n",
              "      border-left-color: var(--fill-color);\n",
              "      border-top-color: var(--fill-color);\n",
              "      border-right-color: var(--fill-color);\n",
              "    }\n",
              "    40% {\n",
              "      border-color: transparent;\n",
              "      border-right-color: var(--fill-color);\n",
              "      border-top-color: var(--fill-color);\n",
              "    }\n",
              "    60% {\n",
              "      border-color: transparent;\n",
              "      border-right-color: var(--fill-color);\n",
              "    }\n",
              "    80% {\n",
              "      border-color: transparent;\n",
              "      border-right-color: var(--fill-color);\n",
              "      border-bottom-color: var(--fill-color);\n",
              "    }\n",
              "    90% {\n",
              "      border-color: transparent;\n",
              "      border-bottom-color: var(--fill-color);\n",
              "    }\n",
              "  }\n",
              "</style>\n",
              "\n",
              "  <script>\n",
              "    async function quickchart(key) {\n",
              "      const quickchartButtonEl =\n",
              "        document.querySelector('#' + key + ' button');\n",
              "      quickchartButtonEl.disabled = true;  // To prevent multiple clicks.\n",
              "      quickchartButtonEl.classList.add('colab-df-spinner');\n",
              "      try {\n",
              "        const charts = await google.colab.kernel.invokeFunction(\n",
              "            'suggestCharts', [key], {});\n",
              "      } catch (error) {\n",
              "        console.error('Error during call to suggestCharts:', error);\n",
              "      }\n",
              "      quickchartButtonEl.classList.remove('colab-df-spinner');\n",
              "      quickchartButtonEl.classList.add('colab-df-quickchart-complete');\n",
              "    }\n",
              "    (() => {\n",
              "      let quickchartButtonEl =\n",
              "        document.querySelector('#df-c7456a8a-2149-4b3d-8b78-0ae9d4ffe042 button');\n",
              "      quickchartButtonEl.style.display =\n",
              "        google.colab.kernel.accessAllowed ? 'block' : 'none';\n",
              "    })();\n",
              "  </script>\n",
              "</div>\n",
              "    </div>\n",
              "  </div>\n"
            ]
          },
          "metadata": {},
          "execution_count": 35
        }
      ]
    },
    {
      "cell_type": "markdown",
      "source": [
        "Let's iterate on the dataframe rows and create a Pokemon object from each row:"
      ],
      "metadata": {
        "id": "jKM1GO-yTeta"
      }
    },
    {
      "cell_type": "code",
      "source": [
        "import random\n",
        "\n",
        "for idx, row in df.iterrows():\n",
        "    Pokemon(name=row['Name'],age=random.randint(0,500),attack_power=row['Sp. Atk'], defense_power=row['Sp. Def'])"
      ],
      "metadata": {
        "id": "24d5t0Y-TXcT"
      },
      "execution_count": null,
      "outputs": []
    },
    {
      "cell_type": "markdown",
      "source": [
        "We have created 800 objects, one for each row. However, none of them was committed to the DB yet. Let's commit!"
      ],
      "metadata": {
        "id": "MD8KVovGTp5j"
      }
    },
    {
      "cell_type": "code",
      "source": [
        "commit() # this is actually sve the new objects in the tables we created"
      ],
      "metadata": {
        "id": "4fL1e8gDTkF8"
      },
      "execution_count": null,
      "outputs": []
    },
    {
      "cell_type": "markdown",
      "source": [
        "Now let's add Ash as a trainer object, and add two pokemons trained by Ash:"
      ],
      "metadata": {
        "id": "vsZeb-HZUWR0"
      }
    },
    {
      "cell_type": "code",
      "source": [
        "ash_trainer = Trainer(name='Ash Ketchum', age=10)\n",
        "pikachu = Pokemon(name='pikachu',age=6,attack_power=50, defense_power=50, trainer=ash_trainer)\n",
        "charmander =  Pokemon(name='charmander',age=2,attack_power=60, defense_power=50,trainer=ash_trainer)\n",
        "commit()"
      ],
      "metadata": {
        "id": "yfHMw32yUU9U"
      },
      "execution_count": null,
      "outputs": []
    },
    {
      "cell_type": "code",
      "source": [
        "pikachu.trainer.age"
      ],
      "metadata": {
        "colab": {
          "base_uri": "https://localhost:8080/"
        },
        "id": "moJO591tUgpZ",
        "outputId": "80a0d7cb-feff-4f91-b32e-26247ce71de5"
      },
      "execution_count": null,
      "outputs": [
        {
          "output_type": "execute_result",
          "data": {
            "text/plain": [
              "10"
            ]
          },
          "metadata": {},
          "execution_count": 39
        }
      ]
    },
    {
      "cell_type": "code",
      "source": [
        "list(pikachu.trainer.pokemons_list)"
      ],
      "metadata": {
        "colab": {
          "base_uri": "https://localhost:8080/"
        },
        "id": "Q5VE9ByHUk0m",
        "outputId": "2295ce8b-2736-4485-84cf-d236eb462b7d"
      },
      "execution_count": null,
      "outputs": [
        {
          "output_type": "execute_result",
          "data": {
            "text/plain": [
              "[Pokemon[802], Pokemon[801]]"
            ]
          },
          "metadata": {},
          "execution_count": 40
        }
      ]
    },
    {
      "cell_type": "code",
      "source": [
        "list(pikachu.trainer.pokemons_list)[1].name"
      ],
      "metadata": {
        "colab": {
          "base_uri": "https://localhost:8080/",
          "height": 35
        },
        "id": "4M7K_ZteUqXQ",
        "outputId": "90c2abfa-ad24-4eed-dd7c-e66173e1d1db"
      },
      "execution_count": null,
      "outputs": [
        {
          "output_type": "execute_result",
          "data": {
            "text/plain": [
              "'pikachu'"
            ],
            "application/vnd.google.colaboratory.intrinsic+json": {
              "type": "string"
            }
          },
          "metadata": {},
          "execution_count": 41
        }
      ]
    },
    {
      "cell_type": "markdown",
      "source": [
        "We can also simply update the database using the created objects:"
      ],
      "metadata": {
        "id": "KD8CrBcrUwFa"
      }
    },
    {
      "cell_type": "code",
      "source": [
        "pikachu.age"
      ],
      "metadata": {
        "colab": {
          "base_uri": "https://localhost:8080/"
        },
        "id": "boqi8pWqUvcj",
        "outputId": "37e216ec-a4c5-4392-b76e-4be553f0da03"
      },
      "execution_count": null,
      "outputs": [
        {
          "output_type": "execute_result",
          "data": {
            "text/plain": [
              "6"
            ]
          },
          "metadata": {},
          "execution_count": 42
        }
      ]
    },
    {
      "cell_type": "code",
      "source": [
        "pikachu.age =110\n",
        "commit()\n",
        "pikachu.age"
      ],
      "metadata": {
        "colab": {
          "base_uri": "https://localhost:8080/"
        },
        "id": "_yxbPHTnUz5h",
        "outputId": "d22fa2ea-a132-492e-a2b2-1a78703f0317"
      },
      "execution_count": null,
      "outputs": [
        {
          "output_type": "execute_result",
          "data": {
            "text/plain": [
              "110"
            ]
          },
          "metadata": {},
          "execution_count": 43
        }
      ]
    },
    {
      "cell_type": "markdown",
      "source": [
        "### 3.2 Creating  Objects from DB:\n",
        "Using Pony, we can also connect to existing database, and easily search it without even knowing SQL. First let's connect between Pony to existing databse:"
      ],
      "metadata": {
        "id": "WtldcsZlU9Kd"
      }
    },
    {
      "cell_type": "code",
      "source": [
        "from pony.orm import *\n",
        "db = Database()\n",
        "db.bind(provider='sqlite', filename='/content/datasets/pokemon/pokemon.pony.db') # notice we don't use create_db=True here\n",
        "\n",
        "class Trainer(db.Entity):\n",
        "    name = Required(str)\n",
        "    age = Required(int)\n",
        "    pokemons_list = Set('Pokemon')\n",
        "\n",
        "class Pokemon(db.Entity):\n",
        "    name = Required(str) # cannot be None\n",
        "    age  = Optional(int)\n",
        "    attack_power = Required(int)\n",
        "    defense_power = Required(int)\n",
        "    trainer = Optional(Trainer)\n",
        "db.generate_mapping()\n",
        "set_sql_debug(True)"
      ],
      "metadata": {
        "id": "YOvXgdWHVBjQ"
      },
      "execution_count": null,
      "outputs": []
    },
    {
      "cell_type": "markdown",
      "source": [
        "Using Pony, we can also connect to existing database, and easily search it without even knowing SQL. First, let's connect between Pony to an existing database:"
      ],
      "metadata": {
        "id": "ccMJ-9haVI0f"
      }
    },
    {
      "cell_type": "markdown",
      "source": [
        "**Question 3.2.1:** Print the names of Pokemons which their attack is higher than 100 and their defence is higher than attack."
      ],
      "metadata": {
        "id": "iXkI6_vk4XIM"
      }
    },
    {
      "cell_type": "code",
      "source": [
        "with db_session:\n",
        "    high_attack_defense_pokemons = select(p.name for p in Pokemon if p.attack_power > 100 and p.defense_power > p.attack_power)[:]\n",
        "    print(high_attack_defense_pokemons)\n",
        "\n",
        "# other way to do this ....\n",
        "#[] [i.name for o on select(p for p in Pokemon if p.attack_power > 100 and p.defense_power > p.attack_power)]"
      ],
      "metadata": {
        "id": "JDU4BD_XJ_Us",
        "colab": {
          "base_uri": "https://localhost:8080/"
        },
        "outputId": "5ea28027-dca2-46d1-9838-b06102165a4d"
      },
      "execution_count": null,
      "outputs": [
        {
          "output_type": "stream",
          "name": "stdout",
          "text": [
            "['Ho-oh', 'MetagrossMega Metagross', 'Latias', 'LatiasMega Latias', 'RotomHeat Rotom', 'RotomWash Rotom', 'RotomFrost Rotom', 'RotomFan Rotom', 'RotomMow Rotom', 'Florges', 'Sylveon', 'Goodra']\n"
          ]
        }
      ]
    },
    {
      "cell_type": "markdown",
      "source": [
        "We can observe that behind the scenes Pony translate the query into a SQL query and returned a list with the names of the matched pokemons. Let's find the pokemon with the highest attack power:"
      ],
      "metadata": {
        "id": "mREkYRNZVYo-"
      }
    },
    {
      "cell_type": "markdown",
      "source": [
        "**Question 3.2.2:** retrieve all the pokemon names that their attack is between 50 to 100."
      ],
      "metadata": {
        "id": "bwCtKxbk4hZR"
      }
    },
    {
      "cell_type": "code",
      "source": [
        "with db_session:\n",
        "    mid_attack_pokemons = select(p.name for p in Pokemon if p.attack_power >= 50 and p.attack_power <=100)[:]\n",
        "    print(mid_attack_pokemons)\n"
      ],
      "metadata": {
        "id": "pq95CW4iKCFm",
        "colab": {
          "base_uri": "https://localhost:8080/"
        },
        "outputId": "d6fc2edd-2bf5-4752-8b03-63db00b7c293"
      },
      "execution_count": null,
      "outputs": [
        {
          "output_type": "stream",
          "name": "stdout",
          "text": [
            "['Bulbasaur', 'Ivysaur', 'Venusaur', 'Charmander', 'Charmeleon', 'Squirtle', 'Wartortle', 'Blastoise', 'Butterfree', 'Pidgeotto', 'Pidgeot', 'Raticate', 'Fearow', 'Arbok', 'Pikachu', 'Raichu', 'Nidorina', 'Nidoqueen', 'Nidorino', 'Nidoking', 'Clefairy', 'Clefable', 'Vulpix', 'Ninetales', 'Wigglytuff', 'Golbat', 'Oddish', 'Gloom', 'Parasect', 'Venomoth', 'Dugtrio', 'Persian', 'Psyduck', 'Golduck', 'Primeape', 'Growlithe', 'Arcanine', 'Poliwhirl', 'Poliwrath', 'Machoke', 'Machamp', 'Bellsprout', 'Weepinbell', 'Victreebel', 'Tentacool', 'Tentacruel', 'Golem', 'Ponyta', 'Rapidash', 'Slowbro', 'Magnemite', \"Farfetch'd\", 'Dodrio', 'Dewgong', 'Muk', 'Cloyster', 'Gastly', 'Hypno', 'Kingler', 'Voltorb', 'Electrode', 'Exeggcute', 'Marowak', 'Lickitung', 'Koffing', 'Weezing', 'Tangela', 'KangaskhanMega Kangaskhan', 'Horsea', 'Seadra', 'Seaking', 'Staryu', 'Starmie', 'Mr. Mime', 'Scyther', 'Electabuzz', 'Magmar', 'Pinsir', 'PinsirMega Pinsir', 'Gyarados', 'GyaradosMega Gyarados', 'Lapras', 'Flareon', 'Porygon', 'Omanyte', 'Kabuto', 'Kabutops', 'Aerodactyl', 'AerodactylMega Aerodactyl', 'Snorlax', 'Articuno', 'Dratini', 'Dragonair', 'Dragonite', 'Mew', 'Bayleef', 'Meganium', 'Cyndaquil', 'Quilava', 'Croconaw', 'Feraligatr', 'Noctowl', 'Ledian', 'Ariados', 'Crobat', 'Chinchou', 'Lanturn', 'Togetic', 'Natu', 'Xatu', 'Mareep', 'Flaaffy', 'Bellossom', 'Azumarill', 'Politoed', 'Jumpluff', 'Yanma', 'Quagsire', 'Umbreon', 'Murkrow', 'Slowking', 'Misdreavus', 'Unown', 'Girafarig', 'Forretress', 'Dunsparce', 'Steelix', 'SteelixMega Steelix', 'Granbull', 'Qwilfish', 'Scizor', 'ScizorMega Scizor', 'Teddiursa', 'Ursaring', 'Slugma', 'Magcargo', 'Piloswine', 'Corsola', 'Remoraid', 'Delibird', 'Mantine', 'Houndour', 'Kingdra', 'Donphan', 'Stantler', 'Smoochum', 'Elekid', 'Magby', 'Blissey', 'Entei', 'Suicune', 'Pupitar', 'Tyranitar', 'TyranitarMega Tyranitar', 'Lugia', 'Celebi', 'Treecko', 'Grovyle', 'Torchic', 'Combusken', 'Mudkip', 'Marshtomp', 'Swampert', 'SwampertMega Swampert', 'Mightyena', 'Linoone', 'Beautifly', 'Dustox', 'Lombre', 'Ludicolo', 'Nuzleaf', 'Shiftry', 'Swellow', 'Wingull', 'Pelipper', 'Kirlia', 'Surskit', 'Masquerain', 'Breloom', 'Vigoroth', 'Slaking', 'Ninjask', 'Whismur', 'Loudred', 'Exploud', 'Delcatty', 'Sableye', 'SableyeMega Sableye', 'Mawile', 'MawileMega Mawile', 'Lairon', 'Aggron', 'AggronMega Aggron', 'Medicham', 'MedichamMega Medicham', 'Electrike', 'Plusle', 'Minun', 'Illumise', 'Roselia', 'Swalot', 'Carvanha', 'Sharpedo', 'Wailmer', 'Wailord', 'Numel', 'Torkoal', 'Spoink', 'Grumpig', 'Spinda', 'Vibrava', 'Flygon', 'Cacnea', 'Altaria', 'Zangoose', 'Seviper', 'Lunatone', 'Solrock', 'Whiscash', 'Corphish', 'Crawdaunt', 'Claydol', 'Lileep', 'Cradily', 'Armaldo', 'Milotic', 'Castform', 'Kecleon', 'Shuppet', 'Banette', 'BanetteMega Banette', 'Dusclops', 'Tropius', 'Chimecho', 'Absol', 'Snorunt', 'Glalie', 'Spheal', 'Sealeo', 'Walrein', 'Clamperl', 'Huntail', 'Shelgon', 'Metang', 'Metagross', 'Regirock', 'Regice', 'Registeel', 'Groudon', 'Jirachi', 'DeoxysDefense Forme', 'DeoxysSpeed Forme', 'Grotle', 'Torterra', 'Chimchar', 'Monferno', 'Piplup', 'Prinplup', 'Staraptor', 'Bibarel', 'Kricketune', 'Luxio', 'Luxray', 'Budew', 'Rampardos', 'WormadamPlant Cloak', 'WormadamSandy Cloak', 'WormadamTrash Cloak', 'Mothim', 'Vespiquen', 'Buizel', 'Floatzel', 'Cherubi', 'Cherrim', 'Shellos', 'Gastrodon', 'Ambipom', 'Drifloon', 'Drifblim', 'Lopunny', 'LopunnyMega Lopunny', 'Purugly', 'Chingling', 'Skuntank', 'Bronzong', 'Mime Jr.', 'Chatot', 'Spiritomb', 'Gabite', 'Garchomp', 'Hippowdon', 'Drapion', 'Croagunk', 'Toxicroak', 'Carnivine', 'Lumineon', 'Mantyke', 'Snover', 'Abomasnow', 'Lickilicky', 'Rhyperior', 'Electivire', 'Leafeon', 'Mamoswine', 'Gallade', 'GalladeMega Gallade', 'Probopass', 'Dusknoir', 'Froslass', 'Rotom', 'Uxie', 'Regigigas', 'GiratinaAltered Forme', 'Cresselia', 'Phione', 'Manaphy', 'ShayminLand Forme', 'Victini', 'Servine', 'Serperior', 'Pignite', 'Emboar', 'Oshawott', 'Dewott', 'Watchog', 'Purrloin', 'Liepard', 'Pansage', 'Simisage', 'Pansear', 'Simisear', 'Panpour', 'Simipour', 'Munna', 'Tranquill', 'Unfezant', 'Blitzle', 'Zebstrika', 'Boldore', 'Gigalith', 'Woobat', 'Swoobat', 'Excadrill', 'Audino', 'AudinoMega Audino', 'Conkeldurr', 'Tympole', 'Palpitoad', 'Seismitoad', 'Swadloon', 'Leavanny', 'Scolipede', 'Whimsicott', 'Petilil', 'Basculin', 'Krookodile', 'Crustle', 'Yamask', 'Cofagrigus', 'Tirtouga', 'Carracosta', 'Archen', 'Garbodor', 'Zorua', 'Cinccino', 'Gothita', 'Gothorita', 'Gothitelle', 'Swanna', 'Vanillite', 'Vanillish', 'Sawsbuck', 'Emolga', 'Escavalier', 'Foongus', 'Amoonguss', 'Frillish', 'Jellicent', 'Joltik', 'Galvantula', 'Ferrothorn', 'Klang', 'Klinklang', 'Eelektrik', 'Elgyem', 'Litwick', 'Lampent', 'Haxorus', 'Cubchoo', 'Beartic', 'Cryogonal', 'Accelgor', 'Stunfisk', 'Mienfoo', 'Mienshao', 'Druddigon', 'Golurk', 'Bisharp', 'Braviary', 'Mandibuzz', 'Zweilous', 'Larvesta', 'Cobalion', 'Terrakion', 'Virizion', 'MeloettaPirouette Forme', 'Quilladin', 'Chesnaught', 'Fennekin', 'Braixen', 'Froakie', 'Frogadier', 'Diggersby', 'Fletchinder', 'Talonflame', 'Vivillon', 'Litleo', 'Flabébé', 'Floette', 'Skiddo', 'Gogoat', 'Pangoro', 'Furfrou', 'Espurr', 'MeowsticMale', 'MeowsticFemale', 'AegislashShield Forme', 'Spritzee', 'Aromatisse', 'Swirlix', 'Slurpuff', 'Malamar', 'Barbaracle', 'Skrelp', 'Dragalge', 'Clauncher', 'Helioptile', 'Tyrantrum', 'Amaura', 'Aurorus', 'Hawlucha', 'Dedenne', 'Carbink', 'Goomy', 'Sliggoo', 'Klefki', 'Phantump', 'Trevenant', 'GourgeistAverage Size', 'GourgeistSmall Size', 'GourgeistLarge Size', 'GourgeistSuper Size', 'Noivern', 'Zygarde50% Forme', 'Diancie', 'pikachu', 'charmander']\n"
          ]
        }
      ]
    },
    {
      "cell_type": "markdown",
      "source": [
        "**Question 3.2.3**: find the pokemon with the highest attack power:"
      ],
      "metadata": {
        "id": "J-k1KNZz4rzl"
      }
    },
    {
      "cell_type": "code",
      "source": [
        "with db_session:\n",
        "    max_attack_power_pokemon = Pokemon.select(lambda p: p.attack_power == max(p.attack_power)).first()\n",
        "    print(max_attack_power_pokemon.attack_power)\n",
        "\n"
      ],
      "metadata": {
        "id": "VlAI6h6dKIy-",
        "colab": {
          "base_uri": "https://localhost:8080/"
        },
        "outputId": "f22424cf-a758-4ac2-f075-efa78cbce7e7"
      },
      "execution_count": null,
      "outputs": [
        {
          "output_type": "stream",
          "name": "stdout",
          "text": [
            "65\n"
          ]
        }
      ]
    },
    {
      "cell_type": "markdown",
      "source": [
        "**Question 3.2.4**: find the name of the pokemon with the highest attack power"
      ],
      "metadata": {
        "id": "tCCE2_KK4xDh"
      }
    },
    {
      "cell_type": "code",
      "source": [
        "with db_session:\n",
        "    max_attack_power_pokemon = Pokemon.select(lambda p: p.attack_power == max(p.attack_power)).first()\n",
        "    print(max_attack_power_pokemon.name)\n"
      ],
      "metadata": {
        "id": "E6rqB8UocwAK",
        "colab": {
          "base_uri": "https://localhost:8080/"
        },
        "outputId": "4303b68c-c429-4e02-cf10-f297c7f14cdb"
      },
      "execution_count": null,
      "outputs": [
        {
          "output_type": "stream",
          "name": "stdout",
          "text": [
            "Bulbasaur\n"
          ]
        }
      ]
    },
    {
      "cell_type": "markdown",
      "source": [
        "### 3.3 Pony Practice"
      ],
      "metadata": {
        "id": "acGUR5ZQmu93"
      }
    },
    {
      "cell_type": "markdown",
      "source": [
        "**Q3.3.1**: Load the Dataset [Kickstarter](https://github.com/maniknarang/kickstarter-data-analysis/raw/master/ks-projects-201801.csv) dataset using wget."
      ],
      "metadata": {
        "id": "FVk6labemc_U"
      }
    },
    {
      "cell_type": "code",
      "source": [
        "!wget -O kickstarter.csv https://github.com/maniknarang/kickstarter-data-analysis/raw/master/ks-projects-201801.csv\n"
      ],
      "metadata": {
        "id": "vJtekIlUczvY",
        "colab": {
          "base_uri": "https://localhost:8080/"
        },
        "outputId": "10648cce-5be9-4ed5-dfd2-e852d2f3e94d"
      },
      "execution_count": null,
      "outputs": [
        {
          "output_type": "stream",
          "name": "stdout",
          "text": [
            "--2024-02-01 12:25:21--  https://github.com/maniknarang/kickstarter-data-analysis/raw/master/ks-projects-201801.csv\n",
            "Resolving github.com (github.com)... 140.82.112.4\n",
            "Connecting to github.com (github.com)|140.82.112.4|:443... connected.\n",
            "HTTP request sent, awaiting response... 302 Found\n",
            "Location: https://raw.githubusercontent.com/maniknarang/kickstarter-data-analysis/master/ks-projects-201801.csv [following]\n",
            "--2024-02-01 12:25:21--  https://raw.githubusercontent.com/maniknarang/kickstarter-data-analysis/master/ks-projects-201801.csv\n",
            "Resolving raw.githubusercontent.com (raw.githubusercontent.com)... 185.199.109.133, 185.199.111.133, 185.199.108.133, ...\n",
            "Connecting to raw.githubusercontent.com (raw.githubusercontent.com)|185.199.109.133|:443... connected.\n",
            "HTTP request sent, awaiting response... 200 OK\n",
            "Length: 58030359 (55M) [text/plain]\n",
            "Saving to: ‘kickstarter.csv’\n",
            "\n",
            "kickstarter.csv     100%[===================>]  55.34M   206MB/s    in 0.3s    \n",
            "\n",
            "2024-02-01 12:25:23 (206 MB/s) - ‘kickstarter.csv’ saved [58030359/58030359]\n",
            "\n"
          ]
        }
      ]
    },
    {
      "cell_type": "markdown",
      "source": [
        "**Q3.3.2**: Read the kickstarter project file into a Pandas Dataframe."
      ],
      "metadata": {
        "id": "e3JT4Lk7ncqB"
      }
    },
    {
      "cell_type": "code",
      "source": [
        "kickstarter_df = pd.read_csv('kickstarter.csv')\n",
        "kickstarter_df.head()"
      ],
      "metadata": {
        "id": "tIiT5Fzqc29Q",
        "colab": {
          "base_uri": "https://localhost:8080/",
          "height": 487
        },
        "outputId": "3b1d7cd1-1071-41ad-c3c1-e7881ba79f34"
      },
      "execution_count": null,
      "outputs": [
        {
          "output_type": "execute_result",
          "data": {
            "text/plain": [
              "           ID                                               name  \\\n",
              "0  1000002330                    The Songs of Adelaide & Abullah   \n",
              "1  1000003930      Greeting From Earth: ZGAC Arts Capsule For ET   \n",
              "2  1000004038                                     Where is Hank?   \n",
              "3  1000007540  ToshiCapital Rekordz Needs Help to Complete Album   \n",
              "4  1000011046  Community Film Project: The Art of Neighborhoo...   \n",
              "\n",
              "         category main_category currency    deadline     goal  \\\n",
              "0          Poetry    Publishing      GBP  2015-10-09   1000.0   \n",
              "1  Narrative Film  Film & Video      USD  2017-11-01  30000.0   \n",
              "2  Narrative Film  Film & Video      USD  2013-02-26  45000.0   \n",
              "3           Music         Music      USD  2012-04-16   5000.0   \n",
              "4    Film & Video  Film & Video      USD  2015-08-29  19500.0   \n",
              "\n",
              "              launched  pledged     state  backers country  usd pledged  \\\n",
              "0  2015-08-11 12:12:28      0.0    failed        0      GB          0.0   \n",
              "1  2017-09-02 04:43:57   2421.0    failed       15      US        100.0   \n",
              "2  2013-01-12 00:20:50    220.0    failed        3      US        220.0   \n",
              "3  2012-03-17 03:24:11      1.0    failed        1      US          1.0   \n",
              "4  2015-07-04 08:35:03   1283.0  canceled       14      US       1283.0   \n",
              "\n",
              "   usd_pledged_real  usd_goal_real  \n",
              "0               0.0        1533.95  \n",
              "1            2421.0       30000.00  \n",
              "2             220.0       45000.00  \n",
              "3               1.0        5000.00  \n",
              "4            1283.0       19500.00  "
            ],
            "text/html": [
              "\n",
              "  <div id=\"df-d323320f-a618-4fa4-ae67-028baf524ec0\" class=\"colab-df-container\">\n",
              "    <div>\n",
              "<style scoped>\n",
              "    .dataframe tbody tr th:only-of-type {\n",
              "        vertical-align: middle;\n",
              "    }\n",
              "\n",
              "    .dataframe tbody tr th {\n",
              "        vertical-align: top;\n",
              "    }\n",
              "\n",
              "    .dataframe thead th {\n",
              "        text-align: right;\n",
              "    }\n",
              "</style>\n",
              "<table border=\"1\" class=\"dataframe\">\n",
              "  <thead>\n",
              "    <tr style=\"text-align: right;\">\n",
              "      <th></th>\n",
              "      <th>ID</th>\n",
              "      <th>name</th>\n",
              "      <th>category</th>\n",
              "      <th>main_category</th>\n",
              "      <th>currency</th>\n",
              "      <th>deadline</th>\n",
              "      <th>goal</th>\n",
              "      <th>launched</th>\n",
              "      <th>pledged</th>\n",
              "      <th>state</th>\n",
              "      <th>backers</th>\n",
              "      <th>country</th>\n",
              "      <th>usd pledged</th>\n",
              "      <th>usd_pledged_real</th>\n",
              "      <th>usd_goal_real</th>\n",
              "    </tr>\n",
              "  </thead>\n",
              "  <tbody>\n",
              "    <tr>\n",
              "      <th>0</th>\n",
              "      <td>1000002330</td>\n",
              "      <td>The Songs of Adelaide &amp; Abullah</td>\n",
              "      <td>Poetry</td>\n",
              "      <td>Publishing</td>\n",
              "      <td>GBP</td>\n",
              "      <td>2015-10-09</td>\n",
              "      <td>1000.0</td>\n",
              "      <td>2015-08-11 12:12:28</td>\n",
              "      <td>0.0</td>\n",
              "      <td>failed</td>\n",
              "      <td>0</td>\n",
              "      <td>GB</td>\n",
              "      <td>0.0</td>\n",
              "      <td>0.0</td>\n",
              "      <td>1533.95</td>\n",
              "    </tr>\n",
              "    <tr>\n",
              "      <th>1</th>\n",
              "      <td>1000003930</td>\n",
              "      <td>Greeting From Earth: ZGAC Arts Capsule For ET</td>\n",
              "      <td>Narrative Film</td>\n",
              "      <td>Film &amp; Video</td>\n",
              "      <td>USD</td>\n",
              "      <td>2017-11-01</td>\n",
              "      <td>30000.0</td>\n",
              "      <td>2017-09-02 04:43:57</td>\n",
              "      <td>2421.0</td>\n",
              "      <td>failed</td>\n",
              "      <td>15</td>\n",
              "      <td>US</td>\n",
              "      <td>100.0</td>\n",
              "      <td>2421.0</td>\n",
              "      <td>30000.00</td>\n",
              "    </tr>\n",
              "    <tr>\n",
              "      <th>2</th>\n",
              "      <td>1000004038</td>\n",
              "      <td>Where is Hank?</td>\n",
              "      <td>Narrative Film</td>\n",
              "      <td>Film &amp; Video</td>\n",
              "      <td>USD</td>\n",
              "      <td>2013-02-26</td>\n",
              "      <td>45000.0</td>\n",
              "      <td>2013-01-12 00:20:50</td>\n",
              "      <td>220.0</td>\n",
              "      <td>failed</td>\n",
              "      <td>3</td>\n",
              "      <td>US</td>\n",
              "      <td>220.0</td>\n",
              "      <td>220.0</td>\n",
              "      <td>45000.00</td>\n",
              "    </tr>\n",
              "    <tr>\n",
              "      <th>3</th>\n",
              "      <td>1000007540</td>\n",
              "      <td>ToshiCapital Rekordz Needs Help to Complete Album</td>\n",
              "      <td>Music</td>\n",
              "      <td>Music</td>\n",
              "      <td>USD</td>\n",
              "      <td>2012-04-16</td>\n",
              "      <td>5000.0</td>\n",
              "      <td>2012-03-17 03:24:11</td>\n",
              "      <td>1.0</td>\n",
              "      <td>failed</td>\n",
              "      <td>1</td>\n",
              "      <td>US</td>\n",
              "      <td>1.0</td>\n",
              "      <td>1.0</td>\n",
              "      <td>5000.00</td>\n",
              "    </tr>\n",
              "    <tr>\n",
              "      <th>4</th>\n",
              "      <td>1000011046</td>\n",
              "      <td>Community Film Project: The Art of Neighborhoo...</td>\n",
              "      <td>Film &amp; Video</td>\n",
              "      <td>Film &amp; Video</td>\n",
              "      <td>USD</td>\n",
              "      <td>2015-08-29</td>\n",
              "      <td>19500.0</td>\n",
              "      <td>2015-07-04 08:35:03</td>\n",
              "      <td>1283.0</td>\n",
              "      <td>canceled</td>\n",
              "      <td>14</td>\n",
              "      <td>US</td>\n",
              "      <td>1283.0</td>\n",
              "      <td>1283.0</td>\n",
              "      <td>19500.00</td>\n",
              "    </tr>\n",
              "  </tbody>\n",
              "</table>\n",
              "</div>\n",
              "    <div class=\"colab-df-buttons\">\n",
              "\n",
              "  <div class=\"colab-df-container\">\n",
              "    <button class=\"colab-df-convert\" onclick=\"convertToInteractive('df-d323320f-a618-4fa4-ae67-028baf524ec0')\"\n",
              "            title=\"Convert this dataframe to an interactive table.\"\n",
              "            style=\"display:none;\">\n",
              "\n",
              "  <svg xmlns=\"http://www.w3.org/2000/svg\" height=\"24px\" viewBox=\"0 -960 960 960\">\n",
              "    <path d=\"M120-120v-720h720v720H120Zm60-500h600v-160H180v160Zm220 220h160v-160H400v160Zm0 220h160v-160H400v160ZM180-400h160v-160H180v160Zm440 0h160v-160H620v160ZM180-180h160v-160H180v160Zm440 0h160v-160H620v160Z\"/>\n",
              "  </svg>\n",
              "    </button>\n",
              "\n",
              "  <style>\n",
              "    .colab-df-container {\n",
              "      display:flex;\n",
              "      gap: 12px;\n",
              "    }\n",
              "\n",
              "    .colab-df-convert {\n",
              "      background-color: #E8F0FE;\n",
              "      border: none;\n",
              "      border-radius: 50%;\n",
              "      cursor: pointer;\n",
              "      display: none;\n",
              "      fill: #1967D2;\n",
              "      height: 32px;\n",
              "      padding: 0 0 0 0;\n",
              "      width: 32px;\n",
              "    }\n",
              "\n",
              "    .colab-df-convert:hover {\n",
              "      background-color: #E2EBFA;\n",
              "      box-shadow: 0px 1px 2px rgba(60, 64, 67, 0.3), 0px 1px 3px 1px rgba(60, 64, 67, 0.15);\n",
              "      fill: #174EA6;\n",
              "    }\n",
              "\n",
              "    .colab-df-buttons div {\n",
              "      margin-bottom: 4px;\n",
              "    }\n",
              "\n",
              "    [theme=dark] .colab-df-convert {\n",
              "      background-color: #3B4455;\n",
              "      fill: #D2E3FC;\n",
              "    }\n",
              "\n",
              "    [theme=dark] .colab-df-convert:hover {\n",
              "      background-color: #434B5C;\n",
              "      box-shadow: 0px 1px 3px 1px rgba(0, 0, 0, 0.15);\n",
              "      filter: drop-shadow(0px 1px 2px rgba(0, 0, 0, 0.3));\n",
              "      fill: #FFFFFF;\n",
              "    }\n",
              "  </style>\n",
              "\n",
              "    <script>\n",
              "      const buttonEl =\n",
              "        document.querySelector('#df-d323320f-a618-4fa4-ae67-028baf524ec0 button.colab-df-convert');\n",
              "      buttonEl.style.display =\n",
              "        google.colab.kernel.accessAllowed ? 'block' : 'none';\n",
              "\n",
              "      async function convertToInteractive(key) {\n",
              "        const element = document.querySelector('#df-d323320f-a618-4fa4-ae67-028baf524ec0');\n",
              "        const dataTable =\n",
              "          await google.colab.kernel.invokeFunction('convertToInteractive',\n",
              "                                                    [key], {});\n",
              "        if (!dataTable) return;\n",
              "\n",
              "        const docLinkHtml = 'Like what you see? Visit the ' +\n",
              "          '<a target=\"_blank\" href=https://colab.research.google.com/notebooks/data_table.ipynb>data table notebook</a>'\n",
              "          + ' to learn more about interactive tables.';\n",
              "        element.innerHTML = '';\n",
              "        dataTable['output_type'] = 'display_data';\n",
              "        await google.colab.output.renderOutput(dataTable, element);\n",
              "        const docLink = document.createElement('div');\n",
              "        docLink.innerHTML = docLinkHtml;\n",
              "        element.appendChild(docLink);\n",
              "      }\n",
              "    </script>\n",
              "  </div>\n",
              "\n",
              "\n",
              "<div id=\"df-6c12f677-e309-418c-8ee0-14076b10150d\">\n",
              "  <button class=\"colab-df-quickchart\" onclick=\"quickchart('df-6c12f677-e309-418c-8ee0-14076b10150d')\"\n",
              "            title=\"Suggest charts\"\n",
              "            style=\"display:none;\">\n",
              "\n",
              "<svg xmlns=\"http://www.w3.org/2000/svg\" height=\"24px\"viewBox=\"0 0 24 24\"\n",
              "     width=\"24px\">\n",
              "    <g>\n",
              "        <path d=\"M19 3H5c-1.1 0-2 .9-2 2v14c0 1.1.9 2 2 2h14c1.1 0 2-.9 2-2V5c0-1.1-.9-2-2-2zM9 17H7v-7h2v7zm4 0h-2V7h2v10zm4 0h-2v-4h2v4z\"/>\n",
              "    </g>\n",
              "</svg>\n",
              "  </button>\n",
              "\n",
              "<style>\n",
              "  .colab-df-quickchart {\n",
              "      --bg-color: #E8F0FE;\n",
              "      --fill-color: #1967D2;\n",
              "      --hover-bg-color: #E2EBFA;\n",
              "      --hover-fill-color: #174EA6;\n",
              "      --disabled-fill-color: #AAA;\n",
              "      --disabled-bg-color: #DDD;\n",
              "  }\n",
              "\n",
              "  [theme=dark] .colab-df-quickchart {\n",
              "      --bg-color: #3B4455;\n",
              "      --fill-color: #D2E3FC;\n",
              "      --hover-bg-color: #434B5C;\n",
              "      --hover-fill-color: #FFFFFF;\n",
              "      --disabled-bg-color: #3B4455;\n",
              "      --disabled-fill-color: #666;\n",
              "  }\n",
              "\n",
              "  .colab-df-quickchart {\n",
              "    background-color: var(--bg-color);\n",
              "    border: none;\n",
              "    border-radius: 50%;\n",
              "    cursor: pointer;\n",
              "    display: none;\n",
              "    fill: var(--fill-color);\n",
              "    height: 32px;\n",
              "    padding: 0;\n",
              "    width: 32px;\n",
              "  }\n",
              "\n",
              "  .colab-df-quickchart:hover {\n",
              "    background-color: var(--hover-bg-color);\n",
              "    box-shadow: 0 1px 2px rgba(60, 64, 67, 0.3), 0 1px 3px 1px rgba(60, 64, 67, 0.15);\n",
              "    fill: var(--button-hover-fill-color);\n",
              "  }\n",
              "\n",
              "  .colab-df-quickchart-complete:disabled,\n",
              "  .colab-df-quickchart-complete:disabled:hover {\n",
              "    background-color: var(--disabled-bg-color);\n",
              "    fill: var(--disabled-fill-color);\n",
              "    box-shadow: none;\n",
              "  }\n",
              "\n",
              "  .colab-df-spinner {\n",
              "    border: 2px solid var(--fill-color);\n",
              "    border-color: transparent;\n",
              "    border-bottom-color: var(--fill-color);\n",
              "    animation:\n",
              "      spin 1s steps(1) infinite;\n",
              "  }\n",
              "\n",
              "  @keyframes spin {\n",
              "    0% {\n",
              "      border-color: transparent;\n",
              "      border-bottom-color: var(--fill-color);\n",
              "      border-left-color: var(--fill-color);\n",
              "    }\n",
              "    20% {\n",
              "      border-color: transparent;\n",
              "      border-left-color: var(--fill-color);\n",
              "      border-top-color: var(--fill-color);\n",
              "    }\n",
              "    30% {\n",
              "      border-color: transparent;\n",
              "      border-left-color: var(--fill-color);\n",
              "      border-top-color: var(--fill-color);\n",
              "      border-right-color: var(--fill-color);\n",
              "    }\n",
              "    40% {\n",
              "      border-color: transparent;\n",
              "      border-right-color: var(--fill-color);\n",
              "      border-top-color: var(--fill-color);\n",
              "    }\n",
              "    60% {\n",
              "      border-color: transparent;\n",
              "      border-right-color: var(--fill-color);\n",
              "    }\n",
              "    80% {\n",
              "      border-color: transparent;\n",
              "      border-right-color: var(--fill-color);\n",
              "      border-bottom-color: var(--fill-color);\n",
              "    }\n",
              "    90% {\n",
              "      border-color: transparent;\n",
              "      border-bottom-color: var(--fill-color);\n",
              "    }\n",
              "  }\n",
              "</style>\n",
              "\n",
              "  <script>\n",
              "    async function quickchart(key) {\n",
              "      const quickchartButtonEl =\n",
              "        document.querySelector('#' + key + ' button');\n",
              "      quickchartButtonEl.disabled = true;  // To prevent multiple clicks.\n",
              "      quickchartButtonEl.classList.add('colab-df-spinner');\n",
              "      try {\n",
              "        const charts = await google.colab.kernel.invokeFunction(\n",
              "            'suggestCharts', [key], {});\n",
              "      } catch (error) {\n",
              "        console.error('Error during call to suggestCharts:', error);\n",
              "      }\n",
              "      quickchartButtonEl.classList.remove('colab-df-spinner');\n",
              "      quickchartButtonEl.classList.add('colab-df-quickchart-complete');\n",
              "    }\n",
              "    (() => {\n",
              "      let quickchartButtonEl =\n",
              "        document.querySelector('#df-6c12f677-e309-418c-8ee0-14076b10150d button');\n",
              "      quickchartButtonEl.style.display =\n",
              "        google.colab.kernel.accessAllowed ? 'block' : 'none';\n",
              "    })();\n",
              "  </script>\n",
              "</div>\n",
              "    </div>\n",
              "  </div>\n"
            ]
          },
          "metadata": {},
          "execution_count": 50
        }
      ]
    },
    {
      "cell_type": "markdown",
      "source": [
        "**Q3.3.3**: Here, you are required to create the Database and objects. You are required to manage projects and their owners. Therefore, please create two classes: Project and Owner. The Project class has the following field names: name (str), category (str), country (str), pledged (float), and goal (str) and owner (Owner). The Owner has name (str) ans projects as set of Project objects."
      ],
      "metadata": {
        "id": "1EYGjeLrnKCa"
      }
    },
    {
      "cell_type": "code",
      "source": [
        "from pony.orm import Database, Required, Set\n",
        "\n",
        "# Creating a new database instance\n",
        "db = Database()\n",
        "\n",
        "# Binding the database to SQLite\n",
        "db.bind(provider='sqlite', filename='/content/kickstarter', create_db=True)\n",
        "\n",
        "# Defining the classes\n",
        "class Owner(db.Entity):\n",
        "    name = Required(str)\n",
        "    projects = Set('Project')\n",
        "\n",
        "class Project(db.Entity):\n",
        "    name = Required(str)\n",
        "    category = Required(str)\n",
        "    country = Required(str)\n",
        "    pledged = Required(float)\n",
        "    goal = Required(str)\n",
        "    owner = Required(Owner)\n",
        "\n",
        "# Generate the mapping and set SQL debugging\n",
        "db.generate_mapping(create_tables=True)\n",
        "set_sql_debug(True)\n"
      ],
      "metadata": {
        "id": "Wp2oTYO8PLdA"
      },
      "execution_count": null,
      "outputs": []
    },
    {
      "cell_type": "markdown",
      "source": [
        "**Q3.3.4**: Run over the dataframe and assign projects according to the classes defined to the first 50 projects. Use the first and last name lists to assign names to owners randomly."
      ],
      "metadata": {
        "id": "3spZVr6inh95"
      }
    },
    {
      "cell_type": "code",
      "source": [
        "import random\n",
        "\n",
        "first_names = ['Yossi', 'Dani', 'Avi', 'Moshe', 'Adam', 'Aviv']\n",
        "last_names = ['Cohen', 'Levi', 'Haim', 'Gold', 'Peled', 'Ben']"
      ],
      "metadata": {
        "id": "oExvdEfcqG5w"
      },
      "execution_count": null,
      "outputs": []
    },
    {
      "cell_type": "code",
      "source": [
        "# Function to generate a random full name\n",
        "def generate_random_name():\n",
        "    return f\"{random.choice(first_names)} {random.choice(last_names)}\"\n",
        "\n",
        "# Iterate over the first 50 projects and assign them to owners\n",
        "for index, row in kickstarter_df.head(50).iterrows():\n",
        "    owner_name = generate_random_name()\n",
        "\n",
        "    # Check if owner already exists, else create a new owner\n",
        "    owner = Owner.get(name=owner_name)\n",
        "    if not owner:\n",
        "        owner = Owner(name=owner_name)\n",
        "\n",
        "    # Convert the 'goal' value to a string and create the project, linking it to the owner\n",
        "    Project(name=row['name'], category=row['category'], country=row['country'],\n",
        "            pledged=row['pledged'], goal=str(row['goal']), owner=owner)\n",
        "\n",
        "# Commit changes to the database\n",
        "commit()"
      ],
      "metadata": {
        "id": "K4wVHkK9eUe7"
      },
      "execution_count": null,
      "outputs": []
    },
    {
      "cell_type": "markdown",
      "source": [
        "**Q3.3.5**: find the projects names which their category is 'Music'.\n",
        "\n"
      ],
      "metadata": {
        "id": "VHg38mWunp2g"
      }
    },
    {
      "cell_type": "code",
      "source": [
        "music_projects = Project.select(lambda p: p.category == 'Music')\n",
        "print(\"Music Projects:\")\n",
        "for project in music_projects:\n",
        "    print(project.name)\n"
      ],
      "metadata": {
        "id": "XLwQsMhveXNE",
        "colab": {
          "base_uri": "https://localhost:8080/"
        },
        "outputId": "155b4f0b-1342-4cdb-f321-e1400e3dd471"
      },
      "execution_count": null,
      "outputs": [
        {
          "output_type": "stream",
          "name": "stdout",
          "text": [
            "Music Projects:\n",
            "ToshiCapital Rekordz Needs Help to Complete Album\n",
            "Mike Corey's Darkness & Light Album\n",
            "Matt Cavenaugh & Jenny Powers make their 1st album!\n",
            "Chris Eger Band - New Nashville Record!\n",
            "Phil Younger - Slow Down (Official Music Video)\n"
          ]
        }
      ]
    },
    {
      "cell_type": "markdown",
      "source": [
        "\n",
        "\n",
        "**Q3.3.6**: Choose one of the names generated and his or her projects."
      ],
      "metadata": {
        "id": "9GOmEs6onyIm"
      }
    },
    {
      "cell_type": "code",
      "source": [
        "random_owner_name = generate_random_name()\n",
        "owner = Owner.get(name=random_owner_name)\n",
        "\n",
        "if not owner:\n",
        "    # Create a new owner if it doesn't exist\n",
        "    owner = Owner(name=random_owner_name)\n",
        "\n",
        "owner_projects = owner.projects\n",
        "print(f\"\\nProjects of {random_owner_name}:\")\n",
        "for project in owner_projects:\n",
        "    print(project.name)\n"
      ],
      "metadata": {
        "id": "s7t7TKYZeZjj",
        "colab": {
          "base_uri": "https://localhost:8080/"
        },
        "outputId": "cf1094fe-b53b-44b1-b61b-3864bde7f289"
      },
      "execution_count": null,
      "outputs": [
        {
          "output_type": "stream",
          "name": "stdout",
          "text": [
            "\n",
            "Projects of Dani Peled:\n",
            "The Book Zoo - A Mini-Comic\n",
            "The Beard\n"
          ]
        }
      ]
    },
    {
      "cell_type": "markdown",
      "source": [
        "## Further Readings and Practice\n",
        "\n",
        "\n",
        "*   [SQLZoo](https://sqlzoo.net)\n",
        "*   [The SQL Murder Mystery](https://mystery.knightlab.com)\n",
        "*   [W3 School SQLL Tutorial](https://www.w3schools.com/sql/)\n",
        "*   [PonyORM](https://ponyorm.org)\n",
        "*   [Kaggle - Intro to SQL](https://www.kaggle.com/learn/intro-to-sql)\n",
        "*   [Getting Started with SQL and BigQuery notebook](https://www.kaggle.com/dansbecker/getting-started-with-sql-and-bigquery)\n",
        "\n",
        "\n",
        "\n",
        "  "
      ],
      "metadata": {
        "id": "ePX5UVdhbuaV"
      }
    }
  ]
}